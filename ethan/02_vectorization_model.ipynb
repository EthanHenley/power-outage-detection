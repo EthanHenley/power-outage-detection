{
 "cells": [
  {
   "cell_type": "code",
   "execution_count": 169,
   "metadata": {},
   "outputs": [],
   "source": [
    "import numpy as np\n",
    "\n",
    "import pandas as pd\n",
    "\n",
    "import re\n",
    "from nltk.corpus import stopwords\n",
    "\n",
    "import gensim\n",
    "import gensim.models.word2vec as w2v"
   ]
  },
  {
   "cell_type": "code",
   "execution_count": 3,
   "metadata": {},
   "outputs": [],
   "source": [
    "wa_tweets = pd.read_csv('../ethan/wa_tweets.csv')\n",
    "outage_tweets = pd.read_csv('../ethan/outage_tweets.csv')\n",
    "outages = pd.read_csv('../ethan/washington_outages.csv')"
   ]
  },
  {
   "cell_type": "code",
   "execution_count": 4,
   "metadata": {},
   "outputs": [],
   "source": [
    "outage_tweets.drop_duplicates(subset='text', inplace=True)\n",
    "wa_tweets.drop_duplicates(subset='text', inplace=True)"
   ]
  },
  {
   "cell_type": "markdown",
   "metadata": {},
   "source": [
    "## Preprocessing\n",
    "These steps are adapted from the work of Noah Christiansen, Jen Hill, and Vonn Napoleon Johnson, available [here](https://github.com/jenrhill/Power_Outage_Identification)."
   ]
  },
  {
   "cell_type": "code",
   "execution_count": 5,
   "metadata": {},
   "outputs": [],
   "source": [
    "# set up stopwords, but include certain relevant but common words\n",
    "\n",
    "stops = [w for w in stopwords.words('english') \n",
    "         if w not in ['out','on','off']] + ['']"
   ]
  },
  {
   "cell_type": "code",
   "execution_count": 6,
   "metadata": {},
   "outputs": [],
   "source": [
    "# this function adapted from christiansen et al's\n",
    "# tweets_to_tweetlist\n",
    "# cleans, reformats, tokenizes, and removes stopwords from tweets\n",
    "\n",
    "def tweets_cleaner(raw):\n",
    "    \n",
    "    clean = str(raw).replace('-',' ').replace('#',' ')\n",
    "    clean = re.sub(r\"([@][\\w_-]+)\", \"\", clean) # remove handels\n",
    "    clean = re.sub(r\"[^a-zA-Z ]\", \"\", clean)\n",
    "    clean = re.sub(r\"http.*?\\b\",\"\",clean)\n",
    "    clean = re.sub(r\"pictwitter.*?\\b\",\"\",clean)\n",
    "    clean = re.sub(r\"www.*?\\b\",\"\",clean)\n",
    "    clean = clean.lower().split()\n",
    "    clean = [w for w in clean if w not in stops]\n",
    "    return clean"
   ]
  },
  {
   "cell_type": "code",
   "execution_count": 141,
   "metadata": {},
   "outputs": [],
   "source": [
    "# clean tweets and compound in list\n",
    "\n",
    "tweet_list = [tweets_cleaner(t)\n",
    "              for t in wa_tweets.loc[wa_tweets['outage']==1, 'text']]\n",
    "#    all tweets expected to maybe be outage-related ^"
   ]
  },
  {
   "cell_type": "code",
   "execution_count": 142,
   "metadata": {},
   "outputs": [
    {
     "data": {
      "text/html": [
       "<div>\n",
       "<style scoped>\n",
       "    .dataframe tbody tr th:only-of-type {\n",
       "        vertical-align: middle;\n",
       "    }\n",
       "\n",
       "    .dataframe tbody tr th {\n",
       "        vertical-align: top;\n",
       "    }\n",
       "\n",
       "    .dataframe thead th {\n",
       "        text-align: right;\n",
       "    }\n",
       "</style>\n",
       "<table border=\"1\" class=\"dataframe\">\n",
       "  <thead>\n",
       "    <tr style=\"text-align: right;\">\n",
       "      <th></th>\n",
       "      <th>Tweet</th>\n",
       "      <th>Words</th>\n",
       "    </tr>\n",
       "  </thead>\n",
       "  <tbody>\n",
       "    <tr>\n",
       "      <td>0</td>\n",
       "      <td>@Number12ForLife No power in Issaquah Highland...</td>\n",
       "      <td>[power, issaquah, highlands, understand, issaq...</td>\n",
       "    </tr>\n",
       "    <tr>\n",
       "      <td>1</td>\n",
       "      <td>@KING5Seattle @KIRO7Seattle tiger mountain rd ...</td>\n",
       "      <td>[tiger, mountain, rd, se, block, way, blocking...</td>\n",
       "    </tr>\n",
       "    <tr>\n",
       "      <td>2</td>\n",
       "      <td>@KING5Seattle @KIRO7Seattle SE may valley road...</td>\n",
       "      <td>[se, may, valley, road, closed, moment, tree, ...</td>\n",
       "    </tr>\n",
       "    <tr>\n",
       "      <td>3</td>\n",
       "      <td>Just lost power. They power better be back on ...</td>\n",
       "      <td>[lost, power, power, better, back, on]</td>\n",
       "    </tr>\n",
       "    <tr>\n",
       "      <td>4</td>\n",
       "      <td>Update: Power Outages Affecting Renton's Benso...</td>\n",
       "      <td>[update, power, outages, affecting, rentons, b...</td>\n",
       "    </tr>\n",
       "    <tr>\n",
       "      <td>...</td>\n",
       "      <td>...</td>\n",
       "      <td>...</td>\n",
       "    </tr>\n",
       "    <tr>\n",
       "      <td>179</td>\n",
       "      <td>Power is restored! We’ll be open regular hours...</td>\n",
       "      <td>[power, restored, well, open, regular, hours, ...</td>\n",
       "    </tr>\n",
       "    <tr>\n",
       "      <td>180</td>\n",
       "      <td>Soooo, the power is out.  @psetalk says they e...</td>\n",
       "      <td>[soooo, power, out, says, expect, us, running,...</td>\n",
       "    </tr>\n",
       "    <tr>\n",
       "      <td>181</td>\n",
       "      <td>Tree hanging across road on power line. @ Bain...</td>\n",
       "      <td>[tree, hanging, across, road, on, power, line,...</td>\n",
       "    </tr>\n",
       "    <tr>\n",
       "      <td>182</td>\n",
       "      <td>Power's out, but we're still open! Feel free t...</td>\n",
       "      <td>[powers, out, still, open, feel, free, come, v...</td>\n",
       "    </tr>\n",
       "    <tr>\n",
       "      <td>183</td>\n",
       "      <td>Power is out at the gym and at my house and KE...</td>\n",
       "      <td>[power, out, gym, house, kexp, off, air, bainb...</td>\n",
       "    </tr>\n",
       "  </tbody>\n",
       "</table>\n",
       "<p>184 rows × 2 columns</p>\n",
       "</div>"
      ],
      "text/plain": [
       "                                                 Tweet  \\\n",
       "0    @Number12ForLife No power in Issaquah Highland...   \n",
       "1    @KING5Seattle @KIRO7Seattle tiger mountain rd ...   \n",
       "2    @KING5Seattle @KIRO7Seattle SE may valley road...   \n",
       "3    Just lost power. They power better be back on ...   \n",
       "4    Update: Power Outages Affecting Renton's Benso...   \n",
       "..                                                 ...   \n",
       "179  Power is restored! We’ll be open regular hours...   \n",
       "180  Soooo, the power is out.  @psetalk says they e...   \n",
       "181  Tree hanging across road on power line. @ Bain...   \n",
       "182  Power's out, but we're still open! Feel free t...   \n",
       "183  Power is out at the gym and at my house and KE...   \n",
       "\n",
       "                                                 Words  \n",
       "0    [power, issaquah, highlands, understand, issaq...  \n",
       "1    [tiger, mountain, rd, se, block, way, blocking...  \n",
       "2    [se, may, valley, road, closed, moment, tree, ...  \n",
       "3               [lost, power, power, better, back, on]  \n",
       "4    [update, power, outages, affecting, rentons, b...  \n",
       "..                                                 ...  \n",
       "179  [power, restored, well, open, regular, hours, ...  \n",
       "180  [soooo, power, out, says, expect, us, running,...  \n",
       "181  [tree, hanging, across, road, on, power, line,...  \n",
       "182  [powers, out, still, open, feel, free, come, v...  \n",
       "183  [power, out, gym, house, kexp, off, air, bainb...  \n",
       "\n",
       "[184 rows x 2 columns]"
      ]
     },
     "execution_count": 142,
     "metadata": {},
     "output_type": "execute_result"
    }
   ],
   "source": [
    "# visualize tweets against the words they're reduced down to\n",
    "\n",
    "pd.DataFrame([(a,b) for a,b in zip(list(outage_tweets['text']), \n",
    "                                   tweet_list)],\n",
    "             columns=['Tweet','Words'])"
   ]
  },
  {
   "cell_type": "markdown",
   "metadata": {},
   "source": [
    "# EVERYTHING BELOW THIS IS UGLY"
   ]
  },
  {
   "cell_type": "code",
   "execution_count": 131,
   "metadata": {},
   "outputs": [
    {
     "data": {
      "text/plain": [
       "10544"
      ]
     },
     "execution_count": 131,
     "metadata": {},
     "output_type": "execute_result"
    }
   ],
   "source": [
    "len(tweet_list)"
   ]
  },
  {
   "cell_type": "code",
   "execution_count": 143,
   "metadata": {},
   "outputs": [],
   "source": [
    "model = gensim.models.KeyedVectors.load_word2vec_format(\n",
    "    'lexvec.enwiki+newscrawl.300d.W.pos.vectors')"
   ]
  },
  {
   "cell_type": "code",
   "execution_count": 158,
   "metadata": {},
   "outputs": [
    {
     "data": {
      "text/plain": [
       "[('outage', 0.6274550557136536),\n",
       " ('blackouts', 0.6006176471710205),\n",
       " ('outages', 0.484832227230072),\n",
       " ('shutdown', 0.4596997797489166),\n",
       " ('curfew', 0.41762691736221313),\n",
       " ('lockdown', 0.41292476654052734),\n",
       " ('blacked', 0.4122679829597473),\n",
       " ('shutdowns', 0.41034194827079773),\n",
       " ('cancellation', 0.40724366903305054),\n",
       " ('glitch', 0.3966738283634186)]"
      ]
     },
     "execution_count": 158,
     "metadata": {},
     "output_type": "execute_result"
    }
   ],
   "source": [
    "model.most_similar('blackout')"
   ]
  },
  {
   "cell_type": "code",
   "execution_count": 159,
   "metadata": {},
   "outputs": [
    {
     "data": {
      "text/plain": [
       "368999"
      ]
     },
     "execution_count": 159,
     "metadata": {},
     "output_type": "execute_result"
    }
   ],
   "source": [
    "len(model.vocab)"
   ]
  },
  {
   "cell_type": "code",
   "execution_count": 160,
   "metadata": {},
   "outputs": [
    {
     "data": {
      "text/plain": [
       "[('warm', 0.6232660412788391),\n",
       " ('chilly', 0.6049166321754456),\n",
       " ('frigid', 0.5835704207420349),\n",
       " ('dry', 0.565641462802887),\n",
       " ('colder', 0.555574357509613),\n",
       " ('freezing', 0.5500966310501099),\n",
       " ('wet', 0.5406850576400757),\n",
       " ('cool', 0.5254527926445007),\n",
       " ('rainy', 0.5215438604354858),\n",
       " ('winters', 0.5155574083328247)]"
      ]
     },
     "execution_count": 160,
     "metadata": {},
     "output_type": "execute_result"
    }
   ],
   "source": [
    "model.most_similar('cold', topn=10)"
   ]
  },
  {
   "cell_type": "code",
   "execution_count": 161,
   "metadata": {},
   "outputs": [
    {
     "data": {
      "text/plain": [
       "[('outages', 0.5678640007972717),\n",
       " ('blackouts', 0.517982006072998),\n",
       " ('shutdowns', 0.4220408797264099),\n",
       " ('electricity', 0.407345712184906),\n",
       " ('brownouts', 0.3772614300251007),\n",
       " ('shutdown', 0.3731269836425781),\n",
       " ('generators', 0.3564743101596832),\n",
       " ('disruptions', 0.3401876986026764),\n",
       " ('substations', 0.32458698749542236),\n",
       " ('meltdowns', 0.32287344336509705)]"
      ]
     },
     "execution_count": 161,
     "metadata": {},
     "output_type": "execute_result"
    }
   ],
   "source": [
    "model.most_similar(positive=['blackout','power','outage'],\n",
    "                           negative=['game','cod','bts'],\n",
    "                           topn=10)"
   ]
  },
  {
   "cell_type": "code",
   "execution_count": 248,
   "metadata": {},
   "outputs": [],
   "source": [
    "# code from Boom Devahastin Na Ayudhya edited by Christiansen et al\n",
    "def vectorize_corpus(keyword_list,model=model):    \n",
    "    \n",
    "    # Instantiate counter for number of words in keyword_list that exists\n",
    "    n_words = 0\n",
    "    \n",
    "    # Create template for cumulative corpus vector sum\n",
    "    corpus_vec_sum = np.zeros((1,300))                 \n",
    "    \n",
    "    # Scan through each word in list\n",
    "    for word in keyword_list:\n",
    "        if word in model.vocab:                    \n",
    "            word_vec = model.word_vec(word)        \n",
    "            n_words +=1                                \n",
    "            corpus_vec_sum = corpus_vec_sum + word_vec \n",
    "\n",
    "    # Compute average vector by taking cumulative vector sum \n",
    "    # and dividing it by number of words traced\n",
    "    corpus_avg_vec = corpus_vec_sum/n_words\n",
    "    \n",
    "    # Squeeze this N-dimensional nested array object into a \n",
    "    # 1-D array to streamline future processing\n",
    "    corpus_avg_vec = np.squeeze(corpus_avg_vec)\n",
    "    \n",
    "    return(corpus_avg_vec)"
   ]
  },
  {
   "cell_type": "code",
   "execution_count": 246,
   "metadata": {},
   "outputs": [],
   "source": [
    "def cos_sim(v1, v2): #adapted from christiansen et al\n",
    "    return np.dot(v1,v2)/np.sqrt(np.dot(v1,v1)*np.dot(v2,v2))\n",
    "\n",
    "def cos_sim_words(w1,w2,model=model):\n",
    "    try:\n",
    "        return cos_sim(model.word_vec(w1),model.word_vec(w2))\n",
    "    except:\n",
    "        print(f'{w1} or {w2} not in vocabulary.')\n",
    "        return np.nan\n",
    "    \n",
    "def cos_sim_wc(word,corpus_vector,model=model):\n",
    "    try:\n",
    "        return cos_sim(model.word_vec(word),corpus_vector)\n",
    "    except:\n",
    "        print(f'{word} not in vocabulary.')\n",
    "        return np.nan\n",
    "    \n",
    "def cos_sim_tc(tweet, corpus_vector, model=model):\n",
    "    tweet_vector = vectorize_corpus(tweet)\n",
    "    return cos_sim(tweet_vector, corpus_vector)"
   ]
  },
  {
   "cell_type": "code",
   "execution_count": 247,
   "metadata": {},
   "outputs": [
    {
     "data": {
      "text/plain": [
       "0.07461891"
      ]
     },
     "execution_count": 247,
     "metadata": {},
     "output_type": "execute_result"
    }
   ],
   "source": [
    "cos_sim_words('blackout','cod')"
   ]
  },
  {
   "cell_type": "code",
   "execution_count": 249,
   "metadata": {},
   "outputs": [],
   "source": [
    "power_out = ['outage','blackout','brownout','power','line','transformer',\n",
    "             'storm','pseg','out','damage','powerout','backup','cable',\n",
    "             'circuit','cutoff','overload','fire','grid','energy',\n",
    "             'surge','eia','lights','light','outages','cut','failure',\n",
    "             'severe','weather','substation','lines','voltage','short']\n",
    "\n",
    "power_out_vector = vectorize_corpus(power_out)"
   ]
  },
  {
   "cell_type": "code",
   "execution_count": 254,
   "metadata": {},
   "outputs": [],
   "source": [
    "cos_sim_list = [cos_sim_tc(t,power_out_vector) for t in tweet_list]"
   ]
  },
  {
   "cell_type": "code",
   "execution_count": 255,
   "metadata": {},
   "outputs": [
    {
     "data": {
      "text/html": [
       "<div>\n",
       "<style scoped>\n",
       "    .dataframe tbody tr th:only-of-type {\n",
       "        vertical-align: middle;\n",
       "    }\n",
       "\n",
       "    .dataframe tbody tr th {\n",
       "        vertical-align: top;\n",
       "    }\n",
       "\n",
       "    .dataframe thead th {\n",
       "        text-align: right;\n",
       "    }\n",
       "</style>\n",
       "<table border=\"1\" class=\"dataframe\">\n",
       "  <thead>\n",
       "    <tr style=\"text-align: right;\">\n",
       "      <th></th>\n",
       "      <th>Tweet</th>\n",
       "      <th>Cosine Similarity</th>\n",
       "    </tr>\n",
       "  </thead>\n",
       "  <tbody>\n",
       "    <tr>\n",
       "      <td>0</td>\n",
       "      <td>@Number12ForLife No power in Issaquah Highland...</td>\n",
       "      <td>0.297100</td>\n",
       "    </tr>\n",
       "    <tr>\n",
       "      <td>1</td>\n",
       "      <td>@KING5Seattle @KIRO7Seattle tiger mountain rd ...</td>\n",
       "      <td>0.477564</td>\n",
       "    </tr>\n",
       "    <tr>\n",
       "      <td>2</td>\n",
       "      <td>@KING5Seattle @KIRO7Seattle SE may valley road...</td>\n",
       "      <td>0.445732</td>\n",
       "    </tr>\n",
       "    <tr>\n",
       "      <td>3</td>\n",
       "      <td>Just lost power. They power better be back on ...</td>\n",
       "      <td>0.501879</td>\n",
       "    </tr>\n",
       "    <tr>\n",
       "      <td>4</td>\n",
       "      <td>Update: Power Outages Affecting Renton's Benso...</td>\n",
       "      <td>0.649435</td>\n",
       "    </tr>\n",
       "    <tr>\n",
       "      <td>...</td>\n",
       "      <td>...</td>\n",
       "      <td>...</td>\n",
       "    </tr>\n",
       "    <tr>\n",
       "      <td>179</td>\n",
       "      <td>Power is restored! We’ll be open regular hours...</td>\n",
       "      <td>0.414388</td>\n",
       "    </tr>\n",
       "    <tr>\n",
       "      <td>180</td>\n",
       "      <td>Soooo, the power is out.  @psetalk says they e...</td>\n",
       "      <td>0.425628</td>\n",
       "    </tr>\n",
       "    <tr>\n",
       "      <td>181</td>\n",
       "      <td>Tree hanging across road on power line. @ Bain...</td>\n",
       "      <td>0.459658</td>\n",
       "    </tr>\n",
       "    <tr>\n",
       "      <td>182</td>\n",
       "      <td>Power's out, but we're still open! Feel free t...</td>\n",
       "      <td>0.232142</td>\n",
       "    </tr>\n",
       "    <tr>\n",
       "      <td>183</td>\n",
       "      <td>Power is out at the gym and at my house and KE...</td>\n",
       "      <td>0.376956</td>\n",
       "    </tr>\n",
       "  </tbody>\n",
       "</table>\n",
       "<p>184 rows × 2 columns</p>\n",
       "</div>"
      ],
      "text/plain": [
       "                                                 Tweet  Cosine Similarity\n",
       "0    @Number12ForLife No power in Issaquah Highland...           0.297100\n",
       "1    @KING5Seattle @KIRO7Seattle tiger mountain rd ...           0.477564\n",
       "2    @KING5Seattle @KIRO7Seattle SE may valley road...           0.445732\n",
       "3    Just lost power. They power better be back on ...           0.501879\n",
       "4    Update: Power Outages Affecting Renton's Benso...           0.649435\n",
       "..                                                 ...                ...\n",
       "179  Power is restored! We’ll be open regular hours...           0.414388\n",
       "180  Soooo, the power is out.  @psetalk says they e...           0.425628\n",
       "181  Tree hanging across road on power line. @ Bain...           0.459658\n",
       "182  Power's out, but we're still open! Feel free t...           0.232142\n",
       "183  Power is out at the gym and at my house and KE...           0.376956\n",
       "\n",
       "[184 rows x 2 columns]"
      ]
     },
     "execution_count": 255,
     "metadata": {},
     "output_type": "execute_result"
    }
   ],
   "source": [
    "# visualize tweets against the words they're reduced down to\n",
    "\n",
    "pd.DataFrame([(a,b) for a,b in zip(list(outage_tweets['text']), \n",
    "                                   cos_sim_list)],\n",
    "             columns=['Tweet','Cosine Similarity'])"
   ]
  },
  {
   "cell_type": "code",
   "execution_count": 266,
   "metadata": {},
   "outputs": [
    {
     "data": {
      "text/plain": [
       "['oh', 'lord']"
      ]
     },
     "execution_count": 266,
     "metadata": {},
     "output_type": "execute_result"
    }
   ],
   "source": [
    "[ for t in list(wa_tweets['text'])][-1]"
   ]
  },
  {
   "cell_type": "code",
   "execution_count": 267,
   "metadata": {},
   "outputs": [
    {
     "name": "stderr",
     "output_type": "stream",
     "text": [
      "C:\\ProgramData\\Anaconda3\\lib\\site-packages\\ipykernel_launcher.py:19: RuntimeWarning: invalid value encountered in true_divide\n"
     ]
    }
   ],
   "source": [
    "more_cs = [cos_sim_tc(tweets_cleaner(t), power_out_vector) for t in list(wa_tweets['text'])]"
   ]
  },
  {
   "cell_type": "markdown",
   "metadata": {},
   "source": [
    "Now that we have an unsupervised model that outputs some metric, we'll use a decision tree stump to create a cutoff point in cos similarity for good tweets and bad."
   ]
  },
  {
   "cell_type": "code",
   "execution_count": 272,
   "metadata": {},
   "outputs": [
    {
     "data": {
      "text/plain": [
       "5350"
      ]
     },
     "execution_count": 272,
     "metadata": {},
     "output_type": "execute_result"
    }
   ],
   "source": [
    "wa_tweets['outage'].value_counts()[0]"
   ]
  },
  {
   "cell_type": "code",
   "execution_count": 320,
   "metadata": {},
   "outputs": [
    {
     "name": "stderr",
     "output_type": "stream",
     "text": [
      "C:\\ProgramData\\Anaconda3\\lib\\site-packages\\ipykernel_launcher.py:19: RuntimeWarning: invalid value encountered in true_divide\n"
     ]
    }
   ],
   "source": [
    "wa_tweets['Cosine Similarity'] = [cos_sim_tc(tweets_cleaner(t), power_out_vector) for t in list(wa_tweets['text'])]\n",
    "wa_tweets = wa_tweets.fillna(0)"
   ]
  },
  {
   "cell_type": "code",
   "execution_count": 322,
   "metadata": {},
   "outputs": [
    {
     "data": {
      "text/html": [
       "<div>\n",
       "<style scoped>\n",
       "    .dataframe tbody tr th:only-of-type {\n",
       "        vertical-align: middle;\n",
       "    }\n",
       "\n",
       "    .dataframe tbody tr th {\n",
       "        vertical-align: top;\n",
       "    }\n",
       "\n",
       "    .dataframe thead th {\n",
       "        text-align: right;\n",
       "    }\n",
       "</style>\n",
       "<table border=\"1\" class=\"dataframe\">\n",
       "  <thead>\n",
       "    <tr style=\"text-align: right;\">\n",
       "      <th></th>\n",
       "      <th>Cosine Similarity</th>\n",
       "    </tr>\n",
       "    <tr>\n",
       "      <th>outage</th>\n",
       "      <th></th>\n",
       "    </tr>\n",
       "  </thead>\n",
       "  <tbody>\n",
       "    <tr>\n",
       "      <td>0</td>\n",
       "      <td>0.202299</td>\n",
       "    </tr>\n",
       "    <tr>\n",
       "      <td>1</td>\n",
       "      <td>0.432248</td>\n",
       "    </tr>\n",
       "  </tbody>\n",
       "</table>\n",
       "</div>"
      ],
      "text/plain": [
       "        Cosine Similarity\n",
       "outage                   \n",
       "0                0.202299\n",
       "1                0.432248"
      ]
     },
     "execution_count": 322,
     "metadata": {},
     "output_type": "execute_result"
    }
   ],
   "source": [
    "wa_tweets.groupby('outage').mean()"
   ]
  },
  {
   "cell_type": "markdown",
   "metadata": {},
   "source": [
    "A decision tree won't work well if the data is so lopsided, so let's create an evenly split dataframe with bootstrapping."
   ]
  },
  {
   "cell_type": "code",
   "execution_count": 280,
   "metadata": {},
   "outputs": [],
   "source": [
    "# num of extra positives to add\n",
    "inflate_num = wa_tweets['outage'].value_counts()[0] -\\\n",
    "    wa_tweets['outage'].value_counts()[1]\n",
    "\n",
    "inflate = wa_tweets.loc[\n",
    "    np.random.choice(wa_tweets[wa_tweets['outage'] == 1].index,\n",
    "                     size=inflate_num)]\n",
    "\n",
    "wa_bootstrapped = pd.concat([inflate, wa_tweets])"
   ]
  },
  {
   "cell_type": "code",
   "execution_count": 304,
   "metadata": {},
   "outputs": [
    {
     "name": "stderr",
     "output_type": "stream",
     "text": [
      "C:\\ProgramData\\Anaconda3\\lib\\site-packages\\ipykernel_launcher.py:19: RuntimeWarning: invalid value encountered in true_divide\n"
     ]
    }
   ],
   "source": [
    "X = pd.DataFrame([cos_sim_tc(tweets_cleaner(t), power_out_vector)\n",
    "                  for t in list(wa_bootstrapped['text'])]).fillna(0)\n",
    "y = wa_bootstrapped['outage'].reset_index(drop=True)"
   ]
  },
  {
   "cell_type": "code",
   "execution_count": 325,
   "metadata": {},
   "outputs": [],
   "source": [
    "# train test split\n",
    "from sklearn.model_selection import train_test_split\n",
    "\n",
    "X_train, X_test, y_train, y_test = train_test_split(X,y,\n",
    "                                                    random_state=1007)"
   ]
  },
  {
   "cell_type": "code",
   "execution_count": 327,
   "metadata": {},
   "outputs": [
    {
     "data": {
      "text/plain": [
       "0.8964485981308411"
      ]
     },
     "execution_count": 327,
     "metadata": {},
     "output_type": "execute_result"
    }
   ],
   "source": [
    "# use decision tree to \n",
    "\n",
    "from sklearn.tree import DecisionTreeClassifier\n",
    "\n",
    "dtc = DecisionTreeClassifier(max_depth=1)\n",
    "dtc.fit(X_train,y_train)\n",
    "dtc.score(X_test,y_test)"
   ]
  }
 ],
 "metadata": {
  "kernelspec": {
   "display_name": "Python 3",
   "language": "python",
   "name": "python3"
  },
  "language_info": {
   "codemirror_mode": {
    "name": "ipython",
    "version": 3
   },
   "file_extension": ".py",
   "mimetype": "text/x-python",
   "name": "python",
   "nbconvert_exporter": "python",
   "pygments_lexer": "ipython3",
   "version": "3.7.4"
  }
 },
 "nbformat": 4,
 "nbformat_minor": 2
}
