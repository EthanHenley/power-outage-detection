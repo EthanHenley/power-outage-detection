{
 "cells": [
  {
   "cell_type": "code",
   "execution_count": 42,
   "metadata": {},
   "outputs": [],
   "source": [
    "import pandas as pd\n",
    "\n",
    "import re\n",
    "from nltk.corpus import stopwords\n",
    "\n",
    "import gensim.models.word2vec as w2v"
   ]
  },
  {
   "cell_type": "code",
   "execution_count": 2,
   "metadata": {},
   "outputs": [],
   "source": [
    "tweets = pd.read_csv('../ethan/washington_outage_tweets.csv')\n",
    "outages = pd.read_csv('../ethan/washington_outages.csv')"
   ]
  },
  {
   "cell_type": "code",
   "execution_count": 30,
   "metadata": {},
   "outputs": [],
   "source": [
    "tweets.drop_duplicates(subset='text', inplace=True)"
   ]
  },
  {
   "cell_type": "markdown",
   "metadata": {},
   "source": [
    "## Preprocessing\n",
    "These steps are adapted from the work of Noah Christiansen, Jen Hill, and Vonn Napoleon Johnson, available [here](https://github.com/jenrhill/Power_Outage_Identification)."
   ]
  },
  {
   "cell_type": "code",
   "execution_count": 35,
   "metadata": {},
   "outputs": [],
   "source": [
    "# set up stopwords, but include certain relevant but common words\n",
    "\n",
    "stops = [w for w in stopwords.words('english') \n",
    "         if w not in ['out','on','off']] + ['']"
   ]
  },
  {
   "cell_type": "code",
   "execution_count": 36,
   "metadata": {},
   "outputs": [],
   "source": [
    "# this function almost directly taken from christiansen et al's\n",
    "# tweets_to_tweetlist\n",
    "# cleans, reformats, tokenizes, and removes stopwords from tweets\n",
    "\n",
    "def tweets_cleaner(raw):\n",
    "    clean = raw.replace('-',' ').replace('#',' ')\n",
    "    clean = re.sub(r\"[^a-zA-Z ]\", \"\", clean)\n",
    "    clean = re.sub(r\"http.*?\\b\",\"\",clean)\n",
    "    clean = re.sub(r\"pictwitter.*?\\b\",\"\",clean)\n",
    "    clean = re.sub(r\"www.*?\\b\",\"\",clean)\n",
    "    clean = clean.lower().split()\n",
    "    clean = [w for w in clean if w not in stops]\n",
    "    return clean"
   ]
  },
  {
   "cell_type": "code",
   "execution_count": 37,
   "metadata": {},
   "outputs": [],
   "source": [
    "# clean tweets and compound in list\n",
    "\n",
    "tweet_list = [tweets_cleaner(t)\n",
    "              for t in tweets['text']]"
   ]
  },
  {
   "cell_type": "code",
   "execution_count": 40,
   "metadata": {},
   "outputs": [
    {
     "data": {
      "text/html": [
       "<div>\n",
       "<style scoped>\n",
       "    .dataframe tbody tr th:only-of-type {\n",
       "        vertical-align: middle;\n",
       "    }\n",
       "\n",
       "    .dataframe tbody tr th {\n",
       "        vertical-align: top;\n",
       "    }\n",
       "\n",
       "    .dataframe thead th {\n",
       "        text-align: right;\n",
       "    }\n",
       "</style>\n",
       "<table border=\"1\" class=\"dataframe\">\n",
       "  <thead>\n",
       "    <tr style=\"text-align: right;\">\n",
       "      <th></th>\n",
       "      <th>Tweet</th>\n",
       "      <th>Words</th>\n",
       "    </tr>\n",
       "  </thead>\n",
       "  <tbody>\n",
       "    <tr>\n",
       "      <td>0</td>\n",
       "      <td>@Number12ForLife No power in Issaquah Highland...</td>\n",
       "      <td>[numberforlife, power, issaquah, highlands, un...</td>\n",
       "    </tr>\n",
       "    <tr>\n",
       "      <td>1</td>\n",
       "      <td>@KING5Seattle @KIRO7Seattle tiger mountain rd ...</td>\n",
       "      <td>[kingseattle, kiroseattle, tiger, mountain, rd...</td>\n",
       "    </tr>\n",
       "    <tr>\n",
       "      <td>2</td>\n",
       "      <td>@KING5Seattle @KIRO7Seattle SE may valley road...</td>\n",
       "      <td>[kingseattle, kiroseattle, se, may, valley, ro...</td>\n",
       "    </tr>\n",
       "    <tr>\n",
       "      <td>3</td>\n",
       "      <td>Just lost power. They power better be back on ...</td>\n",
       "      <td>[lost, power, power, better, back, on]</td>\n",
       "    </tr>\n",
       "    <tr>\n",
       "      <td>4</td>\n",
       "      <td>Update: Power Outages Affecting Renton's Benso...</td>\n",
       "      <td>[update, power, outages, affecting, rentons, b...</td>\n",
       "    </tr>\n",
       "    <tr>\n",
       "      <td>...</td>\n",
       "      <td>...</td>\n",
       "      <td>...</td>\n",
       "    </tr>\n",
       "    <tr>\n",
       "      <td>197</td>\n",
       "      <td>Power is restored! We’ll be open regular hours...</td>\n",
       "      <td>[power, restored, well, open, regular, hours, ...</td>\n",
       "    </tr>\n",
       "    <tr>\n",
       "      <td>198</td>\n",
       "      <td>Soooo, the power is out.  @psetalk says they e...</td>\n",
       "      <td>[soooo, power, out, psetalk, says, expect, us,...</td>\n",
       "    </tr>\n",
       "    <tr>\n",
       "      <td>199</td>\n",
       "      <td>Tree hanging across road on power line. @ Bain...</td>\n",
       "      <td>[tree, hanging, across, road, on, power, line,...</td>\n",
       "    </tr>\n",
       "    <tr>\n",
       "      <td>200</td>\n",
       "      <td>Power's out, but we're still open! Feel free t...</td>\n",
       "      <td>[powers, out, still, open, feel, free, come, v...</td>\n",
       "    </tr>\n",
       "    <tr>\n",
       "      <td>201</td>\n",
       "      <td>Power is out at the gym and at my house and KE...</td>\n",
       "      <td>[power, out, gym, house, kexp, off, air, bainb...</td>\n",
       "    </tr>\n",
       "  </tbody>\n",
       "</table>\n",
       "<p>202 rows × 2 columns</p>\n",
       "</div>"
      ],
      "text/plain": [
       "                                                 Tweet  \\\n",
       "0    @Number12ForLife No power in Issaquah Highland...   \n",
       "1    @KING5Seattle @KIRO7Seattle tiger mountain rd ...   \n",
       "2    @KING5Seattle @KIRO7Seattle SE may valley road...   \n",
       "3    Just lost power. They power better be back on ...   \n",
       "4    Update: Power Outages Affecting Renton's Benso...   \n",
       "..                                                 ...   \n",
       "197  Power is restored! We’ll be open regular hours...   \n",
       "198  Soooo, the power is out.  @psetalk says they e...   \n",
       "199  Tree hanging across road on power line. @ Bain...   \n",
       "200  Power's out, but we're still open! Feel free t...   \n",
       "201  Power is out at the gym and at my house and KE...   \n",
       "\n",
       "                                                 Words  \n",
       "0    [numberforlife, power, issaquah, highlands, un...  \n",
       "1    [kingseattle, kiroseattle, tiger, mountain, rd...  \n",
       "2    [kingseattle, kiroseattle, se, may, valley, ro...  \n",
       "3               [lost, power, power, better, back, on]  \n",
       "4    [update, power, outages, affecting, rentons, b...  \n",
       "..                                                 ...  \n",
       "197  [power, restored, well, open, regular, hours, ...  \n",
       "198  [soooo, power, out, psetalk, says, expect, us,...  \n",
       "199  [tree, hanging, across, road, on, power, line,...  \n",
       "200  [powers, out, still, open, feel, free, come, v...  \n",
       "201  [power, out, gym, house, kexp, off, air, bainb...  \n",
       "\n",
       "[202 rows x 2 columns]"
      ]
     },
     "execution_count": 40,
     "metadata": {},
     "output_type": "execute_result"
    }
   ],
   "source": [
    "# visualize tweets against the words they're reduced down to\n",
    "\n",
    "pd.DataFrame([(a,b) for a,b in zip(list(tweets['text']), tweet_list)],\n",
    "             columns=['Tweet','Words'])"
   ]
  },
  {
   "cell_type": "markdown",
   "metadata": {},
   "source": [
    "# EVERYTHING BELOW THIS IS BAD"
   ]
  },
  {
   "cell_type": "code",
   "execution_count": 59,
   "metadata": {},
   "outputs": [],
   "source": [
    "# Instantiate Word2Vec model\n",
    "tweets2vec = w2v.Word2Vec(\n",
    "    sg = 1, # skip-gram train algo\n",
    "    seed = 1007, # Random Number Generator to make results repeatable\n",
    "    workers = 3, # number of threads\n",
    "    size = 300, # Dimensionality of the hidden layer\n",
    "    min_count = 2, # how many times the word has to appear to be kept in the vocab.\n",
    "    window = 7, # size of the window to train words\n",
    "    sample = 1e-5 # downsampling setting for frequent words\n",
    ")"
   ]
  },
  {
   "cell_type": "code",
   "execution_count": 60,
   "metadata": {},
   "outputs": [],
   "source": [
    "tweets2vec.build_vocab(tweet_list)"
   ]
  },
  {
   "cell_type": "code",
   "execution_count": 61,
   "metadata": {},
   "outputs": [
    {
     "name": "stdout",
     "output_type": "stream",
     "text": [
      "Tweets2Vec vocabulary length: 247\n"
     ]
    }
   ],
   "source": [
    "print(\"Tweets2Vec vocabulary length:\", len(tweets2vec.wv.vocab))"
   ]
  },
  {
   "cell_type": "code",
   "execution_count": 67,
   "metadata": {},
   "outputs": [
    {
     "name": "stderr",
     "output_type": "stream",
     "text": [
      "C:\\ProgramData\\Anaconda3\\lib\\site-packages\\ipykernel_launcher.py:1: DeprecationWarning: Call to deprecated `most_similar` (Method will be removed in 4.0.0, use self.wv.most_similar() instead).\n",
      "  \"\"\"Entry point for launching an IPython kernel.\n"
     ]
    },
    {
     "data": {
      "text/plain": [
       "[('today', 0.2116914987564087),\n",
       " ('call', 0.15200787782669067),\n",
       " ('grill', 0.11780968308448792),\n",
       " ('come', 0.11520563066005707),\n",
       " ('breakfast', 0.1140291839838028),\n",
       " ('fuck', 0.11393752694129944),\n",
       " ('first', 0.11338429898023605),\n",
       " ('wasnow', 0.11179263889789581),\n",
       " ('sb', 0.1097029447555542),\n",
       " ('service', 0.10533488541841507)]"
      ]
     },
     "execution_count": 67,
     "metadata": {},
     "output_type": "execute_result"
    }
   ],
   "source": [
    "tweets2vec.most_similar('blackout')"
   ]
  }
 ],
 "metadata": {
  "kernelspec": {
   "display_name": "Python 3",
   "language": "python",
   "name": "python3"
  },
  "language_info": {
   "codemirror_mode": {
    "name": "ipython",
    "version": 3
   },
   "file_extension": ".py",
   "mimetype": "text/x-python",
   "name": "python",
   "nbconvert_exporter": "python",
   "pygments_lexer": "ipython3",
   "version": "3.7.4"
  }
 },
 "nbformat": 4,
 "nbformat_minor": 2
}
