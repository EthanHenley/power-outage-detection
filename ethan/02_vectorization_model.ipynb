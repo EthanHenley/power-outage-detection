{
 "cells": [
  {
   "cell_type": "code",
   "execution_count": 68,
   "metadata": {},
   "outputs": [],
   "source": [
    "import pandas as pd\n",
    "\n",
    "import re\n",
    "from nltk.corpus import stopwords\n",
    "\n",
    "import gensim.models.word2vec as w2v"
   ]
  },
  {
   "cell_type": "code",
   "execution_count": 69,
   "metadata": {},
   "outputs": [],
   "source": [
    "tweets = pd.read_csv('../ethan/washington_outage_tweets.csv')\n",
    "outages = pd.read_csv('../ethan/washington_outages.csv')"
   ]
  },
  {
   "cell_type": "code",
   "execution_count": 70,
   "metadata": {},
   "outputs": [],
   "source": [
    "tweets.drop_duplicates(subset='text', inplace=True)"
   ]
  },
  {
   "cell_type": "code",
   "execution_count": 197,
   "metadata": {},
   "outputs": [],
   "source": [
    "tweets = tweets.drop(\n",
    "    index=tweets[tweets['outage']==0].index\n",
    ").reset_index(drop=True)"
   ]
  },
  {
   "cell_type": "markdown",
   "metadata": {},
   "source": [
    "## Preprocessing\n",
    "These steps are adapted from the work of Noah Christiansen, Jen Hill, and Vonn Napoleon Johnson, available [here](https://github.com/jenrhill/Power_Outage_Identification)."
   ]
  },
  {
   "cell_type": "code",
   "execution_count": 198,
   "metadata": {},
   "outputs": [],
   "source": [
    "# set up stopwords, but include certain relevant but common words\n",
    "\n",
    "stops = [w for w in stopwords.words('english') \n",
    "         if w not in ['out','on','off']] + ['']"
   ]
  },
  {
   "cell_type": "code",
   "execution_count": 199,
   "metadata": {},
   "outputs": [],
   "source": [
    "# this function almost directly taken from christiansen et al's\n",
    "# tweets_to_tweetlist\n",
    "# cleans, reformats, tokenizes, and removes stopwords from tweets\n",
    "\n",
    "def tweets_cleaner(raw):\n",
    "    \n",
    "    clean = str(raw).replace('-',' ').replace('#',' ')\n",
    "    clean = re.sub(r\"([@][\\w_-]+)\", \"\", clean) # remove @s\n",
    "    clean = re.sub(r\"[^a-zA-Z ]\", \"\", clean)\n",
    "    clean = re.sub(r\"http.*?\\b\",\"\",clean)\n",
    "    clean = re.sub(r\"pictwitter.*?\\b\",\"\",clean)\n",
    "    clean = re.sub(r\"www.*?\\b\",\"\",clean)\n",
    "    clean = clean.lower().split()\n",
    "    clean = [w for w in clean if w not in stops]\n",
    "    return clean"
   ]
  },
  {
   "cell_type": "code",
   "execution_count": 200,
   "metadata": {},
   "outputs": [],
   "source": [
    "# clean tweets and compound in list\n",
    "\n",
    "tweet_list = [tweets_cleaner(t)\n",
    "              for t in tweets['text']]\n",
    "#    all tweets expected to maybe be outage-related ^"
   ]
  },
  {
   "cell_type": "code",
   "execution_count": 201,
   "metadata": {},
   "outputs": [
    {
     "data": {
      "text/plain": [
       "-1    2850\n",
       " 1     184\n",
       "Name: outage, dtype: int64"
      ]
     },
     "execution_count": 201,
     "metadata": {},
     "output_type": "execute_result"
    }
   ],
   "source": [
    "tweets['outage'].value_counts()"
   ]
  },
  {
   "cell_type": "code",
   "execution_count": 202,
   "metadata": {},
   "outputs": [
    {
     "data": {
      "text/plain": [
       "['power',\n",
       " 'mother',\n",
       " 'nature',\n",
       " 'snoqualmie',\n",
       " 'waterfalls',\n",
       " 'f',\n",
       " 'sewwsvaijawisovu']"
      ]
     },
     "execution_count": 202,
     "metadata": {},
     "output_type": "execute_result"
    }
   ],
   "source": [
    "tweet_list[190]"
   ]
  },
  {
   "cell_type": "code",
   "execution_count": 203,
   "metadata": {},
   "outputs": [
    {
     "data": {
      "text/plain": [
       "'The power of Mother Nature @ Snoqualmie Waterfalls https://www.instagram.com/p/BD_rKf2xmLUnsf4rP-f-68SEwWSvAiJAWISOVU0/\\xa0…'"
      ]
     },
     "execution_count": 203,
     "metadata": {},
     "output_type": "execute_result"
    }
   ],
   "source": [
    "list(tweets['text'])[190]"
   ]
  },
  {
   "cell_type": "code",
   "execution_count": 204,
   "metadata": {},
   "outputs": [
    {
     "data": {
      "text/html": [
       "<div>\n",
       "<style scoped>\n",
       "    .dataframe tbody tr th:only-of-type {\n",
       "        vertical-align: middle;\n",
       "    }\n",
       "\n",
       "    .dataframe tbody tr th {\n",
       "        vertical-align: top;\n",
       "    }\n",
       "\n",
       "    .dataframe thead th {\n",
       "        text-align: right;\n",
       "    }\n",
       "</style>\n",
       "<table border=\"1\" class=\"dataframe\">\n",
       "  <thead>\n",
       "    <tr style=\"text-align: right;\">\n",
       "      <th></th>\n",
       "      <th>Tweet</th>\n",
       "      <th>Words</th>\n",
       "    </tr>\n",
       "  </thead>\n",
       "  <tbody>\n",
       "    <tr>\n",
       "      <td>0</td>\n",
       "      <td>@Number12ForLife No power in Issaquah Highland...</td>\n",
       "      <td>[power, issaquah, highlands, understand, issaq...</td>\n",
       "    </tr>\n",
       "    <tr>\n",
       "      <td>1</td>\n",
       "      <td>@KING5Seattle @KIRO7Seattle tiger mountain rd ...</td>\n",
       "      <td>[tiger, mountain, rd, se, block, way, blocking...</td>\n",
       "    </tr>\n",
       "    <tr>\n",
       "      <td>2</td>\n",
       "      <td>@KING5Seattle @KIRO7Seattle SE may valley road...</td>\n",
       "      <td>[se, may, valley, road, closed, moment, tree, ...</td>\n",
       "    </tr>\n",
       "    <tr>\n",
       "      <td>3</td>\n",
       "      <td>Just lost power. They power better be back on ...</td>\n",
       "      <td>[lost, power, power, better, back, on]</td>\n",
       "    </tr>\n",
       "    <tr>\n",
       "      <td>4</td>\n",
       "      <td>Update: Power Outages Affecting Renton's Benso...</td>\n",
       "      <td>[update, power, outages, affecting, rentons, b...</td>\n",
       "    </tr>\n",
       "    <tr>\n",
       "      <td>...</td>\n",
       "      <td>...</td>\n",
       "      <td>...</td>\n",
       "    </tr>\n",
       "    <tr>\n",
       "      <td>3029</td>\n",
       "      <td>How are the M’s 17th in the power rankings at ...</td>\n",
       "      <td>[ms, th, power, rankings, several, teams, ahea...</td>\n",
       "    </tr>\n",
       "    <tr>\n",
       "      <td>3030</td>\n",
       "      <td>Do you have this power?</td>\n",
       "      <td>[power]</td>\n",
       "    </tr>\n",
       "    <tr>\n",
       "      <td>3031</td>\n",
       "      <td>@Super_Sodiq: \"I'm bringing Nigerian Power to ...</td>\n",
       "      <td>[im, bringing, nigerian, power, octagonimagine...</td>\n",
       "    </tr>\n",
       "    <tr>\n",
       "      <td>3032</td>\n",
       "      <td>Mueller's report must be made public— and Cong...</td>\n",
       "      <td>[muellers, report, must, made, public, congres...</td>\n",
       "    </tr>\n",
       "    <tr>\n",
       "      <td>3033</td>\n",
       "      <td>Hold the power button for 5 seconds, that shou...</td>\n",
       "      <td>[hold, power, button, seconds, fix]</td>\n",
       "    </tr>\n",
       "  </tbody>\n",
       "</table>\n",
       "<p>3034 rows × 2 columns</p>\n",
       "</div>"
      ],
      "text/plain": [
       "                                                  Tweet  \\\n",
       "0     @Number12ForLife No power in Issaquah Highland...   \n",
       "1     @KING5Seattle @KIRO7Seattle tiger mountain rd ...   \n",
       "2     @KING5Seattle @KIRO7Seattle SE may valley road...   \n",
       "3     Just lost power. They power better be back on ...   \n",
       "4     Update: Power Outages Affecting Renton's Benso...   \n",
       "...                                                 ...   \n",
       "3029  How are the M’s 17th in the power rankings at ...   \n",
       "3030                            Do you have this power?   \n",
       "3031  @Super_Sodiq: \"I'm bringing Nigerian Power to ...   \n",
       "3032  Mueller's report must be made public— and Cong...   \n",
       "3033  Hold the power button for 5 seconds, that shou...   \n",
       "\n",
       "                                                  Words  \n",
       "0     [power, issaquah, highlands, understand, issaq...  \n",
       "1     [tiger, mountain, rd, se, block, way, blocking...  \n",
       "2     [se, may, valley, road, closed, moment, tree, ...  \n",
       "3                [lost, power, power, better, back, on]  \n",
       "4     [update, power, outages, affecting, rentons, b...  \n",
       "...                                                 ...  \n",
       "3029  [ms, th, power, rankings, several, teams, ahea...  \n",
       "3030                                            [power]  \n",
       "3031  [im, bringing, nigerian, power, octagonimagine...  \n",
       "3032  [muellers, report, must, made, public, congres...  \n",
       "3033                [hold, power, button, seconds, fix]  \n",
       "\n",
       "[3034 rows x 2 columns]"
      ]
     },
     "execution_count": 204,
     "metadata": {},
     "output_type": "execute_result"
    }
   ],
   "source": [
    "# visualize tweets against the words they're reduced down to\n",
    "\n",
    "pd.DataFrame([(a,b) for a,b in zip(list(tweets['text']), tweet_list)],\n",
    "             columns=['Tweet','Words'])"
   ]
  },
  {
   "cell_type": "markdown",
   "metadata": {},
   "source": [
    "# EVERYTHING BELOW THIS IS BAD"
   ]
  },
  {
   "cell_type": "code",
   "execution_count": 205,
   "metadata": {},
   "outputs": [],
   "source": [
    "# Instantiate Word2Vec model\n",
    "tweets2vec = w2v.Word2Vec(\n",
    "    sg = 1, # skip-gram train algo\n",
    "    seed = 1007, # Random Number Generator to make results repeatable\n",
    "    workers = 3, # number of threads\n",
    "    size = 300, # Dimensionality of the hidden layer\n",
    "    min_count = 10, # how many times the word has to appear to be kept in the vocab.\n",
    "    window = 7, # size of the window to train words\n",
    "    sample = 1e-5 # downsampling setting for frequent words\n",
    ")"
   ]
  },
  {
   "cell_type": "code",
   "execution_count": 206,
   "metadata": {},
   "outputs": [],
   "source": [
    "tweets2vec.build_vocab(tweet_list)"
   ]
  },
  {
   "cell_type": "code",
   "execution_count": 207,
   "metadata": {},
   "outputs": [
    {
     "name": "stdout",
     "output_type": "stream",
     "text": [
      "Tweets2Vec vocabulary length: 488\n"
     ]
    }
   ],
   "source": [
    "print(\"Tweets2Vec vocabulary length:\", len(tweets2vec.wv.vocab))"
   ]
  },
  {
   "cell_type": "code",
   "execution_count": 208,
   "metadata": {},
   "outputs": [
    {
     "name": "stderr",
     "output_type": "stream",
     "text": [
      "C:\\ProgramData\\Anaconda3\\lib\\site-packages\\ipykernel_launcher.py:1: DeprecationWarning: Call to deprecated `most_similar` (Method will be removed in 4.0.0, use self.wv.most_similar() instead).\n",
      "  \"\"\"Entry point for launching an IPython kernel.\n"
     ]
    },
    {
     "data": {
      "text/plain": [
       "[('try', 0.16525691747665405),\n",
       " ('find', 0.15612109005451202),\n",
       " ('watch', 0.14827287197113037),\n",
       " ('class', 0.14548921585083008),\n",
       " ('shit', 0.14305120706558228),\n",
       " ('theres', 0.12683957815170288),\n",
       " ('best', 0.126201793551445),\n",
       " ('respect', 0.12417101860046387),\n",
       " ('de', 0.1211705133318901),\n",
       " ('nbsb', 0.1172221377491951),\n",
       " ('give', 0.11638787388801575),\n",
       " ('anyone', 0.11514642834663391),\n",
       " ('lose', 0.11175920069217682),\n",
       " ('something', 0.10313186049461365),\n",
       " ('good', 0.10256955027580261),\n",
       " ('soon', 0.10226915776729584),\n",
       " ('yesterday', 0.097187839448452),\n",
       " ('white', 0.0970287099480629),\n",
       " ('fear', 0.09576299041509628),\n",
       " ('gods', 0.09463256597518921)]"
      ]
     },
     "execution_count": 208,
     "metadata": {},
     "output_type": "execute_result"
    }
   ],
   "source": [
    "tweets2vec.most_similar('outage', topn=20)"
   ]
  },
  {
   "cell_type": "code",
   "execution_count": 209,
   "metadata": {},
   "outputs": [
    {
     "name": "stderr",
     "output_type": "stream",
     "text": [
      "C:\\ProgramData\\Anaconda3\\lib\\site-packages\\ipykernel_launcher.py:3: DeprecationWarning: Call to deprecated `most_similar` (Method will be removed in 4.0.0, use self.wv.most_similar() instead).\n",
      "  This is separate from the ipykernel package so we can avoid doing imports until\n"
     ]
    },
    {
     "data": {
      "text/plain": [
       "[('best', 0.1922171711921692),\n",
       " ('theres', 0.15430928766727448),\n",
       " ('end', 0.1387871950864792),\n",
       " ('deal', 0.13815714418888092),\n",
       " ('n', 0.13069875538349152),\n",
       " ('try', 0.1299016773700714),\n",
       " ('coffee', 0.12756924331188202),\n",
       " ('cut', 0.12720748782157898),\n",
       " ('world', 0.1212422177195549),\n",
       " ('never', 0.11831799149513245),\n",
       " ('jesus', 0.11743222922086716),\n",
       " ('flower', 0.11393364518880844),\n",
       " ('anyone', 0.11387676000595093),\n",
       " ('pm', 0.11117894947528839),\n",
       " ('minute', 0.1104523241519928),\n",
       " ('respect', 0.10868483781814575),\n",
       " ('think', 0.10465019196271896),\n",
       " ('hour', 0.1028299331665039),\n",
       " ('change', 0.10028521716594696),\n",
       " ('something', 0.09914322942495346)]"
      ]
     },
     "execution_count": 209,
     "metadata": {},
     "output_type": "execute_result"
    }
   ],
   "source": [
    "tweets2vec.most_similar(positive=['blackout','power','outage'],\n",
    "                        negative=['button','internet'],\n",
    "                        topn=20)"
   ]
  }
 ],
 "metadata": {
  "kernelspec": {
   "display_name": "Python 3",
   "language": "python",
   "name": "python3"
  },
  "language_info": {
   "codemirror_mode": {
    "name": "ipython",
    "version": 3
   },
   "file_extension": ".py",
   "mimetype": "text/x-python",
   "name": "python",
   "nbconvert_exporter": "python",
   "pygments_lexer": "ipython3",
   "version": "3.7.4"
  }
 },
 "nbformat": 4,
 "nbformat_minor": 2
}
