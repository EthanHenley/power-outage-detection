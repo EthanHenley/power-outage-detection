{
 "cells": [
  {
   "cell_type": "code",
   "execution_count": 1,
   "metadata": {},
   "outputs": [],
   "source": [
    "# ! pip install twitterAPI"
   ]
  },
  {
   "cell_type": "code",
   "execution_count": 2,
   "metadata": {},
   "outputs": [],
   "source": [
    "import pandas as pd\n",
    "\n",
    "from TwitterAPI import TwitterAPI"
   ]
  },
  {
   "cell_type": "code",
   "execution_count": 3,
   "metadata": {},
   "outputs": [],
   "source": [
    "ENV = pd.read_json('../env.json', typ='series')\n",
    "consumer_key = ENV['Consumer API key']\n",
    "consumer_secret = ENV['Consumer API secret key']\n",
    "access_token_key = ENV['Access token key']\n",
    "access_token_secret = ENV['Access token secret']"
   ]
  },
  {
   "cell_type": "code",
   "execution_count": 4,
   "metadata": {},
   "outputs": [],
   "source": [
    "api = TwitterAPI(consumer_key, consumer_secret, \n",
    "                 access_token_key, access_token_secret)"
   ]
  },
  {
   "cell_type": "code",
   "execution_count": 5,
   "metadata": {},
   "outputs": [
    {
     "name": "stdout",
     "output_type": "stream",
     "text": [
      "200 \n",
      "\n",
      "\n",
      "RT @InsideKaduna_: Apologies from @Kadunaelectric to their esteemed customers for the temporary power outage being experienced. It was a re… \n",
      "\n",
      "RT @alana_daeson: A&amp;T REFUSES to cancel class for ANY reason. A tornado, a shooting, a power outage. It is going to take Dowdy Building bei… \n",
      "\n",
      "@CityPowerJhb update on power outage in ormonde/evanspark......… going on 11 hours without power \n",
      "\n",
      "If you've got a home business, a portable generator can keep you working during a power outage. #REtips #lifestyle… https://t.co/zYr4eMBb1v \n",
      "\n",
      "@CityPowerJhb #Lindhaven Outage. Please advise why Lindhaven and surrounding area has no power? \n",
      "\n",
      "Squirrel blamed for Pennsylvania power outage https://t.co/bZx5OR8nQV #SmartNews \n",
      "\n",
      "//there is a power outage in my doelrm that belongs to University of Tehran... you know... the biggest, most presti… https://t.co/xupF6A4wYG \n",
      "\n",
      "A utility truck strikes a power line. A winter storm causes a power outage. Peak demand creates a blackout. Whateve… https://t.co/GvY3FHVG2x \n",
      "\n",
      "power outage  5 times this week already in the Dungavel/Drumclog area  South Lanarkshire, an all too frequent occur… https://t.co/gzKO58RSDU \n",
      "\n",
      "@george_nyanjui  Is power outage affecting the whole area or you are the only one? please clarify ^DB \n",
      "\n",
      "@marais_stuart update on the power outage in Ormonde please, Lack of Refuse collection is the least of our problems… https://t.co/1yGJlERQcl \n",
      "\n",
      "Power outages have been reported in Tyler and Diana. https://t.co/vSIhUCP6ir \n",
      "\n",
      "We have a power outage at Witpoortjie (3B) since 16:00 @CityPowerJhb \n",
      "\n",
      "@Eskom_SA woke up to power outage in Pimville Zone6. Apparently it started at 1am. Called your customer service but… https://t.co/R1k1lj7kPs \n",
      "\n",
      "NO LONGER BEWARE THE WATER: Irish Water would like to advise customers on Inis Meain that the water treatment plant… https://t.co/2KEg5JibLh \n",
      "\n"
     ]
    }
   ],
   "source": [
    "req = api.request('search/tweets',{'q':'power outage'})\n",
    "print(req.status_code,'\\n\\n')\n",
    "for tweet in req: # here tweet is a dictionary, not an object\n",
    "    print(tweet['text'],'\\n')\n",
    "# could develop a way to translate twitterAPI dicts into\n",
    "# twitterscraper Tweet objects, but might not be worthwhile\n",
    "#\n",
    "# notice that some of these are cut off at 140"
   ]
  }
 ],
 "metadata": {
  "kernelspec": {
   "display_name": "Python 3",
   "language": "python",
   "name": "python3"
  },
  "language_info": {
   "codemirror_mode": {
    "name": "ipython",
    "version": 3
   },
   "file_extension": ".py",
   "mimetype": "text/x-python",
   "name": "python",
   "nbconvert_exporter": "python",
   "pygments_lexer": "ipython3",
   "version": "3.7.4"
  }
 },
 "nbformat": 4,
 "nbformat_minor": 2
}
