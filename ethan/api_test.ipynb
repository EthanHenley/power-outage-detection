{
 "cells": [
  {
   "cell_type": "code",
   "execution_count": 1,
   "metadata": {},
   "outputs": [],
   "source": [
    "# ! pip install twitterAPI"
   ]
  },
  {
   "cell_type": "code",
   "execution_count": 2,
   "metadata": {},
   "outputs": [],
   "source": [
    "import pandas as pd\n",
    "\n",
    "from TwitterAPI import TwitterAPI"
   ]
  },
  {
   "cell_type": "code",
   "execution_count": 3,
   "metadata": {},
   "outputs": [],
   "source": [
    "ENV = pd.read_json('../env.json', typ='series')\n",
    "consumer_key = ENV['Consumer API key']\n",
    "consumer_secret = ENV['Consumer API secret key']\n",
    "access_token_key = ENV['Access token key']\n",
    "access_token_secret = ENV['Access token secret']"
   ]
  },
  {
   "cell_type": "code",
   "execution_count": 4,
   "metadata": {},
   "outputs": [],
   "source": [
    "api = TwitterAPI(consumer_key, consumer_secret, \n",
    "                 access_token_key, access_token_secret)"
   ]
  },
  {
   "cell_type": "code",
   "execution_count": 5,
   "metadata": {},
   "outputs": [
    {
     "data": {
      "text/plain": [
       "('New York', '27485069891a7938')"
      ]
     },
     "execution_count": 5,
     "metadata": {},
     "output_type": "execute_result"
    }
   ],
   "source": [
    "# used command line query to get information abt manhattan into .json\n",
    "GEO = pd.read_json('nyc_geo.json', typ='series') \n",
    "geo_data = GEO['result']['places'][1] # this gives nyc's geo data\n",
    "geo_id = geo_data['id'] # place id for nyc geo data\n",
    "geo_data['name'], geo_id"
   ]
  },
  {
   "cell_type": "code",
   "execution_count": 6,
   "metadata": {},
   "outputs": [
    {
     "name": "stdout",
     "output_type": "stream",
     "text": [
      "200 \n",
      "\n",
      "\n",
      "RT @CityPowerJhb: #RoodepoortOutage \n",
      "We are experiencing an outage in the Roodepoort area. Technicians are on site working on restorations.… \n",
      "\n",
      "RT @BAEBAENERGY: [VID] 200212 CIX's #TikTok Update\n",
      "\n",
      "\"It's gonna be a black out!\"\n",
      "📎https://t.co/iw70wj05zh\n",
      "\n",
      "#배진영 #BAEJINYOUNG #BLACKOUT #裵珍映… \n",
      "\n",
      "@TonyLe47126194 @Cerebus_Gaming @CallofDuty Have you tried playing BO4, that game isn’t CoD...Blackout’s the only good thing about the game \n",
      "\n",
      "@KenyaPower_Care Major blackout at Kahawa Wendani acc. 01450299639. Kindly deal \n",
      "\n",
      "RT @PepperOceanna: Hillary: Nobody likes him\n",
      "\n",
      "Berners: We are a whole lot of Nobody\n",
      "\n",
      "Media: Warren, Warren, Warren\n",
      "\n",
      "Iowa Caucus\n",
      "\n",
      "Pete: I Wo… \n",
      "\n",
      "RT @scottsantens: Fuck you, MSNBC.\n",
      "\n",
      "https://t.co/H0OQ1YH8wq \n",
      "\n",
      "Squirrel ‘responsible’ for power outage\n",
      "#ARYNews\n",
      "https://t.co/b8AP9cmT99 \n",
      "\n",
      "@ainn_akdi 😭😭😭blackout ttibe aaaa \n",
      "\n",
      "Check out this Amazon deal: American Red Cross Blackout Buddy Connect Charge Emergency LED Light &amp; USB Charger, Com… https://t.co/W2on82oCAP \n",
      "\n",
      "@pln_123 blackout nih di seputaran budiagung kel sukadamai kec tanah sareal kota bogor dari jam 16.50...mhn tindaklanjutnya \n",
      "\n",
      "RT @triofrancos: I get as frustrated as any other Bernard brother by the MSM blackout. But I also know that a fragmented, incoherent center… \n",
      "\n",
      "With Valentine's Day around the corner, our next #februaryreads pick is @thebestjasmine 's flirty romance, 'The Wed… https://t.co/A0PeWwjnp1 \n",
      "\n",
      "Are you meeting with your Muse? Blackout art by @austinkleon https://t.co/ylNxrqWcaE \n",
      "\n",
      "@barstoolcarl The MLB’s awful blackout rules for TV is greedy and impeding so many from being able to watch their t… https://t.co/p5vd0bOSYu \n",
      "\n",
      "🤔435 people died in an 1896 heatwave when a massive power outage meant no air-conditioning! https://t.co/eBMrOL6dvg \n",
      "\n"
     ]
    }
   ],
   "source": [
    "req = api.request('search/tweets',\n",
    "                  {'q':'blackout OR outage', # standard query\n",
    "                   'place':geo_id}) # location\n",
    "print(req.status_code,'\\n\\n')\n",
    "for tweet in req: # here tweet is a dictionary, not an object\n",
    "    print(tweet['text'],'\\n')\n",
    "# could develop a way to translate twitterAPI dicts into\n",
    "# twitterscraper Tweet objects, but might not be worthwhile\n",
    "#\n",
    "# notice that some of these are cut off at 140"
   ]
  }
 ],
 "metadata": {
  "kernelspec": {
   "display_name": "Python 3",
   "language": "python",
   "name": "python3"
  },
  "language_info": {
   "codemirror_mode": {
    "name": "ipython",
    "version": 3
   },
   "file_extension": ".py",
   "mimetype": "text/x-python",
   "name": "python",
   "nbconvert_exporter": "python",
   "pygments_lexer": "ipython3",
   "version": "3.7.4"
  }
 },
 "nbformat": 4,
 "nbformat_minor": 2
}
