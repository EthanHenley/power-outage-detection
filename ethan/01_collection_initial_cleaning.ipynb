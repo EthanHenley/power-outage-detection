{
 "cells": [
  {
   "cell_type": "code",
   "execution_count": null,
   "metadata": {},
   "outputs": [],
   "source": [
    "# combine eia dfs into one\n",
    "# reword eia df location lists\n",
    "# scrape noted areas during outages + 1 month before & after\n",
    "# nlp tweets, model outage probability\n",
    "# plot outage-related tweets w/ probabilities"
   ]
  },
  {
   "cell_type": "markdown",
   "metadata": {},
   "source": [
    "## Read in Data"
   ]
  },
  {
   "cell_type": "code",
   "execution_count": 1,
   "metadata": {},
   "outputs": [],
   "source": [
    "import pandas as pd"
   ]
  },
  {
   "cell_type": "code",
   "execution_count": 2,
   "metadata": {},
   "outputs": [],
   "source": [
    "# list of dfs of eia data\n",
    "xlsx_list = [pd.read_excel(f'{year}.xlsx', header=1) \n",
    "              for year in range(2013,2020)]"
   ]
  },
  {
   "cell_type": "code",
   "execution_count": 3,
   "metadata": {},
   "outputs": [],
   "source": [
    "# combine dfs of eia data\n",
    "df = pd.concat(xlsx_list, sort=False)"
   ]
  },
  {
   "cell_type": "code",
   "execution_count": 4,
   "metadata": {},
   "outputs": [],
   "source": [
    "# function to determine if event is in washington\n",
    "def washington_check(loc):\n",
    "    right_wa = 'Washington'\n",
    "    wrong_wa = ('D.C', 'Columbia', 'DC', \n",
    "        'Washington County', 'Oregon Counties')\n",
    "    if right_wa in loc and not any(wrong in loc for wrong in wrong_wa):\n",
    "        return True\n",
    "    return False"
   ]
  },
  {
   "cell_type": "code",
   "execution_count": 5,
   "metadata": {},
   "outputs": [],
   "source": [
    "# washington df\n",
    "wa = df[df['Area Affected'].fillna('?').map(washington_check)]"
   ]
  },
  {
   "cell_type": "code",
   "execution_count": 7,
   "metadata": {},
   "outputs": [
    {
     "data": {
      "text/plain": [
       "Washington                                                                                                                                                                         8\n",
       "Washington: Clark County;                                                                                                                                                          6\n",
       "Washington:                                                                                                                                                                        4\n",
       "Washington: King County;                                                                                                                                                           2\n",
       "Washington: Snohomish County;                                                                                                                                                      2\n",
       "Alberta, Canada; Washington State                                                                                                                                                  1\n",
       "King County, Skagit County, Whatcom County, Kitsap County, Pierce County, Thurston County, Island County, Washington                                                               1\n",
       "King, Pierce and Thurston Counties, Washington                                                                                                                                     1\n",
       "King, Whatcom, and Skagit, Washington                                                                                                                                              1\n",
       "Kitsap, Thurston, Whatcom counties Washington                                                                                                                                      1\n",
       "Washington: King County, Kitsap County, Island County, Pierce County, Thurston County, Whatcom County, Skagit County, Kittitas County;                                             1\n",
       "Washington: Stevens County, Lincoln County, Adams County, Whitman County, Spokane County; Idaho: Bonner County, Kootenai County, Shoshone County, Benewah County, Idaho County;    1\n",
       "Washington: Montana:                                                                                                                                                               1\n",
       "King County, Thurston County and Kitsap County,  Washington                                                                                                                        1\n",
       "Washington: Whatcom County; Montana:                                                                                                                                               1\n",
       "Washington: King County, Whatcom County, Kitsap County, Skagit County;                                                                                                             1\n",
       "Washington: Island County, King County, Kitsap County, Thurston County, Skagit County, Whatcom County;                                                                             1\n",
       "King County, Washington                                                                                                                                                            1\n",
       "Washington: Skagit County, Snohomish County, King County, Kitsap County, Island County;                                                                                            1\n",
       "Name: Area Affected, dtype: int64"
      ]
     },
     "execution_count": 7,
     "metadata": {},
     "output_type": "execute_result"
    }
   ],
   "source": [
    "# look at where in washington\n",
    "wa['Area Affected'].value_counts()"
   ]
  },
  {
   "cell_type": "markdown",
   "metadata": {},
   "source": [
    "State-only information is not especially useful to us, but it is not unusuable. All other information is counties; we will map by these. "
   ]
  },
  {
   "cell_type": "code",
   "execution_count": null,
   "metadata": {},
   "outputs": [],
   "source": [
    "# list of counties"
   ]
  }
 ],
 "metadata": {
  "kernelspec": {
   "display_name": "Python 3",
   "language": "python",
   "name": "python3"
  },
  "language_info": {
   "codemirror_mode": {
    "name": "ipython",
    "version": 3
   },
   "file_extension": ".py",
   "mimetype": "text/x-python",
   "name": "python",
   "nbconvert_exporter": "python",
   "pygments_lexer": "ipython3",
   "version": "3.7.4"
  }
 },
 "nbformat": 4,
 "nbformat_minor": 2
}
