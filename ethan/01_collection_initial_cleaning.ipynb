{
 "cells": [
  {
   "cell_type": "code",
   "execution_count": 1,
   "metadata": {},
   "outputs": [],
   "source": [
    "# combine eia dfs into one\n",
    "# reword eia df location lists\n",
    "# scrape noted areas during outages + 1 month before & after\n",
    "# nlp tweets, model outage probability\n",
    "# plot outage-related tweets w/ probabilities"
   ]
  },
  {
   "cell_type": "markdown",
   "metadata": {},
   "source": [
    "## Read in Data"
   ]
  },
  {
   "cell_type": "code",
   "execution_count": 2,
   "metadata": {},
   "outputs": [
    {
     "name": "stderr",
     "output_type": "stream",
     "text": [
      "INFO: {'User-Agent': 'Mozilla/5.0 (Windows; U; Windows NT 6.1; x64; fr; rv:1.9.2.13) Gecko/20101203 Firebird/3.6.13'}\n"
     ]
    }
   ],
   "source": [
    "import numpy as np\n",
    "import pandas as pd\n",
    "\n",
    "import time\n",
    "import datetime\n",
    "\n",
    "from twitterscraper import query_tweets"
   ]
  },
  {
   "cell_type": "code",
   "execution_count": 3,
   "metadata": {},
   "outputs": [],
   "source": [
    "# list of dfs of eia data\n",
    "xlsx_list = [pd.read_excel(f'{year}.xlsx', header=1) \n",
    "              for year in range(2013,2020)]"
   ]
  },
  {
   "cell_type": "code",
   "execution_count": 4,
   "metadata": {},
   "outputs": [],
   "source": [
    "# combine dfs of eia data\n",
    "df = pd.concat(xlsx_list, sort=False)"
   ]
  },
  {
   "cell_type": "markdown",
   "metadata": {},
   "source": [
    "### Reduce Data to just WA"
   ]
  },
  {
   "cell_type": "code",
   "execution_count": 5,
   "metadata": {},
   "outputs": [],
   "source": [
    "# function to determine if event is in washington\n",
    "def washington_check(loc):\n",
    "    right_wa = 'Washington'\n",
    "    wrong_wa = ('D.C', 'Columbia', 'DC', \n",
    "        'Washington County', 'Oregon Counties')\n",
    "    if right_wa in loc and not any(wrong in loc for wrong in wrong_wa):\n",
    "        return True\n",
    "    return False"
   ]
  },
  {
   "cell_type": "code",
   "execution_count": 6,
   "metadata": {},
   "outputs": [],
   "source": [
    "# washington df\n",
    "wa = df[df['Area Affected'].fillna('?').map(washington_check)]"
   ]
  },
  {
   "cell_type": "markdown",
   "metadata": {},
   "source": [
    "### Clean WA Data"
   ]
  },
  {
   "cell_type": "code",
   "execution_count": 8,
   "metadata": {},
   "outputs": [],
   "source": [
    "# simplify/map area affected to simple wa counties separated by spaces\n",
    "# WA for whole state and no more detail\n",
    "\n",
    "wa_cty_dict = {\n",
    "    'King, Pierce and Thurston Counties, Washington':\\\n",
    "        'King Pierce Thurston',\n",
    "    'Alberta, Canada; Washington State':'WA',\n",
    "    'King, Whatcom, and Skagit, Washington':'King Whatcom Skagit',\n",
    "    'King County, Thurston County and Kitsap County,  Washington':\\\n",
    "        'King Thurston Kitsap',\n",
    "    'Washington':'WA',\n",
    "    'Kitsap, Thurston, Whatcom counties Washington':\\\n",
    "        'King Thurston Whatcom',\n",
    "    'King County, Skagit County, Whatcom County, Kitsap County, '+\\\n",
    "        'Pierce County, Thurston County, Island County, Washington':\\\n",
    "        'King Skagit Whatcom Kitsap Pierce Thurston Island',\n",
    "    'King County, Washington':'King',\n",
    "    'Washington: Snohomish County;':'Snohomish',\n",
    "    'Washington: Stevens County, Lincoln County, Adams County, Whitman '+\\\n",
    "        'County, Spokane County; Idaho: Bonner County, Kootenai County, '+\\\n",
    "        'Shoshone County, Benewah County, Idaho County;':\\\n",
    "        'Stevens Lincoln Adams Whitman Spokane',\n",
    "    'Washington: King County, Whatcom County, Kitsap County, '+\\\n",
    "        'Skagit County;':\\\n",
    "        'King Whatcom Kitsap Skagit',\n",
    "    'Washington: Clark County;':'Clark',\n",
    "    'Washington: King County;':'King',\n",
    "    'Washington:':'WA',\n",
    "    'Washington: Montana:':'WA',\n",
    "    'Washington: Whatcom County; Montana:':'Whatcom',\n",
    "    'Washington: Island County, King County, Kitsap County, Thurston '+\\\n",
    "        'County, Skagit County, Whatcom County;':\\\n",
    "        'Island King Kitsap Thurston Skagit Whatcom',\n",
    "    'Washington: King County, Kitsap County, Island County, Pierce '+\\\n",
    "        'County, Thurston County, Whatcom County, Skagit County, '+\\\n",
    "        'Kittitas County;':\\\n",
    "        'King Kitsap Island Pierce Thurston Whatcom Skagit Kittitas',\n",
    "    'Washington: Skagit County, Snohomish County, King County, Kitsap '+\\\n",
    "        'County, Island County;':\\\n",
    "        'Skagit Snohomish King Kitsap Island'\n",
    "}"
   ]
  },
  {
   "cell_type": "code",
   "execution_count": 9,
   "metadata": {},
   "outputs": [
    {
     "name": "stderr",
     "output_type": "stream",
     "text": [
      "C:\\ProgramData\\Anaconda3\\lib\\site-packages\\pandas\\core\\indexing.py:494: SettingWithCopyWarning: \n",
      "A value is trying to be set on a copy of a slice from a DataFrame.\n",
      "Try using .loc[row_indexer,col_indexer] = value instead\n",
      "\n",
      "See the caveats in the documentation: http://pandas.pydata.org/pandas-docs/stable/user_guide/indexing.html#returning-a-view-versus-a-copy\n",
      "  self.obj[item] = s\n"
     ]
    }
   ],
   "source": [
    "# format Area Affected\n",
    "\n",
    "wa.loc[:,'Area Affected'] = wa['Area Affected'].map(\n",
    "    wa_cty_dict).apply(lambda s:s.split())"
   ]
  },
  {
   "cell_type": "code",
   "execution_count": 10,
   "metadata": {},
   "outputs": [],
   "source": [
    "wa = wa.reset_index()\n",
    "\n",
    "# remove ongoings and . . s from restoration d&t\n",
    "rem_ong = lambda t: np.nan if ('ongoing' in t) or \\\n",
    "    ('.        .' in t) else t\n",
    "wa.loc[:,'Restoration Date and Time'] = \\\n",
    "    wa['Restoration Date and Time'].map(rem_ong)"
   ]
  },
  {
   "cell_type": "code",
   "execution_count": 11,
   "metadata": {},
   "outputs": [],
   "source": [
    "# adapt for new nans in restoration d&t\n",
    "\n",
    "for row in wa.index:\n",
    "    if (wa.loc[row, 'Restoration Date and Time'] is np.nan):\n",
    "        wa.loc[row, 'Restoration Date and Time'] = \\\n",
    "            wa.loc[row, 'Event Date and Time']"
   ]
  },
  {
   "cell_type": "code",
   "execution_count": 12,
   "metadata": {},
   "outputs": [],
   "source": [
    "# to_datetime date and time values\n",
    "wa.loc[:,'Event Date and Time'] = pd.to_datetime(wa['Event Date and Time'])\n",
    "wa.loc[:,'Restoration Date and Time'] = \\\n",
    "    pd.to_datetime(wa['Restoration Date and Time'])"
   ]
  },
  {
   "cell_type": "code",
   "execution_count": 14,
   "metadata": {},
   "outputs": [],
   "source": [
    "# reorder columns for convenience in next block \n",
    "\n",
    "cols = list(wa.columns)\n",
    "cols.remove('Area Affected')\n",
    "wa = wa[['Area Affected']+cols]"
   ]
  },
  {
   "cell_type": "code",
   "execution_count": 17,
   "metadata": {},
   "outputs": [],
   "source": [
    "# multiply rows with multiple affected counties\n",
    "\n",
    "# adapted from piRSquared at stackoverflow.com/questions/50217968\n",
    "wa = pd.DataFrame([\n",
    "    [aa] + _ for AA, *_ in wa.values\n",
    "    for aa in AA\n",
    "], columns=wa.columns)"
   ]
  },
  {
   "cell_type": "code",
   "execution_count": 73,
   "metadata": {},
   "outputs": [],
   "source": [
    "# save wa\n",
    "\n",
    "wa.to_csv('washington_outages.csv', index=False)"
   ]
  },
  {
   "cell_type": "code",
   "execution_count": 26,
   "metadata": {},
   "outputs": [],
   "source": [
    "# format query\n",
    "\n",
    "def custom_query(near, begin, end, terms = '', pools=10):\n",
    "    \n",
    "    time.sleep(1)\n",
    "    \n",
    "    if 'WA' not in near:\n",
    "        near += ' County, WA' # format counties properly\n",
    "        \n",
    "    begin = begin.to_pydatetime().date()\n",
    "    end = end.to_pydatetime().date() + datetime.timedelta(days=1)\n",
    "    # account for short outages, aftertalk\n",
    "        \n",
    "    tweets = query_tweets(f'{terms} near:\"{near}\"', pools,\n",
    "                          begindate=begin, enddate=end)\n",
    "    \n",
    "    return tweets"
   ]
  },
  {
   "cell_type": "code",
   "execution_count": 75,
   "metadata": {},
   "outputs": [
    {
     "name": "stderr",
     "output_type": "stream",
     "text": [
      "INFO: queries: ['blackout OR outage OR power near:\"King County, WA\" since:2012-01-19 until:2012-01-20', 'blackout OR outage OR power near:\"King County, WA\" since:2012-01-20 until:2012-01-21']\n",
      "INFO: Got 12 tweets (12 new).\n",
      "INFO: Got 28 tweets (16 new).\n"
     ]
    },
    {
     "name": "stdout",
     "output_type": "stream",
     "text": [
      "0\n"
     ]
    },
    {
     "name": "stderr",
     "output_type": "stream",
     "text": [
      "INFO: queries: ['blackout OR outage OR power near:\"Pierce County, WA\" since:2012-01-19 until:2012-01-20', 'blackout OR outage OR power near:\"Pierce County, WA\" since:2012-01-20 until:2012-01-21']\n",
      "INFO: Got 20 tweets (20 new).\n",
      "INFO: Got 40 tweets (20 new).\n"
     ]
    },
    {
     "name": "stdout",
     "output_type": "stream",
     "text": [
      "1\n"
     ]
    },
    {
     "name": "stderr",
     "output_type": "stream",
     "text": [
      "INFO: queries: ['blackout OR outage OR power near:\"Thurston County, WA\" since:2012-01-19 until:2012-01-20', 'blackout OR outage OR power near:\"Thurston County, WA\" since:2012-01-20 until:2012-01-21']\n",
      "INFO: Got 14 tweets (14 new).\n",
      "INFO: Got 33 tweets (19 new).\n"
     ]
    },
    {
     "name": "stdout",
     "output_type": "stream",
     "text": [
      "2\n"
     ]
    },
    {
     "name": "stderr",
     "output_type": "stream",
     "text": [
      "INFO: queries: ['blackout OR outage OR power near:\"WA\" since:2013-05-09 until:2013-05-10']\n",
      "INFO: Got 0 tweets (0 new).\n"
     ]
    },
    {
     "name": "stdout",
     "output_type": "stream",
     "text": [
      "3\n"
     ]
    },
    {
     "name": "stderr",
     "output_type": "stream",
     "text": [
      "INFO: queries: ['blackout OR outage OR power near:\"King County, WA\" since:2013-11-02 until:2013-11-03', 'blackout OR outage OR power near:\"King County, WA\" since:2013-11-03 until:2013-11-04', 'blackout OR outage OR power near:\"King County, WA\" since:2013-11-04 until:2013-11-05']\n",
      "INFO: Got 6 tweets (6 new).\n",
      "INFO: Got 10 tweets (4 new).\n",
      "INFO: Got 10 tweets (0 new).\n"
     ]
    },
    {
     "name": "stdout",
     "output_type": "stream",
     "text": [
      "4\n"
     ]
    },
    {
     "name": "stderr",
     "output_type": "stream",
     "text": [
      "INFO: queries: ['blackout OR outage OR power near:\"Whatcom County, WA\" since:2013-11-02 until:2013-11-03', 'blackout OR outage OR power near:\"Whatcom County, WA\" since:2013-11-03 until:2013-11-04', 'blackout OR outage OR power near:\"Whatcom County, WA\" since:2013-11-04 until:2013-11-05']\n",
      "INFO: Got 0 tweets (0 new).\n",
      "INFO: Got 0 tweets (0 new).\n",
      "INFO: Got 0 tweets (0 new).\n"
     ]
    },
    {
     "name": "stdout",
     "output_type": "stream",
     "text": [
      "5\n"
     ]
    },
    {
     "name": "stderr",
     "output_type": "stream",
     "text": [
      "INFO: queries: ['blackout OR outage OR power near:\"Skagit County, WA\" since:2013-11-02 until:2013-11-03', 'blackout OR outage OR power near:\"Skagit County, WA\" since:2013-11-03 until:2013-11-04', 'blackout OR outage OR power near:\"Skagit County, WA\" since:2013-11-04 until:2013-11-05']\n",
      "INFO: Got 0 tweets (0 new).\n",
      "INFO: Got 0 tweets (0 new).\n",
      "INFO: Got 0 tweets (0 new).\n"
     ]
    },
    {
     "name": "stdout",
     "output_type": "stream",
     "text": [
      "6\n"
     ]
    },
    {
     "name": "stderr",
     "output_type": "stream",
     "text": [
      "INFO: queries: ['blackout OR outage OR power near:\"King County, WA\" since:2014-10-25 until:2014-10-26']\n",
      "INFO: Got 0 tweets (0 new).\n"
     ]
    },
    {
     "name": "stdout",
     "output_type": "stream",
     "text": [
      "7\n"
     ]
    },
    {
     "name": "stderr",
     "output_type": "stream",
     "text": [
      "INFO: queries: ['blackout OR outage OR power near:\"Thurston County, WA\" since:2014-10-25 until:2014-10-26']\n",
      "INFO: Got 2 tweets (2 new).\n"
     ]
    },
    {
     "name": "stdout",
     "output_type": "stream",
     "text": [
      "8\n"
     ]
    },
    {
     "name": "stderr",
     "output_type": "stream",
     "text": [
      "INFO: queries: ['blackout OR outage OR power near:\"Kitsap County, WA\" since:2014-10-25 until:2014-10-26']\n",
      "INFO: Got 0 tweets (0 new).\n"
     ]
    },
    {
     "name": "stdout",
     "output_type": "stream",
     "text": [
      "9\n"
     ]
    },
    {
     "name": "stderr",
     "output_type": "stream",
     "text": [
      "INFO: queries: ['blackout OR outage OR power near:\"WA\" since:2014-11-11 until:2014-11-12', 'blackout OR outage OR power near:\"WA\" since:2014-11-12 until:2014-11-13', 'blackout OR outage OR power near:\"WA\" since:2014-11-13 until:2014-11-14', 'blackout OR outage OR power near:\"WA\" since:2014-11-14 until:2014-11-15']\n",
      "INFO: Got 0 tweets (0 new).\n",
      "INFO: Got 0 tweets (0 new).\n",
      "INFO: Got 0 tweets (0 new).\n",
      "INFO: Got 0 tweets (0 new).\n"
     ]
    },
    {
     "name": "stdout",
     "output_type": "stream",
     "text": [
      "10\n"
     ]
    },
    {
     "name": "stderr",
     "output_type": "stream",
     "text": [
      "INFO: queries: ['blackout OR outage OR power near:\"King County, WA\" since:2014-12-11 until:2014-12-12', 'blackout OR outage OR power near:\"King County, WA\" since:2014-12-12 until:2014-12-13']\n",
      "INFO: Got 6 tweets (6 new).\n",
      "INFO: Got 6 tweets (0 new).\n"
     ]
    },
    {
     "name": "stdout",
     "output_type": "stream",
     "text": [
      "11\n"
     ]
    },
    {
     "name": "stderr",
     "output_type": "stream",
     "text": [
      "INFO: queries: ['blackout OR outage OR power near:\"Thurston County, WA\" since:2014-12-11 until:2014-12-12', 'blackout OR outage OR power near:\"Thurston County, WA\" since:2014-12-12 until:2014-12-13']\n",
      "INFO: Got 20 tweets (20 new).\n",
      "INFO: Got 20 tweets (0 new).\n"
     ]
    },
    {
     "name": "stdout",
     "output_type": "stream",
     "text": [
      "12\n"
     ]
    },
    {
     "name": "stderr",
     "output_type": "stream",
     "text": [
      "INFO: queries: ['blackout OR outage OR power near:\"Whatcom County, WA\" since:2014-12-11 until:2014-12-12', 'blackout OR outage OR power near:\"Whatcom County, WA\" since:2014-12-12 until:2014-12-13']\n",
      "INFO: Got 0 tweets (0 new).\n",
      "INFO: Got 0 tweets (0 new).\n"
     ]
    },
    {
     "name": "stdout",
     "output_type": "stream",
     "text": [
      "13\n"
     ]
    },
    {
     "name": "stderr",
     "output_type": "stream",
     "text": [
      "INFO: queries: ['blackout OR outage OR power near:\"WA\" since:2015-05-18 until:2015-05-19']\n",
      "INFO: Got 0 tweets (0 new).\n"
     ]
    },
    {
     "name": "stdout",
     "output_type": "stream",
     "text": [
      "14\n"
     ]
    },
    {
     "name": "stderr",
     "output_type": "stream",
     "text": [
      "INFO: queries: ['blackout OR outage OR power near:\"WA\" since:2015-06-29 until:2015-06-30']\n",
      "INFO: Got 0 tweets (0 new).\n"
     ]
    },
    {
     "name": "stdout",
     "output_type": "stream",
     "text": [
      "15\n"
     ]
    },
    {
     "name": "stderr",
     "output_type": "stream",
     "text": [
      "INFO: queries: ['blackout OR outage OR power near:\"WA\" since:2015-07-21 until:2015-07-22']\n",
      "INFO: Got 0 tweets (0 new).\n"
     ]
    },
    {
     "name": "stdout",
     "output_type": "stream",
     "text": [
      "16\n"
     ]
    },
    {
     "name": "stderr",
     "output_type": "stream",
     "text": [
      "INFO: queries: ['blackout OR outage OR power near:\"WA\" since:2015-07-31 until:2015-08-01']\n",
      "INFO: Got 0 tweets (0 new).\n"
     ]
    },
    {
     "name": "stdout",
     "output_type": "stream",
     "text": [
      "17\n"
     ]
    },
    {
     "name": "stderr",
     "output_type": "stream",
     "text": [
      "INFO: queries: ['blackout OR outage OR power near:\"WA\" since:2015-08-29 until:2015-08-30']\n",
      "INFO: Got 0 tweets (0 new).\n"
     ]
    },
    {
     "name": "stdout",
     "output_type": "stream",
     "text": [
      "18\n"
     ]
    },
    {
     "name": "stderr",
     "output_type": "stream",
     "text": [
      "INFO: queries: ['blackout OR outage OR power near:\"King County, WA\" since:2015-08-29 until:2015-08-30', 'blackout OR outage OR power near:\"King County, WA\" since:2015-08-30 until:2015-08-31', 'blackout OR outage OR power near:\"King County, WA\" since:2015-08-31 until:2015-09-01', 'blackout OR outage OR power near:\"King County, WA\" since:2015-09-01 until:2015-09-02', 'blackout OR outage OR power near:\"King County, WA\" since:2015-09-02 until:2015-09-03', 'blackout OR outage OR power near:\"King County, WA\" since:2015-09-03 until:2015-09-04', 'blackout OR outage OR power near:\"King County, WA\" since:2015-09-04 until:2015-09-05']\n",
      "INFO: Got 1 tweets (1 new).\n",
      "INFO: Got 1 tweets (0 new).\n",
      "INFO: Got 1 tweets (0 new).\n",
      "INFO: Got 1 tweets (0 new).\n",
      "INFO: Got 1 tweets (0 new).\n",
      "INFO: Got 1 tweets (0 new).\n",
      "INFO: Got 1 tweets (0 new).\n"
     ]
    },
    {
     "name": "stdout",
     "output_type": "stream",
     "text": [
      "19\n"
     ]
    },
    {
     "name": "stderr",
     "output_type": "stream",
     "text": [
      "INFO: queries: ['blackout OR outage OR power near:\"Skagit County, WA\" since:2015-08-29 until:2015-08-30', 'blackout OR outage OR power near:\"Skagit County, WA\" since:2015-08-30 until:2015-08-31', 'blackout OR outage OR power near:\"Skagit County, WA\" since:2015-08-31 until:2015-09-01', 'blackout OR outage OR power near:\"Skagit County, WA\" since:2015-09-01 until:2015-09-02', 'blackout OR outage OR power near:\"Skagit County, WA\" since:2015-09-02 until:2015-09-03', 'blackout OR outage OR power near:\"Skagit County, WA\" since:2015-09-03 until:2015-09-04', 'blackout OR outage OR power near:\"Skagit County, WA\" since:2015-09-04 until:2015-09-05']\n",
      "INFO: Got 0 tweets (0 new).\n",
      "INFO: Got 0 tweets (0 new).\n",
      "INFO: Got 0 tweets (0 new).\n",
      "INFO: Got 0 tweets (0 new).\n",
      "INFO: Got 0 tweets (0 new).\n",
      "INFO: Got 0 tweets (0 new).\n",
      "INFO: Got 0 tweets (0 new).\n"
     ]
    },
    {
     "name": "stdout",
     "output_type": "stream",
     "text": [
      "20\n"
     ]
    },
    {
     "name": "stderr",
     "output_type": "stream",
     "text": [
      "INFO: queries: ['blackout OR outage OR power near:\"Whatcom County, WA\" since:2015-08-29 until:2015-08-30', 'blackout OR outage OR power near:\"Whatcom County, WA\" since:2015-08-30 until:2015-08-31', 'blackout OR outage OR power near:\"Whatcom County, WA\" since:2015-08-31 until:2015-09-01', 'blackout OR outage OR power near:\"Whatcom County, WA\" since:2015-09-01 until:2015-09-02', 'blackout OR outage OR power near:\"Whatcom County, WA\" since:2015-09-02 until:2015-09-03', 'blackout OR outage OR power near:\"Whatcom County, WA\" since:2015-09-03 until:2015-09-04', 'blackout OR outage OR power near:\"Whatcom County, WA\" since:2015-09-04 until:2015-09-05']\n",
      "INFO: Got 0 tweets (0 new).\n",
      "INFO: Got 0 tweets (0 new).\n",
      "INFO: Got 0 tweets (0 new).\n",
      "INFO: Got 0 tweets (0 new).\n",
      "INFO: Got 0 tweets (0 new).\n",
      "INFO: Got 0 tweets (0 new).\n",
      "INFO: Got 0 tweets (0 new).\n"
     ]
    },
    {
     "name": "stdout",
     "output_type": "stream",
     "text": [
      "21\n"
     ]
    },
    {
     "name": "stderr",
     "output_type": "stream",
     "text": [
      "INFO: queries: ['blackout OR outage OR power near:\"Kitsap County, WA\" since:2015-08-29 until:2015-08-30', 'blackout OR outage OR power near:\"Kitsap County, WA\" since:2015-08-30 until:2015-08-31', 'blackout OR outage OR power near:\"Kitsap County, WA\" since:2015-08-31 until:2015-09-01', 'blackout OR outage OR power near:\"Kitsap County, WA\" since:2015-09-01 until:2015-09-02', 'blackout OR outage OR power near:\"Kitsap County, WA\" since:2015-09-02 until:2015-09-03', 'blackout OR outage OR power near:\"Kitsap County, WA\" since:2015-09-03 until:2015-09-04', 'blackout OR outage OR power near:\"Kitsap County, WA\" since:2015-09-04 until:2015-09-05']\n",
      "INFO: Got 1 tweets (1 new).\n",
      "INFO: Got 5 tweets (4 new).\n",
      "INFO: Got 5 tweets (0 new).\n",
      "INFO: Got 5 tweets (0 new).\n",
      "INFO: Got 5 tweets (0 new).\n",
      "INFO: Got 5 tweets (0 new).\n",
      "INFO: Got 5 tweets (0 new).\n"
     ]
    },
    {
     "name": "stdout",
     "output_type": "stream",
     "text": [
      "22\n"
     ]
    },
    {
     "name": "stderr",
     "output_type": "stream",
     "text": [
      "INFO: queries: ['blackout OR outage OR power near:\"Pierce County, WA\" since:2015-08-29 until:2015-08-30', 'blackout OR outage OR power near:\"Pierce County, WA\" since:2015-08-30 until:2015-08-31', 'blackout OR outage OR power near:\"Pierce County, WA\" since:2015-08-31 until:2015-09-01', 'blackout OR outage OR power near:\"Pierce County, WA\" since:2015-09-01 until:2015-09-02', 'blackout OR outage OR power near:\"Pierce County, WA\" since:2015-09-02 until:2015-09-03', 'blackout OR outage OR power near:\"Pierce County, WA\" since:2015-09-03 until:2015-09-04', 'blackout OR outage OR power near:\"Pierce County, WA\" since:2015-09-04 until:2015-09-05']\n",
      "INFO: Got 1 tweets (1 new).\n",
      "INFO: Got 5 tweets (4 new).\n",
      "INFO: Got 5 tweets (0 new).\n",
      "INFO: Got 5 tweets (0 new).\n",
      "INFO: Got 5 tweets (0 new).\n",
      "INFO: Got 5 tweets (0 new).\n",
      "INFO: Got 5 tweets (0 new).\n"
     ]
    },
    {
     "name": "stdout",
     "output_type": "stream",
     "text": [
      "23\n"
     ]
    },
    {
     "name": "stderr",
     "output_type": "stream",
     "text": [
      "INFO: queries: ['blackout OR outage OR power near:\"Thurston County, WA\" since:2015-08-29 until:2015-08-30', 'blackout OR outage OR power near:\"Thurston County, WA\" since:2015-08-30 until:2015-08-31', 'blackout OR outage OR power near:\"Thurston County, WA\" since:2015-08-31 until:2015-09-01', 'blackout OR outage OR power near:\"Thurston County, WA\" since:2015-09-01 until:2015-09-02', 'blackout OR outage OR power near:\"Thurston County, WA\" since:2015-09-02 until:2015-09-03', 'blackout OR outage OR power near:\"Thurston County, WA\" since:2015-09-03 until:2015-09-04', 'blackout OR outage OR power near:\"Thurston County, WA\" since:2015-09-04 until:2015-09-05']\n",
      "INFO: Got 1 tweets (1 new).\n",
      "INFO: Got 3 tweets (2 new).\n",
      "INFO: Got 3 tweets (0 new).\n",
      "INFO: Got 3 tweets (0 new).\n",
      "INFO: Got 3 tweets (0 new).\n",
      "INFO: Got 3 tweets (0 new).\n",
      "INFO: Got 3 tweets (0 new).\n"
     ]
    },
    {
     "name": "stdout",
     "output_type": "stream",
     "text": [
      "24\n"
     ]
    },
    {
     "name": "stderr",
     "output_type": "stream",
     "text": [
      "INFO: queries: ['blackout OR outage OR power near:\"Island County, WA\" since:2015-08-29 until:2015-08-30', 'blackout OR outage OR power near:\"Island County, WA\" since:2015-08-30 until:2015-08-31', 'blackout OR outage OR power near:\"Island County, WA\" since:2015-08-31 until:2015-09-01', 'blackout OR outage OR power near:\"Island County, WA\" since:2015-09-01 until:2015-09-02', 'blackout OR outage OR power near:\"Island County, WA\" since:2015-09-02 until:2015-09-03', 'blackout OR outage OR power near:\"Island County, WA\" since:2015-09-03 until:2015-09-04', 'blackout OR outage OR power near:\"Island County, WA\" since:2015-09-04 until:2015-09-05']\n",
      "INFO: Got 1 tweets (1 new).\n",
      "INFO: Got 19 tweets (18 new).\n",
      "INFO: Got 19 tweets (0 new).\n",
      "INFO: Got 19 tweets (0 new).\n",
      "INFO: Got 19 tweets (0 new).\n",
      "INFO: Got 19 tweets (0 new).\n",
      "INFO: Got 19 tweets (0 new).\n"
     ]
    },
    {
     "name": "stdout",
     "output_type": "stream",
     "text": [
      "25\n"
     ]
    },
    {
     "name": "stderr",
     "output_type": "stream",
     "text": [
      "INFO: queries: ['blackout OR outage OR power near:\"King County, WA\" since:2015-08-29 until:2015-08-30', 'blackout OR outage OR power near:\"King County, WA\" since:2015-08-30 until:2015-08-31', 'blackout OR outage OR power near:\"King County, WA\" since:2015-08-31 until:2015-09-01']\n",
      "INFO: Got 2 tweets (2 new).\n",
      "INFO: Got 2 tweets (0 new).\n",
      "INFO: Got 2 tweets (0 new).\n"
     ]
    },
    {
     "name": "stdout",
     "output_type": "stream",
     "text": [
      "26\n"
     ]
    },
    {
     "name": "stderr",
     "output_type": "stream",
     "text": [
      "INFO: queries: ['blackout OR outage OR power near:\"Snohomish County, WA\" since:2015-11-17 until:2015-11-18']\n",
      "INFO: Got 0 tweets (0 new).\n"
     ]
    },
    {
     "name": "stdout",
     "output_type": "stream",
     "text": [
      "27\n"
     ]
    },
    {
     "name": "stderr",
     "output_type": "stream",
     "text": [
      "INFO: queries: ['blackout OR outage OR power near:\"WA\" since:2015-11-17 until:2015-11-18']\n",
      "INFO: Got 0 tweets (0 new).\n"
     ]
    },
    {
     "name": "stdout",
     "output_type": "stream",
     "text": [
      "28\n"
     ]
    },
    {
     "name": "stderr",
     "output_type": "stream",
     "text": [
      "INFO: queries: ['blackout OR outage OR power near:\"Stevens County, WA\" since:2015-11-17 until:2015-11-18']\n",
      "INFO: Got 0 tweets (0 new).\n"
     ]
    },
    {
     "name": "stdout",
     "output_type": "stream",
     "text": [
      "29\n"
     ]
    },
    {
     "name": "stderr",
     "output_type": "stream",
     "text": [
      "INFO: queries: ['blackout OR outage OR power near:\"Lincoln County, WA\" since:2015-11-17 until:2015-11-18']\n",
      "INFO: Got 18 tweets (18 new).\n"
     ]
    },
    {
     "name": "stdout",
     "output_type": "stream",
     "text": [
      "30\n"
     ]
    },
    {
     "name": "stderr",
     "output_type": "stream",
     "text": [
      "INFO: queries: ['blackout OR outage OR power near:\"Adams County, WA\" since:2015-11-17 until:2015-11-18']\n",
      "INFO: Got 18 tweets (18 new).\n"
     ]
    },
    {
     "name": "stdout",
     "output_type": "stream",
     "text": [
      "31\n"
     ]
    },
    {
     "name": "stderr",
     "output_type": "stream",
     "text": [
      "INFO: queries: ['blackout OR outage OR power near:\"Whitman County, WA\" since:2015-11-17 until:2015-11-18']\n",
      "INFO: Got 18 tweets (18 new).\n"
     ]
    },
    {
     "name": "stdout",
     "output_type": "stream",
     "text": [
      "32\n"
     ]
    },
    {
     "name": "stderr",
     "output_type": "stream",
     "text": [
      "INFO: queries: ['blackout OR outage OR power near:\"Spokane County, WA\" since:2015-11-17 until:2015-11-18']\n",
      "INFO: Got 2 tweets (2 new).\n"
     ]
    },
    {
     "name": "stdout",
     "output_type": "stream",
     "text": [
      "33\n"
     ]
    },
    {
     "name": "stderr",
     "output_type": "stream",
     "text": [
      "INFO: queries: ['blackout OR outage OR power near:\"WA\" since:2015-12-09 until:2015-12-10']\n",
      "INFO: Got 0 tweets (0 new).\n"
     ]
    },
    {
     "name": "stdout",
     "output_type": "stream",
     "text": [
      "34\n"
     ]
    },
    {
     "name": "stderr",
     "output_type": "stream",
     "text": [
      "INFO: queries: ['blackout OR outage OR power near:\"King County, WA\" since:2016-03-01 until:2016-03-02']\n",
      "INFO: Got 0 tweets (0 new).\n"
     ]
    },
    {
     "name": "stdout",
     "output_type": "stream",
     "text": [
      "35\n"
     ]
    },
    {
     "name": "stderr",
     "output_type": "stream",
     "text": [
      "INFO: queries: ['blackout OR outage OR power near:\"Whatcom County, WA\" since:2016-03-01 until:2016-03-02']\n",
      "INFO: Got 0 tweets (0 new).\n"
     ]
    },
    {
     "name": "stdout",
     "output_type": "stream",
     "text": [
      "36\n"
     ]
    },
    {
     "name": "stderr",
     "output_type": "stream",
     "text": [
      "INFO: queries: ['blackout OR outage OR power near:\"Kitsap County, WA\" since:2016-03-01 until:2016-03-02']\n",
      "INFO: Got 0 tweets (0 new).\n"
     ]
    },
    {
     "name": "stdout",
     "output_type": "stream",
     "text": [
      "37\n"
     ]
    },
    {
     "name": "stderr",
     "output_type": "stream",
     "text": [
      "INFO: queries: ['blackout OR outage OR power near:\"Skagit County, WA\" since:2016-03-01 until:2016-03-02']\n",
      "INFO: Got 0 tweets (0 new).\n"
     ]
    },
    {
     "name": "stdout",
     "output_type": "stream",
     "text": [
      "38\n"
     ]
    },
    {
     "name": "stderr",
     "output_type": "stream",
     "text": [
      "INFO: queries: ['blackout OR outage OR power near:\"Clark County, WA\" since:2016-05-08 until:2016-05-09']\n",
      "INFO: Got 0 tweets (0 new).\n"
     ]
    },
    {
     "name": "stdout",
     "output_type": "stream",
     "text": [
      "39\n"
     ]
    },
    {
     "name": "stderr",
     "output_type": "stream",
     "text": [
      "INFO: queries: ['blackout OR outage OR power near:\"King County, WA\" since:2016-08-24 until:2016-08-25']\n",
      "INFO: Got 0 tweets (0 new).\n"
     ]
    },
    {
     "name": "stdout",
     "output_type": "stream",
     "text": [
      "40\n"
     ]
    },
    {
     "name": "stderr",
     "output_type": "stream",
     "text": [
      "INFO: queries: ['blackout OR outage OR power near:\"Clark County, WA\" since:2016-08-31 until:2016-09-01']\n",
      "INFO: Got 0 tweets (0 new).\n"
     ]
    },
    {
     "name": "stdout",
     "output_type": "stream",
     "text": [
      "41\n"
     ]
    },
    {
     "name": "stderr",
     "output_type": "stream",
     "text": [
      "INFO: queries: ['blackout OR outage OR power near:\"Clark County, WA\" since:2016-09-06 until:2016-09-07']\n",
      "INFO: Got 0 tweets (0 new).\n"
     ]
    },
    {
     "name": "stdout",
     "output_type": "stream",
     "text": [
      "42\n"
     ]
    },
    {
     "name": "stderr",
     "output_type": "stream",
     "text": [
      "INFO: queries: ['blackout OR outage OR power near:\"WA\" since:2016-09-08 until:2016-09-09']\n",
      "INFO: Got 0 tweets (0 new).\n"
     ]
    },
    {
     "name": "stdout",
     "output_type": "stream",
     "text": [
      "43\n"
     ]
    },
    {
     "name": "stderr",
     "output_type": "stream",
     "text": [
      "INFO: queries: ['blackout OR outage OR power near:\"Clark County, WA\" since:2016-09-10 until:2016-09-11']\n",
      "INFO: Got 0 tweets (0 new).\n"
     ]
    },
    {
     "name": "stdout",
     "output_type": "stream",
     "text": [
      "44\n"
     ]
    },
    {
     "name": "stderr",
     "output_type": "stream",
     "text": [
      "INFO: queries: ['blackout OR outage OR power near:\"WA\" since:2017-10-16 until:2017-10-17']\n",
      "INFO: Got 0 tweets (0 new).\n"
     ]
    },
    {
     "name": "stdout",
     "output_type": "stream",
     "text": [
      "45\n"
     ]
    },
    {
     "name": "stderr",
     "output_type": "stream",
     "text": [
      "INFO: queries: ['blackout OR outage OR power near:\"WA\" since:2017-10-16 until:2017-10-17']\n",
      "INFO: Got 0 tweets (0 new).\n"
     ]
    },
    {
     "name": "stdout",
     "output_type": "stream",
     "text": [
      "46\n"
     ]
    },
    {
     "name": "stderr",
     "output_type": "stream",
     "text": [
      "INFO: queries: ['blackout OR outage OR power near:\"WA\" since:2017-10-20 until:2017-10-21']\n",
      "INFO: Got 0 tweets (0 new).\n"
     ]
    },
    {
     "name": "stdout",
     "output_type": "stream",
     "text": [
      "47\n"
     ]
    },
    {
     "name": "stderr",
     "output_type": "stream",
     "text": [
      "INFO: queries: ['blackout OR outage OR power near:\"Clark County, WA\" since:2017-10-26 until:2017-10-27']\n",
      "INFO: Got 0 tweets (0 new).\n"
     ]
    },
    {
     "name": "stdout",
     "output_type": "stream",
     "text": [
      "48\n"
     ]
    },
    {
     "name": "stderr",
     "output_type": "stream",
     "text": [
      "INFO: queries: ['blackout OR outage OR power near:\"Whatcom County, WA\" since:2017-10-26 until:2017-10-27']\n",
      "INFO: Got 0 tweets (0 new).\n"
     ]
    },
    {
     "name": "stdout",
     "output_type": "stream",
     "text": [
      "49\n"
     ]
    },
    {
     "name": "stderr",
     "output_type": "stream",
     "text": [
      "INFO: queries: ['blackout OR outage OR power near:\"Island County, WA\" since:2017-11-13 until:2017-11-14', 'blackout OR outage OR power near:\"Island County, WA\" since:2017-11-14 until:2017-11-15', 'blackout OR outage OR power near:\"Island County, WA\" since:2017-11-15 until:2017-11-16']\n",
      "INFO: Got 0 tweets (0 new).\n",
      "INFO: Got 0 tweets (0 new).\n",
      "INFO: Got 0 tweets (0 new).\n"
     ]
    },
    {
     "name": "stdout",
     "output_type": "stream",
     "text": [
      "50\n"
     ]
    },
    {
     "name": "stderr",
     "output_type": "stream",
     "text": [
      "INFO: queries: ['blackout OR outage OR power near:\"King County, WA\" since:2017-11-13 until:2017-11-14', 'blackout OR outage OR power near:\"King County, WA\" since:2017-11-14 until:2017-11-15', 'blackout OR outage OR power near:\"King County, WA\" since:2017-11-15 until:2017-11-16']\n",
      "INFO: Got 2 tweets (2 new).\n",
      "INFO: Got 2 tweets (0 new).\n",
      "INFO: Got 2 tweets (0 new).\n"
     ]
    },
    {
     "name": "stdout",
     "output_type": "stream",
     "text": [
      "51\n"
     ]
    },
    {
     "name": "stderr",
     "output_type": "stream",
     "text": [
      "INFO: queries: ['blackout OR outage OR power near:\"Kitsap County, WA\" since:2017-11-13 until:2017-11-14', 'blackout OR outage OR power near:\"Kitsap County, WA\" since:2017-11-14 until:2017-11-15', 'blackout OR outage OR power near:\"Kitsap County, WA\" since:2017-11-15 until:2017-11-16']\n",
      "INFO: Got 0 tweets (0 new).\n",
      "INFO: Got 0 tweets (0 new).\n",
      "INFO: Got 0 tweets (0 new).\n"
     ]
    },
    {
     "name": "stdout",
     "output_type": "stream",
     "text": [
      "52\n"
     ]
    },
    {
     "name": "stderr",
     "output_type": "stream",
     "text": [
      "INFO: queries: ['blackout OR outage OR power near:\"Thurston County, WA\" since:2017-11-13 until:2017-11-14', 'blackout OR outage OR power near:\"Thurston County, WA\" since:2017-11-14 until:2017-11-15', 'blackout OR outage OR power near:\"Thurston County, WA\" since:2017-11-15 until:2017-11-16']\n",
      "INFO: Got 2 tweets (2 new).\n",
      "INFO: Got 2 tweets (0 new).\n",
      "INFO: Got 2 tweets (0 new).\n"
     ]
    },
    {
     "name": "stdout",
     "output_type": "stream",
     "text": [
      "53\n"
     ]
    },
    {
     "name": "stderr",
     "output_type": "stream",
     "text": [
      "INFO: queries: ['blackout OR outage OR power near:\"Skagit County, WA\" since:2017-11-13 until:2017-11-14', 'blackout OR outage OR power near:\"Skagit County, WA\" since:2017-11-14 until:2017-11-15', 'blackout OR outage OR power near:\"Skagit County, WA\" since:2017-11-15 until:2017-11-16']\n",
      "INFO: Got 0 tweets (0 new).\n",
      "INFO: Got 0 tweets (0 new).\n",
      "INFO: Got 0 tweets (0 new).\n"
     ]
    },
    {
     "name": "stdout",
     "output_type": "stream",
     "text": [
      "54\n"
     ]
    },
    {
     "name": "stderr",
     "output_type": "stream",
     "text": [
      "INFO: queries: ['blackout OR outage OR power near:\"Whatcom County, WA\" since:2017-11-13 until:2017-11-14', 'blackout OR outage OR power near:\"Whatcom County, WA\" since:2017-11-14 until:2017-11-15', 'blackout OR outage OR power near:\"Whatcom County, WA\" since:2017-11-15 until:2017-11-16']\n",
      "INFO: Got 0 tweets (0 new).\n",
      "INFO: Got 0 tweets (0 new).\n",
      "INFO: Got 0 tweets (0 new).\n"
     ]
    },
    {
     "name": "stdout",
     "output_type": "stream",
     "text": [
      "55\n"
     ]
    },
    {
     "name": "stderr",
     "output_type": "stream",
     "text": [
      "INFO: queries: ['blackout OR outage OR power near:\"King County, WA\" since:2017-11-13 until:2017-11-14', 'blackout OR outage OR power near:\"King County, WA\" since:2017-11-14 until:2017-11-15', 'blackout OR outage OR power near:\"King County, WA\" since:2017-11-15 until:2017-11-16', 'blackout OR outage OR power near:\"King County, WA\" since:2017-11-16 until:2017-11-17']\n",
      "INFO: Got 2 tweets (2 new).\n",
      "INFO: Got 2 tweets (0 new).\n",
      "INFO: Got 2 tweets (0 new).\n",
      "INFO: Got 2 tweets (0 new).\n"
     ]
    },
    {
     "name": "stdout",
     "output_type": "stream",
     "text": [
      "56\n"
     ]
    },
    {
     "name": "stderr",
     "output_type": "stream",
     "text": [
      "INFO: queries: ['blackout OR outage OR power near:\"WA\" since:2018-06-22 until:2018-06-23']\n",
      "INFO: Got 0 tweets (0 new).\n"
     ]
    },
    {
     "name": "stdout",
     "output_type": "stream",
     "text": [
      "57\n"
     ]
    },
    {
     "name": "stderr",
     "output_type": "stream",
     "text": [
      "INFO: queries: ['blackout OR outage OR power near:\"Clark County, WA\" since:2018-07-27 until:2018-07-28']\n",
      "INFO: Got 0 tweets (0 new).\n"
     ]
    },
    {
     "name": "stdout",
     "output_type": "stream",
     "text": [
      "58\n"
     ]
    },
    {
     "name": "stderr",
     "output_type": "stream",
     "text": [
      "INFO: queries: ['blackout OR outage OR power near:\"King County, WA\" since:2018-12-14 until:2018-12-15', 'blackout OR outage OR power near:\"King County, WA\" since:2018-12-15 until:2018-12-16', 'blackout OR outage OR power near:\"King County, WA\" since:2018-12-16 until:2018-12-17', 'blackout OR outage OR power near:\"King County, WA\" since:2018-12-17 until:2018-12-18']\n",
      "INFO: Got 2 tweets (2 new).\n",
      "INFO: Got 2 tweets (0 new).\n",
      "INFO: Got 2 tweets (0 new).\n",
      "INFO: Got 2 tweets (0 new).\n"
     ]
    },
    {
     "name": "stdout",
     "output_type": "stream",
     "text": [
      "59\n"
     ]
    },
    {
     "name": "stderr",
     "output_type": "stream",
     "text": [
      "INFO: queries: ['blackout OR outage OR power near:\"Kitsap County, WA\" since:2018-12-14 until:2018-12-15', 'blackout OR outage OR power near:\"Kitsap County, WA\" since:2018-12-15 until:2018-12-16', 'blackout OR outage OR power near:\"Kitsap County, WA\" since:2018-12-16 until:2018-12-17', 'blackout OR outage OR power near:\"Kitsap County, WA\" since:2018-12-17 until:2018-12-18']\n",
      "INFO: Got 1 tweets (1 new).\n",
      "INFO: Got 1 tweets (0 new).\n",
      "INFO: Got 1 tweets (0 new).\n",
      "INFO: Got 1 tweets (0 new).\n"
     ]
    },
    {
     "name": "stdout",
     "output_type": "stream",
     "text": [
      "60\n"
     ]
    },
    {
     "name": "stderr",
     "output_type": "stream",
     "text": [
      "INFO: queries: ['blackout OR outage OR power near:\"Island County, WA\" since:2018-12-14 until:2018-12-15', 'blackout OR outage OR power near:\"Island County, WA\" since:2018-12-15 until:2018-12-16', 'blackout OR outage OR power near:\"Island County, WA\" since:2018-12-16 until:2018-12-17', 'blackout OR outage OR power near:\"Island County, WA\" since:2018-12-17 until:2018-12-18']\n",
      "INFO: Got 1 tweets (1 new).\n",
      "INFO: Got 1 tweets (0 new).\n",
      "INFO: Got 1 tweets (0 new).\n",
      "INFO: Got 1 tweets (0 new).\n"
     ]
    },
    {
     "name": "stdout",
     "output_type": "stream",
     "text": [
      "61\n"
     ]
    },
    {
     "name": "stderr",
     "output_type": "stream",
     "text": [
      "INFO: queries: ['blackout OR outage OR power near:\"Pierce County, WA\" since:2018-12-14 until:2018-12-15', 'blackout OR outage OR power near:\"Pierce County, WA\" since:2018-12-15 until:2018-12-16', 'blackout OR outage OR power near:\"Pierce County, WA\" since:2018-12-16 until:2018-12-17', 'blackout OR outage OR power near:\"Pierce County, WA\" since:2018-12-17 until:2018-12-18']\n",
      "INFO: Got 0 tweets (0 new).\n",
      "INFO: Got 0 tweets (0 new).\n",
      "INFO: Got 0 tweets (0 new).\n",
      "INFO: Got 0 tweets (0 new).\n"
     ]
    },
    {
     "name": "stdout",
     "output_type": "stream",
     "text": [
      "62\n"
     ]
    },
    {
     "name": "stderr",
     "output_type": "stream",
     "text": [
      "INFO: queries: ['blackout OR outage OR power near:\"Thurston County, WA\" since:2018-12-14 until:2018-12-15', 'blackout OR outage OR power near:\"Thurston County, WA\" since:2018-12-15 until:2018-12-16', 'blackout OR outage OR power near:\"Thurston County, WA\" since:2018-12-16 until:2018-12-17', 'blackout OR outage OR power near:\"Thurston County, WA\" since:2018-12-17 until:2018-12-18']\n",
      "INFO: Got 2 tweets (2 new).\n",
      "INFO: Got 2 tweets (0 new).\n",
      "INFO: Got 2 tweets (0 new).\n",
      "INFO: Got 2 tweets (0 new).\n"
     ]
    },
    {
     "name": "stdout",
     "output_type": "stream",
     "text": [
      "63\n"
     ]
    },
    {
     "name": "stderr",
     "output_type": "stream",
     "text": [
      "INFO: queries: ['blackout OR outage OR power near:\"Whatcom County, WA\" since:2018-12-14 until:2018-12-15', 'blackout OR outage OR power near:\"Whatcom County, WA\" since:2018-12-15 until:2018-12-16', 'blackout OR outage OR power near:\"Whatcom County, WA\" since:2018-12-16 until:2018-12-17', 'blackout OR outage OR power near:\"Whatcom County, WA\" since:2018-12-17 until:2018-12-18']\n",
      "INFO: Got 0 tweets (0 new).\n",
      "INFO: Got 0 tweets (0 new).\n",
      "INFO: Got 0 tweets (0 new).\n",
      "INFO: Got 0 tweets (0 new).\n"
     ]
    },
    {
     "name": "stdout",
     "output_type": "stream",
     "text": [
      "64\n"
     ]
    },
    {
     "name": "stderr",
     "output_type": "stream",
     "text": [
      "INFO: queries: ['blackout OR outage OR power near:\"Skagit County, WA\" since:2018-12-14 until:2018-12-15', 'blackout OR outage OR power near:\"Skagit County, WA\" since:2018-12-15 until:2018-12-16', 'blackout OR outage OR power near:\"Skagit County, WA\" since:2018-12-16 until:2018-12-17', 'blackout OR outage OR power near:\"Skagit County, WA\" since:2018-12-17 until:2018-12-18']\n",
      "INFO: Got 0 tweets (0 new).\n",
      "INFO: Got 0 tweets (0 new).\n",
      "INFO: Got 0 tweets (0 new).\n",
      "INFO: Got 0 tweets (0 new).\n"
     ]
    },
    {
     "name": "stdout",
     "output_type": "stream",
     "text": [
      "65\n"
     ]
    },
    {
     "name": "stderr",
     "output_type": "stream",
     "text": [
      "INFO: queries: ['blackout OR outage OR power near:\"Kittitas County, WA\" since:2018-12-14 until:2018-12-15', 'blackout OR outage OR power near:\"Kittitas County, WA\" since:2018-12-15 until:2018-12-16', 'blackout OR outage OR power near:\"Kittitas County, WA\" since:2018-12-16 until:2018-12-17', 'blackout OR outage OR power near:\"Kittitas County, WA\" since:2018-12-17 until:2018-12-18']\n",
      "INFO: Got 0 tweets (0 new).\n",
      "INFO: Got 0 tweets (0 new).\n",
      "INFO: Got 0 tweets (0 new).\n",
      "INFO: Got 0 tweets (0 new).\n"
     ]
    },
    {
     "name": "stdout",
     "output_type": "stream",
     "text": [
      "66\n"
     ]
    },
    {
     "name": "stderr",
     "output_type": "stream",
     "text": [
      "INFO: queries: ['blackout OR outage OR power near:\"Snohomish County, WA\" since:2018-12-14 until:2018-12-15']\n",
      "INFO: Got 0 tweets (0 new).\n"
     ]
    },
    {
     "name": "stdout",
     "output_type": "stream",
     "text": [
      "67\n"
     ]
    },
    {
     "name": "stderr",
     "output_type": "stream",
     "text": [
      "INFO: queries: ['blackout OR outage OR power near:\"Skagit County, WA\" since:2018-12-20 until:2018-12-21']\n",
      "INFO: Got 0 tweets (0 new).\n"
     ]
    },
    {
     "name": "stdout",
     "output_type": "stream",
     "text": [
      "68\n"
     ]
    },
    {
     "name": "stderr",
     "output_type": "stream",
     "text": [
      "INFO: queries: ['blackout OR outage OR power near:\"Snohomish County, WA\" since:2018-12-20 until:2018-12-21']\n",
      "INFO: Got 0 tweets (0 new).\n"
     ]
    },
    {
     "name": "stdout",
     "output_type": "stream",
     "text": [
      "69\n"
     ]
    },
    {
     "name": "stderr",
     "output_type": "stream",
     "text": [
      "INFO: queries: ['blackout OR outage OR power near:\"King County, WA\" since:2018-12-20 until:2018-12-21']\n",
      "INFO: Got 0 tweets (0 new).\n"
     ]
    },
    {
     "name": "stdout",
     "output_type": "stream",
     "text": [
      "70\n"
     ]
    },
    {
     "name": "stderr",
     "output_type": "stream",
     "text": [
      "INFO: queries: ['blackout OR outage OR power near:\"Kitsap County, WA\" since:2018-12-20 until:2018-12-21']\n",
      "INFO: Got 6 tweets (6 new).\n"
     ]
    },
    {
     "name": "stdout",
     "output_type": "stream",
     "text": [
      "71\n"
     ]
    },
    {
     "name": "stderr",
     "output_type": "stream",
     "text": [
      "INFO: queries: ['blackout OR outage OR power near:\"Island County, WA\" since:2018-12-20 until:2018-12-21']\n",
      "INFO: Got 0 tweets (0 new).\n"
     ]
    },
    {
     "name": "stdout",
     "output_type": "stream",
     "text": [
      "72\n"
     ]
    }
   ],
   "source": [
    "# query for each out county for each outage time\n",
    "\n",
    "tweets_dict = {} # key is index of row in wa df\n",
    "for row in wa.index:\n",
    "    \n",
    "    near = wa.loc[row, 'Area Affected']\n",
    "    begin = wa.loc[row, 'Event Date and Time']\n",
    "    end = wa.loc[row, 'Restoration Date and Time']\n",
    "    \n",
    "    tweets = custom_query(near, begin, end, \n",
    "                          'blackout OR outage OR power', 3)\n",
    "    tweets_dict[row] = tweets\n",
    "    \n",
    "    print(row)"
   ]
  },
  {
   "cell_type": "code",
   "execution_count": 76,
   "metadata": {},
   "outputs": [],
   "source": [
    "# assemble tweet info into dataframe\n",
    "\n",
    "df_list = []\n",
    "\n",
    "for k,v in tweets_dict.items():\n",
    "    _df = pd.DataFrame({'event_row':k,\n",
    "                        'timestamp':[t.timestamp for t in v],\n",
    "                        'text':[t.text for t in v],\n",
    "                        'outage':1})\n",
    "    df_list.append(_df)\n",
    "    \n",
    "tweets_df = pd.concat(df_list)"
   ]
  },
  {
   "cell_type": "code",
   "execution_count": 77,
   "metadata": {},
   "outputs": [],
   "source": [
    "# save tweets dataframe\n",
    "\n",
    "tweets_df.to_csv('washington_outage_tweets.csv', index=False)"
   ]
  }
 ],
 "metadata": {
  "kernelspec": {
   "display_name": "Python 3",
   "language": "python",
   "name": "python3"
  },
  "language_info": {
   "codemirror_mode": {
    "name": "ipython",
    "version": 3
   },
   "file_extension": ".py",
   "mimetype": "text/x-python",
   "name": "python",
   "nbconvert_exporter": "python",
   "pygments_lexer": "ipython3",
   "version": "3.7.4"
  }
 },
 "nbformat": 4,
 "nbformat_minor": 2
}
