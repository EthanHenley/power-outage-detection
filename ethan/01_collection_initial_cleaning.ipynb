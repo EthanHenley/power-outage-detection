{
 "cells": [
  {
   "cell_type": "code",
   "execution_count": 1,
   "metadata": {},
   "outputs": [],
   "source": [
    "# combine eia dfs into one\n",
    "# reword eia df location lists\n",
    "# scrape noted areas during outages + 1 month before & after\n",
    "# nlp tweets, model outage probability\n",
    "# plot outage-related tweets w/ probabilities"
   ]
  },
  {
   "cell_type": "markdown",
   "metadata": {},
   "source": [
    "## Read in Data"
   ]
  },
  {
   "cell_type": "code",
   "execution_count": 2,
   "metadata": {},
   "outputs": [
    {
     "name": "stderr",
     "output_type": "stream",
     "text": [
      "INFO: {'User-Agent': 'Mozilla/5.0 (Windows; U; Windows NT 6.1; x64; fr; rv:1.9.2.13) Gecko/20101203 Firebird/3.6.13'}\n"
     ]
    }
   ],
   "source": [
    "import numpy as np\n",
    "import pandas as pd\n",
    "\n",
    "import time\n",
    "import datetime\n",
    "\n",
    "from twitterscraper import query_tweets"
   ]
  },
  {
   "cell_type": "code",
   "execution_count": 3,
   "metadata": {},
   "outputs": [],
   "source": [
    "# list of dfs of eia data\n",
    "xlsx_list = [pd.read_excel(f'{year}.xlsx', header=1) \n",
    "              for year in range(2013,2020)]"
   ]
  },
  {
   "cell_type": "code",
   "execution_count": 4,
   "metadata": {},
   "outputs": [],
   "source": [
    "# combine dfs of eia data\n",
    "df = pd.concat(xlsx_list, sort=False)"
   ]
  },
  {
   "cell_type": "markdown",
   "metadata": {},
   "source": [
    "### Reduce Data to just WA"
   ]
  },
  {
   "cell_type": "code",
   "execution_count": 5,
   "metadata": {},
   "outputs": [],
   "source": [
    "# function to determine if event is in washington\n",
    "def washington_check(loc):\n",
    "    right_wa = 'Washington'\n",
    "    wrong_wa = ('D.C', 'Columbia', 'DC', \n",
    "        'Washington County', 'Oregon Counties')\n",
    "    if right_wa in loc and not any(wrong in loc for wrong in wrong_wa):\n",
    "        return True\n",
    "    return False"
   ]
  },
  {
   "cell_type": "code",
   "execution_count": 6,
   "metadata": {},
   "outputs": [],
   "source": [
    "# washington df\n",
    "wa = df[df['Area Affected'].fillna('?').map(washington_check)]"
   ]
  },
  {
   "cell_type": "markdown",
   "metadata": {},
   "source": [
    "### Clean WA Data"
   ]
  },
  {
   "cell_type": "code",
   "execution_count": 7,
   "metadata": {},
   "outputs": [],
   "source": [
    "# simplify/map area affected to simple wa counties separated by spaces\n",
    "# WA for whole state and no more detail\n",
    "\n",
    "wa_cty_dict = {\n",
    "    'King, Pierce and Thurston Counties, Washington':\\\n",
    "        'King Pierce Thurston',\n",
    "    'Alberta, Canada; Washington State':'WA',\n",
    "    'King, Whatcom, and Skagit, Washington':'King Whatcom Skagit',\n",
    "    'King County, Thurston County and Kitsap County,  Washington':\\\n",
    "        'King Thurston Kitsap',\n",
    "    'Washington':'WA',\n",
    "    'Kitsap, Thurston, Whatcom counties Washington':\\\n",
    "        'King Thurston Whatcom',\n",
    "    'King County, Skagit County, Whatcom County, Kitsap County, '+\\\n",
    "        'Pierce County, Thurston County, Island County, Washington':\\\n",
    "        'King Skagit Whatcom Kitsap Pierce Thurston Island',\n",
    "    'King County, Washington':'King',\n",
    "    'Washington: Snohomish County;':'Snohomish',\n",
    "    'Washington: Stevens County, Lincoln County, Adams County, Whitman '+\\\n",
    "        'County, Spokane County; Idaho: Bonner County, Kootenai County, '+\\\n",
    "        'Shoshone County, Benewah County, Idaho County;':\\\n",
    "        'Stevens Lincoln Adams Whitman Spokane',\n",
    "    'Washington: King County, Whatcom County, Kitsap County, '+\\\n",
    "        'Skagit County;':\\\n",
    "        'King Whatcom Kitsap Skagit',\n",
    "    'Washington: Clark County;':'Clark',\n",
    "    'Washington: King County;':'King',\n",
    "    'Washington:':'WA',\n",
    "    'Washington: Montana:':'WA',\n",
    "    'Washington: Whatcom County; Montana:':'Whatcom',\n",
    "    'Washington: Island County, King County, Kitsap County, Thurston '+\\\n",
    "        'County, Skagit County, Whatcom County;':\\\n",
    "        'Island King Kitsap Thurston Skagit Whatcom',\n",
    "    'Washington: King County, Kitsap County, Island County, Pierce '+\\\n",
    "        'County, Thurston County, Whatcom County, Skagit County, '+\\\n",
    "        'Kittitas County;':\\\n",
    "        'King Kitsap Island Pierce Thurston Whatcom Skagit Kittitas',\n",
    "    'Washington: Skagit County, Snohomish County, King County, Kitsap '+\\\n",
    "        'County, Island County;':\\\n",
    "        'Skagit Snohomish King Kitsap Island'\n",
    "}"
   ]
  },
  {
   "cell_type": "code",
   "execution_count": 8,
   "metadata": {},
   "outputs": [
    {
     "name": "stderr",
     "output_type": "stream",
     "text": [
      "C:\\ProgramData\\Anaconda3\\lib\\site-packages\\pandas\\core\\indexing.py:494: SettingWithCopyWarning: \n",
      "A value is trying to be set on a copy of a slice from a DataFrame.\n",
      "Try using .loc[row_indexer,col_indexer] = value instead\n",
      "\n",
      "See the caveats in the documentation: http://pandas.pydata.org/pandas-docs/stable/user_guide/indexing.html#returning-a-view-versus-a-copy\n",
      "  self.obj[item] = s\n"
     ]
    }
   ],
   "source": [
    "# format Area Affected\n",
    "\n",
    "wa.loc[:,'Area Affected'] = wa['Area Affected'].map(\n",
    "    wa_cty_dict).apply(lambda s:s.split())"
   ]
  },
  {
   "cell_type": "code",
   "execution_count": 9,
   "metadata": {},
   "outputs": [],
   "source": [
    "wa = wa.reset_index()\n",
    "\n",
    "# remove ongoings and . . s from restoration d&t\n",
    "rem_ong = lambda t: np.nan if ('ongoing' in t) or \\\n",
    "    ('.        .' in t) else t\n",
    "wa.loc[:,'Restoration Date and Time'] = \\\n",
    "    wa['Restoration Date and Time'].map(rem_ong)"
   ]
  },
  {
   "cell_type": "code",
   "execution_count": 10,
   "metadata": {},
   "outputs": [],
   "source": [
    "# adapt for new nans in restoration d&t\n",
    "\n",
    "for row in wa.index:\n",
    "    if (wa.loc[row, 'Restoration Date and Time'] is np.nan):\n",
    "        wa.loc[row, 'Restoration Date and Time'] = \\\n",
    "            wa.loc[row, 'Event Date and Time']"
   ]
  },
  {
   "cell_type": "code",
   "execution_count": 11,
   "metadata": {},
   "outputs": [],
   "source": [
    "# to_datetime date and time values\n",
    "wa.loc[:,'Event Date and Time'] = pd.to_datetime(wa['Event Date and Time'])\n",
    "wa.loc[:,'Restoration Date and Time'] = \\\n",
    "    pd.to_datetime(wa['Restoration Date and Time'])"
   ]
  },
  {
   "cell_type": "code",
   "execution_count": 12,
   "metadata": {},
   "outputs": [],
   "source": [
    "# reorder columns for convenience in next block \n",
    "\n",
    "cols = list(wa.columns)\n",
    "cols.remove('Area Affected')\n",
    "wa = wa[['Area Affected']+cols]"
   ]
  },
  {
   "cell_type": "code",
   "execution_count": 13,
   "metadata": {},
   "outputs": [],
   "source": [
    "# multiply rows with multiple affected counties\n",
    "\n",
    "# adapted from piRSquared at stackoverflow.com/questions/50217968\n",
    "wa = pd.DataFrame([\n",
    "    [aa] + _ for AA, *_ in wa.values\n",
    "    for aa in AA\n",
    "], columns=wa.columns)"
   ]
  },
  {
   "cell_type": "code",
   "execution_count": 14,
   "metadata": {},
   "outputs": [],
   "source": [
    "# save wa\n",
    "\n",
    "wa.to_csv('washington_outages.csv', index=False)"
   ]
  },
  {
   "cell_type": "code",
   "execution_count": 15,
   "metadata": {},
   "outputs": [],
   "source": [
    "# format query\n",
    "\n",
    "def custom_query(near, begin=None, end=None, terms = '', pools=10):\n",
    "    \n",
    "    time.sleep(1)\n",
    "    \n",
    "    if 'WA' not in near:\n",
    "        near += ' County, WA' # format counties properly\n",
    "    \n",
    "    if begin != None and end != None:\n",
    "        begin = begin.to_pydatetime().date()\n",
    "        end = end.to_pydatetime().date() + datetime.timedelta(days=1)\n",
    "    else:\n",
    "        begin = datetime.date(2012,1,1)\n",
    "        end = datetime.date(2019,12,31)\n",
    "        \n",
    "    # account for short outages, aftertalk\n",
    "        \n",
    "    tweets = query_tweets(f'{terms} near:\"{near}\"', pools,\n",
    "                          begindate=begin, enddate=end)\n",
    "    \n",
    "    return tweets"
   ]
  },
  {
   "cell_type": "code",
   "execution_count": 16,
   "metadata": {},
   "outputs": [
    {
     "name": "stderr",
     "output_type": "stream",
     "text": [
      "INFO: queries: ['blackout OR outage OR power near:\"King County, WA\" since:2012-01-19 until:2012-01-20', 'blackout OR outage OR power near:\"King County, WA\" since:2012-01-20 until:2012-01-21']\n",
      "INFO: Got 12 tweets (12 new).\n",
      "INFO: Got 28 tweets (16 new).\n"
     ]
    },
    {
     "name": "stdout",
     "output_type": "stream",
     "text": [
      "0\n"
     ]
    },
    {
     "name": "stderr",
     "output_type": "stream",
     "text": [
      "INFO: queries: ['blackout OR outage OR power near:\"Pierce County, WA\" since:2012-01-19 until:2012-01-20', 'blackout OR outage OR power near:\"Pierce County, WA\" since:2012-01-20 until:2012-01-21']\n",
      "INFO: Got 20 tweets (20 new).\n",
      "INFO: Got 40 tweets (20 new).\n"
     ]
    },
    {
     "name": "stdout",
     "output_type": "stream",
     "text": [
      "1\n"
     ]
    },
    {
     "name": "stderr",
     "output_type": "stream",
     "text": [
      "INFO: queries: ['blackout OR outage OR power near:\"Thurston County, WA\" since:2012-01-19 until:2012-01-20', 'blackout OR outage OR power near:\"Thurston County, WA\" since:2012-01-20 until:2012-01-21']\n",
      "INFO: Got 19 tweets (19 new).\n",
      "INFO: Got 33 tweets (14 new).\n"
     ]
    },
    {
     "name": "stdout",
     "output_type": "stream",
     "text": [
      "2\n"
     ]
    },
    {
     "name": "stderr",
     "output_type": "stream",
     "text": [
      "INFO: queries: ['blackout OR outage OR power near:\"WA\" since:2013-05-09 until:2013-05-10']\n",
      "INFO: Got 0 tweets (0 new).\n"
     ]
    },
    {
     "name": "stdout",
     "output_type": "stream",
     "text": [
      "3\n"
     ]
    },
    {
     "name": "stderr",
     "output_type": "stream",
     "text": [
      "INFO: queries: ['blackout OR outage OR power near:\"King County, WA\" since:2013-11-02 until:2013-11-03', 'blackout OR outage OR power near:\"King County, WA\" since:2013-11-03 until:2013-11-04', 'blackout OR outage OR power near:\"King County, WA\" since:2013-11-04 until:2013-11-05']\n",
      "INFO: Got 4 tweets (4 new).\n",
      "INFO: Got 10 tweets (6 new).\n",
      "INFO: Got 10 tweets (0 new).\n"
     ]
    },
    {
     "name": "stdout",
     "output_type": "stream",
     "text": [
      "4\n"
     ]
    },
    {
     "name": "stderr",
     "output_type": "stream",
     "text": [
      "INFO: queries: ['blackout OR outage OR power near:\"Whatcom County, WA\" since:2013-11-02 until:2013-11-03', 'blackout OR outage OR power near:\"Whatcom County, WA\" since:2013-11-03 until:2013-11-04', 'blackout OR outage OR power near:\"Whatcom County, WA\" since:2013-11-04 until:2013-11-05']\n",
      "INFO: Got 0 tweets (0 new).\n",
      "INFO: Got 0 tweets (0 new).\n",
      "INFO: Got 0 tweets (0 new).\n"
     ]
    },
    {
     "name": "stdout",
     "output_type": "stream",
     "text": [
      "5\n"
     ]
    },
    {
     "name": "stderr",
     "output_type": "stream",
     "text": [
      "INFO: queries: ['blackout OR outage OR power near:\"Skagit County, WA\" since:2013-11-02 until:2013-11-03', 'blackout OR outage OR power near:\"Skagit County, WA\" since:2013-11-03 until:2013-11-04', 'blackout OR outage OR power near:\"Skagit County, WA\" since:2013-11-04 until:2013-11-05']\n",
      "INFO: Got 0 tweets (0 new).\n",
      "INFO: Got 0 tweets (0 new).\n",
      "INFO: Got 0 tweets (0 new).\n"
     ]
    },
    {
     "name": "stdout",
     "output_type": "stream",
     "text": [
      "6\n"
     ]
    },
    {
     "name": "stderr",
     "output_type": "stream",
     "text": [
      "INFO: queries: ['blackout OR outage OR power near:\"King County, WA\" since:2014-10-25 until:2014-10-26']\n",
      "INFO: Got 0 tweets (0 new).\n"
     ]
    },
    {
     "name": "stdout",
     "output_type": "stream",
     "text": [
      "7\n"
     ]
    },
    {
     "name": "stderr",
     "output_type": "stream",
     "text": [
      "INFO: queries: ['blackout OR outage OR power near:\"Thurston County, WA\" since:2014-10-25 until:2014-10-26']\n",
      "INFO: Got 2 tweets (2 new).\n"
     ]
    },
    {
     "name": "stdout",
     "output_type": "stream",
     "text": [
      "8\n"
     ]
    },
    {
     "name": "stderr",
     "output_type": "stream",
     "text": [
      "INFO: queries: ['blackout OR outage OR power near:\"Kitsap County, WA\" since:2014-10-25 until:2014-10-26']\n",
      "INFO: Got 0 tweets (0 new).\n"
     ]
    },
    {
     "name": "stdout",
     "output_type": "stream",
     "text": [
      "9\n"
     ]
    },
    {
     "name": "stderr",
     "output_type": "stream",
     "text": [
      "INFO: queries: ['blackout OR outage OR power near:\"WA\" since:2014-11-11 until:2014-11-12', 'blackout OR outage OR power near:\"WA\" since:2014-11-12 until:2014-11-13', 'blackout OR outage OR power near:\"WA\" since:2014-11-13 until:2014-11-14', 'blackout OR outage OR power near:\"WA\" since:2014-11-14 until:2014-11-15']\n",
      "INFO: Got 0 tweets (0 new).\n",
      "INFO: Got 0 tweets (0 new).\n",
      "INFO: Got 0 tweets (0 new).\n",
      "INFO: Got 0 tweets (0 new).\n"
     ]
    },
    {
     "name": "stdout",
     "output_type": "stream",
     "text": [
      "10\n"
     ]
    },
    {
     "name": "stderr",
     "output_type": "stream",
     "text": [
      "INFO: queries: ['blackout OR outage OR power near:\"King County, WA\" since:2014-12-11 until:2014-12-12', 'blackout OR outage OR power near:\"King County, WA\" since:2014-12-12 until:2014-12-13']\n",
      "INFO: Got 6 tweets (6 new).\n",
      "INFO: Got 6 tweets (0 new).\n"
     ]
    },
    {
     "name": "stdout",
     "output_type": "stream",
     "text": [
      "11\n"
     ]
    },
    {
     "name": "stderr",
     "output_type": "stream",
     "text": [
      "INFO: queries: ['blackout OR outage OR power near:\"Thurston County, WA\" since:2014-12-11 until:2014-12-12', 'blackout OR outage OR power near:\"Thurston County, WA\" since:2014-12-12 until:2014-12-13']\n",
      "INFO: Got 20 tweets (20 new).\n",
      "INFO: Got 20 tweets (0 new).\n"
     ]
    },
    {
     "name": "stdout",
     "output_type": "stream",
     "text": [
      "12\n"
     ]
    },
    {
     "name": "stderr",
     "output_type": "stream",
     "text": [
      "INFO: queries: ['blackout OR outage OR power near:\"Whatcom County, WA\" since:2014-12-11 until:2014-12-12', 'blackout OR outage OR power near:\"Whatcom County, WA\" since:2014-12-12 until:2014-12-13']\n",
      "INFO: Got 0 tweets (0 new).\n",
      "INFO: Got 0 tweets (0 new).\n"
     ]
    },
    {
     "name": "stdout",
     "output_type": "stream",
     "text": [
      "13\n"
     ]
    },
    {
     "name": "stderr",
     "output_type": "stream",
     "text": [
      "INFO: queries: ['blackout OR outage OR power near:\"WA\" since:2015-05-18 until:2015-05-19']\n",
      "INFO: Got 0 tweets (0 new).\n"
     ]
    },
    {
     "name": "stdout",
     "output_type": "stream",
     "text": [
      "14\n"
     ]
    },
    {
     "name": "stderr",
     "output_type": "stream",
     "text": [
      "INFO: queries: ['blackout OR outage OR power near:\"WA\" since:2015-06-29 until:2015-06-30']\n",
      "INFO: Got 0 tweets (0 new).\n"
     ]
    },
    {
     "name": "stdout",
     "output_type": "stream",
     "text": [
      "15\n"
     ]
    },
    {
     "name": "stderr",
     "output_type": "stream",
     "text": [
      "INFO: queries: ['blackout OR outage OR power near:\"WA\" since:2015-07-21 until:2015-07-22']\n",
      "INFO: Got 0 tweets (0 new).\n"
     ]
    },
    {
     "name": "stdout",
     "output_type": "stream",
     "text": [
      "16\n"
     ]
    },
    {
     "name": "stderr",
     "output_type": "stream",
     "text": [
      "INFO: queries: ['blackout OR outage OR power near:\"WA\" since:2015-07-31 until:2015-08-01']\n",
      "INFO: Got 0 tweets (0 new).\n"
     ]
    },
    {
     "name": "stdout",
     "output_type": "stream",
     "text": [
      "17\n"
     ]
    },
    {
     "name": "stderr",
     "output_type": "stream",
     "text": [
      "INFO: queries: ['blackout OR outage OR power near:\"WA\" since:2015-08-29 until:2015-08-30']\n",
      "INFO: Got 0 tweets (0 new).\n"
     ]
    },
    {
     "name": "stdout",
     "output_type": "stream",
     "text": [
      "18\n"
     ]
    },
    {
     "name": "stderr",
     "output_type": "stream",
     "text": [
      "INFO: queries: ['blackout OR outage OR power near:\"King County, WA\" since:2015-08-29 until:2015-08-30', 'blackout OR outage OR power near:\"King County, WA\" since:2015-08-30 until:2015-08-31', 'blackout OR outage OR power near:\"King County, WA\" since:2015-08-31 until:2015-09-01', 'blackout OR outage OR power near:\"King County, WA\" since:2015-09-01 until:2015-09-02', 'blackout OR outage OR power near:\"King County, WA\" since:2015-09-02 until:2015-09-03', 'blackout OR outage OR power near:\"King County, WA\" since:2015-09-03 until:2015-09-04', 'blackout OR outage OR power near:\"King County, WA\" since:2015-09-04 until:2015-09-05']\n",
      "INFO: Got 1 tweets (1 new).\n",
      "INFO: Got 1 tweets (0 new).\n",
      "INFO: Got 1 tweets (0 new).\n",
      "INFO: Got 1 tweets (0 new).\n",
      "INFO: Got 1 tweets (0 new).\n",
      "INFO: Got 1 tweets (0 new).\n",
      "INFO: Got 1 tweets (0 new).\n"
     ]
    },
    {
     "name": "stdout",
     "output_type": "stream",
     "text": [
      "19\n"
     ]
    },
    {
     "name": "stderr",
     "output_type": "stream",
     "text": [
      "INFO: queries: ['blackout OR outage OR power near:\"Skagit County, WA\" since:2015-08-29 until:2015-08-30', 'blackout OR outage OR power near:\"Skagit County, WA\" since:2015-08-30 until:2015-08-31', 'blackout OR outage OR power near:\"Skagit County, WA\" since:2015-08-31 until:2015-09-01', 'blackout OR outage OR power near:\"Skagit County, WA\" since:2015-09-01 until:2015-09-02', 'blackout OR outage OR power near:\"Skagit County, WA\" since:2015-09-02 until:2015-09-03', 'blackout OR outage OR power near:\"Skagit County, WA\" since:2015-09-03 until:2015-09-04', 'blackout OR outage OR power near:\"Skagit County, WA\" since:2015-09-04 until:2015-09-05']\n",
      "INFO: Got 0 tweets (0 new).\n",
      "INFO: Got 0 tweets (0 new).\n",
      "INFO: Got 0 tweets (0 new).\n",
      "INFO: Got 0 tweets (0 new).\n",
      "INFO: Got 0 tweets (0 new).\n",
      "INFO: Got 0 tweets (0 new).\n",
      "INFO: Got 0 tweets (0 new).\n"
     ]
    },
    {
     "name": "stdout",
     "output_type": "stream",
     "text": [
      "20\n"
     ]
    },
    {
     "name": "stderr",
     "output_type": "stream",
     "text": [
      "INFO: queries: ['blackout OR outage OR power near:\"Whatcom County, WA\" since:2015-08-29 until:2015-08-30', 'blackout OR outage OR power near:\"Whatcom County, WA\" since:2015-08-30 until:2015-08-31', 'blackout OR outage OR power near:\"Whatcom County, WA\" since:2015-08-31 until:2015-09-01', 'blackout OR outage OR power near:\"Whatcom County, WA\" since:2015-09-01 until:2015-09-02', 'blackout OR outage OR power near:\"Whatcom County, WA\" since:2015-09-02 until:2015-09-03', 'blackout OR outage OR power near:\"Whatcom County, WA\" since:2015-09-03 until:2015-09-04', 'blackout OR outage OR power near:\"Whatcom County, WA\" since:2015-09-04 until:2015-09-05']\n",
      "INFO: Got 0 tweets (0 new).\n",
      "INFO: Got 0 tweets (0 new).\n",
      "INFO: Got 0 tweets (0 new).\n",
      "INFO: Got 0 tweets (0 new).\n",
      "INFO: Got 0 tweets (0 new).\n",
      "INFO: Got 0 tweets (0 new).\n",
      "INFO: Got 0 tweets (0 new).\n"
     ]
    },
    {
     "name": "stdout",
     "output_type": "stream",
     "text": [
      "21\n"
     ]
    },
    {
     "name": "stderr",
     "output_type": "stream",
     "text": [
      "INFO: queries: ['blackout OR outage OR power near:\"Kitsap County, WA\" since:2015-08-29 until:2015-08-30', 'blackout OR outage OR power near:\"Kitsap County, WA\" since:2015-08-30 until:2015-08-31', 'blackout OR outage OR power near:\"Kitsap County, WA\" since:2015-08-31 until:2015-09-01', 'blackout OR outage OR power near:\"Kitsap County, WA\" since:2015-09-01 until:2015-09-02', 'blackout OR outage OR power near:\"Kitsap County, WA\" since:2015-09-02 until:2015-09-03', 'blackout OR outage OR power near:\"Kitsap County, WA\" since:2015-09-03 until:2015-09-04', 'blackout OR outage OR power near:\"Kitsap County, WA\" since:2015-09-04 until:2015-09-05']\n",
      "INFO: Got 4 tweets (4 new).\n",
      "INFO: Got 5 tweets (1 new).\n",
      "INFO: Got 5 tweets (0 new).\n",
      "INFO: Got 5 tweets (0 new).\n",
      "INFO: Got 5 tweets (0 new).\n",
      "INFO: Got 5 tweets (0 new).\n",
      "INFO: Got 5 tweets (0 new).\n"
     ]
    },
    {
     "name": "stdout",
     "output_type": "stream",
     "text": [
      "22\n"
     ]
    },
    {
     "name": "stderr",
     "output_type": "stream",
     "text": [
      "INFO: queries: ['blackout OR outage OR power near:\"Pierce County, WA\" since:2015-08-29 until:2015-08-30', 'blackout OR outage OR power near:\"Pierce County, WA\" since:2015-08-30 until:2015-08-31', 'blackout OR outage OR power near:\"Pierce County, WA\" since:2015-08-31 until:2015-09-01', 'blackout OR outage OR power near:\"Pierce County, WA\" since:2015-09-01 until:2015-09-02', 'blackout OR outage OR power near:\"Pierce County, WA\" since:2015-09-02 until:2015-09-03', 'blackout OR outage OR power near:\"Pierce County, WA\" since:2015-09-03 until:2015-09-04', 'blackout OR outage OR power near:\"Pierce County, WA\" since:2015-09-04 until:2015-09-05']\n",
      "INFO: Got 1 tweets (1 new).\n",
      "INFO: Got 5 tweets (4 new).\n",
      "INFO: Got 5 tweets (0 new).\n",
      "INFO: Got 5 tweets (0 new).\n",
      "INFO: Got 5 tweets (0 new).\n",
      "INFO: Got 5 tweets (0 new).\n",
      "INFO: Got 5 tweets (0 new).\n"
     ]
    },
    {
     "name": "stdout",
     "output_type": "stream",
     "text": [
      "23\n"
     ]
    },
    {
     "name": "stderr",
     "output_type": "stream",
     "text": [
      "INFO: queries: ['blackout OR outage OR power near:\"Thurston County, WA\" since:2015-08-29 until:2015-08-30', 'blackout OR outage OR power near:\"Thurston County, WA\" since:2015-08-30 until:2015-08-31', 'blackout OR outage OR power near:\"Thurston County, WA\" since:2015-08-31 until:2015-09-01', 'blackout OR outage OR power near:\"Thurston County, WA\" since:2015-09-01 until:2015-09-02', 'blackout OR outage OR power near:\"Thurston County, WA\" since:2015-09-02 until:2015-09-03', 'blackout OR outage OR power near:\"Thurston County, WA\" since:2015-09-03 until:2015-09-04', 'blackout OR outage OR power near:\"Thurston County, WA\" since:2015-09-04 until:2015-09-05']\n",
      "INFO: Got 2 tweets (2 new).\n",
      "INFO: Got 3 tweets (1 new).\n",
      "INFO: Got 3 tweets (0 new).\n",
      "INFO: Got 3 tweets (0 new).\n",
      "INFO: Got 3 tweets (0 new).\n",
      "INFO: Got 3 tweets (0 new).\n",
      "INFO: Got 3 tweets (0 new).\n"
     ]
    },
    {
     "name": "stdout",
     "output_type": "stream",
     "text": [
      "24\n"
     ]
    },
    {
     "name": "stderr",
     "output_type": "stream",
     "text": [
      "INFO: queries: ['blackout OR outage OR power near:\"Island County, WA\" since:2015-08-29 until:2015-08-30', 'blackout OR outage OR power near:\"Island County, WA\" since:2015-08-30 until:2015-08-31', 'blackout OR outage OR power near:\"Island County, WA\" since:2015-08-31 until:2015-09-01', 'blackout OR outage OR power near:\"Island County, WA\" since:2015-09-01 until:2015-09-02', 'blackout OR outage OR power near:\"Island County, WA\" since:2015-09-02 until:2015-09-03', 'blackout OR outage OR power near:\"Island County, WA\" since:2015-09-03 until:2015-09-04', 'blackout OR outage OR power near:\"Island County, WA\" since:2015-09-04 until:2015-09-05']\n",
      "INFO: Got 1 tweets (1 new).\n",
      "INFO: Got 1 tweets (0 new).\n",
      "INFO: Got 1 tweets (0 new).\n",
      "INFO: Got 1 tweets (0 new).\n",
      "INFO: Got 1 tweets (0 new).\n",
      "INFO: Got 1 tweets (0 new).\n",
      "INFO: Got 1 tweets (0 new).\n"
     ]
    },
    {
     "name": "stdout",
     "output_type": "stream",
     "text": [
      "25\n"
     ]
    },
    {
     "name": "stderr",
     "output_type": "stream",
     "text": [
      "INFO: queries: ['blackout OR outage OR power near:\"King County, WA\" since:2015-08-29 until:2015-08-30', 'blackout OR outage OR power near:\"King County, WA\" since:2015-08-30 until:2015-08-31', 'blackout OR outage OR power near:\"King County, WA\" since:2015-08-31 until:2015-09-01']\n",
      "INFO: Got 2 tweets (2 new).\n",
      "INFO: Got 2 tweets (0 new).\n",
      "INFO: Got 2 tweets (0 new).\n"
     ]
    },
    {
     "name": "stdout",
     "output_type": "stream",
     "text": [
      "26\n"
     ]
    },
    {
     "name": "stderr",
     "output_type": "stream",
     "text": [
      "INFO: queries: ['blackout OR outage OR power near:\"Snohomish County, WA\" since:2015-11-17 until:2015-11-18']\n",
      "INFO: Got 0 tweets (0 new).\n"
     ]
    },
    {
     "name": "stdout",
     "output_type": "stream",
     "text": [
      "27\n"
     ]
    },
    {
     "name": "stderr",
     "output_type": "stream",
     "text": [
      "INFO: queries: ['blackout OR outage OR power near:\"WA\" since:2015-11-17 until:2015-11-18']\n",
      "INFO: Got 0 tweets (0 new).\n"
     ]
    },
    {
     "name": "stdout",
     "output_type": "stream",
     "text": [
      "28\n"
     ]
    },
    {
     "name": "stderr",
     "output_type": "stream",
     "text": [
      "INFO: queries: ['blackout OR outage OR power near:\"Stevens County, WA\" since:2015-11-17 until:2015-11-18']\n",
      "INFO: Got 0 tweets (0 new).\n"
     ]
    },
    {
     "name": "stdout",
     "output_type": "stream",
     "text": [
      "29\n"
     ]
    },
    {
     "name": "stderr",
     "output_type": "stream",
     "text": [
      "INFO: queries: ['blackout OR outage OR power near:\"Lincoln County, WA\" since:2015-11-17 until:2015-11-18']\n",
      "INFO: Got 18 tweets (18 new).\n"
     ]
    },
    {
     "name": "stdout",
     "output_type": "stream",
     "text": [
      "30\n"
     ]
    },
    {
     "name": "stderr",
     "output_type": "stream",
     "text": [
      "INFO: queries: ['blackout OR outage OR power near:\"Adams County, WA\" since:2015-11-17 until:2015-11-18']\n",
      "INFO: Got 18 tweets (18 new).\n"
     ]
    },
    {
     "name": "stdout",
     "output_type": "stream",
     "text": [
      "31\n"
     ]
    },
    {
     "name": "stderr",
     "output_type": "stream",
     "text": [
      "INFO: queries: ['blackout OR outage OR power near:\"Whitman County, WA\" since:2015-11-17 until:2015-11-18']\n",
      "INFO: Got 18 tweets (18 new).\n"
     ]
    },
    {
     "name": "stdout",
     "output_type": "stream",
     "text": [
      "32\n"
     ]
    },
    {
     "name": "stderr",
     "output_type": "stream",
     "text": [
      "INFO: queries: ['blackout OR outage OR power near:\"Spokane County, WA\" since:2015-11-17 until:2015-11-18']\n",
      "INFO: Got 2 tweets (2 new).\n"
     ]
    },
    {
     "name": "stdout",
     "output_type": "stream",
     "text": [
      "33\n"
     ]
    },
    {
     "name": "stderr",
     "output_type": "stream",
     "text": [
      "INFO: queries: ['blackout OR outage OR power near:\"WA\" since:2015-12-09 until:2015-12-10']\n",
      "INFO: Got 0 tweets (0 new).\n"
     ]
    },
    {
     "name": "stdout",
     "output_type": "stream",
     "text": [
      "34\n"
     ]
    },
    {
     "name": "stderr",
     "output_type": "stream",
     "text": [
      "INFO: queries: ['blackout OR outage OR power near:\"King County, WA\" since:2016-03-01 until:2016-03-02']\n",
      "INFO: Got 0 tweets (0 new).\n"
     ]
    },
    {
     "name": "stdout",
     "output_type": "stream",
     "text": [
      "35\n"
     ]
    },
    {
     "name": "stderr",
     "output_type": "stream",
     "text": [
      "INFO: queries: ['blackout OR outage OR power near:\"Whatcom County, WA\" since:2016-03-01 until:2016-03-02']\n",
      "INFO: Got 0 tweets (0 new).\n"
     ]
    },
    {
     "name": "stdout",
     "output_type": "stream",
     "text": [
      "36\n"
     ]
    },
    {
     "name": "stderr",
     "output_type": "stream",
     "text": [
      "INFO: queries: ['blackout OR outage OR power near:\"Kitsap County, WA\" since:2016-03-01 until:2016-03-02']\n",
      "INFO: Got 0 tweets (0 new).\n"
     ]
    },
    {
     "name": "stdout",
     "output_type": "stream",
     "text": [
      "37\n"
     ]
    },
    {
     "name": "stderr",
     "output_type": "stream",
     "text": [
      "INFO: queries: ['blackout OR outage OR power near:\"Skagit County, WA\" since:2016-03-01 until:2016-03-02']\n",
      "INFO: Got 0 tweets (0 new).\n"
     ]
    },
    {
     "name": "stdout",
     "output_type": "stream",
     "text": [
      "38\n"
     ]
    },
    {
     "name": "stderr",
     "output_type": "stream",
     "text": [
      "INFO: queries: ['blackout OR outage OR power near:\"Clark County, WA\" since:2016-05-08 until:2016-05-09']\n",
      "INFO: Got 0 tweets (0 new).\n"
     ]
    },
    {
     "name": "stdout",
     "output_type": "stream",
     "text": [
      "39\n"
     ]
    },
    {
     "name": "stderr",
     "output_type": "stream",
     "text": [
      "INFO: queries: ['blackout OR outage OR power near:\"King County, WA\" since:2016-08-24 until:2016-08-25']\n",
      "INFO: Got 0 tweets (0 new).\n"
     ]
    },
    {
     "name": "stdout",
     "output_type": "stream",
     "text": [
      "40\n"
     ]
    },
    {
     "name": "stderr",
     "output_type": "stream",
     "text": [
      "INFO: queries: ['blackout OR outage OR power near:\"Clark County, WA\" since:2016-08-31 until:2016-09-01']\n",
      "INFO: Got 0 tweets (0 new).\n"
     ]
    },
    {
     "name": "stdout",
     "output_type": "stream",
     "text": [
      "41\n"
     ]
    },
    {
     "name": "stderr",
     "output_type": "stream",
     "text": [
      "INFO: queries: ['blackout OR outage OR power near:\"Clark County, WA\" since:2016-09-06 until:2016-09-07']\n",
      "INFO: Got 0 tweets (0 new).\n"
     ]
    },
    {
     "name": "stdout",
     "output_type": "stream",
     "text": [
      "42\n"
     ]
    },
    {
     "name": "stderr",
     "output_type": "stream",
     "text": [
      "INFO: queries: ['blackout OR outage OR power near:\"WA\" since:2016-09-08 until:2016-09-09']\n",
      "INFO: Got 0 tweets (0 new).\n"
     ]
    },
    {
     "name": "stdout",
     "output_type": "stream",
     "text": [
      "43\n"
     ]
    },
    {
     "name": "stderr",
     "output_type": "stream",
     "text": [
      "INFO: queries: ['blackout OR outage OR power near:\"Clark County, WA\" since:2016-09-10 until:2016-09-11']\n",
      "INFO: Got 0 tweets (0 new).\n"
     ]
    },
    {
     "name": "stdout",
     "output_type": "stream",
     "text": [
      "44\n"
     ]
    },
    {
     "name": "stderr",
     "output_type": "stream",
     "text": [
      "INFO: queries: ['blackout OR outage OR power near:\"WA\" since:2017-10-16 until:2017-10-17']\n",
      "INFO: Got 0 tweets (0 new).\n"
     ]
    },
    {
     "name": "stdout",
     "output_type": "stream",
     "text": [
      "45\n"
     ]
    },
    {
     "name": "stderr",
     "output_type": "stream",
     "text": [
      "INFO: queries: ['blackout OR outage OR power near:\"WA\" since:2017-10-16 until:2017-10-17']\n",
      "INFO: Got 0 tweets (0 new).\n"
     ]
    },
    {
     "name": "stdout",
     "output_type": "stream",
     "text": [
      "46\n"
     ]
    },
    {
     "name": "stderr",
     "output_type": "stream",
     "text": [
      "INFO: queries: ['blackout OR outage OR power near:\"WA\" since:2017-10-20 until:2017-10-21']\n",
      "INFO: Got 0 tweets (0 new).\n"
     ]
    },
    {
     "name": "stdout",
     "output_type": "stream",
     "text": [
      "47\n"
     ]
    },
    {
     "name": "stderr",
     "output_type": "stream",
     "text": [
      "INFO: queries: ['blackout OR outage OR power near:\"Clark County, WA\" since:2017-10-26 until:2017-10-27']\n",
      "INFO: Got 0 tweets (0 new).\n"
     ]
    },
    {
     "name": "stdout",
     "output_type": "stream",
     "text": [
      "48\n"
     ]
    },
    {
     "name": "stderr",
     "output_type": "stream",
     "text": [
      "INFO: queries: ['blackout OR outage OR power near:\"Whatcom County, WA\" since:2017-10-26 until:2017-10-27']\n",
      "INFO: Got 0 tweets (0 new).\n"
     ]
    },
    {
     "name": "stdout",
     "output_type": "stream",
     "text": [
      "49\n"
     ]
    },
    {
     "name": "stderr",
     "output_type": "stream",
     "text": [
      "INFO: queries: ['blackout OR outage OR power near:\"Island County, WA\" since:2017-11-13 until:2017-11-14', 'blackout OR outage OR power near:\"Island County, WA\" since:2017-11-14 until:2017-11-15', 'blackout OR outage OR power near:\"Island County, WA\" since:2017-11-15 until:2017-11-16']\n",
      "INFO: Got 0 tweets (0 new).\n",
      "INFO: Got 0 tweets (0 new).\n",
      "INFO: Got 0 tweets (0 new).\n"
     ]
    },
    {
     "name": "stdout",
     "output_type": "stream",
     "text": [
      "50\n"
     ]
    },
    {
     "name": "stderr",
     "output_type": "stream",
     "text": [
      "INFO: queries: ['blackout OR outage OR power near:\"King County, WA\" since:2017-11-13 until:2017-11-14', 'blackout OR outage OR power near:\"King County, WA\" since:2017-11-14 until:2017-11-15', 'blackout OR outage OR power near:\"King County, WA\" since:2017-11-15 until:2017-11-16']\n",
      "INFO: Got 2 tweets (2 new).\n",
      "INFO: Got 2 tweets (0 new).\n",
      "INFO: Got 2 tweets (0 new).\n"
     ]
    },
    {
     "name": "stdout",
     "output_type": "stream",
     "text": [
      "51\n"
     ]
    },
    {
     "name": "stderr",
     "output_type": "stream",
     "text": [
      "INFO: queries: ['blackout OR outage OR power near:\"Kitsap County, WA\" since:2017-11-13 until:2017-11-14', 'blackout OR outage OR power near:\"Kitsap County, WA\" since:2017-11-14 until:2017-11-15', 'blackout OR outage OR power near:\"Kitsap County, WA\" since:2017-11-15 until:2017-11-16']\n",
      "INFO: Got 0 tweets (0 new).\n",
      "INFO: Got 0 tweets (0 new).\n",
      "INFO: Got 0 tweets (0 new).\n"
     ]
    },
    {
     "name": "stdout",
     "output_type": "stream",
     "text": [
      "52\n"
     ]
    },
    {
     "name": "stderr",
     "output_type": "stream",
     "text": [
      "INFO: queries: ['blackout OR outage OR power near:\"Thurston County, WA\" since:2017-11-13 until:2017-11-14', 'blackout OR outage OR power near:\"Thurston County, WA\" since:2017-11-14 until:2017-11-15', 'blackout OR outage OR power near:\"Thurston County, WA\" since:2017-11-15 until:2017-11-16']\n",
      "INFO: Got 2 tweets (2 new).\n",
      "INFO: Got 2 tweets (0 new).\n",
      "INFO: Got 2 tweets (0 new).\n"
     ]
    },
    {
     "name": "stdout",
     "output_type": "stream",
     "text": [
      "53\n"
     ]
    },
    {
     "name": "stderr",
     "output_type": "stream",
     "text": [
      "INFO: queries: ['blackout OR outage OR power near:\"Skagit County, WA\" since:2017-11-13 until:2017-11-14', 'blackout OR outage OR power near:\"Skagit County, WA\" since:2017-11-14 until:2017-11-15', 'blackout OR outage OR power near:\"Skagit County, WA\" since:2017-11-15 until:2017-11-16']\n",
      "INFO: Got 0 tweets (0 new).\n",
      "INFO: Got 0 tweets (0 new).\n",
      "INFO: Got 0 tweets (0 new).\n"
     ]
    },
    {
     "name": "stdout",
     "output_type": "stream",
     "text": [
      "54\n"
     ]
    },
    {
     "name": "stderr",
     "output_type": "stream",
     "text": [
      "INFO: queries: ['blackout OR outage OR power near:\"Whatcom County, WA\" since:2017-11-13 until:2017-11-14', 'blackout OR outage OR power near:\"Whatcom County, WA\" since:2017-11-14 until:2017-11-15', 'blackout OR outage OR power near:\"Whatcom County, WA\" since:2017-11-15 until:2017-11-16']\n",
      "INFO: Got 0 tweets (0 new).\n",
      "INFO: Got 0 tweets (0 new).\n",
      "INFO: Got 0 tweets (0 new).\n"
     ]
    },
    {
     "name": "stdout",
     "output_type": "stream",
     "text": [
      "55\n"
     ]
    },
    {
     "name": "stderr",
     "output_type": "stream",
     "text": [
      "INFO: queries: ['blackout OR outage OR power near:\"King County, WA\" since:2017-11-13 until:2017-11-14', 'blackout OR outage OR power near:\"King County, WA\" since:2017-11-14 until:2017-11-15', 'blackout OR outage OR power near:\"King County, WA\" since:2017-11-15 until:2017-11-16', 'blackout OR outage OR power near:\"King County, WA\" since:2017-11-16 until:2017-11-17']\n",
      "INFO: Got 2 tweets (2 new).\n",
      "INFO: Got 2 tweets (0 new).\n",
      "INFO: Got 2 tweets (0 new).\n",
      "INFO: Got 2 tweets (0 new).\n"
     ]
    },
    {
     "name": "stdout",
     "output_type": "stream",
     "text": [
      "56\n"
     ]
    },
    {
     "name": "stderr",
     "output_type": "stream",
     "text": [
      "INFO: queries: ['blackout OR outage OR power near:\"WA\" since:2018-06-22 until:2018-06-23']\n",
      "INFO: Got 0 tweets (0 new).\n"
     ]
    },
    {
     "name": "stdout",
     "output_type": "stream",
     "text": [
      "57\n"
     ]
    },
    {
     "name": "stderr",
     "output_type": "stream",
     "text": [
      "INFO: queries: ['blackout OR outage OR power near:\"Clark County, WA\" since:2018-07-27 until:2018-07-28']\n",
      "INFO: Got 0 tweets (0 new).\n"
     ]
    },
    {
     "name": "stdout",
     "output_type": "stream",
     "text": [
      "58\n"
     ]
    },
    {
     "name": "stderr",
     "output_type": "stream",
     "text": [
      "INFO: queries: ['blackout OR outage OR power near:\"King County, WA\" since:2018-12-14 until:2018-12-15', 'blackout OR outage OR power near:\"King County, WA\" since:2018-12-15 until:2018-12-16', 'blackout OR outage OR power near:\"King County, WA\" since:2018-12-16 until:2018-12-17', 'blackout OR outage OR power near:\"King County, WA\" since:2018-12-17 until:2018-12-18']\n",
      "INFO: Got 2 tweets (2 new).\n",
      "INFO: Got 2 tweets (0 new).\n",
      "INFO: Got 2 tweets (0 new).\n",
      "INFO: Got 2 tweets (0 new).\n"
     ]
    },
    {
     "name": "stdout",
     "output_type": "stream",
     "text": [
      "59\n"
     ]
    },
    {
     "name": "stderr",
     "output_type": "stream",
     "text": [
      "INFO: queries: ['blackout OR outage OR power near:\"Kitsap County, WA\" since:2018-12-14 until:2018-12-15', 'blackout OR outage OR power near:\"Kitsap County, WA\" since:2018-12-15 until:2018-12-16', 'blackout OR outage OR power near:\"Kitsap County, WA\" since:2018-12-16 until:2018-12-17', 'blackout OR outage OR power near:\"Kitsap County, WA\" since:2018-12-17 until:2018-12-18']\n",
      "INFO: Got 1 tweets (1 new).\n",
      "INFO: Got 1 tweets (0 new).\n",
      "INFO: Got 1 tweets (0 new).\n",
      "INFO: Got 1 tweets (0 new).\n"
     ]
    },
    {
     "name": "stdout",
     "output_type": "stream",
     "text": [
      "60\n"
     ]
    },
    {
     "name": "stderr",
     "output_type": "stream",
     "text": [
      "INFO: queries: ['blackout OR outage OR power near:\"Island County, WA\" since:2018-12-14 until:2018-12-15', 'blackout OR outage OR power near:\"Island County, WA\" since:2018-12-15 until:2018-12-16', 'blackout OR outage OR power near:\"Island County, WA\" since:2018-12-16 until:2018-12-17', 'blackout OR outage OR power near:\"Island County, WA\" since:2018-12-17 until:2018-12-18']\n",
      "INFO: Got 1 tweets (1 new).\n",
      "INFO: Got 1 tweets (0 new).\n",
      "INFO: Got 1 tweets (0 new).\n",
      "INFO: Got 1 tweets (0 new).\n"
     ]
    },
    {
     "name": "stdout",
     "output_type": "stream",
     "text": [
      "61\n"
     ]
    },
    {
     "name": "stderr",
     "output_type": "stream",
     "text": [
      "INFO: queries: ['blackout OR outage OR power near:\"Pierce County, WA\" since:2018-12-14 until:2018-12-15', 'blackout OR outage OR power near:\"Pierce County, WA\" since:2018-12-15 until:2018-12-16', 'blackout OR outage OR power near:\"Pierce County, WA\" since:2018-12-16 until:2018-12-17', 'blackout OR outage OR power near:\"Pierce County, WA\" since:2018-12-17 until:2018-12-18']\n",
      "INFO: Got 0 tweets (0 new).\n",
      "INFO: Got 0 tweets (0 new).\n",
      "INFO: Got 0 tweets (0 new).\n",
      "INFO: Got 0 tweets (0 new).\n"
     ]
    },
    {
     "name": "stdout",
     "output_type": "stream",
     "text": [
      "62\n"
     ]
    },
    {
     "name": "stderr",
     "output_type": "stream",
     "text": [
      "INFO: queries: ['blackout OR outage OR power near:\"Thurston County, WA\" since:2018-12-14 until:2018-12-15', 'blackout OR outage OR power near:\"Thurston County, WA\" since:2018-12-15 until:2018-12-16', 'blackout OR outage OR power near:\"Thurston County, WA\" since:2018-12-16 until:2018-12-17', 'blackout OR outage OR power near:\"Thurston County, WA\" since:2018-12-17 until:2018-12-18']\n",
      "INFO: Got 2 tweets (2 new).\n",
      "INFO: Got 2 tweets (0 new).\n",
      "INFO: Got 2 tweets (0 new).\n",
      "INFO: Got 2 tweets (0 new).\n"
     ]
    },
    {
     "name": "stdout",
     "output_type": "stream",
     "text": [
      "63\n"
     ]
    },
    {
     "name": "stderr",
     "output_type": "stream",
     "text": [
      "INFO: queries: ['blackout OR outage OR power near:\"Whatcom County, WA\" since:2018-12-14 until:2018-12-15', 'blackout OR outage OR power near:\"Whatcom County, WA\" since:2018-12-15 until:2018-12-16', 'blackout OR outage OR power near:\"Whatcom County, WA\" since:2018-12-16 until:2018-12-17', 'blackout OR outage OR power near:\"Whatcom County, WA\" since:2018-12-17 until:2018-12-18']\n",
      "INFO: Got 0 tweets (0 new).\n",
      "INFO: Got 0 tweets (0 new).\n",
      "INFO: Got 0 tweets (0 new).\n",
      "INFO: Got 0 tweets (0 new).\n"
     ]
    },
    {
     "name": "stdout",
     "output_type": "stream",
     "text": [
      "64\n"
     ]
    },
    {
     "name": "stderr",
     "output_type": "stream",
     "text": [
      "INFO: queries: ['blackout OR outage OR power near:\"Skagit County, WA\" since:2018-12-14 until:2018-12-15', 'blackout OR outage OR power near:\"Skagit County, WA\" since:2018-12-15 until:2018-12-16', 'blackout OR outage OR power near:\"Skagit County, WA\" since:2018-12-16 until:2018-12-17', 'blackout OR outage OR power near:\"Skagit County, WA\" since:2018-12-17 until:2018-12-18']\n",
      "INFO: Got 0 tweets (0 new).\n",
      "INFO: Got 0 tweets (0 new).\n",
      "INFO: Got 0 tweets (0 new).\n",
      "INFO: Got 0 tweets (0 new).\n"
     ]
    },
    {
     "name": "stdout",
     "output_type": "stream",
     "text": [
      "65\n"
     ]
    },
    {
     "name": "stderr",
     "output_type": "stream",
     "text": [
      "INFO: queries: ['blackout OR outage OR power near:\"Kittitas County, WA\" since:2018-12-14 until:2018-12-15', 'blackout OR outage OR power near:\"Kittitas County, WA\" since:2018-12-15 until:2018-12-16', 'blackout OR outage OR power near:\"Kittitas County, WA\" since:2018-12-16 until:2018-12-17', 'blackout OR outage OR power near:\"Kittitas County, WA\" since:2018-12-17 until:2018-12-18']\n",
      "INFO: Got 0 tweets (0 new).\n",
      "INFO: Got 0 tweets (0 new).\n",
      "INFO: Got 0 tweets (0 new).\n",
      "INFO: Got 0 tweets (0 new).\n"
     ]
    },
    {
     "name": "stdout",
     "output_type": "stream",
     "text": [
      "66\n"
     ]
    },
    {
     "name": "stderr",
     "output_type": "stream",
     "text": [
      "INFO: queries: ['blackout OR outage OR power near:\"Snohomish County, WA\" since:2018-12-14 until:2018-12-15']\n",
      "INFO: Got 0 tweets (0 new).\n"
     ]
    },
    {
     "name": "stdout",
     "output_type": "stream",
     "text": [
      "67\n"
     ]
    },
    {
     "name": "stderr",
     "output_type": "stream",
     "text": [
      "INFO: queries: ['blackout OR outage OR power near:\"Skagit County, WA\" since:2018-12-20 until:2018-12-21']\n",
      "INFO: Got 0 tweets (0 new).\n"
     ]
    },
    {
     "name": "stdout",
     "output_type": "stream",
     "text": [
      "68\n"
     ]
    },
    {
     "name": "stderr",
     "output_type": "stream",
     "text": [
      "INFO: queries: ['blackout OR outage OR power near:\"Snohomish County, WA\" since:2018-12-20 until:2018-12-21']\n",
      "INFO: Got 0 tweets (0 new).\n"
     ]
    },
    {
     "name": "stdout",
     "output_type": "stream",
     "text": [
      "69\n"
     ]
    },
    {
     "name": "stderr",
     "output_type": "stream",
     "text": [
      "INFO: queries: ['blackout OR outage OR power near:\"King County, WA\" since:2018-12-20 until:2018-12-21']\n",
      "INFO: Got 0 tweets (0 new).\n"
     ]
    },
    {
     "name": "stdout",
     "output_type": "stream",
     "text": [
      "70\n"
     ]
    },
    {
     "name": "stderr",
     "output_type": "stream",
     "text": [
      "INFO: queries: ['blackout OR outage OR power near:\"Kitsap County, WA\" since:2018-12-20 until:2018-12-21']\n",
      "INFO: Got 6 tweets (6 new).\n"
     ]
    },
    {
     "name": "stdout",
     "output_type": "stream",
     "text": [
      "71\n"
     ]
    },
    {
     "name": "stderr",
     "output_type": "stream",
     "text": [
      "INFO: queries: ['blackout OR outage OR power near:\"Island County, WA\" since:2018-12-20 until:2018-12-21']\n",
      "INFO: Got 0 tweets (0 new).\n"
     ]
    },
    {
     "name": "stdout",
     "output_type": "stream",
     "text": [
      "72\n"
     ]
    }
   ],
   "source": [
    "# query for each out county for each outage time\n",
    "\n",
    "tweets_dict = {} # key is index of row in wa df\n",
    "for row in wa.index:\n",
    "    \n",
    "    near = wa.loc[row, 'Area Affected']\n",
    "    begin = wa.loc[row, 'Event Date and Time']\n",
    "    end = wa.loc[row, 'Restoration Date and Time']\n",
    "    \n",
    "    tweets = custom_query(near, begin, end, \n",
    "                          'blackout OR outage OR power', 3)\n",
    "    tweets_dict[row] = tweets\n",
    "    \n",
    "    print(row)"
   ]
  },
  {
   "cell_type": "code",
   "execution_count": 17,
   "metadata": {},
   "outputs": [],
   "source": [
    "# assemble tweet info into dataframe\n",
    "\n",
    "df_list = []\n",
    "\n",
    "for k,v in tweets_dict.items():\n",
    "    _df = pd.DataFrame({'event_row_or_county':k,\n",
    "                        'timestamp':[t.timestamp for t in v],\n",
    "                        'text':[t.text for t in v],\n",
    "                        'outage':1})\n",
    "    df_list.append(_df)\n",
    "    \n",
    "tweets_df_1 = pd.concat(df_list)"
   ]
  },
  {
   "cell_type": "markdown",
   "metadata": {},
   "source": [
    "Also want a generic corpus to train on."
   ]
  },
  {
   "cell_type": "code",
   "execution_count": 18,
   "metadata": {},
   "outputs": [
    {
     "name": "stderr",
     "output_type": "stream",
     "text": [
      "INFO: queries: [' near:\"King County, WA\" since:2012-01-01 until:2012-05-26', ' near:\"King County, WA\" since:2012-05-26 until:2012-10-19', ' near:\"King County, WA\" since:2012-10-19 until:2013-03-14', ' near:\"King County, WA\" since:2013-03-14 until:2013-08-07', ' near:\"King County, WA\" since:2013-08-07 until:2013-12-31', ' near:\"King County, WA\" since:2013-12-31 until:2014-05-26', ' near:\"King County, WA\" since:2014-05-26 until:2014-10-19', ' near:\"King County, WA\" since:2014-10-19 until:2015-03-14', ' near:\"King County, WA\" since:2015-03-14 until:2015-08-07', ' near:\"King County, WA\" since:2015-08-07 until:2015-12-31', ' near:\"King County, WA\" since:2015-12-31 until:2016-05-25', ' near:\"King County, WA\" since:2016-05-25 until:2016-10-18', ' near:\"King County, WA\" since:2016-10-18 until:2017-03-13', ' near:\"King County, WA\" since:2017-03-13 until:2017-08-06', ' near:\"King County, WA\" since:2017-08-06 until:2017-12-30', ' near:\"King County, WA\" since:2017-12-30 until:2018-05-25', ' near:\"King County, WA\" since:2018-05-25 until:2018-10-18', ' near:\"King County, WA\" since:2018-10-18 until:2019-03-13', ' near:\"King County, WA\" since:2019-03-13 until:2019-08-06', ' near:\"King County, WA\" since:2019-08-06 until:2019-12-31']\n",
      "INFO: Got 20 tweets (20 new).\n",
      "INFO: Got 40 tweets (20 new).\n",
      "INFO: Got 58 tweets (18 new).\n",
      "INFO: Got 78 tweets (20 new).\n",
      "INFO: Got 97 tweets (19 new).\n",
      "INFO: Got 117 tweets (20 new).\n",
      "INFO: Got 137 tweets (20 new).\n",
      "INFO: Got 157 tweets (20 new).\n",
      "INFO: Got 175 tweets (18 new).\n",
      "INFO: Got 195 tweets (20 new).\n",
      "INFO: Got 214 tweets (19 new).\n",
      "INFO: Got 234 tweets (20 new).\n",
      "INFO: Got 251 tweets (17 new).\n",
      "INFO: Got 267 tweets (16 new).\n",
      "INFO: Got 287 tweets (20 new).\n",
      "INFO: Got 307 tweets (20 new).\n",
      "INFO: Got 327 tweets (20 new).\n",
      "INFO: Got 347 tweets (20 new).\n",
      "INFO: Got 366 tweets (19 new).\n",
      "INFO: Got 386 tweets (20 new).\n"
     ]
    },
    {
     "name": "stdout",
     "output_type": "stream",
     "text": [
      "King\n"
     ]
    },
    {
     "name": "stderr",
     "output_type": "stream",
     "text": [
      "INFO: queries: [' near:\"Pierce County, WA\" since:2012-01-01 until:2012-05-26', ' near:\"Pierce County, WA\" since:2012-05-26 until:2012-10-19', ' near:\"Pierce County, WA\" since:2012-10-19 until:2013-03-14', ' near:\"Pierce County, WA\" since:2013-03-14 until:2013-08-07', ' near:\"Pierce County, WA\" since:2013-08-07 until:2013-12-31', ' near:\"Pierce County, WA\" since:2013-12-31 until:2014-05-26', ' near:\"Pierce County, WA\" since:2014-05-26 until:2014-10-19', ' near:\"Pierce County, WA\" since:2014-10-19 until:2015-03-14', ' near:\"Pierce County, WA\" since:2015-03-14 until:2015-08-07', ' near:\"Pierce County, WA\" since:2015-08-07 until:2015-12-31', ' near:\"Pierce County, WA\" since:2015-12-31 until:2016-05-25', ' near:\"Pierce County, WA\" since:2016-05-25 until:2016-10-18', ' near:\"Pierce County, WA\" since:2016-10-18 until:2017-03-13', ' near:\"Pierce County, WA\" since:2017-03-13 until:2017-08-06', ' near:\"Pierce County, WA\" since:2017-08-06 until:2017-12-30', ' near:\"Pierce County, WA\" since:2017-12-30 until:2018-05-25', ' near:\"Pierce County, WA\" since:2018-05-25 until:2018-10-18', ' near:\"Pierce County, WA\" since:2018-10-18 until:2019-03-13', ' near:\"Pierce County, WA\" since:2019-03-13 until:2019-08-06', ' near:\"Pierce County, WA\" since:2019-08-06 until:2019-12-31']\n",
      "INFO: Got 17 tweets (17 new).\n",
      "INFO: Got 36 tweets (19 new).\n",
      "INFO: Got 56 tweets (20 new).\n",
      "INFO: Got 74 tweets (18 new).\n",
      "INFO: Got 92 tweets (18 new).\n",
      "INFO: Got 112 tweets (20 new).\n",
      "INFO: Got 129 tweets (17 new).\n",
      "INFO: Got 149 tweets (20 new).\n",
      "INFO: Got 168 tweets (19 new).\n",
      "INFO: Got 186 tweets (18 new).\n",
      "INFO: Got 203 tweets (17 new).\n",
      "INFO: Got 223 tweets (20 new).\n",
      "INFO: Got 243 tweets (20 new).\n",
      "INFO: Got 263 tweets (20 new).\n",
      "INFO: Got 283 tweets (20 new).\n",
      "INFO: Got 303 tweets (20 new).\n",
      "INFO: Got 319 tweets (16 new).\n",
      "INFO: Got 339 tweets (20 new).\n",
      "INFO: Got 357 tweets (18 new).\n",
      "INFO: Got 377 tweets (20 new).\n"
     ]
    },
    {
     "name": "stdout",
     "output_type": "stream",
     "text": [
      "Pierce\n"
     ]
    },
    {
     "name": "stderr",
     "output_type": "stream",
     "text": [
      "INFO: queries: [' near:\"Thurston County, WA\" since:2012-01-01 until:2012-05-26', ' near:\"Thurston County, WA\" since:2012-05-26 until:2012-10-19', ' near:\"Thurston County, WA\" since:2012-10-19 until:2013-03-14', ' near:\"Thurston County, WA\" since:2013-03-14 until:2013-08-07', ' near:\"Thurston County, WA\" since:2013-08-07 until:2013-12-31', ' near:\"Thurston County, WA\" since:2013-12-31 until:2014-05-26', ' near:\"Thurston County, WA\" since:2014-05-26 until:2014-10-19', ' near:\"Thurston County, WA\" since:2014-10-19 until:2015-03-14', ' near:\"Thurston County, WA\" since:2015-03-14 until:2015-08-07', ' near:\"Thurston County, WA\" since:2015-08-07 until:2015-12-31', ' near:\"Thurston County, WA\" since:2015-12-31 until:2016-05-25', ' near:\"Thurston County, WA\" since:2016-05-25 until:2016-10-18', ' near:\"Thurston County, WA\" since:2016-10-18 until:2017-03-13', ' near:\"Thurston County, WA\" since:2017-03-13 until:2017-08-06', ' near:\"Thurston County, WA\" since:2017-08-06 until:2017-12-30', ' near:\"Thurston County, WA\" since:2017-12-30 until:2018-05-25', ' near:\"Thurston County, WA\" since:2018-05-25 until:2018-10-18', ' near:\"Thurston County, WA\" since:2018-10-18 until:2019-03-13', ' near:\"Thurston County, WA\" since:2019-03-13 until:2019-08-06', ' near:\"Thurston County, WA\" since:2019-08-06 until:2019-12-31']\n",
      "INFO: Got 20 tweets (20 new).\n",
      "INFO: Got 40 tweets (20 new).\n",
      "INFO: Got 57 tweets (17 new).\n",
      "INFO: Got 71 tweets (14 new).\n",
      "INFO: Got 91 tweets (20 new).\n",
      "INFO: Got 111 tweets (20 new).\n",
      "INFO: Got 131 tweets (20 new).\n",
      "INFO: Got 150 tweets (19 new).\n",
      "INFO: Got 169 tweets (19 new).\n",
      "INFO: Got 186 tweets (17 new).\n",
      "INFO: Got 206 tweets (20 new).\n",
      "INFO: Got 225 tweets (19 new).\n",
      "INFO: Got 245 tweets (20 new).\n",
      "INFO: Got 265 tweets (20 new).\n",
      "INFO: Got 285 tweets (20 new).\n",
      "INFO: Got 304 tweets (19 new).\n",
      "INFO: Got 323 tweets (19 new).\n",
      "INFO: Got 335 tweets (12 new).\n",
      "INFO: Got 355 tweets (20 new).\n",
      "INFO: Got 375 tweets (20 new).\n"
     ]
    },
    {
     "name": "stdout",
     "output_type": "stream",
     "text": [
      "Thurston\n"
     ]
    },
    {
     "name": "stderr",
     "output_type": "stream",
     "text": [
      "INFO: queries: [' near:\"WA\" since:2012-01-01 until:2012-05-26', ' near:\"WA\" since:2012-05-26 until:2012-10-19', ' near:\"WA\" since:2012-10-19 until:2013-03-14', ' near:\"WA\" since:2013-03-14 until:2013-08-07', ' near:\"WA\" since:2013-08-07 until:2013-12-31', ' near:\"WA\" since:2013-12-31 until:2014-05-26', ' near:\"WA\" since:2014-05-26 until:2014-10-19', ' near:\"WA\" since:2014-10-19 until:2015-03-14', ' near:\"WA\" since:2015-03-14 until:2015-08-07', ' near:\"WA\" since:2015-08-07 until:2015-12-31', ' near:\"WA\" since:2015-12-31 until:2016-05-25', ' near:\"WA\" since:2016-05-25 until:2016-10-18', ' near:\"WA\" since:2016-10-18 until:2017-03-13', ' near:\"WA\" since:2017-03-13 until:2017-08-06', ' near:\"WA\" since:2017-08-06 until:2017-12-30', ' near:\"WA\" since:2017-12-30 until:2018-05-25', ' near:\"WA\" since:2018-05-25 until:2018-10-18', ' near:\"WA\" since:2018-10-18 until:2019-03-13', ' near:\"WA\" since:2019-03-13 until:2019-08-06', ' near:\"WA\" since:2019-08-06 until:2019-12-31']\n",
      "INFO: Got 19 tweets (19 new).\n",
      "INFO: Got 39 tweets (20 new).\n",
      "INFO: Got 59 tweets (20 new).\n",
      "INFO: Got 79 tweets (20 new).\n",
      "INFO: Got 98 tweets (19 new).\n",
      "INFO: Got 118 tweets (20 new).\n",
      "INFO: Got 138 tweets (20 new).\n",
      "INFO: Got 158 tweets (20 new).\n",
      "INFO: Got 178 tweets (20 new).\n",
      "INFO: Got 197 tweets (19 new).\n",
      "INFO: Got 217 tweets (20 new).\n",
      "INFO: Got 223 tweets (6 new).\n",
      "INFO: Got 243 tweets (20 new).\n",
      "INFO: Got 263 tweets (20 new).\n",
      "INFO: Got 281 tweets (18 new).\n",
      "INFO: Got 301 tweets (20 new).\n",
      "INFO: Got 321 tweets (20 new).\n",
      "INFO: Got 339 tweets (18 new).\n",
      "INFO: Got 359 tweets (20 new).\n",
      "INFO: Got 379 tweets (20 new).\n"
     ]
    },
    {
     "name": "stdout",
     "output_type": "stream",
     "text": [
      "WA\n"
     ]
    },
    {
     "name": "stderr",
     "output_type": "stream",
     "text": [
      "INFO: queries: [' near:\"Whatcom County, WA\" since:2012-01-01 until:2012-05-26', ' near:\"Whatcom County, WA\" since:2012-05-26 until:2012-10-19', ' near:\"Whatcom County, WA\" since:2012-10-19 until:2013-03-14', ' near:\"Whatcom County, WA\" since:2013-03-14 until:2013-08-07', ' near:\"Whatcom County, WA\" since:2013-08-07 until:2013-12-31', ' near:\"Whatcom County, WA\" since:2013-12-31 until:2014-05-26', ' near:\"Whatcom County, WA\" since:2014-05-26 until:2014-10-19', ' near:\"Whatcom County, WA\" since:2014-10-19 until:2015-03-14', ' near:\"Whatcom County, WA\" since:2015-03-14 until:2015-08-07', ' near:\"Whatcom County, WA\" since:2015-08-07 until:2015-12-31', ' near:\"Whatcom County, WA\" since:2015-12-31 until:2016-05-25', ' near:\"Whatcom County, WA\" since:2016-05-25 until:2016-10-18', ' near:\"Whatcom County, WA\" since:2016-10-18 until:2017-03-13', ' near:\"Whatcom County, WA\" since:2017-03-13 until:2017-08-06', ' near:\"Whatcom County, WA\" since:2017-08-06 until:2017-12-30', ' near:\"Whatcom County, WA\" since:2017-12-30 until:2018-05-25', ' near:\"Whatcom County, WA\" since:2018-05-25 until:2018-10-18', ' near:\"Whatcom County, WA\" since:2018-10-18 until:2019-03-13', ' near:\"Whatcom County, WA\" since:2019-03-13 until:2019-08-06', ' near:\"Whatcom County, WA\" since:2019-08-06 until:2019-12-31']\n",
      "INFO: Got 20 tweets (20 new).\n",
      "INFO: Got 40 tweets (20 new).\n",
      "INFO: Got 60 tweets (20 new).\n",
      "INFO: Got 80 tweets (20 new).\n",
      "INFO: Got 100 tweets (20 new).\n",
      "INFO: Got 120 tweets (20 new).\n",
      "INFO: Got 139 tweets (19 new).\n",
      "INFO: Got 159 tweets (20 new).\n",
      "INFO: Got 177 tweets (18 new).\n",
      "INFO: Got 197 tweets (20 new).\n",
      "INFO: Got 217 tweets (20 new).\n",
      "INFO: Got 237 tweets (20 new).\n",
      "INFO: Got 257 tweets (20 new).\n",
      "INFO: Got 277 tweets (20 new).\n",
      "INFO: Got 297 tweets (20 new).\n",
      "INFO: Got 317 tweets (20 new).\n",
      "INFO: Got 337 tweets (20 new).\n",
      "INFO: Got 357 tweets (20 new).\n",
      "INFO: Got 376 tweets (19 new).\n",
      "INFO: Got 396 tweets (20 new).\n"
     ]
    },
    {
     "name": "stdout",
     "output_type": "stream",
     "text": [
      "Whatcom\n"
     ]
    },
    {
     "name": "stderr",
     "output_type": "stream",
     "text": [
      "INFO: queries: [' near:\"Skagit County, WA\" since:2012-01-01 until:2012-05-26', ' near:\"Skagit County, WA\" since:2012-05-26 until:2012-10-19', ' near:\"Skagit County, WA\" since:2012-10-19 until:2013-03-14', ' near:\"Skagit County, WA\" since:2013-03-14 until:2013-08-07', ' near:\"Skagit County, WA\" since:2013-08-07 until:2013-12-31', ' near:\"Skagit County, WA\" since:2013-12-31 until:2014-05-26', ' near:\"Skagit County, WA\" since:2014-05-26 until:2014-10-19', ' near:\"Skagit County, WA\" since:2014-10-19 until:2015-03-14', ' near:\"Skagit County, WA\" since:2015-03-14 until:2015-08-07', ' near:\"Skagit County, WA\" since:2015-08-07 until:2015-12-31', ' near:\"Skagit County, WA\" since:2015-12-31 until:2016-05-25', ' near:\"Skagit County, WA\" since:2016-05-25 until:2016-10-18', ' near:\"Skagit County, WA\" since:2016-10-18 until:2017-03-13', ' near:\"Skagit County, WA\" since:2017-03-13 until:2017-08-06', ' near:\"Skagit County, WA\" since:2017-08-06 until:2017-12-30', ' near:\"Skagit County, WA\" since:2017-12-30 until:2018-05-25', ' near:\"Skagit County, WA\" since:2018-05-25 until:2018-10-18', ' near:\"Skagit County, WA\" since:2018-10-18 until:2019-03-13', ' near:\"Skagit County, WA\" since:2019-03-13 until:2019-08-06', ' near:\"Skagit County, WA\" since:2019-08-06 until:2019-12-31']\n",
      "INFO: Got 20 tweets (20 new).\n",
      "INFO: Got 40 tweets (20 new).\n",
      "INFO: Got 60 tweets (20 new).\n",
      "INFO: Got 80 tweets (20 new).\n",
      "INFO: Got 100 tweets (20 new).\n",
      "INFO: Got 120 tweets (20 new).\n",
      "INFO: Got 140 tweets (20 new).\n",
      "INFO: Got 160 tweets (20 new).\n",
      "INFO: Got 180 tweets (20 new).\n",
      "INFO: Got 200 tweets (20 new).\n",
      "INFO: Got 220 tweets (20 new).\n",
      "INFO: Got 240 tweets (20 new).\n",
      "INFO: Got 260 tweets (20 new).\n",
      "INFO: Got 280 tweets (20 new).\n",
      "INFO: Got 299 tweets (19 new).\n",
      "INFO: Got 319 tweets (20 new).\n",
      "INFO: Got 339 tweets (20 new).\n",
      "INFO: Got 359 tweets (20 new).\n",
      "INFO: Got 377 tweets (18 new).\n",
      "INFO: Got 397 tweets (20 new).\n"
     ]
    },
    {
     "name": "stdout",
     "output_type": "stream",
     "text": [
      "Skagit\n"
     ]
    },
    {
     "name": "stderr",
     "output_type": "stream",
     "text": [
      "INFO: queries: [' near:\"Kitsap County, WA\" since:2012-01-01 until:2012-05-26', ' near:\"Kitsap County, WA\" since:2012-05-26 until:2012-10-19', ' near:\"Kitsap County, WA\" since:2012-10-19 until:2013-03-14', ' near:\"Kitsap County, WA\" since:2013-03-14 until:2013-08-07', ' near:\"Kitsap County, WA\" since:2013-08-07 until:2013-12-31', ' near:\"Kitsap County, WA\" since:2013-12-31 until:2014-05-26', ' near:\"Kitsap County, WA\" since:2014-05-26 until:2014-10-19', ' near:\"Kitsap County, WA\" since:2014-10-19 until:2015-03-14', ' near:\"Kitsap County, WA\" since:2015-03-14 until:2015-08-07', ' near:\"Kitsap County, WA\" since:2015-08-07 until:2015-12-31', ' near:\"Kitsap County, WA\" since:2015-12-31 until:2016-05-25', ' near:\"Kitsap County, WA\" since:2016-05-25 until:2016-10-18', ' near:\"Kitsap County, WA\" since:2016-10-18 until:2017-03-13', ' near:\"Kitsap County, WA\" since:2017-03-13 until:2017-08-06', ' near:\"Kitsap County, WA\" since:2017-08-06 until:2017-12-30', ' near:\"Kitsap County, WA\" since:2017-12-30 until:2018-05-25', ' near:\"Kitsap County, WA\" since:2018-05-25 until:2018-10-18', ' near:\"Kitsap County, WA\" since:2018-10-18 until:2019-03-13', ' near:\"Kitsap County, WA\" since:2019-03-13 until:2019-08-06', ' near:\"Kitsap County, WA\" since:2019-08-06 until:2019-12-31']\n",
      "INFO: Got 18 tweets (18 new).\n",
      "INFO: Got 37 tweets (19 new).\n",
      "INFO: Got 55 tweets (18 new).\n",
      "INFO: Got 75 tweets (20 new).\n",
      "INFO: Got 95 tweets (20 new).\n",
      "INFO: Got 115 tweets (20 new).\n",
      "INFO: Got 134 tweets (19 new).\n",
      "INFO: Got 154 tweets (20 new).\n",
      "INFO: Got 170 tweets (16 new).\n",
      "INFO: Got 190 tweets (20 new).\n",
      "INFO: Got 210 tweets (20 new).\n",
      "INFO: Got 227 tweets (17 new).\n",
      "INFO: Got 247 tweets (20 new).\n",
      "INFO: Got 267 tweets (20 new).\n",
      "INFO: Got 287 tweets (20 new).\n",
      "INFO: Got 307 tweets (20 new).\n",
      "INFO: Got 325 tweets (18 new).\n",
      "INFO: Got 345 tweets (20 new).\n",
      "INFO: Got 365 tweets (20 new).\n",
      "INFO: Got 384 tweets (19 new).\n"
     ]
    },
    {
     "name": "stdout",
     "output_type": "stream",
     "text": [
      "Kitsap\n"
     ]
    },
    {
     "name": "stderr",
     "output_type": "stream",
     "text": [
      "INFO: queries: [' near:\"Island County, WA\" since:2012-01-01 until:2012-05-26', ' near:\"Island County, WA\" since:2012-05-26 until:2012-10-19', ' near:\"Island County, WA\" since:2012-10-19 until:2013-03-14', ' near:\"Island County, WA\" since:2013-03-14 until:2013-08-07', ' near:\"Island County, WA\" since:2013-08-07 until:2013-12-31', ' near:\"Island County, WA\" since:2013-12-31 until:2014-05-26', ' near:\"Island County, WA\" since:2014-05-26 until:2014-10-19', ' near:\"Island County, WA\" since:2014-10-19 until:2015-03-14', ' near:\"Island County, WA\" since:2015-03-14 until:2015-08-07', ' near:\"Island County, WA\" since:2015-08-07 until:2015-12-31', ' near:\"Island County, WA\" since:2015-12-31 until:2016-05-25', ' near:\"Island County, WA\" since:2016-05-25 until:2016-10-18', ' near:\"Island County, WA\" since:2016-10-18 until:2017-03-13', ' near:\"Island County, WA\" since:2017-03-13 until:2017-08-06', ' near:\"Island County, WA\" since:2017-08-06 until:2017-12-30', ' near:\"Island County, WA\" since:2017-12-30 until:2018-05-25', ' near:\"Island County, WA\" since:2018-05-25 until:2018-10-18', ' near:\"Island County, WA\" since:2018-10-18 until:2019-03-13', ' near:\"Island County, WA\" since:2019-03-13 until:2019-08-06', ' near:\"Island County, WA\" since:2019-08-06 until:2019-12-31']\n",
      "INFO: Got 20 tweets (20 new).\n",
      "INFO: Got 40 tweets (20 new).\n",
      "INFO: Got 53 tweets (13 new).\n",
      "INFO: Got 73 tweets (20 new).\n",
      "INFO: Got 88 tweets (15 new).\n",
      "INFO: Got 106 tweets (18 new).\n",
      "INFO: Got 126 tweets (20 new).\n",
      "INFO: Got 146 tweets (20 new).\n",
      "INFO: Got 166 tweets (20 new).\n",
      "INFO: Got 186 tweets (20 new).\n",
      "INFO: Got 206 tweets (20 new).\n",
      "INFO: Got 226 tweets (20 new).\n",
      "INFO: Got 246 tweets (20 new).\n",
      "INFO: Got 266 tweets (20 new).\n",
      "INFO: Got 285 tweets (19 new).\n",
      "INFO: Got 304 tweets (19 new).\n",
      "INFO: Got 324 tweets (20 new).\n",
      "INFO: Got 344 tweets (20 new).\n",
      "INFO: Got 362 tweets (18 new).\n",
      "INFO: Got 382 tweets (20 new).\n"
     ]
    },
    {
     "name": "stdout",
     "output_type": "stream",
     "text": [
      "Island\n"
     ]
    },
    {
     "name": "stderr",
     "output_type": "stream",
     "text": [
      "INFO: queries: [' near:\"Snohomish County, WA\" since:2012-01-01 until:2012-05-26', ' near:\"Snohomish County, WA\" since:2012-05-26 until:2012-10-19', ' near:\"Snohomish County, WA\" since:2012-10-19 until:2013-03-14', ' near:\"Snohomish County, WA\" since:2013-03-14 until:2013-08-07', ' near:\"Snohomish County, WA\" since:2013-08-07 until:2013-12-31', ' near:\"Snohomish County, WA\" since:2013-12-31 until:2014-05-26', ' near:\"Snohomish County, WA\" since:2014-05-26 until:2014-10-19', ' near:\"Snohomish County, WA\" since:2014-10-19 until:2015-03-14', ' near:\"Snohomish County, WA\" since:2015-03-14 until:2015-08-07', ' near:\"Snohomish County, WA\" since:2015-08-07 until:2015-12-31', ' near:\"Snohomish County, WA\" since:2015-12-31 until:2016-05-25', ' near:\"Snohomish County, WA\" since:2016-05-25 until:2016-10-18', ' near:\"Snohomish County, WA\" since:2016-10-18 until:2017-03-13', ' near:\"Snohomish County, WA\" since:2017-03-13 until:2017-08-06', ' near:\"Snohomish County, WA\" since:2017-08-06 until:2017-12-30', ' near:\"Snohomish County, WA\" since:2017-12-30 until:2018-05-25', ' near:\"Snohomish County, WA\" since:2018-05-25 until:2018-10-18', ' near:\"Snohomish County, WA\" since:2018-10-18 until:2019-03-13', ' near:\"Snohomish County, WA\" since:2019-03-13 until:2019-08-06', ' near:\"Snohomish County, WA\" since:2019-08-06 until:2019-12-31']\n",
      "INFO: Got 20 tweets (20 new).\n",
      "INFO: Got 40 tweets (20 new).\n",
      "INFO: Got 60 tweets (20 new).\n",
      "INFO: Got 80 tweets (20 new).\n",
      "INFO: Got 100 tweets (20 new).\n",
      "INFO: Got 120 tweets (20 new).\n",
      "INFO: Got 140 tweets (20 new).\n",
      "INFO: Got 160 tweets (20 new).\n",
      "INFO: Got 180 tweets (20 new).\n",
      "INFO: Got 199 tweets (19 new).\n",
      "INFO: Got 219 tweets (20 new).\n",
      "INFO: Got 239 tweets (20 new).\n",
      "INFO: Got 259 tweets (20 new).\n",
      "INFO: Got 279 tweets (20 new).\n",
      "INFO: Got 288 tweets (9 new).\n",
      "INFO: Got 308 tweets (20 new).\n",
      "INFO: Got 328 tweets (20 new).\n",
      "INFO: Got 348 tweets (20 new).\n",
      "INFO: Got 366 tweets (18 new).\n",
      "INFO: Got 386 tweets (20 new).\n"
     ]
    },
    {
     "name": "stdout",
     "output_type": "stream",
     "text": [
      "Snohomish\n"
     ]
    },
    {
     "name": "stderr",
     "output_type": "stream",
     "text": [
      "INFO: queries: [' near:\"Stevens County, WA\" since:2012-01-01 until:2012-05-26', ' near:\"Stevens County, WA\" since:2012-05-26 until:2012-10-19', ' near:\"Stevens County, WA\" since:2012-10-19 until:2013-03-14', ' near:\"Stevens County, WA\" since:2013-03-14 until:2013-08-07', ' near:\"Stevens County, WA\" since:2013-08-07 until:2013-12-31', ' near:\"Stevens County, WA\" since:2013-12-31 until:2014-05-26', ' near:\"Stevens County, WA\" since:2014-05-26 until:2014-10-19', ' near:\"Stevens County, WA\" since:2014-10-19 until:2015-03-14', ' near:\"Stevens County, WA\" since:2015-03-14 until:2015-08-07', ' near:\"Stevens County, WA\" since:2015-08-07 until:2015-12-31', ' near:\"Stevens County, WA\" since:2015-12-31 until:2016-05-25', ' near:\"Stevens County, WA\" since:2016-05-25 until:2016-10-18', ' near:\"Stevens County, WA\" since:2016-10-18 until:2017-03-13', ' near:\"Stevens County, WA\" since:2017-03-13 until:2017-08-06', ' near:\"Stevens County, WA\" since:2017-08-06 until:2017-12-30', ' near:\"Stevens County, WA\" since:2017-12-30 until:2018-05-25', ' near:\"Stevens County, WA\" since:2018-05-25 until:2018-10-18', ' near:\"Stevens County, WA\" since:2018-10-18 until:2019-03-13', ' near:\"Stevens County, WA\" since:2019-03-13 until:2019-08-06', ' near:\"Stevens County, WA\" since:2019-08-06 until:2019-12-31']\n",
      "INFO: Got 20 tweets (20 new).\n",
      "INFO: Got 40 tweets (20 new).\n",
      "INFO: Got 60 tweets (20 new).\n",
      "INFO: Got 80 tweets (20 new).\n",
      "INFO: Got 100 tweets (20 new).\n",
      "INFO: Got 120 tweets (20 new).\n",
      "INFO: Got 140 tweets (20 new).\n",
      "INFO: Got 160 tweets (20 new).\n",
      "INFO: Got 179 tweets (19 new).\n",
      "INFO: Got 199 tweets (20 new).\n",
      "INFO: Got 219 tweets (20 new).\n",
      "INFO: Got 239 tweets (20 new).\n",
      "INFO: Got 258 tweets (19 new).\n",
      "INFO: Got 278 tweets (20 new).\n",
      "INFO: Got 298 tweets (20 new).\n",
      "INFO: Got 318 tweets (20 new).\n",
      "INFO: Got 338 tweets (20 new).\n",
      "INFO: Got 358 tweets (20 new).\n",
      "INFO: Got 378 tweets (20 new).\n",
      "INFO: Got 397 tweets (19 new).\n"
     ]
    },
    {
     "name": "stdout",
     "output_type": "stream",
     "text": [
      "Stevens\n"
     ]
    },
    {
     "name": "stderr",
     "output_type": "stream",
     "text": [
      "INFO: queries: [' near:\"Lincoln County, WA\" since:2012-01-01 until:2012-05-26', ' near:\"Lincoln County, WA\" since:2012-05-26 until:2012-10-19', ' near:\"Lincoln County, WA\" since:2012-10-19 until:2013-03-14', ' near:\"Lincoln County, WA\" since:2013-03-14 until:2013-08-07', ' near:\"Lincoln County, WA\" since:2013-08-07 until:2013-12-31', ' near:\"Lincoln County, WA\" since:2013-12-31 until:2014-05-26', ' near:\"Lincoln County, WA\" since:2014-05-26 until:2014-10-19', ' near:\"Lincoln County, WA\" since:2014-10-19 until:2015-03-14', ' near:\"Lincoln County, WA\" since:2015-03-14 until:2015-08-07', ' near:\"Lincoln County, WA\" since:2015-08-07 until:2015-12-31', ' near:\"Lincoln County, WA\" since:2015-12-31 until:2016-05-25', ' near:\"Lincoln County, WA\" since:2016-05-25 until:2016-10-18', ' near:\"Lincoln County, WA\" since:2016-10-18 until:2017-03-13', ' near:\"Lincoln County, WA\" since:2017-03-13 until:2017-08-06', ' near:\"Lincoln County, WA\" since:2017-08-06 until:2017-12-30', ' near:\"Lincoln County, WA\" since:2017-12-30 until:2018-05-25', ' near:\"Lincoln County, WA\" since:2018-05-25 until:2018-10-18', ' near:\"Lincoln County, WA\" since:2018-10-18 until:2019-03-13', ' near:\"Lincoln County, WA\" since:2019-03-13 until:2019-08-06', ' near:\"Lincoln County, WA\" since:2019-08-06 until:2019-12-31']\n",
      "INFO: Got 19 tweets (19 new).\n",
      "INFO: Got 39 tweets (20 new).\n",
      "INFO: Got 59 tweets (20 new).\n",
      "INFO: Got 79 tweets (20 new).\n",
      "INFO: Got 97 tweets (18 new).\n",
      "INFO: Got 117 tweets (20 new).\n",
      "INFO: Got 135 tweets (18 new).\n",
      "INFO: Got 155 tweets (20 new).\n",
      "INFO: Got 174 tweets (19 new).\n",
      "INFO: Got 193 tweets (19 new).\n",
      "INFO: Got 211 tweets (18 new).\n",
      "INFO: Got 231 tweets (20 new).\n",
      "INFO: Got 251 tweets (20 new).\n",
      "INFO: Got 269 tweets (18 new).\n",
      "INFO: Got 286 tweets (17 new).\n",
      "INFO: Got 304 tweets (18 new).\n",
      "INFO: Got 324 tweets (20 new).\n",
      "INFO: Got 342 tweets (18 new).\n",
      "INFO: Got 360 tweets (18 new).\n",
      "INFO: Got 377 tweets (17 new).\n"
     ]
    },
    {
     "name": "stdout",
     "output_type": "stream",
     "text": [
      "Lincoln\n"
     ]
    },
    {
     "name": "stderr",
     "output_type": "stream",
     "text": [
      "INFO: queries: [' near:\"Adams County, WA\" since:2012-01-01 until:2012-05-26', ' near:\"Adams County, WA\" since:2012-05-26 until:2012-10-19', ' near:\"Adams County, WA\" since:2012-10-19 until:2013-03-14', ' near:\"Adams County, WA\" since:2013-03-14 until:2013-08-07', ' near:\"Adams County, WA\" since:2013-08-07 until:2013-12-31', ' near:\"Adams County, WA\" since:2013-12-31 until:2014-05-26', ' near:\"Adams County, WA\" since:2014-05-26 until:2014-10-19', ' near:\"Adams County, WA\" since:2014-10-19 until:2015-03-14', ' near:\"Adams County, WA\" since:2015-03-14 until:2015-08-07', ' near:\"Adams County, WA\" since:2015-08-07 until:2015-12-31', ' near:\"Adams County, WA\" since:2015-12-31 until:2016-05-25', ' near:\"Adams County, WA\" since:2016-05-25 until:2016-10-18', ' near:\"Adams County, WA\" since:2016-10-18 until:2017-03-13', ' near:\"Adams County, WA\" since:2017-03-13 until:2017-08-06', ' near:\"Adams County, WA\" since:2017-08-06 until:2017-12-30', ' near:\"Adams County, WA\" since:2017-12-30 until:2018-05-25', ' near:\"Adams County, WA\" since:2018-05-25 until:2018-10-18', ' near:\"Adams County, WA\" since:2018-10-18 until:2019-03-13', ' near:\"Adams County, WA\" since:2019-03-13 until:2019-08-06', ' near:\"Adams County, WA\" since:2019-08-06 until:2019-12-31']\n",
      "INFO: Got 20 tweets (20 new).\n",
      "INFO: Got 40 tweets (20 new).\n",
      "INFO: Got 57 tweets (17 new).\n",
      "INFO: Got 77 tweets (20 new).\n",
      "INFO: Got 95 tweets (18 new).\n",
      "INFO: Got 115 tweets (20 new).\n",
      "INFO: Got 133 tweets (18 new).\n",
      "INFO: Got 152 tweets (19 new).\n",
      "INFO: Got 170 tweets (18 new).\n",
      "INFO: Got 190 tweets (20 new).\n",
      "INFO: Got 209 tweets (19 new).\n",
      "INFO: Got 229 tweets (20 new).\n",
      "INFO: Got 248 tweets (19 new).\n",
      "INFO: Got 265 tweets (17 new).\n",
      "INFO: Got 283 tweets (18 new).\n",
      "INFO: Got 301 tweets (18 new).\n",
      "INFO: Got 319 tweets (18 new).\n",
      "INFO: Got 339 tweets (20 new).\n",
      "INFO: Got 359 tweets (20 new).\n",
      "INFO: Got 377 tweets (18 new).\n"
     ]
    },
    {
     "name": "stdout",
     "output_type": "stream",
     "text": [
      "Adams\n"
     ]
    },
    {
     "name": "stderr",
     "output_type": "stream",
     "text": [
      "INFO: queries: [' near:\"Whitman County, WA\" since:2012-01-01 until:2012-05-26', ' near:\"Whitman County, WA\" since:2012-05-26 until:2012-10-19', ' near:\"Whitman County, WA\" since:2012-10-19 until:2013-03-14', ' near:\"Whitman County, WA\" since:2013-03-14 until:2013-08-07', ' near:\"Whitman County, WA\" since:2013-08-07 until:2013-12-31', ' near:\"Whitman County, WA\" since:2013-12-31 until:2014-05-26', ' near:\"Whitman County, WA\" since:2014-05-26 until:2014-10-19', ' near:\"Whitman County, WA\" since:2014-10-19 until:2015-03-14', ' near:\"Whitman County, WA\" since:2015-03-14 until:2015-08-07', ' near:\"Whitman County, WA\" since:2015-08-07 until:2015-12-31', ' near:\"Whitman County, WA\" since:2015-12-31 until:2016-05-25', ' near:\"Whitman County, WA\" since:2016-05-25 until:2016-10-18', ' near:\"Whitman County, WA\" since:2016-10-18 until:2017-03-13', ' near:\"Whitman County, WA\" since:2017-03-13 until:2017-08-06', ' near:\"Whitman County, WA\" since:2017-08-06 until:2017-12-30', ' near:\"Whitman County, WA\" since:2017-12-30 until:2018-05-25', ' near:\"Whitman County, WA\" since:2018-05-25 until:2018-10-18', ' near:\"Whitman County, WA\" since:2018-10-18 until:2019-03-13', ' near:\"Whitman County, WA\" since:2019-03-13 until:2019-08-06', ' near:\"Whitman County, WA\" since:2019-08-06 until:2019-12-31']\n",
      "INFO: Got 18 tweets (18 new).\n",
      "INFO: Got 35 tweets (17 new).\n",
      "INFO: Got 53 tweets (18 new).\n",
      "INFO: Got 73 tweets (20 new).\n",
      "INFO: Got 90 tweets (17 new).\n",
      "INFO: Got 110 tweets (20 new).\n",
      "INFO: Got 129 tweets (19 new).\n",
      "INFO: Got 149 tweets (20 new).\n",
      "INFO: Got 169 tweets (20 new).\n",
      "INFO: Got 188 tweets (19 new).\n",
      "INFO: Got 208 tweets (20 new).\n",
      "INFO: Got 226 tweets (18 new).\n",
      "INFO: Got 244 tweets (18 new).\n",
      "INFO: Got 262 tweets (18 new).\n",
      "INFO: Got 282 tweets (20 new).\n",
      "INFO: Got 301 tweets (19 new).\n",
      "INFO: Got 321 tweets (20 new).\n",
      "INFO: Got 341 tweets (20 new).\n",
      "INFO: Got 359 tweets (18 new).\n",
      "INFO: Got 377 tweets (18 new).\n"
     ]
    },
    {
     "name": "stdout",
     "output_type": "stream",
     "text": [
      "Whitman\n"
     ]
    },
    {
     "name": "stderr",
     "output_type": "stream",
     "text": [
      "INFO: queries: [' near:\"Spokane County, WA\" since:2012-01-01 until:2012-05-26', ' near:\"Spokane County, WA\" since:2012-05-26 until:2012-10-19', ' near:\"Spokane County, WA\" since:2012-10-19 until:2013-03-14', ' near:\"Spokane County, WA\" since:2013-03-14 until:2013-08-07', ' near:\"Spokane County, WA\" since:2013-08-07 until:2013-12-31', ' near:\"Spokane County, WA\" since:2013-12-31 until:2014-05-26', ' near:\"Spokane County, WA\" since:2014-05-26 until:2014-10-19', ' near:\"Spokane County, WA\" since:2014-10-19 until:2015-03-14', ' near:\"Spokane County, WA\" since:2015-03-14 until:2015-08-07', ' near:\"Spokane County, WA\" since:2015-08-07 until:2015-12-31', ' near:\"Spokane County, WA\" since:2015-12-31 until:2016-05-25', ' near:\"Spokane County, WA\" since:2016-05-25 until:2016-10-18', ' near:\"Spokane County, WA\" since:2016-10-18 until:2017-03-13', ' near:\"Spokane County, WA\" since:2017-03-13 until:2017-08-06', ' near:\"Spokane County, WA\" since:2017-08-06 until:2017-12-30', ' near:\"Spokane County, WA\" since:2017-12-30 until:2018-05-25', ' near:\"Spokane County, WA\" since:2018-05-25 until:2018-10-18', ' near:\"Spokane County, WA\" since:2018-10-18 until:2019-03-13', ' near:\"Spokane County, WA\" since:2019-03-13 until:2019-08-06', ' near:\"Spokane County, WA\" since:2019-08-06 until:2019-12-31']\n",
      "INFO: Got 16 tweets (16 new).\n",
      "INFO: Got 36 tweets (20 new).\n",
      "INFO: Got 53 tweets (17 new).\n",
      "INFO: Got 72 tweets (19 new).\n",
      "INFO: Got 92 tweets (20 new).\n",
      "INFO: Got 112 tweets (20 new).\n",
      "INFO: Got 132 tweets (20 new).\n",
      "INFO: Got 152 tweets (20 new).\n",
      "INFO: Got 172 tweets (20 new).\n",
      "INFO: Got 192 tweets (20 new).\n",
      "INFO: Got 211 tweets (19 new).\n",
      "INFO: Got 231 tweets (20 new).\n",
      "INFO: Got 250 tweets (19 new).\n",
      "INFO: Got 270 tweets (20 new).\n",
      "INFO: Got 289 tweets (19 new).\n",
      "INFO: Got 309 tweets (20 new).\n",
      "INFO: Got 329 tweets (20 new).\n",
      "INFO: Got 349 tweets (20 new).\n",
      "INFO: Got 369 tweets (20 new).\n",
      "INFO: Got 389 tweets (20 new).\n"
     ]
    },
    {
     "name": "stdout",
     "output_type": "stream",
     "text": [
      "Spokane\n"
     ]
    },
    {
     "name": "stderr",
     "output_type": "stream",
     "text": [
      "INFO: queries: [' near:\"Clark County, WA\" since:2012-01-01 until:2012-05-26', ' near:\"Clark County, WA\" since:2012-05-26 until:2012-10-19', ' near:\"Clark County, WA\" since:2012-10-19 until:2013-03-14', ' near:\"Clark County, WA\" since:2013-03-14 until:2013-08-07', ' near:\"Clark County, WA\" since:2013-08-07 until:2013-12-31', ' near:\"Clark County, WA\" since:2013-12-31 until:2014-05-26', ' near:\"Clark County, WA\" since:2014-05-26 until:2014-10-19', ' near:\"Clark County, WA\" since:2014-10-19 until:2015-03-14', ' near:\"Clark County, WA\" since:2015-03-14 until:2015-08-07', ' near:\"Clark County, WA\" since:2015-08-07 until:2015-12-31', ' near:\"Clark County, WA\" since:2015-12-31 until:2016-05-25', ' near:\"Clark County, WA\" since:2016-05-25 until:2016-10-18', ' near:\"Clark County, WA\" since:2016-10-18 until:2017-03-13', ' near:\"Clark County, WA\" since:2017-03-13 until:2017-08-06', ' near:\"Clark County, WA\" since:2017-08-06 until:2017-12-30', ' near:\"Clark County, WA\" since:2017-12-30 until:2018-05-25', ' near:\"Clark County, WA\" since:2018-05-25 until:2018-10-18', ' near:\"Clark County, WA\" since:2018-10-18 until:2019-03-13', ' near:\"Clark County, WA\" since:2019-03-13 until:2019-08-06', ' near:\"Clark County, WA\" since:2019-08-06 until:2019-12-31']\n",
      "INFO: Got 19 tweets (19 new).\n",
      "INFO: Got 39 tweets (20 new).\n",
      "INFO: Got 59 tweets (20 new).\n",
      "INFO: Got 79 tweets (20 new).\n",
      "INFO: Got 98 tweets (19 new).\n",
      "INFO: Got 117 tweets (19 new).\n",
      "INFO: Got 135 tweets (18 new).\n",
      "INFO: Got 151 tweets (16 new).\n",
      "INFO: Got 171 tweets (20 new).\n",
      "INFO: Got 191 tweets (20 new).\n",
      "INFO: Got 210 tweets (19 new).\n",
      "INFO: Got 230 tweets (20 new).\n",
      "INFO: Got 250 tweets (20 new).\n",
      "INFO: Got 270 tweets (20 new).\n",
      "INFO: Got 287 tweets (17 new).\n",
      "INFO: Got 307 tweets (20 new).\n",
      "INFO: Got 326 tweets (19 new).\n",
      "INFO: Got 346 tweets (20 new).\n",
      "INFO: Got 366 tweets (20 new).\n",
      "INFO: Got 386 tweets (20 new).\n"
     ]
    },
    {
     "name": "stdout",
     "output_type": "stream",
     "text": [
      "Clark\n"
     ]
    },
    {
     "name": "stderr",
     "output_type": "stream",
     "text": [
      "INFO: queries: [' near:\"Kittitas County, WA\" since:2012-01-01 until:2012-05-26', ' near:\"Kittitas County, WA\" since:2012-05-26 until:2012-10-19', ' near:\"Kittitas County, WA\" since:2012-10-19 until:2013-03-14', ' near:\"Kittitas County, WA\" since:2013-03-14 until:2013-08-07', ' near:\"Kittitas County, WA\" since:2013-08-07 until:2013-12-31', ' near:\"Kittitas County, WA\" since:2013-12-31 until:2014-05-26', ' near:\"Kittitas County, WA\" since:2014-05-26 until:2014-10-19', ' near:\"Kittitas County, WA\" since:2014-10-19 until:2015-03-14', ' near:\"Kittitas County, WA\" since:2015-03-14 until:2015-08-07', ' near:\"Kittitas County, WA\" since:2015-08-07 until:2015-12-31', ' near:\"Kittitas County, WA\" since:2015-12-31 until:2016-05-25', ' near:\"Kittitas County, WA\" since:2016-05-25 until:2016-10-18', ' near:\"Kittitas County, WA\" since:2016-10-18 until:2017-03-13', ' near:\"Kittitas County, WA\" since:2017-03-13 until:2017-08-06', ' near:\"Kittitas County, WA\" since:2017-08-06 until:2017-12-30', ' near:\"Kittitas County, WA\" since:2017-12-30 until:2018-05-25', ' near:\"Kittitas County, WA\" since:2018-05-25 until:2018-10-18', ' near:\"Kittitas County, WA\" since:2018-10-18 until:2019-03-13', ' near:\"Kittitas County, WA\" since:2019-03-13 until:2019-08-06', ' near:\"Kittitas County, WA\" since:2019-08-06 until:2019-12-31']\n",
      "INFO: Got 19 tweets (19 new).\n",
      "INFO: Got 38 tweets (19 new).\n",
      "INFO: Got 58 tweets (20 new).\n",
      "INFO: Got 78 tweets (20 new).\n",
      "INFO: Got 96 tweets (18 new).\n",
      "INFO: Got 116 tweets (20 new).\n",
      "INFO: Got 136 tweets (20 new).\n",
      "INFO: Got 156 tweets (20 new).\n",
      "INFO: Got 176 tweets (20 new).\n",
      "INFO: Got 196 tweets (20 new).\n",
      "INFO: Got 215 tweets (19 new).\n",
      "INFO: Got 235 tweets (20 new).\n",
      "INFO: Got 255 tweets (20 new).\n",
      "INFO: Got 275 tweets (20 new).\n",
      "INFO: Got 295 tweets (20 new).\n",
      "INFO: Got 315 tweets (20 new).\n",
      "INFO: Got 335 tweets (20 new).\n",
      "INFO: Got 354 tweets (19 new).\n",
      "INFO: Got 374 tweets (20 new).\n",
      "INFO: Got 393 tweets (19 new).\n"
     ]
    },
    {
     "name": "stdout",
     "output_type": "stream",
     "text": [
      "Kittitas\n"
     ]
    }
   ],
   "source": [
    "# query for each county just over time, not outages\n",
    "\n",
    "tweets_dict = {} # key is index of row in wa df\n",
    "for cty in wa['Area Affected'].unique(): # all counties in wa w/ outages\n",
    "    \n",
    "    near = cty\n",
    "    \n",
    "    tweets = custom_query(near, None, None, '', 3)\n",
    "    tweets_dict[cty] = tweets\n",
    "    \n",
    "    print(cty)"
   ]
  },
  {
   "cell_type": "code",
   "execution_count": 19,
   "metadata": {},
   "outputs": [],
   "source": [
    "# assemble tweet info into dataframe\n",
    "\n",
    "df_list = []\n",
    "\n",
    "for k,v in tweets_dict.items():\n",
    "    _df = pd.DataFrame({'event_row_or_county':k,\n",
    "                        'timestamp':[t.timestamp for t in v],\n",
    "                        'text':[t.text for t in v],\n",
    "                        'outage':0})\n",
    "    df_list.append(_df)\n",
    "    \n",
    "tweets_df_0 = pd.concat(df_list)"
   ]
  },
  {
   "cell_type": "code",
   "execution_count": 63,
   "metadata": {},
   "outputs": [
    {
     "name": "stderr",
     "output_type": "stream",
     "text": [
      "INFO: queries: ['outage OR blackout OR power near:\"King County, WA\" since:2012-01-01 until:2012-05-26', 'outage OR blackout OR power near:\"King County, WA\" since:2012-05-26 until:2012-10-19', 'outage OR blackout OR power near:\"King County, WA\" since:2012-10-19 until:2013-03-14', 'outage OR blackout OR power near:\"King County, WA\" since:2013-03-14 until:2013-08-07', 'outage OR blackout OR power near:\"King County, WA\" since:2013-08-07 until:2013-12-31', 'outage OR blackout OR power near:\"King County, WA\" since:2013-12-31 until:2014-05-26', 'outage OR blackout OR power near:\"King County, WA\" since:2014-05-26 until:2014-10-19', 'outage OR blackout OR power near:\"King County, WA\" since:2014-10-19 until:2015-03-14', 'outage OR blackout OR power near:\"King County, WA\" since:2015-03-14 until:2015-08-07', 'outage OR blackout OR power near:\"King County, WA\" since:2015-08-07 until:2015-12-31', 'outage OR blackout OR power near:\"King County, WA\" since:2015-12-31 until:2016-05-25', 'outage OR blackout OR power near:\"King County, WA\" since:2016-05-25 until:2016-10-18', 'outage OR blackout OR power near:\"King County, WA\" since:2016-10-18 until:2017-03-13', 'outage OR blackout OR power near:\"King County, WA\" since:2017-03-13 until:2017-08-06', 'outage OR blackout OR power near:\"King County, WA\" since:2017-08-06 until:2017-12-30', 'outage OR blackout OR power near:\"King County, WA\" since:2017-12-30 until:2018-05-25', 'outage OR blackout OR power near:\"King County, WA\" since:2018-05-25 until:2018-10-18', 'outage OR blackout OR power near:\"King County, WA\" since:2018-10-18 until:2019-03-13', 'outage OR blackout OR power near:\"King County, WA\" since:2019-03-13 until:2019-08-06', 'outage OR blackout OR power near:\"King County, WA\" since:2019-08-06 until:2019-12-31']\n",
      "INFO: Got 11 tweets (11 new).\n",
      "INFO: Got 31 tweets (20 new).\n",
      "INFO: Got 51 tweets (20 new).\n",
      "INFO: Got 57 tweets (6 new).\n",
      "INFO: Got 75 tweets (18 new).\n",
      "INFO: Got 84 tweets (9 new).\n",
      "INFO: Got 103 tweets (19 new).\n",
      "INFO: Got 109 tweets (6 new).\n",
      "INFO: Got 116 tweets (7 new).\n",
      "INFO: Got 136 tweets (20 new).\n",
      "INFO: Got 142 tweets (6 new).\n",
      "INFO: Got 158 tweets (16 new).\n",
      "INFO: Got 167 tweets (9 new).\n",
      "INFO: Got 184 tweets (17 new).\n",
      "INFO: Got 202 tweets (18 new).\n",
      "INFO: Got 222 tweets (20 new).\n",
      "INFO: Got 242 tweets (20 new).\n",
      "INFO: Got 261 tweets (19 new).\n",
      "INFO: Got 281 tweets (20 new).\n",
      "INFO: Got 301 tweets (20 new).\n"
     ]
    },
    {
     "name": "stdout",
     "output_type": "stream",
     "text": [
      "King\n"
     ]
    },
    {
     "name": "stderr",
     "output_type": "stream",
     "text": [
      "INFO: queries: ['outage OR blackout OR power near:\"Pierce County, WA\" since:2012-01-01 until:2012-05-26', 'outage OR blackout OR power near:\"Pierce County, WA\" since:2012-05-26 until:2012-10-19', 'outage OR blackout OR power near:\"Pierce County, WA\" since:2012-10-19 until:2013-03-14', 'outage OR blackout OR power near:\"Pierce County, WA\" since:2013-03-14 until:2013-08-07', 'outage OR blackout OR power near:\"Pierce County, WA\" since:2013-08-07 until:2013-12-31', 'outage OR blackout OR power near:\"Pierce County, WA\" since:2013-12-31 until:2014-05-26', 'outage OR blackout OR power near:\"Pierce County, WA\" since:2014-05-26 until:2014-10-19', 'outage OR blackout OR power near:\"Pierce County, WA\" since:2014-10-19 until:2015-03-14', 'outage OR blackout OR power near:\"Pierce County, WA\" since:2015-03-14 until:2015-08-07', 'outage OR blackout OR power near:\"Pierce County, WA\" since:2015-08-07 until:2015-12-31', 'outage OR blackout OR power near:\"Pierce County, WA\" since:2015-12-31 until:2016-05-25', 'outage OR blackout OR power near:\"Pierce County, WA\" since:2016-05-25 until:2016-10-18', 'outage OR blackout OR power near:\"Pierce County, WA\" since:2016-10-18 until:2017-03-13', 'outage OR blackout OR power near:\"Pierce County, WA\" since:2017-03-13 until:2017-08-06', 'outage OR blackout OR power near:\"Pierce County, WA\" since:2017-08-06 until:2017-12-30', 'outage OR blackout OR power near:\"Pierce County, WA\" since:2017-12-30 until:2018-05-25', 'outage OR blackout OR power near:\"Pierce County, WA\" since:2018-05-25 until:2018-10-18', 'outage OR blackout OR power near:\"Pierce County, WA\" since:2018-10-18 until:2019-03-13', 'outage OR blackout OR power near:\"Pierce County, WA\" since:2019-03-13 until:2019-08-06', 'outage OR blackout OR power near:\"Pierce County, WA\" since:2019-08-06 until:2019-12-31']\n",
      "INFO: Got 20 tweets (20 new).\n",
      "INFO: Got 39 tweets (19 new).\n",
      "INFO: Got 49 tweets (10 new).\n",
      "INFO: Got 56 tweets (7 new).\n",
      "INFO: Got 65 tweets (9 new).\n",
      "INFO: Got 79 tweets (14 new).\n",
      "INFO: Got 98 tweets (19 new).\n",
      "INFO: Got 106 tweets (8 new).\n",
      "INFO: Got 124 tweets (18 new).\n",
      "INFO: Got 143 tweets (19 new).\n",
      "INFO: Got 149 tweets (6 new).\n",
      "INFO: Got 166 tweets (17 new).\n",
      "INFO: Got 183 tweets (17 new).\n",
      "INFO: Got 198 tweets (15 new).\n",
      "INFO: Got 218 tweets (20 new).\n",
      "INFO: Got 236 tweets (18 new).\n",
      "INFO: Got 256 tweets (20 new).\n",
      "INFO: Got 276 tweets (20 new).\n",
      "INFO: Got 296 tweets (20 new).\n",
      "INFO: Got 314 tweets (18 new).\n"
     ]
    },
    {
     "name": "stdout",
     "output_type": "stream",
     "text": [
      "Pierce\n"
     ]
    },
    {
     "name": "stderr",
     "output_type": "stream",
     "text": [
      "INFO: queries: ['outage OR blackout OR power near:\"Thurston County, WA\" since:2012-01-01 until:2012-05-26', 'outage OR blackout OR power near:\"Thurston County, WA\" since:2012-05-26 until:2012-10-19', 'outage OR blackout OR power near:\"Thurston County, WA\" since:2012-10-19 until:2013-03-14', 'outage OR blackout OR power near:\"Thurston County, WA\" since:2013-03-14 until:2013-08-07', 'outage OR blackout OR power near:\"Thurston County, WA\" since:2013-08-07 until:2013-12-31', 'outage OR blackout OR power near:\"Thurston County, WA\" since:2013-12-31 until:2014-05-26', 'outage OR blackout OR power near:\"Thurston County, WA\" since:2014-05-26 until:2014-10-19', 'outage OR blackout OR power near:\"Thurston County, WA\" since:2014-10-19 until:2015-03-14', 'outage OR blackout OR power near:\"Thurston County, WA\" since:2015-03-14 until:2015-08-07', 'outage OR blackout OR power near:\"Thurston County, WA\" since:2015-08-07 until:2015-12-31', 'outage OR blackout OR power near:\"Thurston County, WA\" since:2015-12-31 until:2016-05-25', 'outage OR blackout OR power near:\"Thurston County, WA\" since:2016-05-25 until:2016-10-18', 'outage OR blackout OR power near:\"Thurston County, WA\" since:2016-10-18 until:2017-03-13', 'outage OR blackout OR power near:\"Thurston County, WA\" since:2017-03-13 until:2017-08-06', 'outage OR blackout OR power near:\"Thurston County, WA\" since:2017-08-06 until:2017-12-30', 'outage OR blackout OR power near:\"Thurston County, WA\" since:2017-12-30 until:2018-05-25', 'outage OR blackout OR power near:\"Thurston County, WA\" since:2018-05-25 until:2018-10-18', 'outage OR blackout OR power near:\"Thurston County, WA\" since:2018-10-18 until:2019-03-13', 'outage OR blackout OR power near:\"Thurston County, WA\" since:2019-03-13 until:2019-08-06', 'outage OR blackout OR power near:\"Thurston County, WA\" since:2019-08-06 until:2019-12-31']\n",
      "INFO: Got 20 tweets (20 new).\n",
      "INFO: Got 40 tweets (20 new).\n",
      "INFO: Got 50 tweets (10 new).\n",
      "INFO: Got 64 tweets (14 new).\n",
      "INFO: Got 80 tweets (16 new).\n",
      "INFO: Got 100 tweets (20 new).\n",
      "INFO: Got 108 tweets (8 new).\n",
      "INFO: Got 115 tweets (7 new).\n",
      "INFO: Got 135 tweets (20 new).\n",
      "INFO: Got 155 tweets (20 new).\n",
      "INFO: Got 175 tweets (20 new).\n",
      "INFO: Got 194 tweets (19 new).\n",
      "INFO: Got 214 tweets (20 new).\n",
      "INFO: Got 234 tweets (20 new).\n",
      "INFO: Got 254 tweets (20 new).\n",
      "INFO: Got 274 tweets (20 new).\n",
      "INFO: Got 288 tweets (14 new).\n",
      "INFO: Got 304 tweets (16 new).\n",
      "INFO: Got 317 tweets (13 new).\n",
      "INFO: Got 337 tweets (20 new).\n"
     ]
    },
    {
     "name": "stdout",
     "output_type": "stream",
     "text": [
      "Thurston\n"
     ]
    },
    {
     "name": "stderr",
     "output_type": "stream",
     "text": [
      "INFO: queries: ['outage OR blackout OR power near:\"WA\" since:2012-01-01 until:2012-05-26', 'outage OR blackout OR power near:\"WA\" since:2012-05-26 until:2012-10-19', 'outage OR blackout OR power near:\"WA\" since:2012-10-19 until:2013-03-14', 'outage OR blackout OR power near:\"WA\" since:2013-03-14 until:2013-08-07', 'outage OR blackout OR power near:\"WA\" since:2013-08-07 until:2013-12-31', 'outage OR blackout OR power near:\"WA\" since:2013-12-31 until:2014-05-26', 'outage OR blackout OR power near:\"WA\" since:2014-05-26 until:2014-10-19', 'outage OR blackout OR power near:\"WA\" since:2014-10-19 until:2015-03-14', 'outage OR blackout OR power near:\"WA\" since:2015-03-14 until:2015-08-07', 'outage OR blackout OR power near:\"WA\" since:2015-08-07 until:2015-12-31', 'outage OR blackout OR power near:\"WA\" since:2015-12-31 until:2016-05-25', 'outage OR blackout OR power near:\"WA\" since:2016-05-25 until:2016-10-18', 'outage OR blackout OR power near:\"WA\" since:2016-10-18 until:2017-03-13', 'outage OR blackout OR power near:\"WA\" since:2017-03-13 until:2017-08-06', 'outage OR blackout OR power near:\"WA\" since:2017-08-06 until:2017-12-30', 'outage OR blackout OR power near:\"WA\" since:2017-12-30 until:2018-05-25', 'outage OR blackout OR power near:\"WA\" since:2018-05-25 until:2018-10-18', 'outage OR blackout OR power near:\"WA\" since:2018-10-18 until:2019-03-13', 'outage OR blackout OR power near:\"WA\" since:2019-03-13 until:2019-08-06', 'outage OR blackout OR power near:\"WA\" since:2019-08-06 until:2019-12-31']\n",
      "INFO: Got 1 tweets (1 new).\n",
      "INFO: Got 2 tweets (1 new).\n",
      "INFO: Got 4 tweets (2 new).\n",
      "INFO: Got 9 tweets (5 new).\n",
      "INFO: Got 12 tweets (3 new).\n",
      "INFO: Got 16 tweets (4 new).\n",
      "INFO: Got 17 tweets (1 new).\n",
      "INFO: Got 21 tweets (4 new).\n",
      "INFO: Got 24 tweets (3 new).\n",
      "INFO: Got 33 tweets (9 new).\n",
      "INFO: Got 46 tweets (13 new).\n",
      "INFO: Got 48 tweets (2 new).\n",
      "INFO: Got 48 tweets (0 new).\n",
      "INFO: Got 48 tweets (0 new).\n",
      "INFO: Got 48 tweets (0 new).\n",
      "INFO: Got 48 tweets (0 new).\n",
      "INFO: Got 48 tweets (0 new).\n",
      "INFO: Got 48 tweets (0 new).\n",
      "INFO: Got 48 tweets (0 new).\n",
      "INFO: Got 48 tweets (0 new).\n"
     ]
    },
    {
     "name": "stdout",
     "output_type": "stream",
     "text": [
      "WA\n"
     ]
    },
    {
     "name": "stderr",
     "output_type": "stream",
     "text": [
      "INFO: queries: ['outage OR blackout OR power near:\"Whatcom County, WA\" since:2012-01-01 until:2012-05-26', 'outage OR blackout OR power near:\"Whatcom County, WA\" since:2012-05-26 until:2012-10-19', 'outage OR blackout OR power near:\"Whatcom County, WA\" since:2012-10-19 until:2013-03-14', 'outage OR blackout OR power near:\"Whatcom County, WA\" since:2013-03-14 until:2013-08-07', 'outage OR blackout OR power near:\"Whatcom County, WA\" since:2013-08-07 until:2013-12-31', 'outage OR blackout OR power near:\"Whatcom County, WA\" since:2013-12-31 until:2014-05-26', 'outage OR blackout OR power near:\"Whatcom County, WA\" since:2014-05-26 until:2014-10-19', 'outage OR blackout OR power near:\"Whatcom County, WA\" since:2014-10-19 until:2015-03-14', 'outage OR blackout OR power near:\"Whatcom County, WA\" since:2015-03-14 until:2015-08-07', 'outage OR blackout OR power near:\"Whatcom County, WA\" since:2015-08-07 until:2015-12-31', 'outage OR blackout OR power near:\"Whatcom County, WA\" since:2015-12-31 until:2016-05-25', 'outage OR blackout OR power near:\"Whatcom County, WA\" since:2016-05-25 until:2016-10-18', 'outage OR blackout OR power near:\"Whatcom County, WA\" since:2016-10-18 until:2017-03-13', 'outage OR blackout OR power near:\"Whatcom County, WA\" since:2017-03-13 until:2017-08-06', 'outage OR blackout OR power near:\"Whatcom County, WA\" since:2017-08-06 until:2017-12-30', 'outage OR blackout OR power near:\"Whatcom County, WA\" since:2017-12-30 until:2018-05-25', 'outage OR blackout OR power near:\"Whatcom County, WA\" since:2018-05-25 until:2018-10-18', 'outage OR blackout OR power near:\"Whatcom County, WA\" since:2018-10-18 until:2019-03-13', 'outage OR blackout OR power near:\"Whatcom County, WA\" since:2019-03-13 until:2019-08-06', 'outage OR blackout OR power near:\"Whatcom County, WA\" since:2019-08-06 until:2019-12-31']\n",
      "INFO: Got 1 tweets (1 new).\n",
      "INFO: Got 4 tweets (3 new).\n",
      "INFO: Got 5 tweets (1 new).\n",
      "INFO: Got 7 tweets (2 new).\n",
      "INFO: Got 8 tweets (1 new).\n",
      "INFO: Got 9 tweets (1 new).\n",
      "INFO: Got 10 tweets (1 new).\n",
      "INFO: Got 11 tweets (1 new).\n",
      "INFO: Got 14 tweets (3 new).\n",
      "INFO: Got 15 tweets (1 new).\n",
      "INFO: Got 15 tweets (0 new).\n",
      "INFO: Got 15 tweets (0 new).\n",
      "INFO: Got 15 tweets (0 new).\n",
      "INFO: Got 15 tweets (0 new).\n",
      "INFO: Got 15 tweets (0 new).\n",
      "INFO: Got 15 tweets (0 new).\n",
      "INFO: Got 15 tweets (0 new).\n",
      "INFO: Got 15 tweets (0 new).\n",
      "INFO: Got 15 tweets (0 new).\n",
      "INFO: Got 15 tweets (0 new).\n"
     ]
    },
    {
     "name": "stdout",
     "output_type": "stream",
     "text": [
      "Whatcom\n"
     ]
    },
    {
     "name": "stderr",
     "output_type": "stream",
     "text": [
      "INFO: queries: ['outage OR blackout OR power near:\"Skagit County, WA\" since:2012-01-01 until:2012-05-26', 'outage OR blackout OR power near:\"Skagit County, WA\" since:2012-05-26 until:2012-10-19', 'outage OR blackout OR power near:\"Skagit County, WA\" since:2012-10-19 until:2013-03-14', 'outage OR blackout OR power near:\"Skagit County, WA\" since:2013-03-14 until:2013-08-07', 'outage OR blackout OR power near:\"Skagit County, WA\" since:2013-08-07 until:2013-12-31', 'outage OR blackout OR power near:\"Skagit County, WA\" since:2013-12-31 until:2014-05-26', 'outage OR blackout OR power near:\"Skagit County, WA\" since:2014-05-26 until:2014-10-19', 'outage OR blackout OR power near:\"Skagit County, WA\" since:2014-10-19 until:2015-03-14', 'outage OR blackout OR power near:\"Skagit County, WA\" since:2015-03-14 until:2015-08-07', 'outage OR blackout OR power near:\"Skagit County, WA\" since:2015-08-07 until:2015-12-31', 'outage OR blackout OR power near:\"Skagit County, WA\" since:2015-12-31 until:2016-05-25', 'outage OR blackout OR power near:\"Skagit County, WA\" since:2016-05-25 until:2016-10-18', 'outage OR blackout OR power near:\"Skagit County, WA\" since:2016-10-18 until:2017-03-13', 'outage OR blackout OR power near:\"Skagit County, WA\" since:2017-03-13 until:2017-08-06', 'outage OR blackout OR power near:\"Skagit County, WA\" since:2017-08-06 until:2017-12-30', 'outage OR blackout OR power near:\"Skagit County, WA\" since:2017-12-30 until:2018-05-25', 'outage OR blackout OR power near:\"Skagit County, WA\" since:2018-05-25 until:2018-10-18', 'outage OR blackout OR power near:\"Skagit County, WA\" since:2018-10-18 until:2019-03-13', 'outage OR blackout OR power near:\"Skagit County, WA\" since:2019-03-13 until:2019-08-06', 'outage OR blackout OR power near:\"Skagit County, WA\" since:2019-08-06 until:2019-12-31']\n",
      "INFO: Got 1 tweets (1 new).\n",
      "INFO: Got 2 tweets (1 new).\n",
      "INFO: Got 3 tweets (1 new).\n",
      "INFO: Got 4 tweets (1 new).\n",
      "INFO: Got 6 tweets (2 new).\n",
      "INFO: Got 7 tweets (1 new).\n",
      "INFO: Got 8 tweets (1 new).\n",
      "INFO: Got 9 tweets (1 new).\n",
      "INFO: Got 9 tweets (0 new).\n",
      "INFO: Got 9 tweets (0 new).\n",
      "INFO: Got 9 tweets (0 new).\n",
      "INFO: Got 9 tweets (0 new).\n",
      "INFO: Got 9 tweets (0 new).\n",
      "INFO: Got 9 tweets (0 new).\n",
      "INFO: Got 9 tweets (0 new).\n",
      "INFO: Got 9 tweets (0 new).\n",
      "INFO: Got 9 tweets (0 new).\n",
      "INFO: Got 9 tweets (0 new).\n",
      "INFO: Got 9 tweets (0 new).\n",
      "INFO: Got 9 tweets (0 new).\n"
     ]
    },
    {
     "name": "stdout",
     "output_type": "stream",
     "text": [
      "Skagit\n"
     ]
    },
    {
     "name": "stderr",
     "output_type": "stream",
     "text": [
      "INFO: queries: ['outage OR blackout OR power near:\"Kitsap County, WA\" since:2012-01-01 until:2012-05-26', 'outage OR blackout OR power near:\"Kitsap County, WA\" since:2012-05-26 until:2012-10-19', 'outage OR blackout OR power near:\"Kitsap County, WA\" since:2012-10-19 until:2013-03-14', 'outage OR blackout OR power near:\"Kitsap County, WA\" since:2013-03-14 until:2013-08-07', 'outage OR blackout OR power near:\"Kitsap County, WA\" since:2013-08-07 until:2013-12-31', 'outage OR blackout OR power near:\"Kitsap County, WA\" since:2013-12-31 until:2014-05-26', 'outage OR blackout OR power near:\"Kitsap County, WA\" since:2014-05-26 until:2014-10-19', 'outage OR blackout OR power near:\"Kitsap County, WA\" since:2014-10-19 until:2015-03-14', 'outage OR blackout OR power near:\"Kitsap County, WA\" since:2015-03-14 until:2015-08-07', 'outage OR blackout OR power near:\"Kitsap County, WA\" since:2015-08-07 until:2015-12-31', 'outage OR blackout OR power near:\"Kitsap County, WA\" since:2015-12-31 until:2016-05-25', 'outage OR blackout OR power near:\"Kitsap County, WA\" since:2016-05-25 until:2016-10-18', 'outage OR blackout OR power near:\"Kitsap County, WA\" since:2016-10-18 until:2017-03-13', 'outage OR blackout OR power near:\"Kitsap County, WA\" since:2017-03-13 until:2017-08-06', 'outage OR blackout OR power near:\"Kitsap County, WA\" since:2017-08-06 until:2017-12-30', 'outage OR blackout OR power near:\"Kitsap County, WA\" since:2017-12-30 until:2018-05-25', 'outage OR blackout OR power near:\"Kitsap County, WA\" since:2018-05-25 until:2018-10-18', 'outage OR blackout OR power near:\"Kitsap County, WA\" since:2018-10-18 until:2019-03-13', 'outage OR blackout OR power near:\"Kitsap County, WA\" since:2019-03-13 until:2019-08-06', 'outage OR blackout OR power near:\"Kitsap County, WA\" since:2019-08-06 until:2019-12-31']\n",
      "INFO: Got 13 tweets (13 new).\n",
      "INFO: Got 33 tweets (20 new).\n",
      "INFO: Got 48 tweets (15 new).\n",
      "INFO: Got 57 tweets (9 new).\n",
      "INFO: Got 76 tweets (19 new).\n",
      "INFO: Got 85 tweets (9 new).\n",
      "INFO: Got 96 tweets (11 new).\n",
      "INFO: Got 114 tweets (18 new).\n",
      "INFO: Got 134 tweets (20 new).\n",
      "INFO: Got 154 tweets (20 new).\n",
      "INFO: Got 173 tweets (19 new).\n",
      "INFO: Got 193 tweets (20 new).\n",
      "INFO: Got 211 tweets (18 new).\n",
      "INFO: Got 225 tweets (14 new).\n",
      "INFO: Got 236 tweets (11 new).\n",
      "INFO: Got 256 tweets (20 new).\n",
      "INFO: Got 275 tweets (19 new).\n",
      "INFO: Got 295 tweets (20 new).\n",
      "INFO: Got 315 tweets (20 new).\n",
      "INFO: Got 333 tweets (18 new).\n"
     ]
    },
    {
     "name": "stdout",
     "output_type": "stream",
     "text": [
      "Kitsap\n"
     ]
    },
    {
     "name": "stderr",
     "output_type": "stream",
     "text": [
      "INFO: queries: ['outage OR blackout OR power near:\"Island County, WA\" since:2012-01-01 until:2012-05-26', 'outage OR blackout OR power near:\"Island County, WA\" since:2012-05-26 until:2012-10-19', 'outage OR blackout OR power near:\"Island County, WA\" since:2012-10-19 until:2013-03-14', 'outage OR blackout OR power near:\"Island County, WA\" since:2013-03-14 until:2013-08-07', 'outage OR blackout OR power near:\"Island County, WA\" since:2013-08-07 until:2013-12-31', 'outage OR blackout OR power near:\"Island County, WA\" since:2013-12-31 until:2014-05-26', 'outage OR blackout OR power near:\"Island County, WA\" since:2014-05-26 until:2014-10-19', 'outage OR blackout OR power near:\"Island County, WA\" since:2014-10-19 until:2015-03-14', 'outage OR blackout OR power near:\"Island County, WA\" since:2015-03-14 until:2015-08-07', 'outage OR blackout OR power near:\"Island County, WA\" since:2015-08-07 until:2015-12-31', 'outage OR blackout OR power near:\"Island County, WA\" since:2015-12-31 until:2016-05-25', 'outage OR blackout OR power near:\"Island County, WA\" since:2016-05-25 until:2016-10-18', 'outage OR blackout OR power near:\"Island County, WA\" since:2016-10-18 until:2017-03-13', 'outage OR blackout OR power near:\"Island County, WA\" since:2017-03-13 until:2017-08-06', 'outage OR blackout OR power near:\"Island County, WA\" since:2017-08-06 until:2017-12-30', 'outage OR blackout OR power near:\"Island County, WA\" since:2017-12-30 until:2018-05-25', 'outage OR blackout OR power near:\"Island County, WA\" since:2018-05-25 until:2018-10-18', 'outage OR blackout OR power near:\"Island County, WA\" since:2018-10-18 until:2019-03-13', 'outage OR blackout OR power near:\"Island County, WA\" since:2019-03-13 until:2019-08-06', 'outage OR blackout OR power near:\"Island County, WA\" since:2019-08-06 until:2019-12-31']\n",
      "INFO: Got 8 tweets (8 new).\n",
      "INFO: Got 16 tweets (8 new).\n",
      "INFO: Got 35 tweets (19 new).\n",
      "INFO: Got 38 tweets (3 new).\n",
      "INFO: Got 39 tweets (1 new).\n",
      "INFO: Got 43 tweets (4 new).\n",
      "INFO: Got 46 tweets (3 new).\n",
      "INFO: Got 50 tweets (4 new).\n",
      "INFO: Got 54 tweets (4 new).\n",
      "INFO: Got 62 tweets (8 new).\n",
      "INFO: Got 82 tweets (20 new).\n",
      "INFO: Got 88 tweets (6 new).\n",
      "INFO: Got 106 tweets (18 new).\n",
      "INFO: Got 126 tweets (20 new).\n",
      "INFO: Got 135 tweets (9 new).\n",
      "INFO: Got 154 tweets (19 new).\n",
      "INFO: Got 173 tweets (19 new).\n",
      "INFO: Got 192 tweets (19 new).\n",
      "INFO: Got 211 tweets (19 new).\n",
      "INFO: Got 211 tweets (0 new).\n"
     ]
    },
    {
     "name": "stdout",
     "output_type": "stream",
     "text": [
      "Island\n"
     ]
    },
    {
     "name": "stderr",
     "output_type": "stream",
     "text": [
      "INFO: queries: ['outage OR blackout OR power near:\"Snohomish County, WA\" since:2012-01-01 until:2012-05-26', 'outage OR blackout OR power near:\"Snohomish County, WA\" since:2012-05-26 until:2012-10-19', 'outage OR blackout OR power near:\"Snohomish County, WA\" since:2012-10-19 until:2013-03-14', 'outage OR blackout OR power near:\"Snohomish County, WA\" since:2013-03-14 until:2013-08-07', 'outage OR blackout OR power near:\"Snohomish County, WA\" since:2013-08-07 until:2013-12-31', 'outage OR blackout OR power near:\"Snohomish County, WA\" since:2013-12-31 until:2014-05-26', 'outage OR blackout OR power near:\"Snohomish County, WA\" since:2014-05-26 until:2014-10-19', 'outage OR blackout OR power near:\"Snohomish County, WA\" since:2014-10-19 until:2015-03-14', 'outage OR blackout OR power near:\"Snohomish County, WA\" since:2015-03-14 until:2015-08-07', 'outage OR blackout OR power near:\"Snohomish County, WA\" since:2015-08-07 until:2015-12-31', 'outage OR blackout OR power near:\"Snohomish County, WA\" since:2015-12-31 until:2016-05-25', 'outage OR blackout OR power near:\"Snohomish County, WA\" since:2016-05-25 until:2016-10-18', 'outage OR blackout OR power near:\"Snohomish County, WA\" since:2016-10-18 until:2017-03-13', 'outage OR blackout OR power near:\"Snohomish County, WA\" since:2017-03-13 until:2017-08-06', 'outage OR blackout OR power near:\"Snohomish County, WA\" since:2017-08-06 until:2017-12-30', 'outage OR blackout OR power near:\"Snohomish County, WA\" since:2017-12-30 until:2018-05-25', 'outage OR blackout OR power near:\"Snohomish County, WA\" since:2018-05-25 until:2018-10-18', 'outage OR blackout OR power near:\"Snohomish County, WA\" since:2018-10-18 until:2019-03-13', 'outage OR blackout OR power near:\"Snohomish County, WA\" since:2019-03-13 until:2019-08-06', 'outage OR blackout OR power near:\"Snohomish County, WA\" since:2019-08-06 until:2019-12-31']\n",
      "INFO: Got 3 tweets (3 new).\n",
      "INFO: Got 4 tweets (1 new).\n",
      "INFO: Got 10 tweets (6 new).\n",
      "INFO: Got 17 tweets (7 new).\n",
      "INFO: Got 28 tweets (11 new).\n",
      "INFO: Got 30 tweets (2 new).\n",
      "INFO: Got 39 tweets (9 new).\n",
      "INFO: Got 41 tweets (2 new).\n",
      "INFO: Got 43 tweets (2 new).\n",
      "INFO: Got 47 tweets (4 new).\n",
      "INFO: Got 51 tweets (4 new).\n",
      "INFO: Got 59 tweets (8 new).\n",
      "INFO: Got 64 tweets (5 new).\n",
      "INFO: Got 66 tweets (2 new).\n",
      "INFO: Got 77 tweets (11 new).\n",
      "INFO: Got 80 tweets (3 new).\n",
      "INFO: Got 80 tweets (0 new).\n",
      "INFO: Got 80 tweets (0 new).\n",
      "INFO: Got 80 tweets (0 new).\n",
      "INFO: Got 80 tweets (0 new).\n"
     ]
    },
    {
     "name": "stdout",
     "output_type": "stream",
     "text": [
      "Snohomish\n"
     ]
    },
    {
     "name": "stderr",
     "output_type": "stream",
     "text": [
      "INFO: queries: ['outage OR blackout OR power near:\"Stevens County, WA\" since:2012-01-01 until:2012-05-26', 'outage OR blackout OR power near:\"Stevens County, WA\" since:2012-05-26 until:2012-10-19', 'outage OR blackout OR power near:\"Stevens County, WA\" since:2012-10-19 until:2013-03-14', 'outage OR blackout OR power near:\"Stevens County, WA\" since:2013-03-14 until:2013-08-07', 'outage OR blackout OR power near:\"Stevens County, WA\" since:2013-08-07 until:2013-12-31', 'outage OR blackout OR power near:\"Stevens County, WA\" since:2013-12-31 until:2014-05-26', 'outage OR blackout OR power near:\"Stevens County, WA\" since:2014-05-26 until:2014-10-19', 'outage OR blackout OR power near:\"Stevens County, WA\" since:2014-10-19 until:2015-03-14', 'outage OR blackout OR power near:\"Stevens County, WA\" since:2015-03-14 until:2015-08-07', 'outage OR blackout OR power near:\"Stevens County, WA\" since:2015-08-07 until:2015-12-31', 'outage OR blackout OR power near:\"Stevens County, WA\" since:2015-12-31 until:2016-05-25', 'outage OR blackout OR power near:\"Stevens County, WA\" since:2016-05-25 until:2016-10-18', 'outage OR blackout OR power near:\"Stevens County, WA\" since:2016-10-18 until:2017-03-13', 'outage OR blackout OR power near:\"Stevens County, WA\" since:2017-03-13 until:2017-08-06', 'outage OR blackout OR power near:\"Stevens County, WA\" since:2017-08-06 until:2017-12-30', 'outage OR blackout OR power near:\"Stevens County, WA\" since:2017-12-30 until:2018-05-25', 'outage OR blackout OR power near:\"Stevens County, WA\" since:2018-05-25 until:2018-10-18', 'outage OR blackout OR power near:\"Stevens County, WA\" since:2018-10-18 until:2019-03-13', 'outage OR blackout OR power near:\"Stevens County, WA\" since:2019-03-13 until:2019-08-06', 'outage OR blackout OR power near:\"Stevens County, WA\" since:2019-08-06 until:2019-12-31']\n",
      "INFO: Got 3 tweets (3 new).\n",
      "INFO: Got 4 tweets (1 new).\n",
      "INFO: Got 9 tweets (5 new).\n",
      "INFO: Got 10 tweets (1 new).\n",
      "INFO: Got 14 tweets (4 new).\n",
      "INFO: Got 16 tweets (2 new).\n",
      "INFO: Got 17 tweets (1 new).\n",
      "INFO: Got 19 tweets (2 new).\n",
      "INFO: Got 20 tweets (1 new).\n",
      "INFO: Got 20 tweets (0 new).\n",
      "INFO: Got 20 tweets (0 new).\n",
      "INFO: Got 20 tweets (0 new).\n",
      "INFO: Got 20 tweets (0 new).\n",
      "INFO: Got 20 tweets (0 new).\n",
      "INFO: Got 20 tweets (0 new).\n",
      "INFO: Got 20 tweets (0 new).\n",
      "INFO: Got 20 tweets (0 new).\n",
      "INFO: Got 20 tweets (0 new).\n",
      "INFO: Got 20 tweets (0 new).\n",
      "INFO: Got 20 tweets (0 new).\n"
     ]
    },
    {
     "name": "stdout",
     "output_type": "stream",
     "text": [
      "Stevens\n"
     ]
    },
    {
     "name": "stderr",
     "output_type": "stream",
     "text": [
      "INFO: queries: ['outage OR blackout OR power near:\"Lincoln County, WA\" since:2012-01-01 until:2012-05-26', 'outage OR blackout OR power near:\"Lincoln County, WA\" since:2012-05-26 until:2012-10-19', 'outage OR blackout OR power near:\"Lincoln County, WA\" since:2012-10-19 until:2013-03-14', 'outage OR blackout OR power near:\"Lincoln County, WA\" since:2013-03-14 until:2013-08-07', 'outage OR blackout OR power near:\"Lincoln County, WA\" since:2013-08-07 until:2013-12-31', 'outage OR blackout OR power near:\"Lincoln County, WA\" since:2013-12-31 until:2014-05-26', 'outage OR blackout OR power near:\"Lincoln County, WA\" since:2014-05-26 until:2014-10-19', 'outage OR blackout OR power near:\"Lincoln County, WA\" since:2014-10-19 until:2015-03-14', 'outage OR blackout OR power near:\"Lincoln County, WA\" since:2015-03-14 until:2015-08-07', 'outage OR blackout OR power near:\"Lincoln County, WA\" since:2015-08-07 until:2015-12-31', 'outage OR blackout OR power near:\"Lincoln County, WA\" since:2015-12-31 until:2016-05-25', 'outage OR blackout OR power near:\"Lincoln County, WA\" since:2016-05-25 until:2016-10-18', 'outage OR blackout OR power near:\"Lincoln County, WA\" since:2016-10-18 until:2017-03-13', 'outage OR blackout OR power near:\"Lincoln County, WA\" since:2017-03-13 until:2017-08-06', 'outage OR blackout OR power near:\"Lincoln County, WA\" since:2017-08-06 until:2017-12-30', 'outage OR blackout OR power near:\"Lincoln County, WA\" since:2017-12-30 until:2018-05-25', 'outage OR blackout OR power near:\"Lincoln County, WA\" since:2018-05-25 until:2018-10-18', 'outage OR blackout OR power near:\"Lincoln County, WA\" since:2018-10-18 until:2019-03-13', 'outage OR blackout OR power near:\"Lincoln County, WA\" since:2019-03-13 until:2019-08-06', 'outage OR blackout OR power near:\"Lincoln County, WA\" since:2019-08-06 until:2019-12-31']\n",
      "INFO: Got 19 tweets (19 new).\n",
      "INFO: Got 39 tweets (20 new).\n",
      "INFO: Got 57 tweets (18 new).\n",
      "INFO: Got 76 tweets (19 new).\n",
      "INFO: Got 94 tweets (18 new).\n",
      "INFO: Got 113 tweets (19 new).\n",
      "INFO: Got 133 tweets (20 new).\n",
      "INFO: Got 152 tweets (19 new).\n",
      "INFO: Got 170 tweets (18 new).\n",
      "INFO: Got 188 tweets (18 new).\n",
      "INFO: Got 208 tweets (20 new).\n",
      "INFO: Got 227 tweets (19 new).\n",
      "INFO: Got 246 tweets (19 new).\n",
      "INFO: Got 265 tweets (19 new).\n",
      "INFO: Got 283 tweets (18 new).\n",
      "INFO: Got 302 tweets (19 new).\n",
      "INFO: Got 320 tweets (18 new).\n",
      "INFO: Got 339 tweets (19 new).\n",
      "INFO: Got 359 tweets (20 new).\n",
      "INFO: Got 377 tweets (18 new).\n"
     ]
    },
    {
     "name": "stdout",
     "output_type": "stream",
     "text": [
      "Lincoln\n"
     ]
    },
    {
     "name": "stderr",
     "output_type": "stream",
     "text": [
      "INFO: queries: ['outage OR blackout OR power near:\"Adams County, WA\" since:2012-01-01 until:2012-05-26', 'outage OR blackout OR power near:\"Adams County, WA\" since:2012-05-26 until:2012-10-19', 'outage OR blackout OR power near:\"Adams County, WA\" since:2012-10-19 until:2013-03-14', 'outage OR blackout OR power near:\"Adams County, WA\" since:2013-03-14 until:2013-08-07', 'outage OR blackout OR power near:\"Adams County, WA\" since:2013-08-07 until:2013-12-31', 'outage OR blackout OR power near:\"Adams County, WA\" since:2013-12-31 until:2014-05-26', 'outage OR blackout OR power near:\"Adams County, WA\" since:2014-05-26 until:2014-10-19', 'outage OR blackout OR power near:\"Adams County, WA\" since:2014-10-19 until:2015-03-14', 'outage OR blackout OR power near:\"Adams County, WA\" since:2015-03-14 until:2015-08-07', 'outage OR blackout OR power near:\"Adams County, WA\" since:2015-08-07 until:2015-12-31', 'outage OR blackout OR power near:\"Adams County, WA\" since:2015-12-31 until:2016-05-25', 'outage OR blackout OR power near:\"Adams County, WA\" since:2016-05-25 until:2016-10-18', 'outage OR blackout OR power near:\"Adams County, WA\" since:2016-10-18 until:2017-03-13', 'outage OR blackout OR power near:\"Adams County, WA\" since:2017-03-13 until:2017-08-06', 'outage OR blackout OR power near:\"Adams County, WA\" since:2017-08-06 until:2017-12-30', 'outage OR blackout OR power near:\"Adams County, WA\" since:2017-12-30 until:2018-05-25', 'outage OR blackout OR power near:\"Adams County, WA\" since:2018-05-25 until:2018-10-18', 'outage OR blackout OR power near:\"Adams County, WA\" since:2018-10-18 until:2019-03-13', 'outage OR blackout OR power near:\"Adams County, WA\" since:2019-03-13 until:2019-08-06', 'outage OR blackout OR power near:\"Adams County, WA\" since:2019-08-06 until:2019-12-31']\n",
      "INFO: Got 19 tweets (19 new).\n",
      "INFO: Got 38 tweets (19 new).\n",
      "INFO: Got 57 tweets (19 new).\n",
      "INFO: Got 75 tweets (18 new).\n",
      "INFO: Got 95 tweets (20 new).\n",
      "INFO: Got 113 tweets (18 new).\n",
      "INFO: Got 132 tweets (19 new).\n",
      "INFO: Got 150 tweets (18 new).\n",
      "INFO: Got 169 tweets (19 new).\n",
      "INFO: Got 187 tweets (18 new).\n",
      "INFO: Got 205 tweets (18 new).\n",
      "INFO: Got 225 tweets (20 new).\n",
      "INFO: Got 244 tweets (19 new).\n",
      "INFO: Got 263 tweets (19 new).\n",
      "INFO: Got 281 tweets (18 new).\n",
      "INFO: Got 301 tweets (20 new).\n",
      "INFO: Got 321 tweets (20 new).\n",
      "INFO: Got 339 tweets (18 new).\n",
      "INFO: Got 358 tweets (19 new).\n",
      "INFO: Got 377 tweets (19 new).\n"
     ]
    },
    {
     "name": "stdout",
     "output_type": "stream",
     "text": [
      "Adams\n"
     ]
    },
    {
     "name": "stderr",
     "output_type": "stream",
     "text": [
      "INFO: queries: ['outage OR blackout OR power near:\"Whitman County, WA\" since:2012-01-01 until:2012-05-26', 'outage OR blackout OR power near:\"Whitman County, WA\" since:2012-05-26 until:2012-10-19', 'outage OR blackout OR power near:\"Whitman County, WA\" since:2012-10-19 until:2013-03-14', 'outage OR blackout OR power near:\"Whitman County, WA\" since:2013-03-14 until:2013-08-07', 'outage OR blackout OR power near:\"Whitman County, WA\" since:2013-08-07 until:2013-12-31', 'outage OR blackout OR power near:\"Whitman County, WA\" since:2013-12-31 until:2014-05-26', 'outage OR blackout OR power near:\"Whitman County, WA\" since:2014-05-26 until:2014-10-19', 'outage OR blackout OR power near:\"Whitman County, WA\" since:2014-10-19 until:2015-03-14', 'outage OR blackout OR power near:\"Whitman County, WA\" since:2015-03-14 until:2015-08-07', 'outage OR blackout OR power near:\"Whitman County, WA\" since:2015-08-07 until:2015-12-31', 'outage OR blackout OR power near:\"Whitman County, WA\" since:2015-12-31 until:2016-05-25', 'outage OR blackout OR power near:\"Whitman County, WA\" since:2016-05-25 until:2016-10-18', 'outage OR blackout OR power near:\"Whitman County, WA\" since:2016-10-18 until:2017-03-13', 'outage OR blackout OR power near:\"Whitman County, WA\" since:2017-03-13 until:2017-08-06', 'outage OR blackout OR power near:\"Whitman County, WA\" since:2017-08-06 until:2017-12-30', 'outage OR blackout OR power near:\"Whitman County, WA\" since:2017-12-30 until:2018-05-25', 'outage OR blackout OR power near:\"Whitman County, WA\" since:2018-05-25 until:2018-10-18', 'outage OR blackout OR power near:\"Whitman County, WA\" since:2018-10-18 until:2019-03-13', 'outage OR blackout OR power near:\"Whitman County, WA\" since:2019-03-13 until:2019-08-06', 'outage OR blackout OR power near:\"Whitman County, WA\" since:2019-08-06 until:2019-12-31']\n",
      "INFO: Got 19 tweets (19 new).\n",
      "INFO: Got 37 tweets (18 new).\n",
      "INFO: Got 56 tweets (19 new).\n",
      "INFO: Got 76 tweets (20 new).\n",
      "INFO: Got 95 tweets (19 new).\n",
      "INFO: Got 114 tweets (19 new).\n",
      "INFO: Got 133 tweets (19 new).\n",
      "INFO: Got 152 tweets (19 new).\n",
      "INFO: Got 171 tweets (19 new).\n",
      "INFO: Got 189 tweets (18 new).\n",
      "INFO: Got 207 tweets (18 new).\n",
      "INFO: Got 225 tweets (18 new).\n",
      "INFO: Got 245 tweets (20 new).\n",
      "INFO: Got 265 tweets (20 new).\n",
      "INFO: Got 283 tweets (18 new).\n",
      "INFO: Got 301 tweets (18 new).\n",
      "INFO: Got 320 tweets (19 new).\n",
      "INFO: Got 338 tweets (18 new).\n",
      "INFO: Got 358 tweets (20 new).\n",
      "INFO: Got 377 tweets (19 new).\n"
     ]
    },
    {
     "name": "stdout",
     "output_type": "stream",
     "text": [
      "Whitman\n"
     ]
    },
    {
     "name": "stderr",
     "output_type": "stream",
     "text": [
      "INFO: queries: ['outage OR blackout OR power near:\"Spokane County, WA\" since:2012-01-01 until:2012-05-26', 'outage OR blackout OR power near:\"Spokane County, WA\" since:2012-05-26 until:2012-10-19', 'outage OR blackout OR power near:\"Spokane County, WA\" since:2012-10-19 until:2013-03-14', 'outage OR blackout OR power near:\"Spokane County, WA\" since:2013-03-14 until:2013-08-07', 'outage OR blackout OR power near:\"Spokane County, WA\" since:2013-08-07 until:2013-12-31', 'outage OR blackout OR power near:\"Spokane County, WA\" since:2013-12-31 until:2014-05-26', 'outage OR blackout OR power near:\"Spokane County, WA\" since:2014-05-26 until:2014-10-19', 'outage OR blackout OR power near:\"Spokane County, WA\" since:2014-10-19 until:2015-03-14', 'outage OR blackout OR power near:\"Spokane County, WA\" since:2015-03-14 until:2015-08-07', 'outage OR blackout OR power near:\"Spokane County, WA\" since:2015-08-07 until:2015-12-31', 'outage OR blackout OR power near:\"Spokane County, WA\" since:2015-12-31 until:2016-05-25', 'outage OR blackout OR power near:\"Spokane County, WA\" since:2016-05-25 until:2016-10-18', 'outage OR blackout OR power near:\"Spokane County, WA\" since:2016-10-18 until:2017-03-13', 'outage OR blackout OR power near:\"Spokane County, WA\" since:2017-03-13 until:2017-08-06', 'outage OR blackout OR power near:\"Spokane County, WA\" since:2017-08-06 until:2017-12-30', 'outage OR blackout OR power near:\"Spokane County, WA\" since:2017-12-30 until:2018-05-25', 'outage OR blackout OR power near:\"Spokane County, WA\" since:2018-05-25 until:2018-10-18', 'outage OR blackout OR power near:\"Spokane County, WA\" since:2018-10-18 until:2019-03-13', 'outage OR blackout OR power near:\"Spokane County, WA\" since:2019-03-13 until:2019-08-06', 'outage OR blackout OR power near:\"Spokane County, WA\" since:2019-08-06 until:2019-12-31']\n",
      "INFO: Got 20 tweets (20 new).\n",
      "INFO: Got 33 tweets (13 new).\n",
      "INFO: Got 53 tweets (20 new).\n",
      "INFO: Got 72 tweets (19 new).\n",
      "INFO: Got 85 tweets (13 new).\n",
      "INFO: Got 98 tweets (13 new).\n",
      "INFO: Got 118 tweets (20 new).\n",
      "INFO: Got 138 tweets (20 new).\n",
      "INFO: Got 158 tweets (20 new).\n",
      "INFO: Got 178 tweets (20 new).\n",
      "INFO: Got 198 tweets (20 new).\n",
      "INFO: Got 213 tweets (15 new).\n",
      "INFO: Got 233 tweets (20 new).\n",
      "INFO: Got 252 tweets (19 new).\n",
      "INFO: Got 272 tweets (20 new).\n",
      "INFO: Got 290 tweets (18 new).\n",
      "INFO: Got 307 tweets (17 new).\n",
      "INFO: Got 327 tweets (20 new).\n",
      "INFO: Got 347 tweets (20 new).\n",
      "INFO: Got 365 tweets (18 new).\n"
     ]
    },
    {
     "name": "stdout",
     "output_type": "stream",
     "text": [
      "Spokane\n"
     ]
    },
    {
     "name": "stderr",
     "output_type": "stream",
     "text": [
      "INFO: queries: ['outage OR blackout OR power near:\"Clark County, WA\" since:2012-01-01 until:2012-05-26', 'outage OR blackout OR power near:\"Clark County, WA\" since:2012-05-26 until:2012-10-19', 'outage OR blackout OR power near:\"Clark County, WA\" since:2012-10-19 until:2013-03-14', 'outage OR blackout OR power near:\"Clark County, WA\" since:2013-03-14 until:2013-08-07', 'outage OR blackout OR power near:\"Clark County, WA\" since:2013-08-07 until:2013-12-31', 'outage OR blackout OR power near:\"Clark County, WA\" since:2013-12-31 until:2014-05-26', 'outage OR blackout OR power near:\"Clark County, WA\" since:2014-05-26 until:2014-10-19', 'outage OR blackout OR power near:\"Clark County, WA\" since:2014-10-19 until:2015-03-14', 'outage OR blackout OR power near:\"Clark County, WA\" since:2015-03-14 until:2015-08-07', 'outage OR blackout OR power near:\"Clark County, WA\" since:2015-08-07 until:2015-12-31', 'outage OR blackout OR power near:\"Clark County, WA\" since:2015-12-31 until:2016-05-25', 'outage OR blackout OR power near:\"Clark County, WA\" since:2016-05-25 until:2016-10-18', 'outage OR blackout OR power near:\"Clark County, WA\" since:2016-10-18 until:2017-03-13', 'outage OR blackout OR power near:\"Clark County, WA\" since:2017-03-13 until:2017-08-06', 'outage OR blackout OR power near:\"Clark County, WA\" since:2017-08-06 until:2017-12-30', 'outage OR blackout OR power near:\"Clark County, WA\" since:2017-12-30 until:2018-05-25', 'outage OR blackout OR power near:\"Clark County, WA\" since:2018-05-25 until:2018-10-18', 'outage OR blackout OR power near:\"Clark County, WA\" since:2018-10-18 until:2019-03-13', 'outage OR blackout OR power near:\"Clark County, WA\" since:2019-03-13 until:2019-08-06', 'outage OR blackout OR power near:\"Clark County, WA\" since:2019-08-06 until:2019-12-31']\n",
      "INFO: Got 12 tweets (12 new).\n",
      "INFO: Got 21 tweets (9 new).\n",
      "INFO: Got 41 tweets (20 new).\n",
      "INFO: Got 59 tweets (18 new).\n",
      "INFO: Got 78 tweets (19 new).\n",
      "INFO: Got 98 tweets (20 new).\n",
      "INFO: Got 114 tweets (16 new).\n",
      "INFO: Got 130 tweets (16 new).\n",
      "INFO: Got 138 tweets (8 new).\n",
      "INFO: Got 157 tweets (19 new).\n",
      "INFO: Got 175 tweets (18 new).\n",
      "INFO: Got 188 tweets (13 new).\n",
      "INFO: Got 204 tweets (16 new).\n",
      "INFO: Got 218 tweets (14 new).\n",
      "INFO: Got 237 tweets (19 new).\n",
      "INFO: Got 253 tweets (16 new).\n",
      "INFO: Got 273 tweets (20 new).\n",
      "INFO: Got 293 tweets (20 new).\n",
      "INFO: Got 312 tweets (19 new).\n",
      "INFO: Got 332 tweets (20 new).\n"
     ]
    },
    {
     "name": "stdout",
     "output_type": "stream",
     "text": [
      "Clark\n"
     ]
    },
    {
     "name": "stderr",
     "output_type": "stream",
     "text": [
      "INFO: queries: ['outage OR blackout OR power near:\"Kittitas County, WA\" since:2012-01-01 until:2012-05-26', 'outage OR blackout OR power near:\"Kittitas County, WA\" since:2012-05-26 until:2012-10-19', 'outage OR blackout OR power near:\"Kittitas County, WA\" since:2012-10-19 until:2013-03-14', 'outage OR blackout OR power near:\"Kittitas County, WA\" since:2013-03-14 until:2013-08-07', 'outage OR blackout OR power near:\"Kittitas County, WA\" since:2013-08-07 until:2013-12-31', 'outage OR blackout OR power near:\"Kittitas County, WA\" since:2013-12-31 until:2014-05-26', 'outage OR blackout OR power near:\"Kittitas County, WA\" since:2014-05-26 until:2014-10-19', 'outage OR blackout OR power near:\"Kittitas County, WA\" since:2014-10-19 until:2015-03-14', 'outage OR blackout OR power near:\"Kittitas County, WA\" since:2015-03-14 until:2015-08-07', 'outage OR blackout OR power near:\"Kittitas County, WA\" since:2015-08-07 until:2015-12-31', 'outage OR blackout OR power near:\"Kittitas County, WA\" since:2015-12-31 until:2016-05-25', 'outage OR blackout OR power near:\"Kittitas County, WA\" since:2016-05-25 until:2016-10-18', 'outage OR blackout OR power near:\"Kittitas County, WA\" since:2016-10-18 until:2017-03-13', 'outage OR blackout OR power near:\"Kittitas County, WA\" since:2017-03-13 until:2017-08-06', 'outage OR blackout OR power near:\"Kittitas County, WA\" since:2017-08-06 until:2017-12-30', 'outage OR blackout OR power near:\"Kittitas County, WA\" since:2017-12-30 until:2018-05-25', 'outage OR blackout OR power near:\"Kittitas County, WA\" since:2018-05-25 until:2018-10-18', 'outage OR blackout OR power near:\"Kittitas County, WA\" since:2018-10-18 until:2019-03-13', 'outage OR blackout OR power near:\"Kittitas County, WA\" since:2019-03-13 until:2019-08-06', 'outage OR blackout OR power near:\"Kittitas County, WA\" since:2019-08-06 until:2019-12-31']\n",
      "INFO: Got 1 tweets (1 new).\n",
      "INFO: Got 9 tweets (8 new).\n",
      "INFO: Got 10 tweets (1 new).\n",
      "INFO: Got 30 tweets (20 new).\n",
      "INFO: Got 32 tweets (2 new).\n",
      "INFO: Got 51 tweets (19 new).\n",
      "INFO: Got 52 tweets (1 new).\n",
      "INFO: Got 70 tweets (18 new).\n",
      "INFO: Got 78 tweets (8 new).\n",
      "INFO: Got 79 tweets (1 new).\n",
      "INFO: Got 80 tweets (1 new).\n",
      "INFO: Got 83 tweets (3 new).\n",
      "INFO: Got 100 tweets (17 new).\n",
      "INFO: Got 103 tweets (3 new).\n",
      "INFO: Got 113 tweets (10 new).\n",
      "INFO: Got 114 tweets (1 new).\n",
      "INFO: Got 134 tweets (20 new).\n",
      "INFO: Got 148 tweets (14 new).\n",
      "INFO: Got 168 tweets (20 new).\n",
      "INFO: Got 168 tweets (0 new).\n"
     ]
    },
    {
     "name": "stdout",
     "output_type": "stream",
     "text": [
      "Kittitas\n"
     ]
    }
   ],
   "source": [
    "# query for each county just over time, unlisted potential outages\n",
    "\n",
    "tweets_dict = {} # key is index of row in wa df\n",
    "for cty in wa['Area Affected'].unique(): # all counties in wa w/ outages\n",
    "    \n",
    "    near = cty\n",
    "    \n",
    "    tweets = custom_query(near, None, None, \n",
    "                          'outage OR blackout OR power', 3)\n",
    "    tweets_dict[cty] = tweets\n",
    "    \n",
    "    print(cty)"
   ]
  },
  {
   "cell_type": "code",
   "execution_count": 65,
   "metadata": {},
   "outputs": [],
   "source": [
    "# assemble tweet info into dataframe\n",
    "\n",
    "df_list = []\n",
    "\n",
    "for k,v in tweets_dict.items():\n",
    "    _df = pd.DataFrame({'event_row_or_county':k,\n",
    "                        'timestamp':[t.timestamp for t in v],\n",
    "                        'text':[t.text for t in v],\n",
    "                        'outage':-1}) # don't know!\n",
    "    df_list.append(_df)\n",
    "    \n",
    "tweets_df_n1 = pd.concat(df_list)"
   ]
  },
  {
   "cell_type": "code",
   "execution_count": 66,
   "metadata": {},
   "outputs": [],
   "source": [
    "tweets_df = pd.concat([tweets_df_1, tweets_df_0, tweets_df_n1]\n",
    "                     ).reset_index(drop=True)"
   ]
  },
  {
   "cell_type": "code",
   "execution_count": 67,
   "metadata": {},
   "outputs": [],
   "source": [
    "# save tweets dataframe\n",
    "\n",
    "tweets_df.to_csv('washington_outage_tweets.csv', index=False)"
   ]
  }
 ],
 "metadata": {
  "kernelspec": {
   "display_name": "Python 3",
   "language": "python",
   "name": "python3"
  },
  "language_info": {
   "codemirror_mode": {
    "name": "ipython",
    "version": 3
   },
   "file_extension": ".py",
   "mimetype": "text/x-python",
   "name": "python",
   "nbconvert_exporter": "python",
   "pygments_lexer": "ipython3",
   "version": "3.7.4"
  }
 },
 "nbformat": 4,
 "nbformat_minor": 2
}
