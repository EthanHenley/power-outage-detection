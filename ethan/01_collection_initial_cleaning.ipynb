{
 "cells": [
  {
   "cell_type": "code",
   "execution_count": 1,
   "metadata": {},
   "outputs": [],
   "source": [
    "# combine eia dfs into one\n",
    "# reword eia df location lists\n",
    "# scrape noted areas during outages + 1 month before & after\n",
    "# nlp tweets, model outage probability\n",
    "# plot outage-related tweets w/ probabilities"
   ]
  },
  {
   "cell_type": "markdown",
   "metadata": {},
   "source": [
    "## Read in Data"
   ]
  },
  {
   "cell_type": "code",
   "execution_count": 46,
   "metadata": {},
   "outputs": [],
   "source": [
    "import numpy as np\n",
    "import pandas as pd\n",
    "\n",
    "import datetime\n",
    "\n",
    "from twitterscraper import query_tweets"
   ]
  },
  {
   "cell_type": "code",
   "execution_count": 3,
   "metadata": {},
   "outputs": [],
   "source": [
    "# list of dfs of eia data\n",
    "xlsx_list = [pd.read_excel(f'{year}.xlsx', header=1) \n",
    "              for year in range(2013,2020)]"
   ]
  },
  {
   "cell_type": "code",
   "execution_count": 4,
   "metadata": {},
   "outputs": [],
   "source": [
    "# combine dfs of eia data\n",
    "df = pd.concat(xlsx_list, sort=False)"
   ]
  },
  {
   "cell_type": "code",
   "execution_count": 5,
   "metadata": {},
   "outputs": [],
   "source": [
    "# function to determine if event is in washington\n",
    "def washington_check(loc):\n",
    "    right_wa = 'Washington'\n",
    "    wrong_wa = ('D.C', 'Columbia', 'DC', \n",
    "        'Washington County', 'Oregon Counties')\n",
    "    if right_wa in loc and not any(wrong in loc for wrong in wrong_wa):\n",
    "        return True\n",
    "    return False"
   ]
  },
  {
   "cell_type": "code",
   "execution_count": 6,
   "metadata": {},
   "outputs": [],
   "source": [
    "# washington df\n",
    "wa = df[df['Area Affected'].fillna('?').map(washington_check)]"
   ]
  },
  {
   "cell_type": "code",
   "execution_count": 7,
   "metadata": {},
   "outputs": [
    {
     "data": {
      "text/plain": [
       "Washington                                                                                                                                                                         8\n",
       "Washington: Clark County;                                                                                                                                                          6\n",
       "Washington:                                                                                                                                                                        4\n",
       "Washington: King County;                                                                                                                                                           2\n",
       "Washington: Snohomish County;                                                                                                                                                      2\n",
       "Washington: King County, Whatcom County, Kitsap County, Skagit County;                                                                                                             1\n",
       "Washington: Skagit County, Snohomish County, King County, Kitsap County, Island County;                                                                                            1\n",
       "Kitsap, Thurston, Whatcom counties Washington                                                                                                                                      1\n",
       "King County, Washington                                                                                                                                                            1\n",
       "Washington: Stevens County, Lincoln County, Adams County, Whitman County, Spokane County; Idaho: Bonner County, Kootenai County, Shoshone County, Benewah County, Idaho County;    1\n",
       "King County, Skagit County, Whatcom County, Kitsap County, Pierce County, Thurston County, Island County, Washington                                                               1\n",
       "Washington: King County, Kitsap County, Island County, Pierce County, Thurston County, Whatcom County, Skagit County, Kittitas County;                                             1\n",
       "King, Whatcom, and Skagit, Washington                                                                                                                                              1\n",
       "King County, Thurston County and Kitsap County,  Washington                                                                                                                        1\n",
       "Washington: Montana:                                                                                                                                                               1\n",
       "King, Pierce and Thurston Counties, Washington                                                                                                                                     1\n",
       "Washington: Whatcom County; Montana:                                                                                                                                               1\n",
       "Alberta, Canada; Washington State                                                                                                                                                  1\n",
       "Washington: Island County, King County, Kitsap County, Thurston County, Skagit County, Whatcom County;                                                                             1\n",
       "Name: Area Affected, dtype: int64"
      ]
     },
     "execution_count": 7,
     "metadata": {},
     "output_type": "execute_result"
    }
   ],
   "source": [
    "# look at where in washington\n",
    "wa['Area Affected'].value_counts()"
   ]
  },
  {
   "cell_type": "markdown",
   "metadata": {},
   "source": [
    "### Create preliminary dataset based on most frequent county"
   ]
  },
  {
   "cell_type": "code",
   "execution_count": 21,
   "metadata": {},
   "outputs": [
    {
     "data": {
      "text/plain": [
       "{'Thurston': 6,\n",
       " 'Kitsap': 7,\n",
       " 'Island': 4,\n",
       " 'Idaho': 2,\n",
       " 'Montana': 2,\n",
       " 'Stevens': 1,\n",
       " 'Kittitas': 1,\n",
       " 'Whatcom': 7,\n",
       " 'counties': 1,\n",
       " 'Whitman': 1,\n",
       " 'Clark': 6,\n",
       " 'Bonner': 1,\n",
       " 'Alberta': 1,\n",
       " 'State': 1,\n",
       " 'Shoshone': 1,\n",
       " 'Lincoln': 1,\n",
       " 'Counties': 1,\n",
       " 'Adams': 1,\n",
       " 'Canada': 1,\n",
       " 'County': 55,\n",
       " 'Washington': 36,\n",
       " 'Skagit': 6,\n",
       " 'Spokane': 1,\n",
       " 'King': 11,\n",
       " 'Snohomish': 3,\n",
       " 'and': 3,\n",
       " 'Benewah': 1,\n",
       " 'Pierce': 3,\n",
       " 'Kootenai': 1}"
      ]
     },
     "execution_count": 21,
     "metadata": {},
     "output_type": "execute_result"
    }
   ],
   "source": [
    "# find most frequent county\n",
    "\n",
    "allstring = ''\n",
    "for s in wa['Area Affected']:\n",
    "    allstring += s.replace(',','').replace(':','').replace(';','') + ' '\n",
    "alllist = allstring.split()\n",
    "alldict = {k:0 for k in set(alllist)}\n",
    "for s in alllist:\n",
    "    alldict[s] += 1\n",
    "alldict\n",
    "\n",
    "# king county is the most frequent county for outages in wa"
   ]
  },
  {
   "cell_type": "code",
   "execution_count": 63,
   "metadata": {},
   "outputs": [
    {
     "name": "stderr",
     "output_type": "stream",
     "text": [
      "C:\\ProgramData\\Anaconda3\\lib\\site-packages\\ipykernel_launcher.py:2: SettingWithCopyWarning: \n",
      "A value is trying to be set on a copy of a slice from a DataFrame.\n",
      "Try using .loc[row_indexer,col_indexer] = value instead\n",
      "\n",
      "See the caveats in the documentation: http://pandas.pydata.org/pandas-docs/stable/user_guide/indexing.html#returning-a-view-versus-a-copy\n",
      "  \n"
     ]
    },
    {
     "data": {
      "text/html": [
       "<div>\n",
       "<style scoped>\n",
       "    .dataframe tbody tr th:only-of-type {\n",
       "        vertical-align: middle;\n",
       "    }\n",
       "\n",
       "    .dataframe tbody tr th {\n",
       "        vertical-align: top;\n",
       "    }\n",
       "\n",
       "    .dataframe thead th {\n",
       "        text-align: right;\n",
       "    }\n",
       "</style>\n",
       "<table border=\"1\" class=\"dataframe\">\n",
       "  <thead>\n",
       "    <tr style=\"text-align: right;\">\n",
       "      <th></th>\n",
       "      <th>Year</th>\n",
       "      <th>Month</th>\n",
       "      <th>Event Date and Time</th>\n",
       "      <th>Restoration Date and Time</th>\n",
       "      <th>Duration</th>\n",
       "      <th>Utility/Power Pool</th>\n",
       "      <th>NERC Region</th>\n",
       "      <th>Area Affected</th>\n",
       "      <th>Type of Disturbance</th>\n",
       "      <th>Loss (megawatts)</th>\n",
       "      <th>Number of Customers Affected</th>\n",
       "    </tr>\n",
       "  </thead>\n",
       "  <tbody>\n",
       "    <tr>\n",
       "      <td>70</td>\n",
       "      <td>2015</td>\n",
       "      <td>8.0</td>\n",
       "      <td>08/29/2015 11:00 AM</td>\n",
       "      <td>09/04/2015  3:00 PM</td>\n",
       "      <td>148 Hours,  0 Minutes</td>\n",
       "      <td>Puget Sound Energy</td>\n",
       "      <td>WECC</td>\n",
       "      <td>King County, Skagit County, Whatcom County, Ki...</td>\n",
       "      <td>Loss of electric service to more than 50,000 c...</td>\n",
       "      <td>250</td>\n",
       "      <td>250000.0</td>\n",
       "    </tr>\n",
       "    <tr>\n",
       "      <td>2</td>\n",
       "      <td>2012</td>\n",
       "      <td>1.0</td>\n",
       "      <td>01/19/2012  7:00 AM</td>\n",
       "      <td>01/20/2012  3:00 PM</td>\n",
       "      <td>32 Hours,  0 Minutes</td>\n",
       "      <td>Puget Sound Energy</td>\n",
       "      <td>WECC</td>\n",
       "      <td>King, Pierce and Thurston Counties, Washington</td>\n",
       "      <td>Severe Weather - Winter Storm</td>\n",
       "      <td>1600</td>\n",
       "      <td>426000.0</td>\n",
       "    </tr>\n",
       "    <tr>\n",
       "      <td>52</td>\n",
       "      <td>2016</td>\n",
       "      <td>8.0</td>\n",
       "      <td>08/24/2016  7:18 PM</td>\n",
       "      <td>08/24/2016  7:47 PM</td>\n",
       "      <td>0 Hours, 29 Minutes</td>\n",
       "      <td>Peak Reliability</td>\n",
       "      <td>WECC</td>\n",
       "      <td>Washington: King County;</td>\n",
       "      <td>Electrical System Separation (Islanding) where...</td>\n",
       "      <td>9232</td>\n",
       "      <td>NaN</td>\n",
       "    </tr>\n",
       "  </tbody>\n",
       "</table>\n",
       "</div>"
      ],
      "text/plain": [
       "    Year  Month  Event Date and Time Restoration Date and Time  \\\n",
       "70  2015    8.0  08/29/2015 11:00 AM       09/04/2015  3:00 PM   \n",
       "2   2012    1.0  01/19/2012  7:00 AM       01/20/2012  3:00 PM   \n",
       "52  2016    8.0  08/24/2016  7:18 PM       08/24/2016  7:47 PM   \n",
       "\n",
       "                 Duration  Utility/Power Pool NERC Region  \\\n",
       "70  148 Hours,  0 Minutes  Puget Sound Energy        WECC   \n",
       "2    32 Hours,  0 Minutes  Puget Sound Energy        WECC   \n",
       "52    0 Hours, 29 Minutes    Peak Reliability        WECC   \n",
       "\n",
       "                                        Area Affected  \\\n",
       "70  King County, Skagit County, Whatcom County, Ki...   \n",
       "2      King, Pierce and Thurston Counties, Washington   \n",
       "52                           Washington: King County;   \n",
       "\n",
       "                                  Type of Disturbance Loss (megawatts)  \\\n",
       "70  Loss of electric service to more than 50,000 c...              250   \n",
       "2                       Severe Weather - Winter Storm             1600   \n",
       "52  Electrical System Separation (Islanding) where...             9232   \n",
       "\n",
       "    Number of Customers Affected  \n",
       "70                      250000.0  \n",
       "2                       426000.0  \n",
       "52                           NaN  "
      ]
     },
     "execution_count": 63,
     "metadata": {},
     "output_type": "execute_result"
    }
   ],
   "source": [
    "# pick an outage date for king county\n",
    "wa['Number of Customers Affected'] = wa['Number of Customers Affected'].map(lambda s: np.nan if (s == 'Unknown') else s)\n",
    "wa[wa['Area Affected'].map(lambda s:'King' in s)].sort_values('Number of Customers Affected').tail(3)\n",
    "# let's look at 1/19/2012 7am to 1/20/2012 3pm"
   ]
  },
  {
   "cell_type": "code",
   "execution_count": 64,
   "metadata": {},
   "outputs": [
    {
     "name": "stderr",
     "output_type": "stream",
     "text": [
      "INFO: queries: ['outage OR blackout near:\"Pierce County, WA\" since:2012-01-18 until:2012-01-19', 'outage OR blackout near:\"Pierce County, WA\" since:2012-01-19 until:2012-01-20', 'outage OR blackout near:\"Pierce County, WA\" since:2012-01-20 until:2012-01-21']\n",
      "INFO: Got 4 tweets (4 new).\n",
      "INFO: Got 4 tweets (0 new).\n",
      "INFO: Got 4 tweets (0 new).\n"
     ]
    }
   ],
   "source": [
    "# scrape for tweets from that outage period for king county wa\n",
    "tweets = query_tweets('outage OR blackout near:\\\"King County, WA\\\"', 10,\n",
    "                      begindate=datetime.date(2012,1,18),\n",
    "                      enddate=datetime.date(2012,1,21))"
   ]
  },
  {
   "cell_type": "code",
   "execution_count": 65,
   "metadata": {},
   "outputs": [
    {
     "name": "stdout",
     "output_type": "stream",
     "text": [
      "When I'd the power outage over!?!?!?!\n",
      "Power outage...\n",
      "#wherearethecandles?\n",
      "When I'd the power outage over!?!?!?!\n",
      "Power outage...\n",
      "#wherearethecandles?\n"
     ]
    }
   ],
   "source": [
    "for tweet in tweets:\n",
    "    print(tweet.text)"
   ]
  },
  {
   "cell_type": "markdown",
   "metadata": {},
   "source": [
    "State-only information is not especially useful to us, but it is not unusuable. All other information is counties; we will map by these. "
   ]
  },
  {
   "cell_type": "code",
   "execution_count": null,
   "metadata": {},
   "outputs": [],
   "source": [
    "# list of counties"
   ]
  }
 ],
 "metadata": {
  "kernelspec": {
   "display_name": "Python 3",
   "language": "python",
   "name": "python3"
  },
  "language_info": {
   "codemirror_mode": {
    "name": "ipython",
    "version": 3
   },
   "file_extension": ".py",
   "mimetype": "text/x-python",
   "name": "python",
   "nbconvert_exporter": "python",
   "pygments_lexer": "ipython3",
   "version": "3.7.4"
  }
 },
 "nbformat": 4,
 "nbformat_minor": 2
}
