{
 "cells": [
  {
   "cell_type": "code",
   "execution_count": 1,
   "metadata": {},
   "outputs": [],
   "source": [
    "import pandas as pd"
   ]
  },
  {
   "cell_type": "code",
   "execution_count": 2,
   "metadata": {},
   "outputs": [],
   "source": [
    "xls_list = [pd.read_excel(f'{year}.xls', header=1)\n",
    "            for year in range(2011,2013)]\n",
    "\n",
    "xlsx_list = [pd.read_excel(f'{year}.xlsx', header=1) \n",
    "              for year in range(2013,2020)]\n",
    "\n",
    "sheet_list = xls_list+xlsx_list"
   ]
  },
  {
   "cell_type": "code",
   "execution_count": 3,
   "metadata": {},
   "outputs": [],
   "source": [
    "# df = pd.concat(sheet_list, sort=False) # can't straight concat; different columsn and different kinds of information\n",
    "df = pd.concat(xlsx_list, sort=False)"
   ]
  },
  {
   "cell_type": "code",
   "execution_count": 4,
   "metadata": {},
   "outputs": [
    {
     "data": {
      "text/plain": [
       "((36, 11), (20, 11))"
      ]
     },
     "execution_count": 4,
     "metadata": {},
     "output_type": "execute_result"
    }
   ],
   "source": [
    "def washington_check(loc):\n",
    "    right_wa = 'Washington'\n",
    "    wrong_wa = ('D.C', 'Columbia', 'DC', \n",
    "        'Washington County', 'Oregon Counties')\n",
    "    if right_wa in loc and not any(wrong in loc for wrong in wrong_wa):\n",
    "        return True\n",
    "    return False\n",
    "\n",
    "def maryland_check(loc):\n",
    "    right_md = 'Maryland'\n",
    "#     wrong_md = 'Maryland, West Virginia'\n",
    "    if right_md in loc:# and wrong_md not in loc:\n",
    "        return True\n",
    "    return False\n",
    "\n",
    "wa = df[df['Area Affected'].fillna('?').map(washington_check)]\n",
    "md = df[df['Area Affected'].fillna('?').map(maryland_check)]\n",
    "wa.shape, md.shape"
   ]
  },
  {
   "cell_type": "code",
   "execution_count": 5,
   "metadata": {},
   "outputs": [
    {
     "data": {
      "text/html": [
       "<div>\n",
       "<style scoped>\n",
       "    .dataframe tbody tr th:only-of-type {\n",
       "        vertical-align: middle;\n",
       "    }\n",
       "\n",
       "    .dataframe tbody tr th {\n",
       "        vertical-align: top;\n",
       "    }\n",
       "\n",
       "    .dataframe thead th {\n",
       "        text-align: right;\n",
       "    }\n",
       "</style>\n",
       "<table border=\"1\" class=\"dataframe\">\n",
       "  <thead>\n",
       "    <tr style=\"text-align: right;\">\n",
       "      <th></th>\n",
       "      <th>Year</th>\n",
       "      <th>Month</th>\n",
       "      <th>Event Date and Time</th>\n",
       "      <th>Restoration Date and Time</th>\n",
       "      <th>Duration</th>\n",
       "      <th>Utility/Power Pool</th>\n",
       "      <th>NERC Region</th>\n",
       "      <th>Area Affected</th>\n",
       "      <th>Type of Disturbance</th>\n",
       "      <th>Loss (megawatts)</th>\n",
       "      <th>Number of Customers Affected</th>\n",
       "    </tr>\n",
       "  </thead>\n",
       "  <tbody>\n",
       "    <tr>\n",
       "      <td>2</td>\n",
       "      <td>2012</td>\n",
       "      <td>1.0</td>\n",
       "      <td>01/19/2012  7:00 AM</td>\n",
       "      <td>01/20/2012  3:00 PM</td>\n",
       "      <td>32 Hours,  0 Minutes</td>\n",
       "      <td>Puget Sound Energy</td>\n",
       "      <td>WECC</td>\n",
       "      <td>King, Pierce and Thurston Counties, Washington</td>\n",
       "      <td>Severe Weather - Winter Storm</td>\n",
       "      <td>1600</td>\n",
       "      <td>426000</td>\n",
       "    </tr>\n",
       "  </tbody>\n",
       "</table>\n",
       "</div>"
      ],
      "text/plain": [
       "   Year  Month  Event Date and Time Restoration Date and Time  \\\n",
       "2  2012    1.0  01/19/2012  7:00 AM       01/20/2012  3:00 PM   \n",
       "\n",
       "               Duration  Utility/Power Pool NERC Region  \\\n",
       "2  32 Hours,  0 Minutes  Puget Sound Energy        WECC   \n",
       "\n",
       "                                    Area Affected  \\\n",
       "2  King, Pierce and Thurston Counties, Washington   \n",
       "\n",
       "             Type of Disturbance Loss (megawatts) Number of Customers Affected  \n",
       "2  Severe Weather - Winter Storm             1600                       426000  "
      ]
     },
     "execution_count": 5,
     "metadata": {},
     "output_type": "execute_result"
    }
   ],
   "source": [
    "wa.head(1)"
   ]
  },
  {
   "cell_type": "code",
   "execution_count": 6,
   "metadata": {},
   "outputs": [],
   "source": [
    "wa.to_csv('preliminary_washington_data.csv',index=False)"
   ]
  },
  {
   "cell_type": "code",
   "execution_count": 7,
   "metadata": {},
   "outputs": [],
   "source": [
    "# df = pd.read_csv('Grid_Disruption_00_14_standardized.csv') # eia 2000-2014"
   ]
  },
  {
   "cell_type": "code",
   "execution_count": 8,
   "metadata": {},
   "outputs": [],
   "source": [
    "# def maryland_check(loc):\n",
    "#     right_md = 'Maryland'\n",
    "#     wrong_md = 'Maryland, West Virginia'\n",
    "#     if right_md in loc and wrong_md not in loc:\n",
    "#         return True\n",
    "#     return False\n",
    "\n",
    "# md = df[df['Geographic Areas'].fillna('?').map(maryland_check)]\n",
    "# md"
   ]
  },
  {
   "cell_type": "code",
   "execution_count": 9,
   "metadata": {},
   "outputs": [],
   "source": [
    "# md.groupby('Geographic Areas').count().iloc[:,0].sort_values(ascending=False)"
   ]
  },
  {
   "cell_type": "code",
   "execution_count": 10,
   "metadata": {},
   "outputs": [],
   "source": [
    "# cvec = CountVectorizer()\n",
    "# counts = cvec.fit_transform(df.loc[\n",
    "#     df['Geographic Areas'].fillna('?').map(lambda l:',' in l),\n",
    "#     'Geographic Areas'\n",
    "# ])"
   ]
  },
  {
   "cell_type": "code",
   "execution_count": 11,
   "metadata": {},
   "outputs": [],
   "source": [
    "# pd.DataFrame(counts.toarray(), columns=cvec.get_feature_names()).sum().sort_values(ascending=False)[:20]"
   ]
  },
  {
   "cell_type": "code",
   "execution_count": 12,
   "metadata": {},
   "outputs": [],
   "source": [
    "# def washington_check(loc):\n",
    "#     right_wa = 'Washington'\n",
    "#     wrong_dc = ('D.C', 'Columbia', 'DC', \n",
    "#         'Washington County', 'Oregon Counties')\n",
    "#     if right_wa in loc and not any(wrong in loc for wrong in wrong_dc):\n",
    "#         return True\n",
    "#     return False\n",
    "\n",
    "# # wa = df[df['Geographic Areas'].fillna('?').map(washington_check)]\n",
    "# # wa"
   ]
  },
  {
   "cell_type": "code",
   "execution_count": 13,
   "metadata": {},
   "outputs": [],
   "source": [
    "# wa.groupby('Geographic Areas').count().iloc[:,0].sort_values(ascending=False)"
   ]
  }
 ],
 "metadata": {
  "kernelspec": {
   "display_name": "Python 3",
   "language": "python",
   "name": "python3"
  },
  "language_info": {
   "codemirror_mode": {
    "name": "ipython",
    "version": 3
   },
   "file_extension": ".py",
   "mimetype": "text/x-python",
   "name": "python",
   "nbconvert_exporter": "python",
   "pygments_lexer": "ipython3",
   "version": "3.7.4"
  }
 },
 "nbformat": 4,
 "nbformat_minor": 2
}
