{
 "cells": [
  {
   "cell_type": "code",
   "execution_count": 1,
   "metadata": {},
   "outputs": [],
   "source": [
    "import pandas as pd\n",
    "import geopandas\n",
    "import json"
   ]
  },
  {
   "cell_type": "code",
   "execution_count": 4,
   "metadata": {},
   "outputs": [
    {
     "name": "stdout",
     "output_type": "stream",
     "text": [
      " Volume in drive C is Windows\n",
      " Volume Serial Number is 2034-A840\n",
      "\n",
      " Directory of C:\\Users\\ethan\\Documents\\2019_2020_Winter\\DSI\\Projects\\project_5\\power-outage-detection\\ethan\n",
      "\n",
      "02/20/2020  10:01 AM    <DIR>          .\n",
      "02/20/2020  10:01 AM    <DIR>          ..\n",
      "02/20/2020  10:01 AM    <DIR>          .ipynb_checkpoints\n",
      "02/20/2020  08:51 AM           314,166 01_collection_initial_cleaning.ipynb\n",
      "02/20/2020  09:00 AM            11,787 02_vectorization_model.ipynb\n",
      "02/20/2020  10:01 AM                72 0n_mapping.ipynb\n",
      "02/13/2020  05:35 PM            40,960 2011.xls\n",
      "02/13/2020  05:35 PM            61,440 2012.xls\n",
      "02/13/2020  05:28 PM            21,264 2013.xlsx\n",
      "02/13/2020  05:28 PM            20,488 2014.xlsx\n",
      "02/13/2020  03:58 PM            23,600 2015.xlsx\n",
      "02/13/2020  03:58 PM            20,188 2016.xlsx\n",
      "02/13/2020  03:58 PM            19,404 2017.xlsx\n",
      "02/13/2020  03:59 PM            21,080 2018.xlsx\n",
      "02/13/2020  03:59 PM            24,762 2019.xlsx\n",
      "02/18/2020  07:27 PM            38,467 api_test.ipynb\n",
      "02/16/2020  06:41 PM             7,312 eia_data_test.ipynb\n",
      "02/13/2020  05:35 PM    <DIR>          february2011\n",
      "02/13/2020  05:35 PM    <DIR>          february2012\n",
      "02/13/2020  05:28 PM    <DIR>          february2013\n",
      "02/13/2020  05:28 PM    <DIR>          february2014\n",
      "02/13/2020  03:59 PM    <DIR>          february2015\n",
      "02/13/2020  03:58 PM    <DIR>          february2016\n",
      "02/13/2020  03:58 PM    <DIR>          february2017\n",
      "02/13/2020  03:59 PM    <DIR>          february2018\n",
      "02/13/2020  03:59 PM    <DIR>          february2019\n",
      "02/13/2020  10:21 AM           268,605 Grid_Disruption_00_14_standardized.csv\n",
      "02/19/2020  04:10 PM         1,469,635 outage_tweets.csv\n",
      "02/16/2020  06:40 PM             9,644 preliminary_washington_data.csv\n",
      "02/18/2020  09:52 AM            54,509 scrape_test.ipynb\n",
      "02/13/2020  12:52 PM            39,653 scrape_test.txt\n",
      "02/19/2020  04:24 PM           829,625 wa_tweets.csv\n",
      "02/19/2020  02:52 PM         1,390,107 washington_outage_tweets.csv\n",
      "02/19/2020  01:47 PM            15,871 washington_outages.csv\n",
      "              22 File(s)      4,702,639 bytes\n",
      "              12 Dir(s)  388,404,371,456 bytes free\n"
     ]
    }
   ],
   "source": [
    "%ls ..\\ethan"
   ]
  },
  {
   "cell_type": "code",
   "execution_count": 14,
   "metadata": {},
   "outputs": [],
   "source": [
    "wa_outage_tweets = pd.read_csv('washington_outage_tweets.csv')\n",
    "wa_outage_tweets = wa_outage_tweets.loc[wa_outage_tweets['outage']==1, \n",
    "                                        ['event_row_or_county',\n",
    "                                         'timestamp','text']]\n",
    "wa_outage_tweets['event_row_or_county'] = \\\n",
    "    wa_outage_tweets['event_row_or_county'].map(int)\n",
    "wa_outages = pd.read_csv('washington_outages.csv')\n",
    "wa_outages['index'] = wa_outages.index"
   ]
  },
  {
   "cell_type": "code",
   "execution_count": 43,
   "metadata": {},
   "outputs": [],
   "source": [
    "df = pd.merge(wa_outage_tweets, wa_outages, \n",
    "              left_on='event_row_or_county', right_on='index')\n",
    "df = df[['timestamp','text','Area Affected']]"
   ]
  },
  {
   "cell_type": "code",
   "execution_count": 44,
   "metadata": {},
   "outputs": [
    {
     "data": {
      "text/html": [
       "<div>\n",
       "<style scoped>\n",
       "    .dataframe tbody tr th:only-of-type {\n",
       "        vertical-align: middle;\n",
       "    }\n",
       "\n",
       "    .dataframe tbody tr th {\n",
       "        vertical-align: top;\n",
       "    }\n",
       "\n",
       "    .dataframe thead th {\n",
       "        text-align: right;\n",
       "    }\n",
       "</style>\n",
       "<table border=\"1\" class=\"dataframe\">\n",
       "  <thead>\n",
       "    <tr style=\"text-align: right;\">\n",
       "      <th></th>\n",
       "      <th>timestamp</th>\n",
       "      <th>text</th>\n",
       "      <th>Area Affected</th>\n",
       "    </tr>\n",
       "  </thead>\n",
       "  <tbody>\n",
       "    <tr>\n",
       "      <td>0</td>\n",
       "      <td>2012-01-19 22:55:20</td>\n",
       "      <td>@Number12ForLife No power in Issaquah Highland...</td>\n",
       "      <td>King</td>\n",
       "    </tr>\n",
       "    <tr>\n",
       "      <td>1</td>\n",
       "      <td>2012-01-19 22:26:31</td>\n",
       "      <td>@KING5Seattle @KIRO7Seattle tiger mountain rd ...</td>\n",
       "      <td>King</td>\n",
       "    </tr>\n",
       "    <tr>\n",
       "      <td>2</td>\n",
       "      <td>2012-01-19 22:24:36</td>\n",
       "      <td>@KING5Seattle @KIRO7Seattle SE may valley road...</td>\n",
       "      <td>King</td>\n",
       "    </tr>\n",
       "    <tr>\n",
       "      <td>3</td>\n",
       "      <td>2012-01-19 21:40:50</td>\n",
       "      <td>Just lost power. They power better be back on ...</td>\n",
       "      <td>King</td>\n",
       "    </tr>\n",
       "    <tr>\n",
       "      <td>4</td>\n",
       "      <td>2012-01-19 20:32:02</td>\n",
       "      <td>Update: Power Outages Affecting Renton's Benso...</td>\n",
       "      <td>King</td>\n",
       "    </tr>\n",
       "  </tbody>\n",
       "</table>\n",
       "</div>"
      ],
      "text/plain": [
       "             timestamp                                               text  \\\n",
       "0  2012-01-19 22:55:20  @Number12ForLife No power in Issaquah Highland...   \n",
       "1  2012-01-19 22:26:31  @KING5Seattle @KIRO7Seattle tiger mountain rd ...   \n",
       "2  2012-01-19 22:24:36  @KING5Seattle @KIRO7Seattle SE may valley road...   \n",
       "3  2012-01-19 21:40:50  Just lost power. They power better be back on ...   \n",
       "4  2012-01-19 20:32:02  Update: Power Outages Affecting Renton's Benso...   \n",
       "\n",
       "  Area Affected  \n",
       "0          King  \n",
       "1          King  \n",
       "2          King  \n",
       "3          King  \n",
       "4          King  "
      ]
     },
     "execution_count": 44,
     "metadata": {},
     "output_type": "execute_result"
    }
   ],
   "source": [
    "df.head()"
   ]
  },
  {
   "cell_type": "code",
   "execution_count": 45,
   "metadata": {},
   "outputs": [],
   "source": [
    "df['timestamp'] = pd.to_datetime(df['timestamp'])"
   ]
  },
  {
   "cell_type": "code",
   "execution_count": 46,
   "metadata": {},
   "outputs": [
    {
     "data": {
      "text/plain": [
       "array([(1, 2012), (11, 2013), (10, 2014), (12, 2014), (8, 2015),\n",
       "       (11, 2015), (11, 2017), (12, 2018)], dtype=object)"
      ]
     },
     "execution_count": 46,
     "metadata": {},
     "output_type": "execute_result"
    }
   ],
   "source": [
    "df['timestamp'].map(lambda t:(t.month,t.year))"
   ]
  },
  {
   "cell_type": "code",
   "execution_count": 49,
   "metadata": {},
   "outputs": [
    {
     "ename": "AttributeError",
     "evalue": "'DataFrame' object has no attribute 'unique'",
     "output_type": "error",
     "traceback": [
      "\u001b[1;31m---------------------------------------------------------------------------\u001b[0m",
      "\u001b[1;31mAttributeError\u001b[0m                            Traceback (most recent call last)",
      "\u001b[1;32m<ipython-input-49-281651ad7a26>\u001b[0m in \u001b[0;36m<module>\u001b[1;34m\u001b[0m\n\u001b[1;32m----> 1\u001b[1;33m \u001b[0mpd\u001b[0m\u001b[1;33m.\u001b[0m\u001b[0mget_dummies\u001b[0m\u001b[1;33m(\u001b[0m\u001b[0mdf\u001b[0m\u001b[1;33m[\u001b[0m\u001b[1;34m'timestamp'\u001b[0m\u001b[1;33m]\u001b[0m\u001b[1;33m.\u001b[0m\u001b[0mmap\u001b[0m\u001b[1;33m(\u001b[0m\u001b[1;32mlambda\u001b[0m \u001b[0mt\u001b[0m\u001b[1;33m:\u001b[0m\u001b[1;33m(\u001b[0m\u001b[0mt\u001b[0m\u001b[1;33m.\u001b[0m\u001b[0mmonth\u001b[0m\u001b[1;33m,\u001b[0m\u001b[0mt\u001b[0m\u001b[1;33m.\u001b[0m\u001b[0myear\u001b[0m\u001b[1;33m)\u001b[0m\u001b[1;33m)\u001b[0m\u001b[1;33m)\u001b[0m\u001b[1;33m.\u001b[0m\u001b[0munique\u001b[0m\u001b[1;33m(\u001b[0m\u001b[1;33m)\u001b[0m\u001b[1;33m\u001b[0m\u001b[1;33m\u001b[0m\u001b[0m\n\u001b[0m",
      "\u001b[1;32mC:\\ProgramData\\Anaconda3\\lib\\site-packages\\pandas\\core\\generic.py\u001b[0m in \u001b[0;36m__getattr__\u001b[1;34m(self, name)\u001b[0m\n\u001b[0;32m   5177\u001b[0m             \u001b[1;32mif\u001b[0m \u001b[0mself\u001b[0m\u001b[1;33m.\u001b[0m\u001b[0m_info_axis\u001b[0m\u001b[1;33m.\u001b[0m\u001b[0m_can_hold_identifiers_and_holds_name\u001b[0m\u001b[1;33m(\u001b[0m\u001b[0mname\u001b[0m\u001b[1;33m)\u001b[0m\u001b[1;33m:\u001b[0m\u001b[1;33m\u001b[0m\u001b[1;33m\u001b[0m\u001b[0m\n\u001b[0;32m   5178\u001b[0m                 \u001b[1;32mreturn\u001b[0m \u001b[0mself\u001b[0m\u001b[1;33m[\u001b[0m\u001b[0mname\u001b[0m\u001b[1;33m]\u001b[0m\u001b[1;33m\u001b[0m\u001b[1;33m\u001b[0m\u001b[0m\n\u001b[1;32m-> 5179\u001b[1;33m             \u001b[1;32mreturn\u001b[0m \u001b[0mobject\u001b[0m\u001b[1;33m.\u001b[0m\u001b[0m__getattribute__\u001b[0m\u001b[1;33m(\u001b[0m\u001b[0mself\u001b[0m\u001b[1;33m,\u001b[0m \u001b[0mname\u001b[0m\u001b[1;33m)\u001b[0m\u001b[1;33m\u001b[0m\u001b[1;33m\u001b[0m\u001b[0m\n\u001b[0m\u001b[0;32m   5180\u001b[0m \u001b[1;33m\u001b[0m\u001b[0m\n\u001b[0;32m   5181\u001b[0m     \u001b[1;32mdef\u001b[0m \u001b[0m__setattr__\u001b[0m\u001b[1;33m(\u001b[0m\u001b[0mself\u001b[0m\u001b[1;33m,\u001b[0m \u001b[0mname\u001b[0m\u001b[1;33m,\u001b[0m \u001b[0mvalue\u001b[0m\u001b[1;33m)\u001b[0m\u001b[1;33m:\u001b[0m\u001b[1;33m\u001b[0m\u001b[1;33m\u001b[0m\u001b[0m\n",
      "\u001b[1;31mAttributeError\u001b[0m: 'DataFrame' object has no attribute 'unique'"
     ]
    }
   ],
   "source": [
    "pd.get_dummies(df['timestamp'].map(lambda t:(t.month,t.year)))"
   ]
  }
 ],
 "metadata": {
  "kernelspec": {
   "display_name": "Python 3",
   "language": "python",
   "name": "python3"
  },
  "language_info": {
   "codemirror_mode": {
    "name": "ipython",
    "version": 3
   },
   "file_extension": ".py",
   "mimetype": "text/x-python",
   "name": "python",
   "nbconvert_exporter": "python",
   "pygments_lexer": "ipython3",
   "version": "3.7.4"
  }
 },
 "nbformat": 4,
 "nbformat_minor": 2
}
