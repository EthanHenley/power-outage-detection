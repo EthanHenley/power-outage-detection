{
 "cells": [
  {
   "cell_type": "code",
   "execution_count": null,
   "metadata": {},
   "outputs": [],
   "source": [
    "# ! pip install twitterAPI"
   ]
  },
  {
   "cell_type": "code",
   "execution_count": null,
   "metadata": {},
   "outputs": [],
   "source": [
    "import pandas as pd\n",
    "\n",
    "from TwitterAPI import TwitterAPI"
   ]
  },
  {
   "cell_type": "code",
   "execution_count": null,
   "metadata": {},
   "outputs": [],
   "source": [
    "ENV = pd.read_json('../env.json', typ='series')\n",
    "consumer_key = ENV['Consumer API key']\n",
    "consumer_secret = ENV['Consumer API secret key']\n",
    "access_token_key = ENV['Access token key']\n",
    "access_token_secret = ENV['Access token secret']"
   ]
  },
  {
   "cell_type": "code",
   "execution_count": null,
   "metadata": {},
   "outputs": [],
   "source": [
    "api = TwitterAPI(consumer_key, consumer_secret, \n",
    "                 access_token_key, access_token_secret)"
   ]
  },
  {
   "cell_type": "code",
   "execution_count": null,
   "metadata": {},
   "outputs": [],
   "source": [
    "req = api.request('search/tweets',\n",
    "                  {'q':'blackout OR outage OR power OR \\\"blackout period\\\"',\n",
    "                   'geocode': '37.7749,-122.4194,25mi', # san francisco\n",
    "                   'count':100})\n",
    "\n",
    "print(req.status_code,'\\n\\n')"
   ]
  },
  {
   "cell_type": "code",
   "execution_count": null,
   "metadata": {},
   "outputs": [],
   "source": [
    "for tweet in req: # here tweet is a dictionary, not an object\n",
    "    print(tweet['text'])\n",
    "    print('user loc: ',tweet['user']['location'])\n",
    "    print('tweet loc:',tweet['coordinates'])\n",
    "# could develop a way to translate twitterAPI dicts into\n",
    "# twitterscraper Tweet objects, but might not be worthwhile\n",
    "#\n",
    "# notice that some of these are cut off at 140"
   ]
  },
  {
   "cell_type": "code",
   "execution_count": null,
   "metadata": {},
   "outputs": [],
   "source": [
    "tweet.keys()"
   ]
  },
  {
   "cell_type": "code",
   "execution_count": null,
   "metadata": {},
   "outputs": [],
   "source": [
    "keyword_list = pd.read_csv('./keywords.csv')"
   ]
  },
  {
   "cell_type": "code",
   "execution_count": null,
   "metadata": {},
   "outputs": [],
   "source": [
    "type(keyword_list)"
   ]
  },
  {
   "cell_type": "code",
   "execution_count": null,
   "metadata": {},
   "outputs": [],
   "source": [
    "keyword_list"
   ]
  },
  {
   "cell_type": "code",
   "execution_count": null,
   "metadata": {},
   "outputs": [],
   "source": [
    "keyword_list = keyword_list.values.tolist()"
   ]
  },
  {
   "cell_type": "code",
   "execution_count": null,
   "metadata": {
    "scrolled": true
   },
   "outputs": [],
   "source": [
    "keyword_list"
   ]
  },
  {
   "cell_type": "code",
   "execution_count": null,
   "metadata": {},
   "outputs": [],
   "source": []
  },
  {
   "cell_type": "code",
   "execution_count": null,
   "metadata": {},
   "outputs": [],
   "source": []
  },
  {
   "cell_type": "code",
   "execution_count": null,
   "metadata": {},
   "outputs": [],
   "source": []
  },
  {
   "cell_type": "code",
   "execution_count": null,
   "metadata": {},
   "outputs": [],
   "source": []
  },
  {
   "cell_type": "markdown",
   "metadata": {},
   "source": [
    "## Word2Vec"
   ]
  },
  {
   "cell_type": "code",
   "execution_count": null,
   "metadata": {
    "scrolled": true
   },
   "outputs": [],
   "source": [
    "import numpy as np\n",
    "import time\n",
    "!pip install gensim --upgrade"
   ]
  },
  {
   "cell_type": "code",
   "execution_count": null,
   "metadata": {},
   "outputs": [],
   "source": [
    "# Import Gensim.\n",
    "import gensim"
   ]
  },
  {
   "cell_type": "code",
   "execution_count": 28,
   "metadata": {},
   "outputs": [
    {
     "name": "stdout",
     "output_type": "stream",
     "text": [
      "73.70156168937683\n"
     ]
    }
   ],
   "source": [
    "# Start timer.\n",
    "t0 = time.time()\n",
    "\n",
    "# Import word vectors into \"model.\"\n",
    "model = gensim.models.KeyedVectors.load_word2vec_format('./lexvec.enwiki+newscrawl.300d.W.pos.vectors')\n",
    "\n",
    "# Print results of timer.\n",
    "print(time.time() - t0)"
   ]
  },
  {
   "cell_type": "code",
   "execution_count": null,
   "metadata": {},
   "outputs": [],
   "source": []
  },
  {
   "cell_type": "code",
   "execution_count": 29,
   "metadata": {},
   "outputs": [
    {
     "data": {
      "text/plain": [
       "[('outage', 0.6274550557136536),\n",
       " ('blackouts', 0.6006177067756653),\n",
       " ('outages', 0.4848322868347168),\n",
       " ('shutdown', 0.459699809551239),\n",
       " ('curfew', 0.41762691736221313),\n",
       " ('lockdown', 0.41292473673820496),\n",
       " ('blacked', 0.4122680127620697),\n",
       " ('shutdowns', 0.4103419780731201),\n",
       " ('cancellation', 0.40724366903305054),\n",
       " ('glitch', 0.3966737985610962)]"
      ]
     },
     "execution_count": 29,
     "metadata": {},
     "output_type": "execute_result"
    }
   ],
   "source": [
    "model.most_similar('blackout')"
   ]
  },
  {
   "cell_type": "code",
   "execution_count": 33,
   "metadata": {},
   "outputs": [
    {
     "data": {
      "text/plain": [
       "[('brownouts', 0.34556978940963745),\n",
       " ('blackout', 0.3400511145591736),\n",
       " ('multipath', 0.3205108046531677),\n",
       " ('icing', 0.3189850449562073),\n",
       " ('blackouts', 0.3114250898361206),\n",
       " ('pingers', 0.30639803409576416),\n",
       " ('splat', 0.30289027094841003),\n",
       " ('totoy', 0.30159056186676025),\n",
       " ('tuyo', 0.3010145425796509),\n",
       " ('unfortunatelly', 0.29918935894966125)]"
      ]
     },
     "execution_count": 33,
     "metadata": {},
     "output_type": "execute_result"
    }
   ],
   "source": [
    "model.most_similar('brownout')"
   ]
  },
  {
   "cell_type": "code",
   "execution_count": 35,
   "metadata": {},
   "outputs": [
    {
     "data": {
      "text/plain": [
       "[('composer', 0.7391011714935303),\n",
       " ('conductors', 0.7255748510360718),\n",
       " ('violinist', 0.6957496404647827),\n",
       " ('pianist', 0.6720066666603088),\n",
       " ('soloist', 0.6653817892074585),\n",
       " ('concertmaster', 0.6517192721366882),\n",
       " ('organist', 0.6410260796546936),\n",
       " ('arranger', 0.6387912631034851),\n",
       " ('cellist', 0.6290683746337891),\n",
       " ('musicologist', 0.6192539930343628)]"
      ]
     },
     "execution_count": 35,
     "metadata": {},
     "output_type": "execute_result"
    }
   ],
   "source": [
    "model.most_similar('conductor')"
   ]
  },
  {
   "cell_type": "code",
   "execution_count": 36,
   "metadata": {},
   "outputs": [
    {
     "data": {
      "text/plain": [
       "[('disconnecting', 0.34771862626075745),\n",
       " ('sprinkler', 0.34272900223731995),\n",
       " ('windbreaks', 0.3380611836910248),\n",
       " ('overhung', 0.32625317573547363),\n",
       " ('sloped', 0.3218119740486145),\n",
       " ('interconnecting', 0.31665098667144775),\n",
       " ('hose', 0.3158068358898163),\n",
       " ('zigzag', 0.3151247501373291),\n",
       " ('nestling', 0.31235599517822266),\n",
       " ('coiling', 0.3105376958847046)]"
      ]
     },
     "execution_count": 36,
     "metadata": {},
     "output_type": "execute_result"
    }
   ],
   "source": [
    "model.most_similar('conductor')"
   ]
  },
  {
   "cell_type": "code",
   "execution_count": 37,
   "metadata": {},
   "outputs": [
    {
     "data": {
      "text/plain": [
       "[('disconnecting', 0.34771862626075745),\n",
       " ('sprinkler', 0.34272900223731995),\n",
       " ('windbreaks', 0.3380611836910248),\n",
       " ('overhung', 0.32625317573547363),\n",
       " ('sloped', 0.3218119740486145),\n",
       " ('interconnecting', 0.31665098667144775),\n",
       " ('hose', 0.3158068358898163),\n",
       " ('zigzag', 0.3151247501373291),\n",
       " ('nestling', 0.31235599517822266),\n",
       " ('coiling', 0.3105376958847046)]"
      ]
     },
     "execution_count": 37,
     "metadata": {},
     "output_type": "execute_result"
    }
   ],
   "source": [
    "model.most_similar('coned')"
   ]
  },
  {
   "cell_type": "code",
   "execution_count": 39,
   "metadata": {},
   "outputs": [
    {
     "data": {
      "text/plain": [
       "[('interruptions', 0.5783398747444153),\n",
       " ('uptime', 0.5078880190849304),\n",
       " ('hassle', 0.49260178208351135),\n",
       " ('hassles', 0.48927736282348633),\n",
       " ('downtimes', 0.4841042757034302),\n",
       " ('distractions', 0.48048102855682373),\n",
       " ('overheads', 0.4767254590988159),\n",
       " ('maintenance', 0.4716072976589203),\n",
       " ('backups', 0.46960699558258057),\n",
       " ('interruption', 0.46907347440719604)]"
      ]
     },
     "execution_count": 39,
     "metadata": {},
     "output_type": "execute_result"
    }
   ],
   "source": [
    "model.most_similar('downtime')"
   ]
  },
  {
   "cell_type": "code",
   "execution_count": 40,
   "metadata": {},
   "outputs": [
    {
     "data": {
      "text/plain": [
       "[('nasa', 0.5932595729827881),\n",
       " ('rosetta', 0.5106448531150818),\n",
       " ('cnes', 0.4864392876625061),\n",
       " ('exomars', 0.48341304063796997),\n",
       " ('dordain', 0.4821756184101105),\n",
       " ('roscosmos', 0.4756660461425781),\n",
       " ('jaxa', 0.4749007523059845),\n",
       " ('envisat', 0.4651567339897156),\n",
       " ('esoc', 0.45966947078704834),\n",
       " ('iss', 0.4575052559375763)]"
      ]
     },
     "execution_count": 40,
     "metadata": {},
     "output_type": "execute_result"
    }
   ],
   "source": [
    "model.most_similar('esa')"
   ]
  },
  {
   "cell_type": "code",
   "execution_count": 41,
   "metadata": {},
   "outputs": [
    {
     "data": {
      "text/plain": [
       "[('feeders', 0.5850170850753784),\n",
       " ('magnet', 0.3404761552810669),\n",
       " ('feeding', 0.33233439922332764),\n",
       " ('feeds', 0.3282319903373718),\n",
       " ('suburban', 0.3207530677318573),\n",
       " ('cyprinids', 0.3205714225769043),\n",
       " ('forage', 0.3199779987335205),\n",
       " ('feed', 0.3196057379245758),\n",
       " ('matawan', 0.31937554478645325),\n",
       " ('commuter', 0.31645694375038147)]"
      ]
     },
     "execution_count": 41,
     "metadata": {},
     "output_type": "execute_result"
    }
   ],
   "source": [
    "model.most_similar('feeder')"
   ]
  },
  {
   "cell_type": "code",
   "execution_count": 42,
   "metadata": {},
   "outputs": [
    {
     "data": {
      "text/plain": [
       "[('galloped', 0.5049031972885132),\n",
       " ('sprinting', 0.502434253692627),\n",
       " ('scampering', 0.4820915758609772),\n",
       " ('cantering', 0.4758979082107544),\n",
       " ('ambling', 0.468491792678833),\n",
       " ('striding', 0.4682465195655823),\n",
       " ('thundering', 0.46763157844543457),\n",
       " ('prancing', 0.4641878008842468),\n",
       " ('gallops', 0.45792901515960693),\n",
       " ('darting', 0.45080065727233887)]"
      ]
     },
     "execution_count": 42,
     "metadata": {},
     "output_type": "execute_result"
    }
   ],
   "source": [
    "model.most_similar('galloping')"
   ]
  },
  {
   "cell_type": "code",
   "execution_count": 43,
   "metadata": {},
   "outputs": [
    {
     "data": {
      "text/plain": [
       "[('aemo', 0.3714890480041504),\n",
       " ('asas', 0.31128421425819397),\n",
       " ('tgo', 0.30859309434890747),\n",
       " ('sedlacek', 0.30430227518081665),\n",
       " ('nrel', 0.3041067123413086),\n",
       " ('mqa', 0.2950327396392822),\n",
       " ('cism', 0.2912343144416809),\n",
       " ('wso', 0.2909441590309143),\n",
       " ('ashrae', 0.29019373655319214),\n",
       " ('implementer', 0.2869245409965515)]"
      ]
     },
     "execution_count": 43,
     "metadata": {},
     "output_type": "execute_result"
    }
   ],
   "source": [
    "model.most_similar('ieso')"
   ]
  },
  {
   "cell_type": "code",
   "execution_count": 44,
   "metadata": {},
   "outputs": [
    {
     "data": {
      "text/plain": [
       "[('occlusions', 0.5249556303024292),\n",
       " ('blockage', 0.5126487016677856),\n",
       " ('dilation', 0.5109795331954956),\n",
       " ('glaucoma', 0.5026006102561951),\n",
       " ('thrombosis', 0.5024036169052124),\n",
       " ('ischemia', 0.5014186501502991),\n",
       " ('dissection', 0.4996195435523987),\n",
       " ('stenosis', 0.48829370737075806),\n",
       " ('constriction', 0.4780538082122803),\n",
       " ('vasospasm', 0.47568729519844055)]"
      ]
     },
     "execution_count": 44,
     "metadata": {},
     "output_type": "execute_result"
    }
   ],
   "source": [
    "model.most_similar('occlusion')"
   ]
  },
  {
   "cell_type": "code",
   "execution_count": 45,
   "metadata": {},
   "outputs": [
    {
     "data": {
      "text/plain": [
       "[('occultations', 0.5753912925720215),\n",
       " ('redshifts', 0.47937440872192383),\n",
       " ('occulted', 0.4645843505859375),\n",
       " ('observing', 0.4622080326080322),\n",
       " ('redshift', 0.460071861743927),\n",
       " ('astronomers', 0.4511820077896118),\n",
       " ('declination', 0.4494580626487732),\n",
       " ('pulsar', 0.43542492389678955),\n",
       " ('orbits', 0.4345344603061676),\n",
       " ('observations', 0.4331602454185486)]"
      ]
     },
     "execution_count": 45,
     "metadata": {},
     "output_type": "execute_result"
    }
   ],
   "source": [
    "model.most_similar('occultation')"
   ]
  },
  {
   "cell_type": "code",
   "execution_count": 46,
   "metadata": {},
   "outputs": [
    {
     "data": {
      "text/plain": [
       "[('outages', 0.7809143662452698),\n",
       " ('blackout', 0.6274549961090088),\n",
       " ('glitch', 0.6086510419845581),\n",
       " ('blackouts', 0.5782867670059204),\n",
       " ('disruptions', 0.5759127736091614),\n",
       " ('interruptions', 0.5338503122329712),\n",
       " ('shutdowns', 0.5233083963394165),\n",
       " ('delays', 0.5073487758636475),\n",
       " ('glitches', 0.5010524988174438),\n",
       " ('shutdown', 0.4905714988708496)]"
      ]
     },
     "execution_count": 46,
     "metadata": {},
     "output_type": "execute_result"
    }
   ],
   "source": [
    "model.most_similar('outage')"
   ]
  },
  {
   "cell_type": "code",
   "execution_count": 48,
   "metadata": {},
   "outputs": [
    {
     "data": {
      "text/plain": [
       "[('exelon', 0.43219971656799316),\n",
       " ('entergy', 0.39248085021972656),\n",
       " ('nextera', 0.39135751128196716),\n",
       " ('ameren', 0.3849218785762787),\n",
       " ('radware', 0.3676358461380005),\n",
       " ('firstenergy', 0.36703675985336304),\n",
       " ('peco', 0.3665390610694885),\n",
       " ('suntech', 0.3627011775970459),\n",
       " ('comverge', 0.361531138420105),\n",
       " ('boralex', 0.3607710897922516)]"
      ]
     },
     "execution_count": 48,
     "metadata": {},
     "output_type": "execute_result"
    }
   ],
   "source": [
    "model.most_similar('pseg')"
   ]
  },
  {
   "cell_type": "code",
   "execution_count": 49,
   "metadata": {},
   "outputs": [
    {
     "data": {
      "text/plain": [
       "[('trusses', 0.5488869547843933),\n",
       " ('joists', 0.5279684066772461),\n",
       " ('brickwork', 0.48334240913391113),\n",
       " ('planks', 0.4603230059146881),\n",
       " ('balustrades', 0.4598703980445862),\n",
       " ('cornices', 0.45914143323898315),\n",
       " ('archways', 0.454845666885376),\n",
       " ('corbels', 0.4547502398490906),\n",
       " ('crossbeams', 0.4483315348625183),\n",
       " ('battens', 0.44698822498321533)]"
      ]
     },
     "execution_count": 49,
     "metadata": {},
     "output_type": "execute_result"
    }
   ],
   "source": [
    "model.most_similar('purlins')"
   ]
  },
  {
   "cell_type": "code",
   "execution_count": 52,
   "metadata": {},
   "outputs": [
    {
     "data": {
      "text/plain": [
       "[('snowstorms', 0.7782012224197388),\n",
       " ('snowfall', 0.6897209882736206),\n",
       " ('blizzard', 0.6884872913360596),\n",
       " ('rainstorm', 0.6786776185035706),\n",
       " ('blizzards', 0.670272707939148),\n",
       " ('snowfalls', 0.6355108022689819),\n",
       " ('downpour', 0.6331802606582642),\n",
       " ('snow', 0.6297363042831421),\n",
       " ('storms', 0.6289206743240356),\n",
       " ('downpours', 0.6219530701637268)]"
      ]
     },
     "execution_count": 52,
     "metadata": {},
     "output_type": "execute_result"
    }
   ],
   "source": [
    "model.most_similar('snowstorm')"
   ]
  },
  {
   "cell_type": "code",
   "execution_count": 53,
   "metadata": {},
   "outputs": [
    {
     "data": {
      "text/plain": [
       "[('substations', 0.7135447263717651),\n",
       " ('transformer', 0.5193408727645874),\n",
       " ('switchyard', 0.4875839948654175),\n",
       " ('transmitter', 0.47451916337013245),\n",
       " ('electrification', 0.46563342213630676),\n",
       " ('powerline', 0.46509191393852234),\n",
       " ('hvdc', 0.4555439054965973),\n",
       " ('transpower', 0.4448133707046509),\n",
       " ('electrical', 0.44285476207733154),\n",
       " ('wiring', 0.43394243717193604)]"
      ]
     },
     "execution_count": 53,
     "metadata": {},
     "output_type": "execute_result"
    }
   ],
   "source": [
    "model.most_similar('substation')"
   ]
  },
  {
   "cell_type": "code",
   "execution_count": 54,
   "metadata": {},
   "outputs": [
    {
     "data": {
      "text/plain": [
       "[('substations', 0.4897705018520355),\n",
       " ('substation', 0.4875839948654175),\n",
       " ('hvdc', 0.4016983211040497),\n",
       " ('switchgear', 0.38166964054107666),\n",
       " ('hydro', 0.3797178268432617),\n",
       " ('transformer', 0.37139657139778137),\n",
       " ('hydroelectric', 0.36845648288726807),\n",
       " ('electrification', 0.36843690276145935),\n",
       " ('powergrid', 0.3679381310939789),\n",
       " ('inverter', 0.36582881212234497)]"
      ]
     },
     "execution_count": 54,
     "metadata": {},
     "output_type": "execute_result"
    }
   ],
   "source": [
    "model.most_similar('switchyard')"
   ]
  },
  {
   "cell_type": "code",
   "execution_count": 55,
   "metadata": {},
   "outputs": [
    {
     "data": {
      "text/plain": [
       "[('thunderstorms', 0.7993125915527344),\n",
       " ('storms', 0.680500328540802),\n",
       " ('storm', 0.6596746444702148),\n",
       " ('tornado', 0.6537355184555054),\n",
       " ('downpours', 0.6348872184753418),\n",
       " ('rainstorm', 0.6242360472679138),\n",
       " ('downpour', 0.6165823936462402),\n",
       " ('tornadoes', 0.6159486174583435),\n",
       " ('weather', 0.6062207818031311),\n",
       " ('torrential', 0.5951910018920898)]"
      ]
     },
     "execution_count": 55,
     "metadata": {},
     "output_type": "execute_result"
    }
   ],
   "source": [
    "model.most_similar('thunderstorm')"
   ]
  },
  {
   "cell_type": "code",
   "execution_count": 56,
   "metadata": {},
   "outputs": [
    {
     "data": {
      "text/plain": [
       "[('windings', 0.6270470023155212),\n",
       " ('capacitor', 0.5959080457687378),\n",
       " ('inductor', 0.5839390158653259),\n",
       " ('voltage', 0.5559766292572021),\n",
       " ('resistor', 0.5510973930358887),\n",
       " ('amplifier', 0.5496636033058167),\n",
       " ('generator', 0.5443893671035767),\n",
       " ('inverter', 0.5423218011856079),\n",
       " ('capacitors', 0.5395239591598511),\n",
       " ('coil', 0.5357855558395386)]"
      ]
     },
     "execution_count": 56,
     "metadata": {},
     "output_type": "execute_result"
    }
   ],
   "source": [
    "model.most_similar('transformer')"
   ]
  },
  {
   "cell_type": "code",
   "execution_count": 57,
   "metadata": {},
   "outputs": [
    {
     "data": {
      "text/plain": [
       "[('scalability', 0.6082493662834167),\n",
       " ('reliability', 0.5160279273986816),\n",
       " ('downtime', 0.5078880190849304),\n",
       " ('manageability', 0.5039585828781128),\n",
       " ('interoperability', 0.49896878004074097),\n",
       " ('virtualization', 0.4959256052970886),\n",
       " ('maintainability', 0.4866706132888794),\n",
       " ('qos', 0.486251562833786),\n",
       " ('provisioning', 0.4790118634700775),\n",
       " ('serviceability', 0.47263187170028687)]"
      ]
     },
     "execution_count": 57,
     "metadata": {},
     "output_type": "execute_result"
    }
   ],
   "source": [
    "model.most_similar('uptime')"
   ]
  },
  {
   "cell_type": "code",
   "execution_count": 58,
   "metadata": {},
   "outputs": [
    {
     "data": {
      "text/plain": [
       "[('volts', 0.6854538917541504),\n",
       " ('prius', 0.587451159954071),\n",
       " ('rechargeable', 0.575095534324646),\n",
       " ('plug', 0.5512070655822754),\n",
       " ('charger', 0.5445395112037659),\n",
       " ('electric', 0.5413331389427185),\n",
       " ('cruze', 0.5411193370819092),\n",
       " ('amperes', 0.5271554589271545),\n",
       " ('recharged', 0.5265987515449524),\n",
       " ('ampera', 0.5216304659843445)]"
      ]
     },
     "execution_count": 58,
     "metadata": {},
     "output_type": "execute_result"
    }
   ],
   "source": [
    "model.most_similar('volt')"
   ]
  },
  {
   "cell_type": "code",
   "execution_count": 59,
   "metadata": {},
   "outputs": [
    {
     "data": {
      "text/plain": [
       "[('voltages', 0.8428897261619568),\n",
       " ('resistor', 0.7117007970809937),\n",
       " ('capacitance', 0.6905487179756165),\n",
       " ('impedance', 0.6877775192260742),\n",
       " ('capacitor', 0.6714136600494385),\n",
       " ('inductance', 0.6474398970603943),\n",
       " ('inductor', 0.6343144178390503),\n",
       " ('inverter', 0.6160243153572083),\n",
       " ('resistors', 0.6145493388175964),\n",
       " ('volts', 0.6036233901977539)]"
      ]
     },
     "execution_count": 59,
     "metadata": {},
     "output_type": "execute_result"
    }
   ],
   "source": [
    "model.most_similar('voltage')"
   ]
  },
  {
   "cell_type": "code",
   "execution_count": null,
   "metadata": {},
   "outputs": [],
   "source": [
    "for i in keyword_list:\n",
    "    print(model.most_similar(i))\n",
    "    \n",
    "# talk to ethan about a functional function"
   ]
  },
  {
   "cell_type": "code",
   "execution_count": null,
   "metadata": {},
   "outputs": [],
   "source": []
  }
 ],
 "metadata": {
  "kernelspec": {
   "display_name": "Python 3",
   "language": "python",
   "name": "python3"
  },
  "language_info": {
   "codemirror_mode": {
    "name": "ipython",
    "version": 3
   },
   "file_extension": ".py",
   "mimetype": "text/x-python",
   "name": "python",
   "nbconvert_exporter": "python",
   "pygments_lexer": "ipython3",
   "version": "3.7.4"
  }
 },
 "nbformat": 4,
 "nbformat_minor": 2
}
