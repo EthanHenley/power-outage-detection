{
 "cells": [
  {
   "cell_type": "code",
   "execution_count": 3,
   "metadata": {},
   "outputs": [],
   "source": [
    "# ! pip install twitterAPI"
   ]
  },
  {
   "cell_type": "code",
   "execution_count": 4,
   "metadata": {},
   "outputs": [],
   "source": [
    "import pandas as pd\n",
    "\n",
    "from TwitterAPI import TwitterAPI"
   ]
  },
  {
   "cell_type": "code",
   "execution_count": 5,
   "metadata": {},
   "outputs": [],
   "source": [
    "ENV = pd.read_json('../env.json', typ='series')\n",
    "consumer_key = ENV['Consumer API key']\n",
    "consumer_secret = ENV['Consumer API secret key']\n",
    "access_token_key = ENV['Access token key']\n",
    "access_token_secret = ENV['Access token secret']"
   ]
  },
  {
   "cell_type": "code",
   "execution_count": 6,
   "metadata": {},
   "outputs": [],
   "source": [
    "api = TwitterAPI(consumer_key, consumer_secret, \n",
    "                 access_token_key, access_token_secret)"
   ]
  },
  {
   "cell_type": "code",
   "execution_count": 7,
   "metadata": {},
   "outputs": [
    {
     "name": "stdout",
     "output_type": "stream",
     "text": [
      "200 \n",
      "\n",
      "\n"
     ]
    }
   ],
   "source": [
    "req = api.request('search/tweets',\n",
    "                  {'q':'blackout OR outage OR power OR \\\"blackout period\\\"',\n",
    "                   'geocode': '37.7749,-122.4194,25mi', # san francisco\n",
    "                   'count':100})\n",
    "\n",
    "print(req.status_code,'\\n\\n')"
   ]
  },
  {
   "cell_type": "code",
   "execution_count": 8,
   "metadata": {},
   "outputs": [
    {
     "name": "stdout",
     "output_type": "stream",
     "text": [
      "RT @HumansOfFlat: Eli’s Power Grows.\n",
      "\n",
      "He will return. Updates from his intern on this account https://t.co/7VzgB5Z9jl\n",
      "user loc:  \n",
      "tweet loc: None\n",
      "RT @RBReich: Bloomberg says other Democrats sound like communists. The man has no clue about what's happening in America -- stagnant wages,…\n",
      "user loc:  Ohlone Land / Oakland, CA\n",
      "tweet loc: None\n",
      "RT @TartineUnion: All power to the @EverlaneU workers! Different workplaces across the country are beginning to organizing. No workplace is…\n",
      "user loc:  San Francisco, CA\n",
      "tweet loc: None\n",
      "Is your most critical data backed up? Can you recover after an outage? https://t.co/9UytHDxDfi\n",
      "user loc:  San Francisco\n",
      "tweet loc: None\n",
      "@keepthefaith205 @JoyAnnReid Again, I'm not talking about progressives vs moderates. I'm talking about a very bad m… https://t.co/B4dPSb9WwK\n",
      "user loc:  San Francisco\n",
      "tweet loc: None\n",
      "RT @SpeakerPelosi: President Trump was impeached for abuse of power and obstruction of Congress. By refusing to call witnesses and compel d…\n",
      "user loc:  Nashville TN\n",
      "tweet loc: None\n",
      "Consequences of Gulf War Resentment Saddam still in power Sanctions UN inspections No fly zones would lead to decad… https://t.co/WA0gQHktIg\n",
      "user loc:  Berkeley, CA\n",
      "tweet loc: None\n",
      "@SloneKandy @ovrtaxdundrpaid @ATomEAtkins @AOC It's a shame California's shut off all nuclear power but one, and ev… https://t.co/C4nNLkQGbA\n",
      "user loc:  Berkeley, CA\n",
      "tweet loc: None\n",
      "RT @RBReich: Bloomberg says other Democrats sound like communists. The man has no clue about what's happening in America -- stagnant wages,…\n",
      "user loc:  \n",
      "tweet loc: None\n",
      "RT @RBReich: Bloomberg says other Democrats sound like communists. The man has no clue about what's happening in America -- stagnant wages,…\n",
      "user loc:  Evanston, IL\n",
      "tweet loc: None\n",
      "RT @startuployalist: “Did you ever feel,” he asked, “as though you had something inside you that was only waiting for you to give it a chan…\n",
      "user loc:  San Francisco, CA\n",
      "tweet loc: None\n",
      "@ATomEAtkins @ovrtaxdundrpaid @AOC You can't produce solar panels without a large amount of power. It literally tak… https://t.co/PKRhM4WBuV\n",
      "user loc:  Berkeley, CA\n",
      "tweet loc: None\n",
      "RT @kahinavandyke: @bgarlinghouse @StanChart @bgarlinghouse Indeed!  Thanks for  leading me into the world of blockchain and the power of d…\n",
      "user loc:  The Moon\n",
      "tweet loc: None\n",
      "RT @HaileyLennonBTC: Big news!!\n",
      "\n",
      "@Coinbase has become the first crypto company to be approved as a ⁦Visa⁩ principal member, making it easie…\n",
      "user loc:  \n",
      "tweet loc: None\n",
      "RT @RBReich: Bloomberg says other Democrats sound like communists. The man has no clue about what's happening in America -- stagnant wages,…\n",
      "user loc:  canada\n",
      "tweet loc: None\n",
      "RT @RBReich: Socialism is a scare word they've hurled at every advance the people have made. Socialism is what they called public power, so…\n",
      "user loc:  East of 72nd St.\n",
      "tweet loc: None\n",
      "RT @KimZetter: The overblown reaction to this ransomware attack makes me think no one has heard of the Slammer worm and other malware that…\n",
      "user loc:  Colorado\n",
      "tweet loc: None\n",
      "RT @bayareabrrn: The fact that the leading Dem nominee has chosen to side with our wildcat strike is a testimony to the worker power that i…\n",
      "user loc:  Eora (Sydney) via Gomeroi land\n",
      "tweet loc: None\n",
      "RT @sfpelosi: #Impeached4life’s pardon-palooza is a public confession. He is yelling at judges to justify himself but in truth any pardon h…\n",
      "user loc:  toronto canada\n",
      "tweet loc: None\n",
      "RT @RBReich: Bloomberg says other Democrats sound like communists. The man has no clue about what's happening in America -- stagnant wages,…\n",
      "user loc:  Planet Earth\n",
      "tweet loc: None\n",
      "@queersocialism There’s no need for her to pledge allegiance to capitalism over and over, unless she really has no… https://t.co/3uSso57QTY\n",
      "user loc:  San Francisco, CA\n",
      "tweet loc: None\n",
      "RT @RBReich: Bloomberg says other Democrats sound like communists. The man has no clue about what's happening in America -- stagnant wages,…\n",
      "user loc:  Oklahoma City, OK\n",
      "tweet loc: None\n",
      "RT @RBReich: Bloomberg is digging himself deeper and deeper into a hole on non-disclosure agreements. Calling them \"consensual\" reveals tha…\n",
      "user loc:  Connecticut\n",
      "tweet loc: None\n",
      "RT @RBReich: Bloomberg says other Democrats sound like communists. The man has no clue about what's happening in America -- stagnant wages,…\n",
      "user loc:  \n",
      "tweet loc: None\n",
      "RT @RBReich: Bloomberg says other Democrats sound like communists. The man has no clue about what's happening in America -- stagnant wages,…\n",
      "user loc:  \n",
      "tweet loc: None\n",
      "RT @RBReich: Buttigieg's allegation that Bernie's agenda would cost $50 trillion is deceptive because it doesn't take account of the cost o…\n",
      "user loc:  Connecticut\n",
      "tweet loc: None\n",
      "@PaulRieckhoff After tonight I absolutely wouldn’t. This debacle will have lasting power.\n",
      "user loc:  San Francisco, CA\n",
      "tweet loc: None\n",
      "RT @RBReich: When billionaires have enough wealth and power to dictate the rules of capitalism for their own benefit, we all suffer.\n",
      "\n",
      "Aboli…\n",
      "user loc:  Connecticut\n",
      "tweet loc: None\n",
      "RT @RBReich: Bloomberg says other Democrats sound like communists. The man has no clue about what's happening in America -- stagnant wages,…\n",
      "user loc:  Connecticut\n",
      "tweet loc: None\n",
      "THANK YOU and praise to the Latina women of @RAICESACTION for utilizing your power of protest. You have the absolut… https://t.co/Rq7pbbC5XJ\n",
      "user loc:  San Francisco, CA\n",
      "tweet loc: None\n",
      "I'm raging that Bloomberg characterized NDAs as mutually voluntary agreements to keep quiet. As if there's equal po… https://t.co/XegQ4rhOGW\n",
      "user loc:  San Francisco, CA\n",
      "tweet loc: None\n",
      "RT @RBReich: Bloomberg says other Democrats sound like communists. The man has no clue about what's happening in America -- stagnant wages,…\n",
      "user loc:  \n",
      "tweet loc: None\n",
      "RT @RBReich: Bloomberg is digging himself deeper and deeper into a hole on non-disclosure agreements. Calling them \"consensual\" reveals tha…\n",
      "user loc:  Claremont, CA\n",
      "tweet loc: None\n",
      "@whitequark Got a quick nutshell for why UAS over BOT?\n",
      "\n",
      "(((Me, I only watched USB IF closely for the end of CBI and… https://t.co/QxCB0WQADF\n",
      "user loc:  San Francisco\n",
      "tweet loc: None\n",
      "RT @RBReich: Bloomberg is digging himself deeper and deeper into a hole on non-disclosure agreements. Calling them \"consensual\" reveals tha…\n",
      "user loc:  \n",
      "tweet loc: None\n",
      "RT @RBReich: Buttigieg's allegation that Bernie's agenda would cost $50 trillion is deceptive because it doesn't take account of the cost o…\n",
      "user loc:  \n",
      "tweet loc: None\n",
      "RT @RBReich: When billionaires have enough wealth and power to dictate the rules of capitalism for their own benefit, we all suffer.\n",
      "\n",
      "Aboli…\n",
      "user loc:  \n",
      "tweet loc: None\n",
      "RT @RBReich: Bloomberg says other Democrats sound like communists. The man has no clue about what's happening in America -- stagnant wages,…\n",
      "user loc:  \n",
      "tweet loc: None\n",
      "RT @HaileyLennonBTC: Big news!!\n",
      "\n",
      "@Coinbase has become the first crypto company to be approved as a ⁦Visa⁩ principal member, making it easie…\n",
      "user loc:  Detroit, MI\n",
      "tweet loc: None\n",
      "RT @PeterMAmbler: On a stage minutes from the worst shooting in US history, @NBCNews moderators asked not a question about the gun violence…\n",
      "user loc:  \n",
      "tweet loc: None\n",
      "All power to the @EverlaneU workers! Different workplaces across the country are beginning to organizing. No workpl… https://t.co/oBm9quVeMq\n",
      "user loc:  San Francisco, CA\n",
      "tweet loc: None\n",
      "We are excited to announce that we have partnered with @DataRobot and the #AIforGood program. During this yearlong… https://t.co/wh3Eao6z9r\n",
      "user loc:  San Francisco, CA\n",
      "tweet loc: None\n",
      "RT @RBReich: When billionaires have enough wealth and power to dictate the rules of capitalism for their own benefit, we all suffer.\n",
      "\n",
      "Aboli…\n",
      "user loc:  The World\n",
      "tweet loc: None\n",
      "@garcoak @whatttt_dc @davekarpf Katharine Seelye's NYT article covering how Bernie won and ran Burlington is also i… https://t.co/unO3MjO5f9\n",
      "user loc:  Oakland, CA\n",
      "tweet loc: None\n",
      "RT @RBReich: Bloomberg says other Democrats sound like communists. The man has no clue about what's happening in America -- stagnant wages,…\n",
      "user loc:  The World\n",
      "tweet loc: None\n",
      "RT @RBReich: Bloomberg says other Democrats sound like communists. The man has no clue about what's happening in America -- stagnant wages,…\n",
      "user loc:  Seattle, WA\n",
      "tweet loc: None\n",
      "@seraph76 I lived in Arvada &amp; Westminster first, later in Golden, lived downtown Denver for a while. When they had… https://t.co/tFyLojDnqR\n",
      "user loc:  Oakland, CA\n",
      "tweet loc: None\n",
      "RT @RBReich: Bloomberg says other Democrats sound like communists. The man has no clue about what's happening in America -- stagnant wages,…\n",
      "user loc:  Colorado Springs, CO\n",
      "tweet loc: None\n",
      "Klobs just doing everything in her power to not tear Lil Pete’s limbs out of their sockets while he drops the ol’ “donde esta la biblioteca”\n",
      "user loc:  San Francisco, CA\n",
      "tweet loc: None\n",
      "RT @RBReich: Bloomberg says other Democrats sound like communists. The man has no clue about what's happening in America -- stagnant wages,…\n",
      "user loc:  Ventura California\n",
      "tweet loc: None\n",
      "RT @RBReich: Bloomberg says other Democrats sound like communists. The man has no clue about what's happening in America -- stagnant wages,…\n",
      "user loc:  \n",
      "tweet loc: None\n",
      "RT @jessicalanyadoo: Power without kindness is rotten.\n",
      "user loc:  Universe ☆。★。Bicoastal\n",
      "tweet loc: None\n",
      "@RAICESACTION @JoeBiden THANK YOU @RAICESACTION for utilizing your constitutional power of protest. Biden needs to… https://t.co/b9AJ2sHJ9o\n",
      "user loc:  San Francisco, CA\n",
      "tweet loc: None\n",
      "My fucking power out 🥴\n",
      "user loc:  Sum where UNDA!!!✌\n",
      "tweet loc: None\n",
      "RT @StaffofSage: @red1nk They’re not saying that Black people are superior; they’re simply remarking on the lack of representation of non-w…\n",
      "user loc:  San Francisco, CA\n",
      "tweet loc: None\n",
      "RT @RBReich: Bloomberg says other Democrats sound like communists. The man has no clue about what's happening in America -- stagnant wages,…\n",
      "user loc:  \n",
      "tweet loc: None\n",
      "@_willthompson Ripping the mask off the opposing planner’s face to prove it was actually Old Man MacGillycuddy from… https://t.co/hCHrKBaPtg\n",
      "user loc:  San Francisco\n",
      "tweet loc: None\n",
      "read all about it, Bernie is the only candidate who believes in the power of the popular vote––not superdelegates… https://t.co/vg2kDPYft9\n",
      "user loc:  Oakland, CA\n",
      "tweet loc: None\n",
      "RT @RBReich: When billionaires have enough wealth and power to dictate the rules of capitalism for their own benefit, we all suffer.\n",
      "\n",
      "Aboli…\n",
      "user loc:  Kelowna, British Columbia\n",
      "tweet loc: None\n",
      "@Power_Sara17 oh my goodness🥺🥺🥺\n",
      "user loc:  San Francisco, CA\n",
      "tweet loc: None\n",
      "RT @HaileyLennonBTC: Big news!!\n",
      "\n",
      "@Coinbase has become the first crypto company to be approved as a ⁦Visa⁩ principal member, making it easie…\n",
      "user loc:  \n",
      "tweet loc: None\n",
      "RT @HaileyLennonBTC: Big news!!\n",
      "\n",
      "@Coinbase has become the first crypto company to be approved as a ⁦Visa⁩ principal member, making it easie…\n",
      "user loc:  San Francisco, CA\n",
      "tweet loc: None\n",
      "RT @emrfive: people like to use power for bad but not everybody does. gotta use it to better your life not fuck w others\n",
      "user loc:  \n",
      "tweet loc: None\n",
      "RT @HellaBlackPod: EP 66: Rest in Power Malcolm X https://t.co/jQhzfrphm1\n",
      "user loc:  Chicago, IL\n",
      "tweet loc: None\n",
      "RT @RBReich: Bloomberg is digging himself deeper and deeper into a hole on non-disclosure agreements. Calling them \"consensual\" reveals tha…\n",
      "user loc:  Marooned\n",
      "tweet loc: None\n",
      "RT @RBReich: Bloomberg is digging himself deeper and deeper into a hole on non-disclosure agreements. Calling them \"consensual\" reveals tha…\n",
      "user loc:  San Francisco, CA\n",
      "tweet loc: None\n",
      "RT @RBReich: Buttigieg's allegation that Bernie's agenda would cost $50 trillion is deceptive because it doesn't take account of the cost o…\n",
      "user loc:  Colorado Springs, CO\n",
      "tweet loc: None\n",
      "people like to use power for bad but not everybody does. gotta use it to better your life not fuck w others https://t.co/jXAruS0no2\n",
      "user loc:  vallejo, ca\n",
      "tweet loc: None\n",
      "RT @memo_z: Energía solar está en una nueva era, ya no depende de subsidios y gracias a innovación tecnológica es lo suficientemente barata…\n",
      "user loc:  \n",
      "tweet loc: None\n",
      "RT @RBReich: Socialism is a scare word they've hurled at every advance the people have made. Socialism is what they called public power, so…\n",
      "user loc:  \n",
      "tweet loc: None\n",
      "RT @HellaBlackPod: EP 66: Rest in Power Malcolm X https://t.co/jQhzfrphm1\n",
      "user loc:  \n",
      "tweet loc: None\n",
      "RT @RBReich: Bloomberg says other Democrats sound like communists. The man has no clue about what's happening in America -- stagnant wages,…\n",
      "user loc:  China\n",
      "tweet loc: None\n",
      "@red1nk They’re not saying that Black people are superior; they’re simply remarking on the lack of representation o… https://t.co/9NoYnS3g26\n",
      "user loc:  San Francisco, CA\n",
      "tweet loc: None\n",
      "RT @RBReich: Bloomberg says other Democrats sound like communists. The man has no clue about what's happening in America -- stagnant wages,…\n",
      "user loc:  Vancouver, WA\n",
      "tweet loc: None\n",
      "RT @HellaBlackPod: EP 66: Rest in Power Malcolm X https://t.co/jQhzfrphm1\n",
      "user loc:  \n",
      "tweet loc: None\n",
      "RT @HellaBlackPod: EP 66: Rest in Power Malcolm X https://t.co/jQhzfrphm1\n",
      "user loc:  Oakland / Ohlone Land\n",
      "tweet loc: None\n",
      "RT @EvanFilarca: WE'RE STARTING A MOVEMENT Y'ALL!!! I've wanted to see Spider-Man: TNAS Season 2 for ages now. It's genuinely a great serie…\n",
      "user loc:  Surabaya, Indonesia\n",
      "tweet loc: None\n",
      "RT @MuleSoft: Discover the top 10 IT takeaways — from the role of data in digital transformation to the power of an API strategy.\n",
      "user loc:  \n",
      "tweet loc: None\n",
      "RT @RBReich: Bloomberg says other Democrats sound like communists. The man has no clue about what's happening in America -- stagnant wages,…\n",
      "user loc:  \n",
      "tweet loc: None\n",
      "EP 66: Rest in Power Malcolm X https://t.co/jQhzfrphm1\n",
      "user loc:  Oakland, CA\n",
      "tweet loc: None\n",
      "RT @RBReich: Socialism is a scare word they've hurled at every advance the people have made. Socialism is what they called public power, so…\n",
      "user loc:  United States\n",
      "tweet loc: None\n",
      "RT @RBReich: Bloomberg says other Democrats sound like communists. The man has no clue about what's happening in America -- stagnant wages,…\n",
      "user loc:  Seattle. WA\n",
      "tweet loc: None\n",
      "RT @RBReich: Bloomberg says other Democrats sound like communists. The man has no clue about what's happening in America -- stagnant wages,…\n",
      "user loc:  Austin metro, Texas\n",
      "tweet loc: None\n",
      "RT @RBReich: Bloomberg says other Democrats sound like communists. The man has no clue about what's happening in America -- stagnant wages,…\n",
      "user loc:  Rhode Island, USA\n",
      "tweet loc: None\n",
      "RT @RBReich: Bloomberg says other Democrats sound like communists. The man has no clue about what's happening in America -- stagnant wages,…\n",
      "user loc:  \n",
      "tweet loc: None\n",
      "RT @HaileyLennonBTC: Big news!!\n",
      "\n",
      "@Coinbase has become the first crypto company to be approved as a ⁦Visa⁩ principal member, making it easie…\n",
      "user loc:  \n",
      "tweet loc: None\n",
      "These 9 cool tricks unleash the power of Amazon’s Alexa assistant https://t.co/qOd6ayHIgJ\n",
      "user loc:  San Francisco\n",
      "tweet loc: None\n",
      "RT @RBReich: Bloomberg says other Democrats sound like communists. The man has no clue about what's happening in America -- stagnant wages,…\n",
      "user loc:  Seattle\n",
      "tweet loc: None\n",
      "F. Wilderson used to always remind people, the power is in the question. \n",
      "\n",
      "https://t.co/YOnaxyAjWA\n",
      "user loc:  Oakland, CA\n",
      "tweet loc: None\n",
      "RT @yuvipanda: I'm often in meetings where I'm one of 3 men with 15-18 women across the power spectrum at @BerkeleyDataSci. And we're hirin…\n",
      "user loc:  Berkeley, CA\n",
      "tweet loc: None\n",
      "RT @RBReich: Bloomberg says other Democrats sound like communists. The man has no clue about what's happening in America -- stagnant wages,…\n",
      "user loc:  \n",
      "tweet loc: None\n",
      "RT @RBReich: Socialism is a scare word they've hurled at every advance the people have made. Socialism is what they called public power, so…\n",
      "user loc:  Richmond Hill, Ontario\n",
      "tweet loc: None\n",
      "RT @RBReich: When billionaires have enough wealth and power to dictate the rules of capitalism for their own benefit, we all suffer.\n",
      "\n",
      "Aboli…\n",
      "user loc:  Dallas, TX\n",
      "tweet loc: None\n",
      "RT @RBReich: Bloomberg is digging himself deeper and deeper into a hole on non-disclosure agreements. Calling them \"consensual\" reveals tha…\n",
      "user loc:  Philadelphia, PA, USA\n",
      "tweet loc: None\n",
      "RT @bayareabrrn: The fact that the leading Dem nominee has chosen to side with our wildcat strike is a testimony to the worker power that i…\n",
      "user loc:  Washington, DC\n",
      "tweet loc: None\n",
      "RT @RBReich: When billionaires have enough wealth and power to dictate the rules of capitalism for their own benefit, we all suffer.\n",
      "\n",
      "Aboli…\n",
      "user loc:  Martinsburg, WV\n",
      "tweet loc: None\n",
      "RT @RBReich: Bloomberg says other Democrats sound like communists. The man has no clue about what's happening in America -- stagnant wages,…\n",
      "user loc:  Houston, Texas\n",
      "tweet loc: None\n",
      "RT @RBReich: Bloomberg says other Democrats sound like communists. The man has no clue about what's happening in America -- stagnant wages,…\n",
      "user loc:  Martinsburg, WV\n",
      "tweet loc: None\n",
      "@itsangelcast @fernvndo1 @PoohDaManz He knew them niggas that’s why\n",
      "user loc:  north oakland california\n",
      "tweet loc: None\n",
      "RT @CommunityGONews: Trainers,\n",
      "Rock Wrecker's stats are finally here:\n",
      "+  template_id: \"V0334_MOVE_ROCK_WRECKER\"\n",
      "+  move_settings {\n",
      "+    mov…\n",
      "user loc:  Sprimont, Belgique\n",
      "tweet loc: None\n"
     ]
    }
   ],
   "source": [
    "for tweet in req: # here tweet is a dictionary, not an object\n",
    "    print(tweet['text'])\n",
    "    print('user loc: ',tweet['user']['location'])\n",
    "    print('tweet loc:',tweet['coordinates'])\n",
    "# could develop a way to translate twitterAPI dicts into\n",
    "# twitterscraper Tweet objects, but might not be worthwhile\n",
    "#\n",
    "# notice that some of these are cut off at 140"
   ]
  },
  {
   "cell_type": "code",
   "execution_count": 9,
   "metadata": {},
   "outputs": [
    {
     "data": {
      "text/plain": [
       "dict_keys(['created_at', 'id', 'id_str', 'text', 'truncated', 'entities', 'metadata', 'source', 'in_reply_to_status_id', 'in_reply_to_status_id_str', 'in_reply_to_user_id', 'in_reply_to_user_id_str', 'in_reply_to_screen_name', 'user', 'geo', 'coordinates', 'place', 'contributors', 'retweeted_status', 'is_quote_status', 'retweet_count', 'favorite_count', 'favorited', 'retweeted', 'lang'])"
      ]
     },
     "execution_count": 9,
     "metadata": {},
     "output_type": "execute_result"
    }
   ],
   "source": [
    "tweet.keys()"
   ]
  },
  {
   "cell_type": "code",
   "execution_count": 10,
   "metadata": {},
   "outputs": [],
   "source": [
    "keyword_list = pd.read_csv('./keywords.csv')"
   ]
  },
  {
   "cell_type": "code",
   "execution_count": 11,
   "metadata": {},
   "outputs": [
    {
     "data": {
      "text/plain": [
       "pandas.core.frame.DataFrame"
      ]
     },
     "execution_count": 11,
     "metadata": {},
     "output_type": "execute_result"
    }
   ],
   "source": [
    "type(keyword_list)"
   ]
  },
  {
   "cell_type": "code",
   "execution_count": 12,
   "metadata": {},
   "outputs": [
    {
     "data": {
      "text/html": [
       "<div>\n",
       "<style scoped>\n",
       "    .dataframe tbody tr th:only-of-type {\n",
       "        vertical-align: middle;\n",
       "    }\n",
       "\n",
       "    .dataframe tbody tr th {\n",
       "        vertical-align: top;\n",
       "    }\n",
       "\n",
       "    .dataframe thead th {\n",
       "        text-align: right;\n",
       "    }\n",
       "</style>\n",
       "<table border=\"1\" class=\"dataframe\">\n",
       "  <thead>\n",
       "    <tr style=\"text-align: right;\">\n",
       "      <th></th>\n",
       "      <th>Animal contact</th>\n",
       "    </tr>\n",
       "  </thead>\n",
       "  <tbody>\n",
       "    <tr>\n",
       "      <th>0</th>\n",
       "      <td>ARC</td>\n",
       "    </tr>\n",
       "    <tr>\n",
       "      <th>1</th>\n",
       "      <td>auto-reclosure</td>\n",
       "    </tr>\n",
       "    <tr>\n",
       "      <th>2</th>\n",
       "      <td>Backup power</td>\n",
       "    </tr>\n",
       "    <tr>\n",
       "      <th>3</th>\n",
       "      <td>Black-out</td>\n",
       "    </tr>\n",
       "    <tr>\n",
       "      <th>4</th>\n",
       "      <td>Blackout</td>\n",
       "    </tr>\n",
       "    <tr>\n",
       "      <th>...</th>\n",
       "      <td>...</td>\n",
       "    </tr>\n",
       "    <tr>\n",
       "      <th>105</th>\n",
       "      <td>Uptime</td>\n",
       "    </tr>\n",
       "    <tr>\n",
       "      <th>106</th>\n",
       "      <td>Vault</td>\n",
       "    </tr>\n",
       "    <tr>\n",
       "      <th>107</th>\n",
       "      <td>Voltage</td>\n",
       "    </tr>\n",
       "    <tr>\n",
       "      <th>108</th>\n",
       "      <td>Voltage loss</td>\n",
       "    </tr>\n",
       "    <tr>\n",
       "      <th>109</th>\n",
       "      <td>Voltage reduction</td>\n",
       "    </tr>\n",
       "  </tbody>\n",
       "</table>\n",
       "<p>110 rows × 1 columns</p>\n",
       "</div>"
      ],
      "text/plain": [
       "        Animal contact\n",
       "0                  ARC\n",
       "1       auto-reclosure\n",
       "2         Backup power\n",
       "3            Black-out\n",
       "4             Blackout\n",
       "..                 ...\n",
       "105             Uptime\n",
       "106              Vault\n",
       "107            Voltage\n",
       "108       Voltage loss\n",
       "109  Voltage reduction\n",
       "\n",
       "[110 rows x 1 columns]"
      ]
     },
     "execution_count": 12,
     "metadata": {},
     "output_type": "execute_result"
    }
   ],
   "source": [
    "keyword_list"
   ]
  },
  {
   "cell_type": "code",
   "execution_count": 13,
   "metadata": {},
   "outputs": [],
   "source": [
    "keyword_list = keyword_list.values.tolist()"
   ]
  },
  {
   "cell_type": "code",
   "execution_count": 14,
   "metadata": {
    "scrolled": true
   },
   "outputs": [
    {
     "data": {
      "text/plain": [
       "[['ARC'],\n",
       " ['auto-reclosure'],\n",
       " ['Backup power'],\n",
       " ['Black-out'],\n",
       " ['Blackout'],\n",
       " ['Blackout period'],\n",
       " ['Brownout'],\n",
       " ['Cable fault'],\n",
       " ['Circuit'],\n",
       " ['Circuit breaker'],\n",
       " ['Conductor'],\n",
       " ['Coned'],\n",
       " ['Cortes'],\n",
       " ['Crossarm'],\n",
       " ['Current cut-off'],\n",
       " ['Current cutoff'],\n",
       " ['Current interrupting'],\n",
       " ['Current interruption'],\n",
       " ['Cut off the power'],\n",
       " ['Cut the power'],\n",
       " ['Dip riser pole'],\n",
       " ['Downtime'],\n",
       " ['Elbow'],\n",
       " ['Electrical overload'],\n",
       " ['Electrical safety authority'],\n",
       " ['Electricity blackouts'],\n",
       " ['Electricity grid'],\n",
       " ['Electricity outages'],\n",
       " ['Emergency control actions'],\n",
       " ['Energy spike'],\n",
       " ['Energy surge'],\n",
       " ['Equipment issue'],\n",
       " ['ESA'],\n",
       " ['Feeder'],\n",
       " ['fuck no lights'],\n",
       " ['Fused cutout'],\n",
       " ['Galloping'],\n",
       " ['IESO'],\n",
       " ['INDEPENDENT ELECTRICITY SYSTEM OPERATOR'],\n",
       " ['Lack of electricity'],\n",
       " ['Leaf fat'],\n",
       " ['Lights went out'],\n",
       " ['Load shedding'],\n",
       " ['Lose power'],\n",
       " ['Losing power'],\n",
       " ['Loss in power'],\n",
       " ['Loss of supply'],\n",
       " ['Lost power'],\n",
       " ['Momentary interruption'],\n",
       " ['no lights'],\n",
       " ['no power'],\n",
       " ['Occlusion'],\n",
       " ['Occultation'],\n",
       " ['Outage'],\n",
       " ['Outage management system'],\n",
       " ['Over-voltage'],\n",
       " ['Permanent Fault'],\n",
       " ['Planned maintenance'],\n",
       " ['Power cut'],\n",
       " ['Power cuts'],\n",
       " ['Power disruption'],\n",
       " ['Power disruptions'],\n",
       " ['Power dissipation'],\n",
       " ['Power down'],\n",
       " ['Power drain'],\n",
       " ['Power fails'],\n",
       " ['Power failure'],\n",
       " ['Power goes out'],\n",
       " ['Power interruption'],\n",
       " ['power is out'],\n",
       " ['Power loss'],\n",
       " ['Power losses'],\n",
       " ['power outage'],\n",
       " ['Power shortages'],\n",
       " ['Power shutdown'],\n",
       " ['Power supply interruption'],\n",
       " ['Power surges'],\n",
       " ['Power went out'],\n",
       " ['Proceed equipment'],\n",
       " ['Protected device'],\n",
       " ['pse&g'],\n",
       " ['Purlins'],\n",
       " ['Rolling Blackout'],\n",
       " ['Rolling blackouts'],\n",
       " ['S.C.A.D.A.'],\n",
       " ['Sectionalize'],\n",
       " ['Severe Weather'],\n",
       " ['shit no lights'],\n",
       " ['Shorted out'],\n",
       " ['Snowstorm'],\n",
       " ['Solar Storms'],\n",
       " ['Space Weather'],\n",
       " ['Substation'],\n",
       " ['Supervisory Control and Data Acquisition'],\n",
       " ['Surge Protector'],\n",
       " ['Switch off'],\n",
       " ['Switched off'],\n",
       " ['Switchyard'],\n",
       " ['Thunderstorm'],\n",
       " ['Transformer'],\n",
       " ['Transformer station'],\n",
       " ['Transmission system'],\n",
       " ['Tree fell'],\n",
       " ['Tree into lines'],\n",
       " ['Under frequency load sheeting'],\n",
       " ['Uptime'],\n",
       " ['Vault'],\n",
       " ['Voltage'],\n",
       " ['Voltage loss'],\n",
       " ['Voltage reduction']]"
      ]
     },
     "execution_count": 14,
     "metadata": {},
     "output_type": "execute_result"
    }
   ],
   "source": [
    "keyword_list"
   ]
  },
  {
   "cell_type": "code",
   "execution_count": null,
   "metadata": {},
   "outputs": [],
   "source": []
  },
  {
   "cell_type": "code",
   "execution_count": null,
   "metadata": {},
   "outputs": [],
   "source": []
  },
  {
   "cell_type": "code",
   "execution_count": null,
   "metadata": {},
   "outputs": [],
   "source": []
  },
  {
   "cell_type": "code",
   "execution_count": null,
   "metadata": {},
   "outputs": [],
   "source": []
  },
  {
   "cell_type": "markdown",
   "metadata": {},
   "source": [
    "## Word2Vec"
   ]
  },
  {
   "cell_type": "code",
   "execution_count": 15,
   "metadata": {
    "scrolled": true
   },
   "outputs": [
    {
     "name": "stdout",
     "output_type": "stream",
     "text": [
      "Requirement already up-to-date: gensim in /opt/anaconda3/lib/python3.7/site-packages (3.8.1)\n",
      "Requirement already satisfied, skipping upgrade: smart-open>=1.8.1 in /opt/anaconda3/lib/python3.7/site-packages (from gensim) (1.9.0)\n",
      "Requirement already satisfied, skipping upgrade: numpy>=1.11.3 in /opt/anaconda3/lib/python3.7/site-packages (from gensim) (1.17.4)\n",
      "Requirement already satisfied, skipping upgrade: six>=1.5.0 in /opt/anaconda3/lib/python3.7/site-packages (from gensim) (1.12.0)\n",
      "Requirement already satisfied, skipping upgrade: scipy>=0.18.1 in /opt/anaconda3/lib/python3.7/site-packages (from gensim) (1.4.1)\n",
      "Requirement already satisfied, skipping upgrade: boto>=2.32 in /opt/anaconda3/lib/python3.7/site-packages (from smart-open>=1.8.1->gensim) (2.49.0)\n",
      "Requirement already satisfied, skipping upgrade: boto3 in /opt/anaconda3/lib/python3.7/site-packages (from smart-open>=1.8.1->gensim) (1.11.17)\n",
      "Requirement already satisfied, skipping upgrade: requests in /opt/anaconda3/lib/python3.7/site-packages (from smart-open>=1.8.1->gensim) (2.22.0)\n",
      "Requirement already satisfied, skipping upgrade: jmespath<1.0.0,>=0.7.1 in /opt/anaconda3/lib/python3.7/site-packages (from boto3->smart-open>=1.8.1->gensim) (0.9.4)\n",
      "Requirement already satisfied, skipping upgrade: botocore<1.15.0,>=1.14.17 in /opt/anaconda3/lib/python3.7/site-packages (from boto3->smart-open>=1.8.1->gensim) (1.14.17)\n",
      "Requirement already satisfied, skipping upgrade: s3transfer<0.4.0,>=0.3.0 in /opt/anaconda3/lib/python3.7/site-packages (from boto3->smart-open>=1.8.1->gensim) (0.3.3)\n",
      "Requirement already satisfied, skipping upgrade: chardet<3.1.0,>=3.0.2 in /opt/anaconda3/lib/python3.7/site-packages (from requests->smart-open>=1.8.1->gensim) (3.0.4)\n",
      "Requirement already satisfied, skipping upgrade: idna<2.9,>=2.5 in /opt/anaconda3/lib/python3.7/site-packages (from requests->smart-open>=1.8.1->gensim) (2.8)\n",
      "Requirement already satisfied, skipping upgrade: urllib3!=1.25.0,!=1.25.1,<1.26,>=1.21.1 in /opt/anaconda3/lib/python3.7/site-packages (from requests->smart-open>=1.8.1->gensim) (1.24.2)\n",
      "Requirement already satisfied, skipping upgrade: certifi>=2017.4.17 in /opt/anaconda3/lib/python3.7/site-packages (from requests->smart-open>=1.8.1->gensim) (2019.9.11)\n",
      "Requirement already satisfied, skipping upgrade: docutils<0.16,>=0.10 in /opt/anaconda3/lib/python3.7/site-packages (from botocore<1.15.0,>=1.14.17->boto3->smart-open>=1.8.1->gensim) (0.15.2)\n",
      "Requirement already satisfied, skipping upgrade: python-dateutil<3.0.0,>=2.1 in /opt/anaconda3/lib/python3.7/site-packages (from botocore<1.15.0,>=1.14.17->boto3->smart-open>=1.8.1->gensim) (2.8.0)\n"
     ]
    }
   ],
   "source": [
    "import numpy as np\n",
    "import time\n",
    "!pip install gensim --upgrade"
   ]
  },
  {
   "cell_type": "code",
   "execution_count": 16,
   "metadata": {},
   "outputs": [],
   "source": [
    "# Import Gensim.\n",
    "import gensim"
   ]
  },
  {
   "cell_type": "code",
   "execution_count": 17,
   "metadata": {},
   "outputs": [
    {
     "name": "stdout",
     "output_type": "stream",
     "text": [
      "73.0601921081543\n"
     ]
    }
   ],
   "source": [
    "# Start timer.\n",
    "t0 = time.time()\n",
    "\n",
    "# Import word vectors into \"model.\"\n",
    "model = gensim.models.KeyedVectors.load_word2vec_format('./lexvec.enwiki+newscrawl.300d.W.pos.vectors')\n",
    "\n",
    "# Print results of timer.\n",
    "print(time.time() - t0)"
   ]
  },
  {
   "cell_type": "code",
   "execution_count": null,
   "metadata": {},
   "outputs": [],
   "source": []
  },
  {
   "cell_type": "code",
   "execution_count": 18,
   "metadata": {},
   "outputs": [
    {
     "data": {
      "text/plain": [
       "[('outage', 0.6274550557136536),\n",
       " ('blackouts', 0.6006177067756653),\n",
       " ('outages', 0.4848322868347168),\n",
       " ('shutdown', 0.459699809551239),\n",
       " ('curfew', 0.41762691736221313),\n",
       " ('lockdown', 0.41292473673820496),\n",
       " ('blacked', 0.4122680127620697),\n",
       " ('shutdowns', 0.4103419780731201),\n",
       " ('cancellation', 0.40724366903305054),\n",
       " ('glitch', 0.3966737985610962),\n",
       " ('meltdown', 0.38935112953186035),\n",
       " ('curfews', 0.3879850208759308),\n",
       " ('brownouts', 0.38214588165283203),\n",
       " ('lockout', 0.38134124875068665),\n",
       " ('cyberattack', 0.3796083331108093),\n",
       " ('snowstorm', 0.3792593479156494),\n",
       " ('sopa', 0.37336820363998413),\n",
       " ('censorship', 0.3668628931045532),\n",
       " ('disconnection', 0.3668341636657715),\n",
       " ('interruption', 0.3662530779838562)]"
      ]
     },
     "execution_count": 18,
     "metadata": {},
     "output_type": "execute_result"
    }
   ],
   "source": [
    "model.most_similar('blackout', topn = 20)"
   ]
  },
  {
   "cell_type": "code",
   "execution_count": 19,
   "metadata": {},
   "outputs": [
    {
     "data": {
      "text/plain": [
       "[('brownouts', 0.34556978940963745),\n",
       " ('blackout', 0.3400511145591736),\n",
       " ('multipath', 0.3205108046531677),\n",
       " ('icing', 0.3189850449562073),\n",
       " ('blackouts', 0.3114250898361206),\n",
       " ('pingers', 0.30639803409576416),\n",
       " ('splat', 0.30289027094841003),\n",
       " ('totoy', 0.30159056186676025),\n",
       " ('tuyo', 0.3010145425796509),\n",
       " ('unfortunatelly', 0.29918935894966125),\n",
       " ('graininess', 0.2919614911079407),\n",
       " ('fog', 0.2904299199581146),\n",
       " ('lotsa', 0.2870318293571472),\n",
       " ('doze', 0.2865423560142517),\n",
       " ('twt', 0.28643345832824707),\n",
       " ('hamachi', 0.28638237714767456),\n",
       " ('amperage', 0.286021888256073),\n",
       " ('overspeed', 0.2838415205478668),\n",
       " ('fogs', 0.28366023302078247),\n",
       " ('scatters', 0.28181469440460205)]"
      ]
     },
     "execution_count": 19,
     "metadata": {},
     "output_type": "execute_result"
    }
   ],
   "source": [
    "model.most_similar('brownout', topn = 20)"
   ]
  },
  {
   "cell_type": "code",
   "execution_count": 20,
   "metadata": {},
   "outputs": [
    {
     "data": {
      "text/plain": [
       "[('composer', 0.7391011714935303),\n",
       " ('conductors', 0.7255748510360718),\n",
       " ('violinist', 0.6957496404647827),\n",
       " ('pianist', 0.6720066666603088),\n",
       " ('soloist', 0.6653817892074585),\n",
       " ('concertmaster', 0.6517192721366882),\n",
       " ('organist', 0.6410260796546936),\n",
       " ('arranger', 0.6387912631034851),\n",
       " ('cellist', 0.6290683746337891),\n",
       " ('musicologist', 0.6192539930343628),\n",
       " ('pedagogue', 0.6129903793334961),\n",
       " ('violist', 0.6108382940292358),\n",
       " ('accompanist', 0.6027133464813232),\n",
       " ('orchestra', 0.6010133028030396),\n",
       " ('clarinetist', 0.5928723812103271),\n",
       " ('philharmonic', 0.5879615545272827),\n",
       " ('soloists', 0.5861985683441162),\n",
       " ('oboist', 0.5778505802154541),\n",
       " ('barenboim', 0.5661669969558716),\n",
       " ('trombonist', 0.5630998611450195)]"
      ]
     },
     "execution_count": 20,
     "metadata": {},
     "output_type": "execute_result"
    }
   ],
   "source": [
    "model.most_similar('conductor', topn = 20)"
   ]
  },
  {
   "cell_type": "code",
   "execution_count": 21,
   "metadata": {},
   "outputs": [
    {
     "data": {
      "text/plain": [
       "[('disconnecting', 0.34771862626075745),\n",
       " ('sprinkler', 0.34272900223731995),\n",
       " ('windbreaks', 0.3380611836910248),\n",
       " ('overhung', 0.32625317573547363),\n",
       " ('sloped', 0.3218119740486145),\n",
       " ('interconnecting', 0.31665098667144775),\n",
       " ('hose', 0.3158068358898163),\n",
       " ('zigzag', 0.3151247501373291),\n",
       " ('nestling', 0.31235599517822266),\n",
       " ('coiling', 0.3105376958847046),\n",
       " ('gooseneck', 0.3085530996322632),\n",
       " ('matchstick', 0.3074909746646881),\n",
       " ('toroidal', 0.3073539137840271),\n",
       " ('ridged', 0.30684903264045715),\n",
       " ('scree', 0.3040764331817627),\n",
       " ('comed', 0.2998061180114746),\n",
       " ('stoplights', 0.2987108826637268),\n",
       " ('bunching', 0.29727059602737427),\n",
       " ('awning', 0.2969885468482971),\n",
       " ('downspout', 0.2968575954437256)]"
      ]
     },
     "execution_count": 21,
     "metadata": {},
     "output_type": "execute_result"
    }
   ],
   "source": [
    "model.most_similar('coned', topn = 20)"
   ]
  },
  {
   "cell_type": "code",
   "execution_count": 22,
   "metadata": {},
   "outputs": [
    {
     "data": {
      "text/plain": [
       "[('interruptions', 0.5783398747444153),\n",
       " ('uptime', 0.5078880190849304),\n",
       " ('hassle', 0.49260178208351135),\n",
       " ('hassles', 0.48927736282348633),\n",
       " ('downtimes', 0.4841042757034302),\n",
       " ('distractions', 0.48048102855682373),\n",
       " ('overheads', 0.4767254590988159),\n",
       " ('maintenance', 0.4716072976589203),\n",
       " ('backups', 0.46960699558258057),\n",
       " ('interruption', 0.46907347440719604),\n",
       " ('workdays', 0.46249568462371826),\n",
       " ('unplanned', 0.4613789916038513),\n",
       " ('workload', 0.4610881209373474),\n",
       " ('workday', 0.4594602584838867),\n",
       " ('outage', 0.4586707353591919),\n",
       " ('disruptions', 0.45353713631629944),\n",
       " ('outages', 0.4478132724761963),\n",
       " ('workloads', 0.44657790660858154),\n",
       " ('delays', 0.4459324777126312),\n",
       " ('scheduling', 0.44485414028167725)]"
      ]
     },
     "execution_count": 22,
     "metadata": {},
     "output_type": "execute_result"
    }
   ],
   "source": [
    "model.most_similar('downtime', topn = 20)"
   ]
  },
  {
   "cell_type": "code",
   "execution_count": 23,
   "metadata": {},
   "outputs": [
    {
     "data": {
      "text/plain": [
       "[('nasa', 0.5932595729827881),\n",
       " ('rosetta', 0.5106448531150818),\n",
       " ('cnes', 0.4864392876625061),\n",
       " ('exomars', 0.48341304063796997),\n",
       " ('dordain', 0.4821756184101105),\n",
       " ('roscosmos', 0.4756660461425781),\n",
       " ('jaxa', 0.4749007523059845),\n",
       " ('envisat', 0.4651567339897156),\n",
       " ('esoc', 0.45966947078704834),\n",
       " ('iss', 0.4575052559375763),\n",
       " ('isro', 0.45191678404808044),\n",
       " ('sts', 0.4428238272666931),\n",
       " ('skylab', 0.4425528645515442),\n",
       " ('shuttle', 0.43967247009277344),\n",
       " ('spacecraft', 0.4379865527153015),\n",
       " ('microgravity', 0.42598623037338257),\n",
       " ('spaceflight', 0.42520222067832947),\n",
       " ('cryosat', 0.42323774099349976),\n",
       " ('spacelab', 0.42161235213279724),\n",
       " ('astronaut', 0.4209805727005005)]"
      ]
     },
     "execution_count": 23,
     "metadata": {},
     "output_type": "execute_result"
    }
   ],
   "source": [
    "model.most_similar('esa', topn = 20)"
   ]
  },
  {
   "cell_type": "code",
   "execution_count": 24,
   "metadata": {},
   "outputs": [
    {
     "data": {
      "text/plain": [
       "[('feeders', 0.5850170850753784),\n",
       " ('magnet', 0.3404761552810669),\n",
       " ('feeding', 0.33233439922332764),\n",
       " ('feeds', 0.3282319903373718),\n",
       " ('suburban', 0.3207530677318573),\n",
       " ('cyprinids', 0.3205714225769043),\n",
       " ('forage', 0.3199779987335205),\n",
       " ('feed', 0.3196057379245758),\n",
       " ('matawan', 0.31937554478645325),\n",
       " ('commuter', 0.31645694375038147),\n",
       " ('riser', 0.3085039556026459),\n",
       " ('papatoetoe', 0.3072519898414612),\n",
       " ('roaming', 0.30695095658302307),\n",
       " ('freight', 0.30158042907714844),\n",
       " ('drovers', 0.30136823654174805),\n",
       " ('circulator', 0.29884105920791626),\n",
       " ('mascot', 0.2985724210739136),\n",
       " ('locale', 0.2964206635951996),\n",
       " ('interconnect', 0.2955760657787323),\n",
       " ('tier', 0.2952346205711365)]"
      ]
     },
     "execution_count": 24,
     "metadata": {},
     "output_type": "execute_result"
    }
   ],
   "source": [
    "model.most_similar('feeder', topn = 20)"
   ]
  },
  {
   "cell_type": "code",
   "execution_count": 25,
   "metadata": {},
   "outputs": [
    {
     "data": {
      "text/plain": [
       "[('galloped', 0.5049031972885132),\n",
       " ('sprinting', 0.502434253692627),\n",
       " ('scampering', 0.4820915758609772),\n",
       " ('cantering', 0.4758979082107544),\n",
       " ('ambling', 0.468491792678833),\n",
       " ('striding', 0.4682465195655823),\n",
       " ('thundering', 0.46763157844543457),\n",
       " ('prancing', 0.4641878008842468),\n",
       " ('gallops', 0.45792901515960693),\n",
       " ('darting', 0.45080065727233887),\n",
       " ('quickened', 0.4507472813129425),\n",
       " ('loping', 0.4456535279750824),\n",
       " ('untamed', 0.445169597864151),\n",
       " ('hopping', 0.4450809359550476),\n",
       " ('romping', 0.44307735562324524),\n",
       " ('stampeding', 0.4424823224544525),\n",
       " ('bounding', 0.44206053018569946),\n",
       " ('swooping', 0.4402178227901459),\n",
       " ('pedalling', 0.4400780200958252),\n",
       " ('soaring', 0.4362434148788452)]"
      ]
     },
     "execution_count": 25,
     "metadata": {},
     "output_type": "execute_result"
    }
   ],
   "source": [
    "model.most_similar('galloping', topn = 20)"
   ]
  },
  {
   "cell_type": "code",
   "execution_count": 26,
   "metadata": {},
   "outputs": [
    {
     "data": {
      "text/plain": [
       "[('aemo', 0.3714890480041504),\n",
       " ('asas', 0.31128421425819397),\n",
       " ('tgo', 0.30859309434890747),\n",
       " ('sedlacek', 0.30430227518081665),\n",
       " ('nrel', 0.3041067123413086),\n",
       " ('mqa', 0.2950327396392822),\n",
       " ('cism', 0.2912343144416809),\n",
       " ('wso', 0.2909441590309143),\n",
       " ('ashrae', 0.29019373655319214),\n",
       " ('implementer', 0.2869245409965515),\n",
       " ('cjcs', 0.28510069847106934),\n",
       " ('unosat', 0.2840108275413513),\n",
       " ('sml', 0.28272655606269836),\n",
       " ('vng', 0.2789773643016815),\n",
       " ('ptp', 0.2774893641471863),\n",
       " ('aaco', 0.27717748284339905),\n",
       " ('nle', 0.27656278014183044),\n",
       " ('enova', 0.27619731426239014),\n",
       " ('qmi', 0.2760494649410248),\n",
       " ('kurchatov', 0.2752164304256439)]"
      ]
     },
     "execution_count": 26,
     "metadata": {},
     "output_type": "execute_result"
    }
   ],
   "source": [
    "model.most_similar('ieso', topn = 20)"
   ]
  },
  {
   "cell_type": "code",
   "execution_count": 27,
   "metadata": {},
   "outputs": [
    {
     "data": {
      "text/plain": [
       "[('occlusions', 0.5249556303024292),\n",
       " ('blockage', 0.5126487016677856),\n",
       " ('dilation', 0.5109795331954956),\n",
       " ('glaucoma', 0.5026006102561951),\n",
       " ('thrombosis', 0.5024036169052124),\n",
       " ('ischemia', 0.5014186501502991),\n",
       " ('dissection', 0.4996195435523987),\n",
       " ('stenosis', 0.48829370737075806),\n",
       " ('constriction', 0.4780538082122803),\n",
       " ('vasospasm', 0.47568729519844055),\n",
       " ('calcification', 0.47491660714149475),\n",
       " ('denervation', 0.4741551876068115),\n",
       " ('dilatation', 0.46957433223724365),\n",
       " ('artery', 0.4688331186771393),\n",
       " ('malformations', 0.46771928668022156),\n",
       " ('neuropathy', 0.4568498134613037),\n",
       " ('retinopathy', 0.4562801420688629),\n",
       " ('malformation', 0.4561874270439148),\n",
       " ('aortic', 0.4548530876636505),\n",
       " ('vasculature', 0.45192599296569824)]"
      ]
     },
     "execution_count": 27,
     "metadata": {},
     "output_type": "execute_result"
    }
   ],
   "source": [
    "model.most_similar('occlusion', topn = 20)"
   ]
  },
  {
   "cell_type": "code",
   "execution_count": 28,
   "metadata": {},
   "outputs": [
    {
     "data": {
      "text/plain": [
       "[('occultations', 0.5753912925720215),\n",
       " ('redshifts', 0.47937440872192383),\n",
       " ('occulted', 0.4645843505859375),\n",
       " ('observing', 0.4622080326080322),\n",
       " ('redshift', 0.460071861743927),\n",
       " ('astronomers', 0.4511820077896118),\n",
       " ('declination', 0.4494580626487732),\n",
       " ('pulsar', 0.43542492389678955),\n",
       " ('orbits', 0.4345344603061676),\n",
       " ('observations', 0.4331602454185486),\n",
       " ('telescopes', 0.42697232961654663),\n",
       " ('moons', 0.4260525703430176),\n",
       " ('astrometry', 0.42467349767684937),\n",
       " ('quasars', 0.42142176628112793),\n",
       " ('occults', 0.4209868907928467),\n",
       " ('brightness', 0.4186595678329468),\n",
       " ('asteroid', 0.41554945707321167),\n",
       " ('fomalhaut', 0.4151401221752167),\n",
       " ('transits', 0.41448795795440674),\n",
       " ('oscillations', 0.4095359444618225)]"
      ]
     },
     "execution_count": 28,
     "metadata": {},
     "output_type": "execute_result"
    }
   ],
   "source": [
    "model.most_similar('occultation', topn = 20)"
   ]
  },
  {
   "cell_type": "code",
   "execution_count": 29,
   "metadata": {},
   "outputs": [
    {
     "data": {
      "text/plain": [
       "[('outages', 0.7809143662452698),\n",
       " ('blackout', 0.6274549961090088),\n",
       " ('glitch', 0.6086510419845581),\n",
       " ('blackouts', 0.5782867670059204),\n",
       " ('disruptions', 0.5759127736091614),\n",
       " ('interruptions', 0.5338503122329712),\n",
       " ('shutdowns', 0.5233083963394165),\n",
       " ('delays', 0.5073487758636475),\n",
       " ('glitches', 0.5010524988174438),\n",
       " ('shutdown', 0.4905714988708496),\n",
       " ('malfunction', 0.4809867739677429),\n",
       " ('cyberattack', 0.4803897738456726),\n",
       " ('leak', 0.47223615646362305),\n",
       " ('cancellations', 0.47217410802841187),\n",
       " ('interruption', 0.46663033962249756),\n",
       " ('malfunctions', 0.4604700803756714),\n",
       " ('downtime', 0.4586707055568695),\n",
       " ('snowstorm', 0.4579710364341736),\n",
       " ('disruption', 0.45053213834762573),\n",
       " ('flooding', 0.4503125250339508)]"
      ]
     },
     "execution_count": 29,
     "metadata": {},
     "output_type": "execute_result"
    }
   ],
   "source": [
    "model.most_similar('outage', topn = 20)"
   ]
  },
  {
   "cell_type": "code",
   "execution_count": 30,
   "metadata": {},
   "outputs": [
    {
     "data": {
      "text/plain": [
       "[('exelon', 0.43219971656799316),\n",
       " ('entergy', 0.39248085021972656),\n",
       " ('nextera', 0.39135751128196716),\n",
       " ('ameren', 0.3849218785762787),\n",
       " ('radware', 0.3676358461380005),\n",
       " ('firstenergy', 0.36703675985336304),\n",
       " ('peco', 0.3665390610694885),\n",
       " ('suntech', 0.3627011775970459),\n",
       " ('comverge', 0.361531138420105),\n",
       " ('boralex', 0.3607710897922516),\n",
       " ('pepco', 0.35893163084983826),\n",
       " ('rci', 0.3585779070854187),\n",
       " ('pse', 0.3584473431110382),\n",
       " ('comed', 0.3583848178386688),\n",
       " ('transalta', 0.35446956753730774),\n",
       " ('integrys', 0.3518626093864441),\n",
       " ('consol', 0.34708142280578613),\n",
       " ('peg', 0.3468519449234009),\n",
       " ('divest', 0.34597569704055786),\n",
       " ('nonregulated', 0.33906620740890503)]"
      ]
     },
     "execution_count": 30,
     "metadata": {},
     "output_type": "execute_result"
    }
   ],
   "source": [
    "model.most_similar('pseg', topn = 20)"
   ]
  },
  {
   "cell_type": "code",
   "execution_count": 31,
   "metadata": {},
   "outputs": [
    {
     "data": {
      "text/plain": [
       "[('trusses', 0.5488869547843933),\n",
       " ('joists', 0.5279684066772461),\n",
       " ('brickwork', 0.48334240913391113),\n",
       " ('planks', 0.4603230059146881),\n",
       " ('balustrades', 0.4598703980445862),\n",
       " ('cornices', 0.45914143323898315),\n",
       " ('archways', 0.454845666885376),\n",
       " ('corbels', 0.4547502398490906),\n",
       " ('crossbeams', 0.4483315348625183),\n",
       " ('battens', 0.44698822498321533),\n",
       " ('soffits', 0.44698798656463623),\n",
       " ('bargeboard', 0.4454973042011261),\n",
       " ('grilles', 0.44491156935691833),\n",
       " ('girders', 0.4383717179298401),\n",
       " ('rafters', 0.43713676929473877),\n",
       " ('mullions', 0.43630629777908325),\n",
       " ('jambs', 0.4336528182029724),\n",
       " ('mouldings', 0.433310866355896),\n",
       " ('strakes', 0.43277066946029663),\n",
       " ('verandah', 0.4272227883338928)]"
      ]
     },
     "execution_count": 31,
     "metadata": {},
     "output_type": "execute_result"
    }
   ],
   "source": [
    "model.most_similar('purlins', topn = 20)"
   ]
  },
  {
   "cell_type": "code",
   "execution_count": 32,
   "metadata": {},
   "outputs": [
    {
     "data": {
      "text/plain": [
       "[('snowstorms', 0.7782012224197388),\n",
       " ('snowfall', 0.6897209882736206),\n",
       " ('blizzard', 0.6884872913360596),\n",
       " ('rainstorm', 0.6786776185035706),\n",
       " ('blizzards', 0.670272707939148),\n",
       " ('snowfalls', 0.6355108022689819),\n",
       " ('downpour', 0.6331802606582642),\n",
       " ('snow', 0.6297363042831421),\n",
       " ('storms', 0.6289206743240356),\n",
       " ('downpours', 0.6219530701637268),\n",
       " ('rainstorms', 0.6172168254852295),\n",
       " ('rains', 0.6057695746421814),\n",
       " ('thunderstorm', 0.5944454669952393),\n",
       " ('thunderstorms', 0.585541844367981),\n",
       " ('rain', 0.5810202360153198),\n",
       " ('storm', 0.5748345255851746),\n",
       " ('torrential', 0.568065345287323),\n",
       " ('sleet', 0.5652790069580078),\n",
       " ('wintry', 0.55577552318573),\n",
       " ('windstorm', 0.5415034890174866)]"
      ]
     },
     "execution_count": 32,
     "metadata": {},
     "output_type": "execute_result"
    }
   ],
   "source": [
    "model.most_similar('snowstorm', topn = 20)"
   ]
  },
  {
   "cell_type": "code",
   "execution_count": 33,
   "metadata": {},
   "outputs": [
    {
     "data": {
      "text/plain": [
       "[('substations', 0.7135447263717651),\n",
       " ('transformer', 0.5193408727645874),\n",
       " ('switchyard', 0.4875839948654175),\n",
       " ('transmitter', 0.47451916337013245),\n",
       " ('electrification', 0.46563342213630676),\n",
       " ('powerline', 0.46509191393852234),\n",
       " ('hvdc', 0.4555439054965973),\n",
       " ('transpower', 0.4448133707046509),\n",
       " ('electrical', 0.44285476207733154),\n",
       " ('wiring', 0.43394243717193604),\n",
       " ('cabling', 0.431183397769928),\n",
       " ('interconnection', 0.43070271611213684),\n",
       " ('inverter', 0.42917996644973755),\n",
       " ('electricity', 0.4238002598285675),\n",
       " ('powerlines', 0.4236154556274414),\n",
       " ('generator', 0.42148852348327637),\n",
       " ('generators', 0.4209507703781128),\n",
       " ('pylons', 0.4202187657356262),\n",
       " ('mains', 0.4179823100566864),\n",
       " ('voltage', 0.4176660478115082)]"
      ]
     },
     "execution_count": 33,
     "metadata": {},
     "output_type": "execute_result"
    }
   ],
   "source": [
    "model.most_similar('substation', topn = 20)"
   ]
  },
  {
   "cell_type": "code",
   "execution_count": 34,
   "metadata": {},
   "outputs": [
    {
     "data": {
      "text/plain": [
       "[('substations', 0.4897705018520355),\n",
       " ('substation', 0.4875839948654175),\n",
       " ('hvdc', 0.4016983211040497),\n",
       " ('switchgear', 0.38166964054107666),\n",
       " ('hydro', 0.3797178268432617),\n",
       " ('transformer', 0.37139657139778137),\n",
       " ('hydroelectric', 0.36845648288726807),\n",
       " ('electrification', 0.36843690276145935),\n",
       " ('powergrid', 0.3679381310939789),\n",
       " ('inverter', 0.36582881212234497),\n",
       " ('whakamaru', 0.3636656403541565),\n",
       " ('generator', 0.3618265390396118),\n",
       " ('kilovolt', 0.3578762114048004),\n",
       " ('hydroelectricity', 0.356844961643219),\n",
       " ('hydropower', 0.35525667667388916),\n",
       " ('penstock', 0.3467177152633667),\n",
       " ('offsite', 0.3466816842556),\n",
       " ('generators', 0.3460913300514221),\n",
       " ('downstream', 0.3436836004257202),\n",
       " ('inverters', 0.3421105146408081)]"
      ]
     },
     "execution_count": 34,
     "metadata": {},
     "output_type": "execute_result"
    }
   ],
   "source": [
    "model.most_similar('switchyard', topn = 20)"
   ]
  },
  {
   "cell_type": "code",
   "execution_count": 35,
   "metadata": {},
   "outputs": [
    {
     "data": {
      "text/plain": [
       "[('thunderstorms', 0.7993125915527344),\n",
       " ('storms', 0.680500328540802),\n",
       " ('storm', 0.6596746444702148),\n",
       " ('tornado', 0.6537355184555054),\n",
       " ('downpours', 0.6348872184753418),\n",
       " ('rainstorm', 0.6242360472679138),\n",
       " ('downpour', 0.6165823936462402),\n",
       " ('tornadoes', 0.6159486174583435),\n",
       " ('weather', 0.6062207818031311),\n",
       " ('torrential', 0.5951910018920898),\n",
       " ('snowstorm', 0.5944453477859497),\n",
       " ('supercells', 0.5850116014480591),\n",
       " ('rain', 0.584895670413971),\n",
       " ('winds', 0.5811651945114136),\n",
       " ('gusts', 0.5786623954772949),\n",
       " ('waterspout', 0.571584939956665),\n",
       " ('squalls', 0.5634797215461731),\n",
       " ('rainstorms', 0.5583046674728394),\n",
       " ('supercell', 0.5528156161308289),\n",
       " ('windstorm', 0.5485254526138306)]"
      ]
     },
     "execution_count": 35,
     "metadata": {},
     "output_type": "execute_result"
    }
   ],
   "source": [
    "model.most_similar('thunderstorm', topn = 20)"
   ]
  },
  {
   "cell_type": "code",
   "execution_count": 36,
   "metadata": {},
   "outputs": [
    {
     "data": {
      "text/plain": [
       "[('windings', 0.6270470023155212),\n",
       " ('capacitor', 0.5959080457687378),\n",
       " ('inductor', 0.5839390158653259),\n",
       " ('voltage', 0.5559766292572021),\n",
       " ('resistor', 0.5510973930358887),\n",
       " ('amplifier', 0.5496636033058167),\n",
       " ('generator', 0.5443893671035767),\n",
       " ('inverter', 0.5423218011856079),\n",
       " ('capacitors', 0.5395239591598511),\n",
       " ('coil', 0.5357855558395386),\n",
       " ('armature', 0.533999502658844),\n",
       " ('voltages', 0.5222622156143188),\n",
       " ('substations', 0.520495593547821),\n",
       " ('substation', 0.5193408727645874),\n",
       " ('coils', 0.5156800150871277),\n",
       " ('inductance', 0.5147020220756531),\n",
       " ('inductors', 0.512993335723877),\n",
       " ('transformers', 0.5006669163703918),\n",
       " ('alternator', 0.4970307946205139),\n",
       " ('electromagnet', 0.4932936429977417)]"
      ]
     },
     "execution_count": 36,
     "metadata": {},
     "output_type": "execute_result"
    }
   ],
   "source": [
    "model.most_similar('transformer', topn = 20)"
   ]
  },
  {
   "cell_type": "code",
   "execution_count": 37,
   "metadata": {},
   "outputs": [
    {
     "data": {
      "text/plain": [
       "[('scalability', 0.6082493662834167),\n",
       " ('reliability', 0.5160279273986816),\n",
       " ('downtime', 0.5078880190849304),\n",
       " ('manageability', 0.5039585828781128),\n",
       " ('interoperability', 0.49896878004074097),\n",
       " ('virtualization', 0.4959256052970886),\n",
       " ('maintainability', 0.4866706132888794),\n",
       " ('qos', 0.486251562833786),\n",
       " ('provisioning', 0.4790118634700775),\n",
       " ('serviceability', 0.47263187170028687),\n",
       " ('usability', 0.47213655710220337),\n",
       " ('programmability', 0.46293962001800537),\n",
       " ('portability', 0.4623511731624603),\n",
       " ('mtbf', 0.4617660939693451),\n",
       " ('deduplication', 0.45850080251693726),\n",
       " ('functionality', 0.4505172371864319),\n",
       " ('caching', 0.4498663544654846),\n",
       " ('workflow', 0.4450058043003082),\n",
       " ('implementations', 0.4445590376853943),\n",
       " ('failover', 0.4442194402217865)]"
      ]
     },
     "execution_count": 37,
     "metadata": {},
     "output_type": "execute_result"
    }
   ],
   "source": [
    "model.most_similar('uptime', topn = 20)"
   ]
  },
  {
   "cell_type": "code",
   "execution_count": 38,
   "metadata": {},
   "outputs": [
    {
     "data": {
      "text/plain": [
       "[('volts', 0.6854538917541504),\n",
       " ('prius', 0.587451159954071),\n",
       " ('rechargeable', 0.575095534324646),\n",
       " ('plug', 0.5512070655822754),\n",
       " ('charger', 0.5445395112037659),\n",
       " ('electric', 0.5413331389427185),\n",
       " ('cruze', 0.5411193370819092),\n",
       " ('amperes', 0.5271554589271545),\n",
       " ('recharged', 0.5265987515449524),\n",
       " ('ampera', 0.5216304659843445),\n",
       " ('tesla', 0.5120015144348145),\n",
       " ('battery', 0.511353611946106),\n",
       " ('recharging', 0.4971524178981781),\n",
       " ('ignition', 0.49401211738586426),\n",
       " ('hybrid', 0.49204927682876587),\n",
       " ('kwh', 0.4901764988899231),\n",
       " ('voltage', 0.4879435896873474),\n",
       " ('batteries', 0.48698854446411133),\n",
       " ('lithium', 0.4864606261253357),\n",
       " ('powertrain', 0.4844221770763397)]"
      ]
     },
     "execution_count": 38,
     "metadata": {},
     "output_type": "execute_result"
    }
   ],
   "source": [
    "model.most_similar('volt', topn = 20)"
   ]
  },
  {
   "cell_type": "code",
   "execution_count": 39,
   "metadata": {},
   "outputs": [
    {
     "data": {
      "text/plain": [
       "[('voltages', 0.8428897261619568),\n",
       " ('resistor', 0.7117007970809937),\n",
       " ('capacitance', 0.6905487179756165),\n",
       " ('impedance', 0.6877775192260742),\n",
       " ('capacitor', 0.6714136600494385),\n",
       " ('inductance', 0.6474398970603943),\n",
       " ('inductor', 0.6343144178390503),\n",
       " ('inverter', 0.6160243153572083),\n",
       " ('resistors', 0.6145493388175964),\n",
       " ('volts', 0.6036233901977539),\n",
       " ('capacitors', 0.6016942858695984),\n",
       " ('conductance', 0.5732929706573486),\n",
       " ('mosfet', 0.5709200501441956),\n",
       " ('inductors', 0.5665831565856934),\n",
       " ('dielectric', 0.5658414363861084),\n",
       " ('anode', 0.5655257701873779),\n",
       " ('diode', 0.5640987157821655),\n",
       " ('amperes', 0.5640413761138916),\n",
       " ('windings', 0.5574899315834045),\n",
       " ('frequency', 0.5562726259231567)]"
      ]
     },
     "execution_count": 39,
     "metadata": {},
     "output_type": "execute_result"
    }
   ],
   "source": [
    "model.most_similar('voltage', topn = 20)"
   ]
  },
  {
   "cell_type": "code",
   "execution_count": 40,
   "metadata": {},
   "outputs": [],
   "source": [
    "df = pd.read_csv('../ethan/washington_outage_tweets.csv')"
   ]
  },
  {
   "cell_type": "code",
   "execution_count": 41,
   "metadata": {
    "scrolled": true
   },
   "outputs": [
    {
     "data": {
      "text/html": [
       "<div>\n",
       "<style scoped>\n",
       "    .dataframe tbody tr th:only-of-type {\n",
       "        vertical-align: middle;\n",
       "    }\n",
       "\n",
       "    .dataframe tbody tr th {\n",
       "        vertical-align: top;\n",
       "    }\n",
       "\n",
       "    .dataframe thead th {\n",
       "        text-align: right;\n",
       "    }\n",
       "</style>\n",
       "<table border=\"1\" class=\"dataframe\">\n",
       "  <thead>\n",
       "    <tr style=\"text-align: right;\">\n",
       "      <th></th>\n",
       "      <th>event_row_or_county</th>\n",
       "      <th>timestamp</th>\n",
       "      <th>text</th>\n",
       "      <th>outage</th>\n",
       "    </tr>\n",
       "  </thead>\n",
       "  <tbody>\n",
       "    <tr>\n",
       "      <th>0</th>\n",
       "      <td>0</td>\n",
       "      <td>2012-01-19 22:55:20</td>\n",
       "      <td>@Number12ForLife No power in Issaquah Highland...</td>\n",
       "      <td>1</td>\n",
       "    </tr>\n",
       "    <tr>\n",
       "      <th>1</th>\n",
       "      <td>0</td>\n",
       "      <td>2012-01-19 22:26:31</td>\n",
       "      <td>@KING5Seattle @KIRO7Seattle tiger mountain rd ...</td>\n",
       "      <td>1</td>\n",
       "    </tr>\n",
       "    <tr>\n",
       "      <th>2</th>\n",
       "      <td>0</td>\n",
       "      <td>2012-01-19 22:24:36</td>\n",
       "      <td>@KING5Seattle @KIRO7Seattle SE may valley road...</td>\n",
       "      <td>1</td>\n",
       "    </tr>\n",
       "    <tr>\n",
       "      <th>3</th>\n",
       "      <td>0</td>\n",
       "      <td>2012-01-19 21:40:50</td>\n",
       "      <td>Just lost power. They power better be back on ...</td>\n",
       "      <td>1</td>\n",
       "    </tr>\n",
       "    <tr>\n",
       "      <th>4</th>\n",
       "      <td>0</td>\n",
       "      <td>2012-01-19 20:32:02</td>\n",
       "      <td>Update: Power Outages Affecting Renton's Benso...</td>\n",
       "      <td>1</td>\n",
       "    </tr>\n",
       "    <tr>\n",
       "      <th>...</th>\n",
       "      <td>...</td>\n",
       "      <td>...</td>\n",
       "      <td>...</td>\n",
       "      <td>...</td>\n",
       "    </tr>\n",
       "    <tr>\n",
       "      <th>10047</th>\n",
       "      <td>Kittitas</td>\n",
       "      <td>2019-04-02 16:47:27</td>\n",
       "      <td>How are the M’s 17th in the power rankings at ...</td>\n",
       "      <td>-1</td>\n",
       "    </tr>\n",
       "    <tr>\n",
       "      <th>10048</th>\n",
       "      <td>Kittitas</td>\n",
       "      <td>2019-03-31 04:22:39</td>\n",
       "      <td>Do you have this power?</td>\n",
       "      <td>-1</td>\n",
       "    </tr>\n",
       "    <tr>\n",
       "      <th>10049</th>\n",
       "      <td>Kittitas</td>\n",
       "      <td>2019-03-30 23:22:34</td>\n",
       "      <td>@Super_Sodiq: \"I'm bringing Nigerian Power to ...</td>\n",
       "      <td>-1</td>\n",
       "    </tr>\n",
       "    <tr>\n",
       "      <th>10050</th>\n",
       "      <td>Kittitas</td>\n",
       "      <td>2019-03-29 13:41:13</td>\n",
       "      <td>Mueller's report must be made public— and Cong...</td>\n",
       "      <td>-1</td>\n",
       "    </tr>\n",
       "    <tr>\n",
       "      <th>10051</th>\n",
       "      <td>Kittitas</td>\n",
       "      <td>2019-03-26 02:56:28</td>\n",
       "      <td>Hold the power button for 5 seconds, that shou...</td>\n",
       "      <td>-1</td>\n",
       "    </tr>\n",
       "  </tbody>\n",
       "</table>\n",
       "<p>10052 rows × 4 columns</p>\n",
       "</div>"
      ],
      "text/plain": [
       "      event_row_or_county            timestamp  \\\n",
       "0                       0  2012-01-19 22:55:20   \n",
       "1                       0  2012-01-19 22:26:31   \n",
       "2                       0  2012-01-19 22:24:36   \n",
       "3                       0  2012-01-19 21:40:50   \n",
       "4                       0  2012-01-19 20:32:02   \n",
       "...                   ...                  ...   \n",
       "10047            Kittitas  2019-04-02 16:47:27   \n",
       "10048            Kittitas  2019-03-31 04:22:39   \n",
       "10049            Kittitas  2019-03-30 23:22:34   \n",
       "10050            Kittitas  2019-03-29 13:41:13   \n",
       "10051            Kittitas  2019-03-26 02:56:28   \n",
       "\n",
       "                                                    text  outage  \n",
       "0      @Number12ForLife No power in Issaquah Highland...       1  \n",
       "1      @KING5Seattle @KIRO7Seattle tiger mountain rd ...       1  \n",
       "2      @KING5Seattle @KIRO7Seattle SE may valley road...       1  \n",
       "3      Just lost power. They power better be back on ...       1  \n",
       "4      Update: Power Outages Affecting Renton's Benso...       1  \n",
       "...                                                  ...     ...  \n",
       "10047  How are the M’s 17th in the power rankings at ...      -1  \n",
       "10048                            Do you have this power?      -1  \n",
       "10049  @Super_Sodiq: \"I'm bringing Nigerian Power to ...      -1  \n",
       "10050  Mueller's report must be made public— and Cong...      -1  \n",
       "10051  Hold the power button for 5 seconds, that shou...      -1  \n",
       "\n",
       "[10052 rows x 4 columns]"
      ]
     },
     "execution_count": 41,
     "metadata": {},
     "output_type": "execute_result"
    }
   ],
   "source": [
    "df"
   ]
  },
  {
   "cell_type": "code",
   "execution_count": null,
   "metadata": {},
   "outputs": [],
   "source": []
  },
  {
   "cell_type": "code",
   "execution_count": 42,
   "metadata": {},
   "outputs": [],
   "source": [
    "import re\n",
    "from nltk.corpus import stopwords\n",
    "import gensim.models.word2vec as w2v\n",
    "import multiprocessing\n",
    "import os"
   ]
  },
  {
   "cell_type": "code",
   "execution_count": 43,
   "metadata": {},
   "outputs": [
    {
     "name": "stdout",
     "output_type": "stream",
     "text": [
      "Number of tweets: 10052\n"
     ]
    }
   ],
   "source": [
    "all_tweets = df['text']\n",
    "print(f'Number of tweets: {len(all_tweets)}')"
   ]
  },
  {
   "cell_type": "code",
   "execution_count": 44,
   "metadata": {},
   "outputs": [],
   "source": [
    "stop_words = stopwords.words('english')"
   ]
  },
  {
   "cell_type": "code",
   "execution_count": 45,
   "metadata": {},
   "outputs": [],
   "source": [
    "# Function to clean up tweets (removing urls, non-alphabetical characters)\n",
    "\n",
    "def tweets_to_tweetlist(raw):\n",
    "    clean = re.sub(r\"[^a-zA-Z ]\", \"\", raw)\n",
    "    clean = re.sub(r\"http.*?\\b\",\"\",clean)\n",
    "    clean = re.sub(r\"pictwitter.*?\\b\",\"\",clean)\n",
    "    clean = re.sub(r\"www.*?\\b\",\"\",clean)\n",
    "    return clean"
   ]
  },
  {
   "cell_type": "code",
   "execution_count": 59,
   "metadata": {},
   "outputs": [
    {
     "ename": "TypeError",
     "evalue": "expected string or bytes-like object",
     "output_type": "error",
     "traceback": [
      "\u001b[0;31m---------------------------------------------------------------------------\u001b[0m",
      "\u001b[0;31mTypeError\u001b[0m                                 Traceback (most recent call last)",
      "\u001b[0;32m<ipython-input-59-604b06475758>\u001b[0m in \u001b[0;36m<module>\u001b[0;34m\u001b[0m\n\u001b[1;32m      4\u001b[0m \u001b[0;34m\u001b[0m\u001b[0m\n\u001b[1;32m      5\u001b[0m \u001b[0;32mfor\u001b[0m \u001b[0mtweet\u001b[0m \u001b[0;32min\u001b[0m \u001b[0mall_tweets\u001b[0m\u001b[0;34m:\u001b[0m\u001b[0;34m\u001b[0m\u001b[0;34m\u001b[0m\u001b[0m\n\u001b[0;32m----> 6\u001b[0;31m     \u001b[0mtweet_list\u001b[0m\u001b[0;34m.\u001b[0m\u001b[0mappend\u001b[0m\u001b[0;34m(\u001b[0m\u001b[0mtweets_to_tweetlist\u001b[0m\u001b[0;34m(\u001b[0m\u001b[0mtweet\u001b[0m\u001b[0;34m)\u001b[0m\u001b[0;34m)\u001b[0m\u001b[0;34m\u001b[0m\u001b[0;34m\u001b[0m\u001b[0m\n\u001b[0m\u001b[1;32m      7\u001b[0m \u001b[0mlen\u001b[0m\u001b[0;34m(\u001b[0m\u001b[0mtweet_list\u001b[0m\u001b[0;34m)\u001b[0m\u001b[0;34m\u001b[0m\u001b[0;34m\u001b[0m\u001b[0m\n",
      "\u001b[0;32m<ipython-input-45-82683b0186a9>\u001b[0m in \u001b[0;36mtweets_to_tweetlist\u001b[0;34m(raw)\u001b[0m\n\u001b[1;32m      2\u001b[0m \u001b[0;34m\u001b[0m\u001b[0m\n\u001b[1;32m      3\u001b[0m \u001b[0;32mdef\u001b[0m \u001b[0mtweets_to_tweetlist\u001b[0m\u001b[0;34m(\u001b[0m\u001b[0mraw\u001b[0m\u001b[0;34m)\u001b[0m\u001b[0;34m:\u001b[0m\u001b[0;34m\u001b[0m\u001b[0;34m\u001b[0m\u001b[0m\n\u001b[0;32m----> 4\u001b[0;31m     \u001b[0mclean\u001b[0m \u001b[0;34m=\u001b[0m \u001b[0mre\u001b[0m\u001b[0;34m.\u001b[0m\u001b[0msub\u001b[0m\u001b[0;34m(\u001b[0m\u001b[0;34mr\"[^a-zA-Z ]\"\u001b[0m\u001b[0;34m,\u001b[0m \u001b[0;34m\"\"\u001b[0m\u001b[0;34m,\u001b[0m \u001b[0mraw\u001b[0m\u001b[0;34m)\u001b[0m\u001b[0;34m\u001b[0m\u001b[0;34m\u001b[0m\u001b[0m\n\u001b[0m\u001b[1;32m      5\u001b[0m     \u001b[0mclean\u001b[0m \u001b[0;34m=\u001b[0m \u001b[0mre\u001b[0m\u001b[0;34m.\u001b[0m\u001b[0msub\u001b[0m\u001b[0;34m(\u001b[0m\u001b[0;34mr\"http.*?\\b\"\u001b[0m\u001b[0;34m,\u001b[0m\u001b[0;34m\"\"\u001b[0m\u001b[0;34m,\u001b[0m\u001b[0mclean\u001b[0m\u001b[0;34m)\u001b[0m\u001b[0;34m\u001b[0m\u001b[0;34m\u001b[0m\u001b[0m\n\u001b[1;32m      6\u001b[0m     \u001b[0mclean\u001b[0m \u001b[0;34m=\u001b[0m \u001b[0mre\u001b[0m\u001b[0;34m.\u001b[0m\u001b[0msub\u001b[0m\u001b[0;34m(\u001b[0m\u001b[0;34mr\"pictwitter.*?\\b\"\u001b[0m\u001b[0;34m,\u001b[0m\u001b[0;34m\"\"\u001b[0m\u001b[0;34m,\u001b[0m\u001b[0mclean\u001b[0m\u001b[0;34m)\u001b[0m\u001b[0;34m\u001b[0m\u001b[0;34m\u001b[0m\u001b[0m\n",
      "\u001b[0;32m/opt/anaconda3/lib/python3.7/re.py\u001b[0m in \u001b[0;36msub\u001b[0;34m(pattern, repl, string, count, flags)\u001b[0m\n\u001b[1;32m    190\u001b[0m     \u001b[0ma\u001b[0m \u001b[0mcallable\u001b[0m\u001b[0;34m,\u001b[0m \u001b[0mit\u001b[0m\u001b[0;31m'\u001b[0m\u001b[0ms\u001b[0m \u001b[0mpassed\u001b[0m \u001b[0mthe\u001b[0m \u001b[0mMatch\u001b[0m \u001b[0mobject\u001b[0m \u001b[0;32mand\u001b[0m \u001b[0mmust\u001b[0m \u001b[0;32mreturn\u001b[0m\u001b[0;34m\u001b[0m\u001b[0;34m\u001b[0m\u001b[0m\n\u001b[1;32m    191\u001b[0m     a replacement string to be used.\"\"\"\n\u001b[0;32m--> 192\u001b[0;31m     \u001b[0;32mreturn\u001b[0m \u001b[0m_compile\u001b[0m\u001b[0;34m(\u001b[0m\u001b[0mpattern\u001b[0m\u001b[0;34m,\u001b[0m \u001b[0mflags\u001b[0m\u001b[0;34m)\u001b[0m\u001b[0;34m.\u001b[0m\u001b[0msub\u001b[0m\u001b[0;34m(\u001b[0m\u001b[0mrepl\u001b[0m\u001b[0;34m,\u001b[0m \u001b[0mstring\u001b[0m\u001b[0;34m,\u001b[0m \u001b[0mcount\u001b[0m\u001b[0;34m)\u001b[0m\u001b[0;34m\u001b[0m\u001b[0;34m\u001b[0m\u001b[0m\n\u001b[0m\u001b[1;32m    193\u001b[0m \u001b[0;34m\u001b[0m\u001b[0m\n\u001b[1;32m    194\u001b[0m \u001b[0;32mdef\u001b[0m \u001b[0msubn\u001b[0m\u001b[0;34m(\u001b[0m\u001b[0mpattern\u001b[0m\u001b[0;34m,\u001b[0m \u001b[0mrepl\u001b[0m\u001b[0;34m,\u001b[0m \u001b[0mstring\u001b[0m\u001b[0;34m,\u001b[0m \u001b[0mcount\u001b[0m\u001b[0;34m=\u001b[0m\u001b[0;36m0\u001b[0m\u001b[0;34m,\u001b[0m \u001b[0mflags\u001b[0m\u001b[0;34m=\u001b[0m\u001b[0;36m0\u001b[0m\u001b[0;34m)\u001b[0m\u001b[0;34m:\u001b[0m\u001b[0;34m\u001b[0m\u001b[0;34m\u001b[0m\u001b[0m\n",
      "\u001b[0;31mTypeError\u001b[0m: expected string or bytes-like object"
     ]
    }
   ],
   "source": [
    "# Iterate through all_tweets, clean tweets and add to tweet_list\n",
    "\n",
    "tweet_list = []\n",
    "\n",
    "for tweet in all_tweets:\n",
    "    tweet_list.append(tweets_to_tweetlist(tweet))\n",
    "len(tweet_list)"
   ]
  },
  {
   "cell_type": "code",
   "execution_count": 48,
   "metadata": {},
   "outputs": [],
   "source": [
    "# Iterate through tweet_list convert to lowercase and tokenize each tweet\n",
    "\n",
    "tokenized_tweet_list = [tweet.lower().split(' ') for tweet in tweet_list]"
   ]
  },
  {
   "cell_type": "code",
   "execution_count": 49,
   "metadata": {},
   "outputs": [],
   "source": [
    "# final_tweet_list is the version of our tweet list we will use from here on\n",
    "\n",
    "final_tweet_list = []\n",
    "\n",
    "for tweet in tokenized_tweet_list:\n",
    "    word_list = []\n",
    "    for word in tweet:\n",
    "        if (word not in stop_words) & (word != ''):\n",
    "            word_list.append(word)\n",
    "    final_tweet_list.append(word_list)"
   ]
  },
  {
   "cell_type": "code",
   "execution_count": 50,
   "metadata": {},
   "outputs": [
    {
     "data": {
      "text/plain": [
       "629"
      ]
     },
     "execution_count": 50,
     "metadata": {},
     "output_type": "execute_result"
    }
   ],
   "source": [
    "len(final_tweet_list)\n"
   ]
  },
  {
   "cell_type": "code",
   "execution_count": 51,
   "metadata": {},
   "outputs": [
    {
     "name": "stdout",
     "output_type": "stream",
     "text": [
      "The tweet list contains 4956 tokens\n"
     ]
    }
   ],
   "source": [
    "# Count number of words in tweets list (all tweets)\n",
    "\n",
    "token_count = sum([len(tweet) for tweet in final_tweet_list])\n",
    "print(f\"The tweet list contains {token_count} tokens\")"
   ]
  },
  {
   "cell_type": "code",
   "execution_count": 52,
   "metadata": {},
   "outputs": [],
   "source": [
    "# Compare different versions of tweets and see how they changed\n",
    "\n",
    "def compare_tweets(n):    \n",
    "    print(all_tweets[n]) # original version of nth tweet\n",
    "    print()\n",
    "    print(tweet_list[n]) # cleaned version of nth tweet\n",
    "    print()\n",
    "    print(tokenized_tweet_list[n]) # tokenized version of nth tweet\n",
    "    print()\n",
    "    print(final_tweet_list[n]) # tokenized version of nth tweet (stopwords removed)"
   ]
  },
  {
   "cell_type": "code",
   "execution_count": 53,
   "metadata": {
    "scrolled": true
   },
   "outputs": [
    {
     "name": "stdout",
     "output_type": "stream",
     "text": [
      "@Number12ForLife No power in Issaquah Highlands. I understand that most of Issaquah in the same situation.\n",
      "\n",
      "NumberForLife No power in Issaquah Highlands I understand that most of Issaquah in the same situation\n",
      "\n",
      "['numberforlife', 'no', 'power', 'in', 'issaquah', 'highlands', 'i', 'understand', 'that', 'most', 'of', 'issaquah', 'in', 'the', 'same', 'situation']\n",
      "\n",
      "['numberforlife', 'power', 'issaquah', 'highlands', 'understand', 'issaquah', 'situation']\n"
     ]
    }
   ],
   "source": [
    "# First tweet output\n",
    "\n",
    "compare_tweets(0)"
   ]
  },
  {
   "cell_type": "code",
   "execution_count": 55,
   "metadata": {},
   "outputs": [
    {
     "data": {
      "text/html": [
       "<div>\n",
       "<style scoped>\n",
       "    .dataframe tbody tr th:only-of-type {\n",
       "        vertical-align: middle;\n",
       "    }\n",
       "\n",
       "    .dataframe tbody tr th {\n",
       "        vertical-align: top;\n",
       "    }\n",
       "\n",
       "    .dataframe thead th {\n",
       "        text-align: right;\n",
       "    }\n",
       "</style>\n",
       "<table border=\"1\" class=\"dataframe\">\n",
       "  <thead>\n",
       "    <tr style=\"text-align: right;\">\n",
       "      <th></th>\n",
       "      <th>event_row_or_county</th>\n",
       "      <th>timestamp</th>\n",
       "      <th>text</th>\n",
       "      <th>outage</th>\n",
       "    </tr>\n",
       "  </thead>\n",
       "  <tbody>\n",
       "    <tr>\n",
       "      <th>0</th>\n",
       "      <td>0</td>\n",
       "      <td>2012-01-19 22:55:20</td>\n",
       "      <td>@Number12ForLife No power in Issaquah Highland...</td>\n",
       "      <td>1</td>\n",
       "    </tr>\n",
       "    <tr>\n",
       "      <th>1</th>\n",
       "      <td>0</td>\n",
       "      <td>2012-01-19 22:26:31</td>\n",
       "      <td>@KING5Seattle @KIRO7Seattle tiger mountain rd ...</td>\n",
       "      <td>1</td>\n",
       "    </tr>\n",
       "    <tr>\n",
       "      <th>2</th>\n",
       "      <td>0</td>\n",
       "      <td>2012-01-19 22:24:36</td>\n",
       "      <td>@KING5Seattle @KIRO7Seattle SE may valley road...</td>\n",
       "      <td>1</td>\n",
       "    </tr>\n",
       "    <tr>\n",
       "      <th>3</th>\n",
       "      <td>0</td>\n",
       "      <td>2012-01-19 21:40:50</td>\n",
       "      <td>Just lost power. They power better be back on ...</td>\n",
       "      <td>1</td>\n",
       "    </tr>\n",
       "    <tr>\n",
       "      <th>4</th>\n",
       "      <td>0</td>\n",
       "      <td>2012-01-19 20:32:02</td>\n",
       "      <td>Update: Power Outages Affecting Renton's Benso...</td>\n",
       "      <td>1</td>\n",
       "    </tr>\n",
       "    <tr>\n",
       "      <th>...</th>\n",
       "      <td>...</td>\n",
       "      <td>...</td>\n",
       "      <td>...</td>\n",
       "      <td>...</td>\n",
       "    </tr>\n",
       "    <tr>\n",
       "      <th>10047</th>\n",
       "      <td>Kittitas</td>\n",
       "      <td>2019-04-02 16:47:27</td>\n",
       "      <td>How are the M’s 17th in the power rankings at ...</td>\n",
       "      <td>-1</td>\n",
       "    </tr>\n",
       "    <tr>\n",
       "      <th>10048</th>\n",
       "      <td>Kittitas</td>\n",
       "      <td>2019-03-31 04:22:39</td>\n",
       "      <td>Do you have this power?</td>\n",
       "      <td>-1</td>\n",
       "    </tr>\n",
       "    <tr>\n",
       "      <th>10049</th>\n",
       "      <td>Kittitas</td>\n",
       "      <td>2019-03-30 23:22:34</td>\n",
       "      <td>@Super_Sodiq: \"I'm bringing Nigerian Power to ...</td>\n",
       "      <td>-1</td>\n",
       "    </tr>\n",
       "    <tr>\n",
       "      <th>10050</th>\n",
       "      <td>Kittitas</td>\n",
       "      <td>2019-03-29 13:41:13</td>\n",
       "      <td>Mueller's report must be made public— and Cong...</td>\n",
       "      <td>-1</td>\n",
       "    </tr>\n",
       "    <tr>\n",
       "      <th>10051</th>\n",
       "      <td>Kittitas</td>\n",
       "      <td>2019-03-26 02:56:28</td>\n",
       "      <td>Hold the power button for 5 seconds, that shou...</td>\n",
       "      <td>-1</td>\n",
       "    </tr>\n",
       "  </tbody>\n",
       "</table>\n",
       "<p>10052 rows × 4 columns</p>\n",
       "</div>"
      ],
      "text/plain": [
       "      event_row_or_county            timestamp  \\\n",
       "0                       0  2012-01-19 22:55:20   \n",
       "1                       0  2012-01-19 22:26:31   \n",
       "2                       0  2012-01-19 22:24:36   \n",
       "3                       0  2012-01-19 21:40:50   \n",
       "4                       0  2012-01-19 20:32:02   \n",
       "...                   ...                  ...   \n",
       "10047            Kittitas  2019-04-02 16:47:27   \n",
       "10048            Kittitas  2019-03-31 04:22:39   \n",
       "10049            Kittitas  2019-03-30 23:22:34   \n",
       "10050            Kittitas  2019-03-29 13:41:13   \n",
       "10051            Kittitas  2019-03-26 02:56:28   \n",
       "\n",
       "                                                    text  outage  \n",
       "0      @Number12ForLife No power in Issaquah Highland...       1  \n",
       "1      @KING5Seattle @KIRO7Seattle tiger mountain rd ...       1  \n",
       "2      @KING5Seattle @KIRO7Seattle SE may valley road...       1  \n",
       "3      Just lost power. They power better be back on ...       1  \n",
       "4      Update: Power Outages Affecting Renton's Benso...       1  \n",
       "...                                                  ...     ...  \n",
       "10047  How are the M’s 17th in the power rankings at ...      -1  \n",
       "10048                            Do you have this power?      -1  \n",
       "10049  @Super_Sodiq: \"I'm bringing Nigerian Power to ...      -1  \n",
       "10050  Mueller's report must be made public— and Cong...      -1  \n",
       "10051  Hold the power button for 5 seconds, that shou...      -1  \n",
       "\n",
       "[10052 rows x 4 columns]"
      ]
     },
     "execution_count": 55,
     "metadata": {},
     "output_type": "execute_result"
    }
   ],
   "source": [
    "df"
   ]
  },
  {
   "cell_type": "markdown",
   "metadata": {},
   "source": [
    "## t-sne: Reducing Dimenstionality"
   ]
  },
  {
   "cell_type": "code",
   "execution_count": 61,
   "metadata": {},
   "outputs": [],
   "source": [
    "from sklearn.manifold import TSNE\n"
   ]
  },
  {
   "cell_type": "code",
   "execution_count": 64,
   "metadata": {
    "scrolled": true
   },
   "outputs": [
    {
     "ename": "ValueError",
     "evalue": "setting an array element with a sequence.",
     "output_type": "error",
     "traceback": [
      "\u001b[0;31m---------------------------------------------------------------------------\u001b[0m",
      "\u001b[0;31mValueError\u001b[0m                                Traceback (most recent call last)",
      "\u001b[0;32m<ipython-input-64-790eb866c727>\u001b[0m in \u001b[0;36m<module>\u001b[0;34m\u001b[0m\n\u001b[1;32m      4\u001b[0m \u001b[0mtsne\u001b[0m \u001b[0;34m=\u001b[0m \u001b[0mTSNE\u001b[0m\u001b[0;34m(\u001b[0m\u001b[0mrandom_state\u001b[0m \u001b[0;34m=\u001b[0m \u001b[0;36m42\u001b[0m\u001b[0;34m,\u001b[0m \u001b[0mperplexity\u001b[0m \u001b[0;34m=\u001b[0m \u001b[0;36m175\u001b[0m\u001b[0;34m)\u001b[0m\u001b[0;34m\u001b[0m\u001b[0;34m\u001b[0m\u001b[0m\n\u001b[1;32m      5\u001b[0m \u001b[0;34m\u001b[0m\u001b[0m\n\u001b[0;32m----> 6\u001b[0;31m \u001b[0mtsne_df\u001b[0m \u001b[0;34m=\u001b[0m \u001b[0mtsne\u001b[0m\u001b[0;34m.\u001b[0m\u001b[0mfit_transform\u001b[0m\u001b[0;34m(\u001b[0m\u001b[0mfinal_tweet_list\u001b[0m\u001b[0;34m)\u001b[0m\u001b[0;34m\u001b[0m\u001b[0;34m\u001b[0m\u001b[0m\n\u001b[0m\u001b[1;32m      7\u001b[0m \u001b[0;34m\u001b[0m\u001b[0m\n\u001b[1;32m      8\u001b[0m \u001b[0mprint\u001b[0m\u001b[0;34m(\u001b[0m\u001b[0mtime\u001b[0m\u001b[0;34m.\u001b[0m\u001b[0mtime\u001b[0m\u001b[0;34m(\u001b[0m\u001b[0;34m)\u001b[0m \u001b[0;34m-\u001b[0m \u001b[0mt0\u001b[0m\u001b[0;34m)\u001b[0m\u001b[0;34m\u001b[0m\u001b[0;34m\u001b[0m\u001b[0m\n",
      "\u001b[0;32m/opt/anaconda3/lib/python3.7/site-packages/sklearn/manifold/t_sne.py\u001b[0m in \u001b[0;36mfit_transform\u001b[0;34m(self, X, y)\u001b[0m\n\u001b[1;32m    893\u001b[0m             \u001b[0mEmbedding\u001b[0m \u001b[0mof\u001b[0m \u001b[0mthe\u001b[0m \u001b[0mtraining\u001b[0m \u001b[0mdata\u001b[0m \u001b[0;32min\u001b[0m \u001b[0mlow\u001b[0m\u001b[0;34m-\u001b[0m\u001b[0mdimensional\u001b[0m \u001b[0mspace\u001b[0m\u001b[0;34m.\u001b[0m\u001b[0;34m\u001b[0m\u001b[0;34m\u001b[0m\u001b[0m\n\u001b[1;32m    894\u001b[0m         \"\"\"\n\u001b[0;32m--> 895\u001b[0;31m         \u001b[0membedding\u001b[0m \u001b[0;34m=\u001b[0m \u001b[0mself\u001b[0m\u001b[0;34m.\u001b[0m\u001b[0m_fit\u001b[0m\u001b[0;34m(\u001b[0m\u001b[0mX\u001b[0m\u001b[0;34m)\u001b[0m\u001b[0;34m\u001b[0m\u001b[0;34m\u001b[0m\u001b[0m\n\u001b[0m\u001b[1;32m    896\u001b[0m         \u001b[0mself\u001b[0m\u001b[0;34m.\u001b[0m\u001b[0membedding_\u001b[0m \u001b[0;34m=\u001b[0m \u001b[0membedding\u001b[0m\u001b[0;34m\u001b[0m\u001b[0;34m\u001b[0m\u001b[0m\n\u001b[1;32m    897\u001b[0m         \u001b[0;32mreturn\u001b[0m \u001b[0mself\u001b[0m\u001b[0;34m.\u001b[0m\u001b[0membedding_\u001b[0m\u001b[0;34m\u001b[0m\u001b[0;34m\u001b[0m\u001b[0m\n",
      "\u001b[0;32m/opt/anaconda3/lib/python3.7/site-packages/sklearn/manifold/t_sne.py\u001b[0m in \u001b[0;36m_fit\u001b[0;34m(self, X, skip_num_points)\u001b[0m\n\u001b[1;32m    698\u001b[0m         \u001b[0;32mif\u001b[0m \u001b[0mself\u001b[0m\u001b[0;34m.\u001b[0m\u001b[0mmethod\u001b[0m \u001b[0;34m==\u001b[0m \u001b[0;34m'barnes_hut'\u001b[0m\u001b[0;34m:\u001b[0m\u001b[0;34m\u001b[0m\u001b[0;34m\u001b[0m\u001b[0m\n\u001b[1;32m    699\u001b[0m             X = check_array(X, ensure_min_samples=2,\n\u001b[0;32m--> 700\u001b[0;31m                             dtype=[np.float32, np.float64])\n\u001b[0m\u001b[1;32m    701\u001b[0m         \u001b[0;32melse\u001b[0m\u001b[0;34m:\u001b[0m\u001b[0;34m\u001b[0m\u001b[0;34m\u001b[0m\u001b[0m\n\u001b[1;32m    702\u001b[0m             X = check_array(X, accept_sparse=['csr', 'csc', 'coo'],\n",
      "\u001b[0;32m/opt/anaconda3/lib/python3.7/site-packages/sklearn/utils/validation.py\u001b[0m in \u001b[0;36mcheck_array\u001b[0;34m(array, accept_sparse, accept_large_sparse, dtype, order, copy, force_all_finite, ensure_2d, allow_nd, ensure_min_samples, ensure_min_features, warn_on_dtype, estimator)\u001b[0m\n\u001b[1;32m    494\u001b[0m             \u001b[0;32mtry\u001b[0m\u001b[0;34m:\u001b[0m\u001b[0;34m\u001b[0m\u001b[0;34m\u001b[0m\u001b[0m\n\u001b[1;32m    495\u001b[0m                 \u001b[0mwarnings\u001b[0m\u001b[0;34m.\u001b[0m\u001b[0msimplefilter\u001b[0m\u001b[0;34m(\u001b[0m\u001b[0;34m'error'\u001b[0m\u001b[0;34m,\u001b[0m \u001b[0mComplexWarning\u001b[0m\u001b[0;34m)\u001b[0m\u001b[0;34m\u001b[0m\u001b[0;34m\u001b[0m\u001b[0m\n\u001b[0;32m--> 496\u001b[0;31m                 \u001b[0marray\u001b[0m \u001b[0;34m=\u001b[0m \u001b[0mnp\u001b[0m\u001b[0;34m.\u001b[0m\u001b[0masarray\u001b[0m\u001b[0;34m(\u001b[0m\u001b[0marray\u001b[0m\u001b[0;34m,\u001b[0m \u001b[0mdtype\u001b[0m\u001b[0;34m=\u001b[0m\u001b[0mdtype\u001b[0m\u001b[0;34m,\u001b[0m \u001b[0morder\u001b[0m\u001b[0;34m=\u001b[0m\u001b[0morder\u001b[0m\u001b[0;34m)\u001b[0m\u001b[0;34m\u001b[0m\u001b[0;34m\u001b[0m\u001b[0m\n\u001b[0m\u001b[1;32m    497\u001b[0m             \u001b[0;32mexcept\u001b[0m \u001b[0mComplexWarning\u001b[0m\u001b[0;34m:\u001b[0m\u001b[0;34m\u001b[0m\u001b[0;34m\u001b[0m\u001b[0m\n\u001b[1;32m    498\u001b[0m                 raise ValueError(\"Complex data not supported\\n\"\n",
      "\u001b[0;32m/opt/anaconda3/lib/python3.7/site-packages/numpy/core/_asarray.py\u001b[0m in \u001b[0;36masarray\u001b[0;34m(a, dtype, order)\u001b[0m\n\u001b[1;32m     83\u001b[0m \u001b[0;34m\u001b[0m\u001b[0m\n\u001b[1;32m     84\u001b[0m     \"\"\"\n\u001b[0;32m---> 85\u001b[0;31m     \u001b[0;32mreturn\u001b[0m \u001b[0marray\u001b[0m\u001b[0;34m(\u001b[0m\u001b[0ma\u001b[0m\u001b[0;34m,\u001b[0m \u001b[0mdtype\u001b[0m\u001b[0;34m,\u001b[0m \u001b[0mcopy\u001b[0m\u001b[0;34m=\u001b[0m\u001b[0;32mFalse\u001b[0m\u001b[0;34m,\u001b[0m \u001b[0morder\u001b[0m\u001b[0;34m=\u001b[0m\u001b[0morder\u001b[0m\u001b[0;34m)\u001b[0m\u001b[0;34m\u001b[0m\u001b[0;34m\u001b[0m\u001b[0m\n\u001b[0m\u001b[1;32m     86\u001b[0m \u001b[0;34m\u001b[0m\u001b[0m\n\u001b[1;32m     87\u001b[0m \u001b[0;34m\u001b[0m\u001b[0m\n",
      "\u001b[0;31mValueError\u001b[0m: setting an array element with a sequence."
     ]
    }
   ],
   "source": [
    "# Discuss with Ethan\n",
    "\n",
    "t0 = time.time()\n",
    "\n",
    "# Initialize t-SNE\n",
    "tsne = TSNE(random_state = 42, perplexity = 175)\n",
    "\n",
    "tsne_df = tsne.fit_transform(final_tweet_list)\n",
    "\n",
    "print(time.time() - t0)"
   ]
  },
  {
   "cell_type": "code",
   "execution_count": null,
   "metadata": {},
   "outputs": [],
   "source": [
    "# Visualization?\n",
    "# Idea from Ashton Creighton - linked repo\n",
    "# If we decide to visualize something simliar I will rewrite the plot parameters / code\n",
    "\n",
    "sns.set()\n",
    "# Initialize figure\n",
    "fig, ax = plt.subplots(figsize = (15, 15))\n",
    "sns.scatterplot(tsne_df[:, 0], tsne_df[:, 1], alpha = 0.5)\n",
    "\n",
    "# initialize list of texts\n",
    "texts = []\n",
    "words_to_plot = index_list\n",
    "\n",
    "# Append words to list\n",
    "for word in words_to_plot:\n",
    "    texts.append(plt.text(tsne_df[word, 0], tsne_df[word, 1], w2vdf.index[word], fontsize = 14))\n",
    "    \n",
    "plt.show()\n",
    "plt.tight_layout()"
   ]
  },
  {
   "cell_type": "code",
   "execution_count": null,
   "metadata": {},
   "outputs": [],
   "source": [
    "# Initialize figure\n",
    "fig, ax = plt.subplots(figsize = (15, 15))\n",
    "sns.scatterplot(tsne_df[:, 0], tsne_df[:, 1], alpha = 0.5)\n",
    "\n",
    "# initialize list of texts\n",
    "texts = []\n",
    "words_to_plot = list(np.arange(15, 2318, 25))\n",
    "\n",
    "# Append words to list\n",
    "for word in words_to_plot:\n",
    "    texts.append(plt.text(tsne_df[word, 0], tsne_df[word, 1], w2vdf.index[word], fontsize = 14))\n",
    "    \n",
    "#plt.show()\n"
   ]
  },
  {
   "cell_type": "code",
   "execution_count": null,
   "metadata": {},
   "outputs": [],
   "source": []
  },
  {
   "cell_type": "code",
   "execution_count": null,
   "metadata": {},
   "outputs": [],
   "source": []
  },
  {
   "cell_type": "markdown",
   "metadata": {},
   "source": [
    "### Expanding keyword list"
   ]
  },
  {
   "cell_type": "code",
   "execution_count": 72,
   "metadata": {},
   "outputs": [],
   "source": [
    "# Updated keywords list\n",
    "\n",
    "keywords = ['blackout','power','outage','electricity','transformer','watt','wattage', 'brownout', 'amperage',\n",
    "                    'intermittent', 'downtime', 'ieso', 'occlusion','transformer', 'substation',\n",
    "                    'switchyard','voltage']"
   ]
  },
  {
   "cell_type": "code",
   "execution_count": 73,
   "metadata": {},
   "outputs": [
    {
     "name": "stdout",
     "output_type": "stream",
     "text": [
      "['outage', 'blackouts', 'outages', 'shutdown', 'curfew', 'lockdown', 'blacked', 'shutdowns', 'cancellation', 'glitch', 'electricity', 'kilowatts', 'megawatts', 'generators', 'powers', 'energy', 'hydroelectric', 'clout', 'hydropower', 'renewables', 'renewable', 'turbines', 'baseload', 'utilities', 'capacity', 'levers', 'substations', 'electric', 'control', 'kw', 'outages', 'blackout', 'glitch', 'blackouts', 'disruptions', 'interruptions', 'shutdowns', 'delays', 'glitches', 'shutdown', 'malfunction', 'cyberattack', 'leak', 'cancellations', 'interruption', 'malfunctions', 'downtime', 'snowstorm', 'disruption', 'flooding', 'energy', 'megawatts', 'power', 'renewable', 'renewables', 'generators', 'utilities', 'hydropower', 'kilowatts', 'hydroelectricity', 'gas', 'kilowatt', 'baseload', 'kwh', 'heating', 'fuel', 'mwh', 'gigawatts', 'sewerage', 'biomass', 'windings', 'capacitor', 'inductor', 'voltage', 'resistor', 'amplifier', 'generator', 'inverter', 'capacitors', 'coil', 'armature', 'voltages', 'substations', 'substation', 'coils', 'inductance', 'inductors', 'transformers', 'alternator', 'electromagnet', 'watts', 'kilowatts', 'incandescent', 'joules', 'kilowatt', 'kw', 'wattage', 'lumens', 'ampere', 'milliwatts', 'zerow', 'volts', 'khz', 'heriot', 'boulton', 'transmitters', 'brightness', 'incandescent', 'lumens', 'voltage', 'leds', 'voltages', 'octane', 'cfls', 'candlepower', 'bulbs', 'halogen', 'watt', 'dimmer', 'zerow', 'watts', 'kilowatts', 'amperage', 'bulb', 'backlight', 'frequency', 'voltage', 'voltages', 'resistor', 'volts', 'capacitor', 'amperes', 'inductor', 'capacitance', 'wattage', 'inductors', 'inductance', 'multimeter', 'capacitors', 'resistors', 'mosfets', 'potentiometer', 'volt', 'directivity', 'rectifiers', 'transistor', 'sporadic', 'continual', 'occasional', 'infrequent', 'swamps', 'incessant', 'prolonged', 'continuous', 'frequent', 'localised', 'marshes', 'ephemeral', 'persistent', 'recurrent', 'interruptions', 'uninterrupted', 'freshwater', 'punctuated', 'transient', 'fitful', 'interruptions', 'uptime', 'hassle', 'hassles', 'downtimes', 'distractions', 'overheads', 'maintenance', 'backups', 'interruption', 'workdays', 'unplanned', 'workload', 'workday', 'outage', 'disruptions', 'outages', 'workloads', 'delays', 'scheduling', 'occlusions', 'blockage', 'dilation', 'glaucoma', 'thrombosis', 'ischemia', 'dissection', 'stenosis', 'constriction', 'vasospasm', 'calcification', 'denervation', 'dilatation', 'artery', 'malformations', 'neuropathy', 'retinopathy', 'malformation', 'aortic', 'vasculature', 'windings', 'capacitor', 'inductor', 'voltage', 'resistor', 'amplifier', 'generator', 'inverter', 'capacitors', 'coil', 'armature', 'voltages', 'substations', 'substation', 'coils', 'inductance', 'inductors', 'transformers', 'alternator', 'electromagnet', 'substations', 'transformer', 'switchyard', 'transmitter', 'electrification', 'powerline', 'hvdc', 'transpower', 'electrical', 'wiring', 'cabling', 'interconnection', 'inverter', 'electricity', 'powerlines', 'generator', 'generators', 'pylons', 'mains', 'voltage', 'substations', 'substation', 'hvdc', 'voltages', 'resistor', 'capacitance', 'impedance', 'capacitor', 'inductance', 'inductor', 'inverter', 'resistors', 'volts', 'capacitors', 'conductance', 'mosfet', 'inductors', 'dielectric', 'anode', 'diode', 'amperes', 'windings', 'frequency', 'blackout', 'power', 'outage', 'electricity', 'transformer', 'watt', 'wattage', 'brownout', 'amperage', 'intermittent', 'downtime', 'ieso', 'occlusion', 'transformer', 'substation', 'switchyard', 'voltage']\n"
     ]
    }
   ],
   "source": [
    "# Create list of new terms organized by root word\n",
    "# This is what Boom did. I have it here just for the idea. Would cite him if we use something like this\n",
    "\n",
    "\n",
    "bank = []\n",
    "for word in updated_keywords:\n",
    "    arr = pd.DataFrame(model.most_similar(word,topn=20),columns=['word','val'])\n",
    "    arr = arr[arr['val']>.39]\n",
    "    for i in arr.word:\n",
    "        bank.append(i)\n",
    "\n",
    "# Add original terms to list\n",
    "for word in updated_keywords:\n",
    "    bank.append(word)\n",
    "\n",
    "\n",
    "print(bank)"
   ]
  },
  {
   "cell_type": "code",
   "execution_count": null,
   "metadata": {},
   "outputs": [],
   "source": []
  },
  {
   "cell_type": "code",
   "execution_count": null,
   "metadata": {},
   "outputs": [],
   "source": []
  },
  {
   "cell_type": "markdown",
   "metadata": {},
   "source": [
    "## Modeling"
   ]
  },
  {
   "cell_type": "code",
   "execution_count": null,
   "metadata": {},
   "outputs": [],
   "source": [
    "# Instantiate Word2Vec model\n",
    "\n",
    "tweets2vec = w2v.Word2Vec(\n",
    "    sg = 1, # skip-gram train algo\n",
    "    seed = 42, # Random Number Generator to make results repeatable\n",
    "    workers = multiprocessing.cpu_count(), # number of threads\n",
    "    size = 300, # Dimensionality of the hidden layer\n",
    "    min_count = 2, # how many times the word has to appear to be kept in the vocab.\n",
    "    window = 7, # size of the window to train words\n",
    "    sample = 1e-5 # downsampling setting for frequent words\n",
    ")"
   ]
  },
  {
   "cell_type": "code",
   "execution_count": null,
   "metadata": {},
   "outputs": [],
   "source": [
    "tweets2vec.build_vocab(final_tweet_list)\n"
   ]
  },
  {
   "cell_type": "code",
   "execution_count": null,
   "metadata": {},
   "outputs": [],
   "source": [
    "print(\"Tweets2Vec vocabulary length:\", len(tweets2vec.wv.vocab))"
   ]
  },
  {
   "cell_type": "markdown",
   "metadata": {},
   "source": [
    "## Training"
   ]
  },
  {
   "cell_type": "code",
   "execution_count": null,
   "metadata": {},
   "outputs": [],
   "source": [
    "# Train tweets2vec model on final_tweet_list\n",
    "\n",
    "tweets2vec.train(final_tweet_list, total_examples=tweets2vec.corpus_count, epochs=tweets2vec.epochs)"
   ]
  },
  {
   "cell_type": "code",
   "execution_count": null,
   "metadata": {},
   "outputs": [],
   "source": [
    "# Create directory to store our trained tweets2vec model in\n",
    "\n",
    "if not os.path.exists(\"../jason/training_model\"):\n",
    "    os.makedirs(\"../jason/datasets/training_model\")"
   ]
  },
  {
   "cell_type": "code",
   "execution_count": null,
   "metadata": {},
   "outputs": [],
   "source": [
    "tweets2vec.wv.save(\"../jason/datasets/training_model/tweets2vec.w2v\")\n"
   ]
  },
  {
   "cell_type": "code",
   "execution_count": null,
   "metadata": {},
   "outputs": [],
   "source": []
  },
  {
   "cell_type": "markdown",
   "metadata": {},
   "source": [
    "### Model Prep"
   ]
  },
  {
   "cell_type": "code",
   "execution_count": 75,
   "metadata": {},
   "outputs": [
    {
     "data": {
      "text/plain": [
       "event_row_or_county     0\n",
       "timestamp               0\n",
       "text                   22\n",
       "outage                  0\n",
       "dtype: int64"
      ]
     },
     "execution_count": 75,
     "metadata": {},
     "output_type": "execute_result"
    }
   ],
   "source": [
    "df.isnull().sum()\n"
   ]
  },
  {
   "cell_type": "code",
   "execution_count": 79,
   "metadata": {},
   "outputs": [],
   "source": [
    "df.dropna(inplace=True)"
   ]
  },
  {
   "cell_type": "code",
   "execution_count": 80,
   "metadata": {
    "scrolled": true
   },
   "outputs": [
    {
     "data": {
      "text/plain": [
       "event_row_or_county    0\n",
       "timestamp              0\n",
       "text                   0\n",
       "outage                 0\n",
       "dtype: int64"
      ]
     },
     "execution_count": 80,
     "metadata": {},
     "output_type": "execute_result"
    }
   ],
   "source": [
    "df.isnull().sum()\n"
   ]
  },
  {
   "cell_type": "code",
   "execution_count": 85,
   "metadata": {},
   "outputs": [
    {
     "data": {
      "text/plain": [
       "Index(['event_row_or_county', 'timestamp', 'text', 'outage'], dtype='object')"
      ]
     },
     "execution_count": 85,
     "metadata": {},
     "output_type": "execute_result"
    }
   ],
   "source": [
    "df.columns"
   ]
  },
  {
   "cell_type": "code",
   "execution_count": 84,
   "metadata": {},
   "outputs": [
    {
     "ename": "KeyError",
     "evalue": "'predictions'",
     "output_type": "error",
     "traceback": [
      "\u001b[0;31m---------------------------------------------------------------------------\u001b[0m",
      "\u001b[0;31mKeyError\u001b[0m                                  Traceback (most recent call last)",
      "\u001b[0;32m/opt/anaconda3/lib/python3.7/site-packages/pandas/core/indexes/base.py\u001b[0m in \u001b[0;36mget_loc\u001b[0;34m(self, key, method, tolerance)\u001b[0m\n\u001b[1;32m   2896\u001b[0m             \u001b[0;32mtry\u001b[0m\u001b[0;34m:\u001b[0m\u001b[0;34m\u001b[0m\u001b[0;34m\u001b[0m\u001b[0m\n\u001b[0;32m-> 2897\u001b[0;31m                 \u001b[0;32mreturn\u001b[0m \u001b[0mself\u001b[0m\u001b[0;34m.\u001b[0m\u001b[0m_engine\u001b[0m\u001b[0;34m.\u001b[0m\u001b[0mget_loc\u001b[0m\u001b[0;34m(\u001b[0m\u001b[0mkey\u001b[0m\u001b[0;34m)\u001b[0m\u001b[0;34m\u001b[0m\u001b[0;34m\u001b[0m\u001b[0m\n\u001b[0m\u001b[1;32m   2898\u001b[0m             \u001b[0;32mexcept\u001b[0m \u001b[0mKeyError\u001b[0m\u001b[0;34m:\u001b[0m\u001b[0;34m\u001b[0m\u001b[0;34m\u001b[0m\u001b[0m\n",
      "\u001b[0;32mpandas/_libs/index.pyx\u001b[0m in \u001b[0;36mpandas._libs.index.IndexEngine.get_loc\u001b[0;34m()\u001b[0m\n",
      "\u001b[0;32mpandas/_libs/index.pyx\u001b[0m in \u001b[0;36mpandas._libs.index.IndexEngine.get_loc\u001b[0;34m()\u001b[0m\n",
      "\u001b[0;32mpandas/_libs/hashtable_class_helper.pxi\u001b[0m in \u001b[0;36mpandas._libs.hashtable.PyObjectHashTable.get_item\u001b[0;34m()\u001b[0m\n",
      "\u001b[0;32mpandas/_libs/hashtable_class_helper.pxi\u001b[0m in \u001b[0;36mpandas._libs.hashtable.PyObjectHashTable.get_item\u001b[0;34m()\u001b[0m\n",
      "\u001b[0;31mKeyError\u001b[0m: 'predictions'",
      "\nDuring handling of the above exception, another exception occurred:\n",
      "\u001b[0;31mKeyError\u001b[0m                                  Traceback (most recent call last)",
      "\u001b[0;32m<ipython-input-84-e25786515475>\u001b[0m in \u001b[0;36m<module>\u001b[0;34m\u001b[0m\n\u001b[1;32m      1\u001b[0m \u001b[0mX\u001b[0m \u001b[0;34m=\u001b[0m \u001b[0mdf\u001b[0m\u001b[0;34m[\u001b[0m\u001b[0;34m'text'\u001b[0m\u001b[0;34m]\u001b[0m\u001b[0;34m\u001b[0m\u001b[0;34m\u001b[0m\u001b[0m\n\u001b[0;32m----> 2\u001b[0;31m \u001b[0my\u001b[0m\u001b[0;34m=\u001b[0m\u001b[0mdf\u001b[0m\u001b[0;34m[\u001b[0m\u001b[0;34m'predictions'\u001b[0m\u001b[0;34m]\u001b[0m\u001b[0;34m\u001b[0m\u001b[0;34m\u001b[0m\u001b[0m\n\u001b[0m\u001b[1;32m      3\u001b[0m \u001b[0;34m\u001b[0m\u001b[0m\n\u001b[1;32m      4\u001b[0m \u001b[0mX_train\u001b[0m\u001b[0;34m,\u001b[0m \u001b[0mX_test\u001b[0m\u001b[0;34m,\u001b[0m \u001b[0my_train\u001b[0m\u001b[0;34m,\u001b[0m \u001b[0my_test\u001b[0m \u001b[0;34m=\u001b[0m \u001b[0mtrain_test_split\u001b[0m\u001b[0;34m(\u001b[0m\u001b[0mX\u001b[0m\u001b[0;34m,\u001b[0m \u001b[0my\u001b[0m\u001b[0;34m,\u001b[0m \u001b[0mrandom_state\u001b[0m \u001b[0;34m=\u001b[0m \u001b[0;36m42\u001b[0m\u001b[0;34m,\u001b[0m \u001b[0mtest_size\u001b[0m \u001b[0;34m=\u001b[0m \u001b[0;36m0.3\u001b[0m\u001b[0;34m,\u001b[0m \u001b[0mstratify\u001b[0m \u001b[0;34m=\u001b[0m \u001b[0my\u001b[0m\u001b[0;34m)\u001b[0m\u001b[0;34m\u001b[0m\u001b[0;34m\u001b[0m\u001b[0m\n",
      "\u001b[0;32m/opt/anaconda3/lib/python3.7/site-packages/pandas/core/frame.py\u001b[0m in \u001b[0;36m__getitem__\u001b[0;34m(self, key)\u001b[0m\n\u001b[1;32m   2993\u001b[0m             \u001b[0;32mif\u001b[0m \u001b[0mself\u001b[0m\u001b[0;34m.\u001b[0m\u001b[0mcolumns\u001b[0m\u001b[0;34m.\u001b[0m\u001b[0mnlevels\u001b[0m \u001b[0;34m>\u001b[0m \u001b[0;36m1\u001b[0m\u001b[0;34m:\u001b[0m\u001b[0;34m\u001b[0m\u001b[0;34m\u001b[0m\u001b[0m\n\u001b[1;32m   2994\u001b[0m                 \u001b[0;32mreturn\u001b[0m \u001b[0mself\u001b[0m\u001b[0;34m.\u001b[0m\u001b[0m_getitem_multilevel\u001b[0m\u001b[0;34m(\u001b[0m\u001b[0mkey\u001b[0m\u001b[0;34m)\u001b[0m\u001b[0;34m\u001b[0m\u001b[0;34m\u001b[0m\u001b[0m\n\u001b[0;32m-> 2995\u001b[0;31m             \u001b[0mindexer\u001b[0m \u001b[0;34m=\u001b[0m \u001b[0mself\u001b[0m\u001b[0;34m.\u001b[0m\u001b[0mcolumns\u001b[0m\u001b[0;34m.\u001b[0m\u001b[0mget_loc\u001b[0m\u001b[0;34m(\u001b[0m\u001b[0mkey\u001b[0m\u001b[0;34m)\u001b[0m\u001b[0;34m\u001b[0m\u001b[0;34m\u001b[0m\u001b[0m\n\u001b[0m\u001b[1;32m   2996\u001b[0m             \u001b[0;32mif\u001b[0m \u001b[0mis_integer\u001b[0m\u001b[0;34m(\u001b[0m\u001b[0mindexer\u001b[0m\u001b[0;34m)\u001b[0m\u001b[0;34m:\u001b[0m\u001b[0;34m\u001b[0m\u001b[0;34m\u001b[0m\u001b[0m\n\u001b[1;32m   2997\u001b[0m                 \u001b[0mindexer\u001b[0m \u001b[0;34m=\u001b[0m \u001b[0;34m[\u001b[0m\u001b[0mindexer\u001b[0m\u001b[0;34m]\u001b[0m\u001b[0;34m\u001b[0m\u001b[0;34m\u001b[0m\u001b[0m\n",
      "\u001b[0;32m/opt/anaconda3/lib/python3.7/site-packages/pandas/core/indexes/base.py\u001b[0m in \u001b[0;36mget_loc\u001b[0;34m(self, key, method, tolerance)\u001b[0m\n\u001b[1;32m   2897\u001b[0m                 \u001b[0;32mreturn\u001b[0m \u001b[0mself\u001b[0m\u001b[0;34m.\u001b[0m\u001b[0m_engine\u001b[0m\u001b[0;34m.\u001b[0m\u001b[0mget_loc\u001b[0m\u001b[0;34m(\u001b[0m\u001b[0mkey\u001b[0m\u001b[0;34m)\u001b[0m\u001b[0;34m\u001b[0m\u001b[0;34m\u001b[0m\u001b[0m\n\u001b[1;32m   2898\u001b[0m             \u001b[0;32mexcept\u001b[0m \u001b[0mKeyError\u001b[0m\u001b[0;34m:\u001b[0m\u001b[0;34m\u001b[0m\u001b[0;34m\u001b[0m\u001b[0m\n\u001b[0;32m-> 2899\u001b[0;31m                 \u001b[0;32mreturn\u001b[0m \u001b[0mself\u001b[0m\u001b[0;34m.\u001b[0m\u001b[0m_engine\u001b[0m\u001b[0;34m.\u001b[0m\u001b[0mget_loc\u001b[0m\u001b[0;34m(\u001b[0m\u001b[0mself\u001b[0m\u001b[0;34m.\u001b[0m\u001b[0m_maybe_cast_indexer\u001b[0m\u001b[0;34m(\u001b[0m\u001b[0mkey\u001b[0m\u001b[0;34m)\u001b[0m\u001b[0;34m)\u001b[0m\u001b[0;34m\u001b[0m\u001b[0;34m\u001b[0m\u001b[0m\n\u001b[0m\u001b[1;32m   2900\u001b[0m         \u001b[0mindexer\u001b[0m \u001b[0;34m=\u001b[0m \u001b[0mself\u001b[0m\u001b[0;34m.\u001b[0m\u001b[0mget_indexer\u001b[0m\u001b[0;34m(\u001b[0m\u001b[0;34m[\u001b[0m\u001b[0mkey\u001b[0m\u001b[0;34m]\u001b[0m\u001b[0;34m,\u001b[0m \u001b[0mmethod\u001b[0m\u001b[0;34m=\u001b[0m\u001b[0mmethod\u001b[0m\u001b[0;34m,\u001b[0m \u001b[0mtolerance\u001b[0m\u001b[0;34m=\u001b[0m\u001b[0mtolerance\u001b[0m\u001b[0;34m)\u001b[0m\u001b[0;34m\u001b[0m\u001b[0;34m\u001b[0m\u001b[0m\n\u001b[1;32m   2901\u001b[0m         \u001b[0;32mif\u001b[0m \u001b[0mindexer\u001b[0m\u001b[0;34m.\u001b[0m\u001b[0mndim\u001b[0m \u001b[0;34m>\u001b[0m \u001b[0;36m1\u001b[0m \u001b[0;32mor\u001b[0m \u001b[0mindexer\u001b[0m\u001b[0;34m.\u001b[0m\u001b[0msize\u001b[0m \u001b[0;34m>\u001b[0m \u001b[0;36m1\u001b[0m\u001b[0;34m:\u001b[0m\u001b[0;34m\u001b[0m\u001b[0;34m\u001b[0m\u001b[0m\n",
      "\u001b[0;32mpandas/_libs/index.pyx\u001b[0m in \u001b[0;36mpandas._libs.index.IndexEngine.get_loc\u001b[0;34m()\u001b[0m\n",
      "\u001b[0;32mpandas/_libs/index.pyx\u001b[0m in \u001b[0;36mpandas._libs.index.IndexEngine.get_loc\u001b[0;34m()\u001b[0m\n",
      "\u001b[0;32mpandas/_libs/hashtable_class_helper.pxi\u001b[0m in \u001b[0;36mpandas._libs.hashtable.PyObjectHashTable.get_item\u001b[0;34m()\u001b[0m\n",
      "\u001b[0;32mpandas/_libs/hashtable_class_helper.pxi\u001b[0m in \u001b[0;36mpandas._libs.hashtable.PyObjectHashTable.get_item\u001b[0;34m()\u001b[0m\n",
      "\u001b[0;31mKeyError\u001b[0m: 'predictions'"
     ]
    }
   ],
   "source": [
    "# Talk to Ethan about what our Y is\n",
    "# For now I'm just preparing to model\n",
    "\n",
    "X = df['text']\n",
    "y =df['preds']\n",
    "\n",
    "X_train, X_test, y_train, y_test = train_test_split(X, y, random_state = 42, test_size = 0.3, stratify = y)"
   ]
  },
  {
   "cell_type": "code",
   "execution_count": null,
   "metadata": {},
   "outputs": [],
   "source": [
    "# If we want a vectorized df\n",
    "# Cite Peter Garcia - linked repo\n",
    "\n",
    "cvec = CountVectorizer(max_df= 0.9,min_df=0.0012,ngram_range=(1,1))\n",
    "cvec.fit(X_train)\n",
    "DF = cvec.transform(X_train)\n",
    "DF = pd.DataFrame(DF.toarray(),columns=cvec.get_feature_names())"
   ]
  },
  {
   "cell_type": "code",
   "execution_count": null,
   "metadata": {},
   "outputs": [],
   "source": [
    "DF.to_csv('../datasets/countvec_words.csv')"
   ]
  },
  {
   "cell_type": "code",
   "execution_count": null,
   "metadata": {},
   "outputs": [],
   "source": [
    "pipe = Pipeline(steps = [('vectorizer', CountVectorizer()),     # first tuple is for first step: vectorizer\n",
    "                         ('model', LogisticRegression())        # second tuple is for second step: model\n",
    "                        ])    \n",
    "\n",
    "# Construct Grid Parameters\n",
    "hyperparams = {'vectorizer__ngram_range': [(1,1), (2,2), (1,2)],\n",
    "               'vectorizer__max_df': [0.9, 0.8, 1],\n",
    "               'vectorizer__min_df':[0.0012],\n",
    "\n",
    "               'model__penalty': ['l1', 'l2'],\n",
    "               'model__C': [0.1, 1, 3, 10],\n",
    "               'model__max_iter':[50,100,150]\n",
    "            \n",
    "              }\n",
    "\n",
    " # Perform Grid Search\n",
    "gs = GridSearchCV(pipe, # pipeline object replaces what we usually had as empty model class\n",
    "                 param_grid=hyperparams,\n",
    "                 cv = 3,\n",
    "                 scoring = 'accuracy')\n",
    "results = gs.fit(X_train, y_train)\n",
    "\n",
    "# Get best params\n",
    "results.best_estimator_"
   ]
  },
  {
   "cell_type": "code",
   "execution_count": null,
   "metadata": {},
   "outputs": [],
   "source": [
    "vectorizer_params = results.best_estimator_.steps[0][1].get_params()\n",
    "model_params = results.best_estimator_.steps[1][1].get_params()\n",
    "\n",
    "train_score = results.best_score_\n",
    "print('Best TRAIN accuracy: {:.4f}'.format(train_score))\n",
    "\n",
    "test_score = results.score(X_test, y_test)\n",
    "print('Best TEST set accuracy: {:.4f}'.format(test_score))\n",
    "\n",
    "results.best_params_"
   ]
  },
  {
   "cell_type": "code",
   "execution_count": null,
   "metadata": {},
   "outputs": [],
   "source": [
    "\n",
    "pipe = Pipeline(steps = [('cv', CountVectorizer(max_df= 0.9,min_df=0.001,ngram_range=(1,1))),\n",
    "                         ('model', LogisticRegression(C=0.1,max_iter=50,penalty='l1')),     \n",
    "                        ])"
   ]
  },
  {
   "cell_type": "markdown",
   "metadata": {},
   "source": [
    "### Model Evaluation"
   ]
  },
  {
   "cell_type": "code",
   "execution_count": null,
   "metadata": {},
   "outputs": [],
   "source": [
    "# Predictions / Probabilities\n",
    "\n",
    "results = pipe.fit(X_train, y_train);\n",
    "pred = pipe.predict(X_test)\n",
    "pred_proba = pipe.predict_proba(X_test)"
   ]
  },
  {
   "cell_type": "code",
   "execution_count": null,
   "metadata": {},
   "outputs": [],
   "source": [
    "# Confusion Matrix\n",
    "\n",
    "cm=confusion_matrix(y_test, pred)"
   ]
  },
  {
   "cell_type": "code",
   "execution_count": null,
   "metadata": {},
   "outputs": [],
   "source": [
    "#Classification Report\n",
    "\n",
    "from sklearn.metrics import classification_report\n",
    "thresh = .7\n",
    "print(classification_report(y_test, pred_proba[:, 1]>thresh))"
   ]
  },
  {
   "cell_type": "code",
   "execution_count": null,
   "metadata": {},
   "outputs": [],
   "source": [
    "#ROC Curve\n",
    "from sklearn.metrics import roc_curve\n",
    "from sklearn.metrics import roc_auc_score\n",
    "\n",
    "ns_probs = [0 for _ in range(len(y_test))]\n",
    "\n",
    "pipe_probs = pipe.predict_proba(X_test)\n",
    "pipe_probs = pipe_probs[:, 1]\n",
    "ns_auc = roc_auc_score(y_test, ns_probs)\n",
    "pipe_auc = roc_auc_score(y_test, pipe_probs)\n",
    "\n",
    "# summarize scores\n",
    "print('No Skill: ROC AUC=%.3f' % (ns_auc))\n",
    "print('Logistic: ROC AUC=%.3f' % (pipe_auc))\n",
    "\n",
    "# calculate roc curves\n",
    "ns_fpr, ns_tpr, _ = roc_curve(y_test, ns_probs)\n",
    "pipe_fpr, pipe_tpr, _ = roc_curve(y_test, pipe_probs)\n",
    "\n",
    "# plot the roc curve for the model\n",
    "plt.plot(ns_fpr, ns_tpr, linestyle='--', label='Base')\n",
    "plt.plot(pipe_fpr, pipe_tpr, marker='.', label='LR')\n",
    "\n",
    "# axis labels\n",
    "plt.xlabel('False Positive Rate')\n",
    "plt.ylabel('True Positive Rate')\n",
    "\n",
    "# show the legend\n",
    "plt.legend()\n",
    "plt.title('ROC/AUC')\n",
    "\n",
    "# show the plot\n",
    "plt.show()"
   ]
  },
  {
   "cell_type": "markdown",
   "metadata": {},
   "source": [
    "### Saving Predictions"
   ]
  },
  {
   "cell_type": "code",
   "execution_count": null,
   "metadata": {},
   "outputs": [],
   "source": [
    "pred_train=pd.DataFrame(pipe.predict(X_train))\n",
    "pred_train['origin']='train'\n",
    "pred_train['index']=X_train.index\n",
    "pred_test=pd.DataFrame(pipe.predict(X_test))\n",
    "pred_test['origin']='test'\n",
    "pred_test['index']=X_test.index"
   ]
  },
  {
   "cell_type": "code",
   "execution_count": null,
   "metadata": {},
   "outputs": [],
   "source": [
    "pred_test.to_csv('../datasets/preds_index.csv')\n"
   ]
  },
  {
   "cell_type": "code",
   "execution_count": null,
   "metadata": {},
   "outputs": [],
   "source": [
    "all_preds=pd.concat([pred_train,pred_test], axis=0,ignore_index=True)\n"
   ]
  },
  {
   "cell_type": "code",
   "execution_count": null,
   "metadata": {},
   "outputs": [],
   "source": [
    "all_preds.rename(columns={0:'preds','origin':'origin'},inplace=True)\n"
   ]
  },
  {
   "cell_type": "code",
   "execution_count": null,
   "metadata": {},
   "outputs": [],
   "source": [
    "df.reset_index(inplace=True)\n"
   ]
  },
  {
   "cell_type": "code",
   "execution_count": null,
   "metadata": {},
   "outputs": [],
   "source": [
    "df=pd.concat([df,all_preds],axis=1, )\n"
   ]
  },
  {
   "cell_type": "code",
   "execution_count": null,
   "metadata": {},
   "outputs": [],
   "source": [
    "df.to_csv('../datasets/tweets_and_preds.csv')"
   ]
  }
 ],
 "metadata": {
  "kernelspec": {
   "display_name": "Python 3",
   "language": "python",
   "name": "python3"
  },
  "language_info": {
   "codemirror_mode": {
    "name": "ipython",
    "version": 3
   },
   "file_extension": ".py",
   "mimetype": "text/x-python",
   "name": "python",
   "nbconvert_exporter": "python",
   "pygments_lexer": "ipython3",
   "version": "3.7.4"
  }
 },
 "nbformat": 4,
 "nbformat_minor": 2
}
