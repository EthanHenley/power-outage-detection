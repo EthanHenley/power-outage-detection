{
 "cells": [
  {
   "cell_type": "markdown",
   "metadata": {},
   "source": [
    "# Detecting Power Outages with Tweets\n",
    "### Sang Cheon, Ethan Henley, and Jason Morman\n",
    "### Notebook 03: Modeling and Conclusion"
   ]
  },
  {
   "cell_type": "markdown",
   "metadata": {},
   "source": [
    "## Notebook 03 Contents:\n",
    "- [Loading](#Loading)\n",
    "- [Preprocessing](#Preprocessing)\n",
    "- [Word2Vec](#Word2Vec)\n",
    "- [Decision Tree Classifier](#Decision-Tree-Classifier)\n",
    "    - [Establish Features and Target](#Establish-Features-and-Target)\n",
    "    - [Model](#Model)\n",
    "    - [Model Evaluation](#Model-Evaluation)\n",
    "- [Classifying Uncertain Data](#Classifying-Uncertain-Data)\n",
    "- [Conclusion](#Conclusion)\n",
    "- [Appendicies](#Appendicies)"
   ]
  },
  {
   "cell_type": "markdown",
   "metadata": {},
   "source": [
    "## Loading"
   ]
  },
  {
   "cell_type": "markdown",
   "metadata": {},
   "source": [
    "Imports."
   ]
  },
  {
   "cell_type": "code",
   "execution_count": 1,
   "metadata": {},
   "outputs": [],
   "source": [
    "import numpy as np\n",
    "\n",
    "import pandas as pd\n",
    "\n",
    "import re\n",
    "from nltk.corpus import stopwords\n",
    "\n",
    "import gensim\n",
    "import gensim.models.word2vec as w2v\n",
    "\n",
    "from sklearn.model_selection import train_test_split\n",
    "from sklearn.tree import DecisionTreeClassifier\n",
    "from sklearn.metrics import confusion_matrix\n",
    "\n",
    "import matplotlib.pyplot as plt"
   ]
  },
  {
   "cell_type": "markdown",
   "metadata": {},
   "source": [
    "Load tweet DataFrames."
   ]
  },
  {
   "cell_type": "code",
   "execution_count": 2,
   "metadata": {},
   "outputs": [],
   "source": [
    "wa_tweets = pd.read_csv('../data/wa_tweets.csv')\n",
    "outages = pd.read_csv('../data/washington_outages.csv')"
   ]
  },
  {
   "cell_type": "markdown",
   "metadata": {},
   "source": [
    "Slight bit of extra cleaning; should work sequentially, so will drop tweets that are in our positive class from our unknown class, as well as removing duplicates within each class."
   ]
  },
  {
   "cell_type": "code",
   "execution_count": 3,
   "metadata": {},
   "outputs": [],
   "source": [
    "wa_tweets.drop_duplicates(subset='text', inplace=True)"
   ]
  },
  {
   "cell_type": "markdown",
   "metadata": {},
   "source": [
    "## Preprocessing\n",
    "These steps are adapted from the work of Noah Christiansen, Jen Hill, and Vonn Napoleon Johnson, available [here](https://github.com/jenrhill/Power_Outage_Identification)."
   ]
  },
  {
   "cell_type": "markdown",
   "metadata": {},
   "source": [
    "Generate a stopword list, but remove typical stopwords that might be outage-related."
   ]
  },
  {
   "cell_type": "code",
   "execution_count": 4,
   "metadata": {},
   "outputs": [],
   "source": [
    "# set up stopwords, but include certain relevant but common words\n",
    "\n",
    "stops = [w for w in stopwords.words('english') \n",
    "         if w not in ['out','on','off']] + ['']"
   ]
  },
  {
   "cell_type": "markdown",
   "metadata": {},
   "source": [
    "Clean tweets:\n",
    "- Read #s/hashtags as simple words.\n",
    "- Dehyphenate.\n",
    "- Remove @'s/handles and most urls.\n",
    "- Remove all non-letters.\n",
    "- Lowercase.\n",
    "- Tokenize.\n",
    "- Remove stopwords."
   ]
  },
  {
   "cell_type": "code",
   "execution_count": 5,
   "metadata": {},
   "outputs": [],
   "source": [
    "# this function adapted from christiansen et al's\n",
    "# tweets_to_tweetlist\n",
    "# cleans, reformats, tokenizes, and removes stopwords from tweets\n",
    "\n",
    "def tweets_cleaner(raw):\n",
    "    \n",
    "    clean = str(raw).replace('-',' ').replace('#',' ')\n",
    "    clean = re.sub(r\"([@][\\w_-]+)\", \"\", clean) # remove handles\n",
    "    clean = re.sub(r\"http.*?\\b\",\"\",clean)\n",
    "    clean = re.sub(r\"pictwitter.*?\\b\",\"\",clean)\n",
    "    clean = re.sub(r\"www.*?\\b\",\"\",clean)\n",
    "    clean = re.sub(r\"[^a-zA-Z ]\", \"\", clean)\n",
    "    clean = clean.lower().split()\n",
    "    clean = [w for w in clean if w not in stops]\n",
    "    return clean"
   ]
  },
  {
   "cell_type": "markdown",
   "metadata": {},
   "source": [
    "List tweets for our positive class, tweets from outage locations during outages that we expect are outage-related.."
   ]
  },
  {
   "cell_type": "code",
   "execution_count": 6,
   "metadata": {},
   "outputs": [],
   "source": [
    "# clean tweets and compound in list\n",
    "\n",
    "tweet_list = [tweets_cleaner(t)\n",
    "              for t in wa_tweets.loc[wa_tweets['outage']==1, 'text']]\n",
    "#              all tweets expected to be outage-related ^"
   ]
  },
  {
   "cell_type": "markdown",
   "metadata": {},
   "source": [
    "Inspect the results of cleaning on our positive class."
   ]
  },
  {
   "cell_type": "code",
   "execution_count": 7,
   "metadata": {},
   "outputs": [
    {
     "data": {
      "text/html": [
       "<div>\n",
       "<style scoped>\n",
       "    .dataframe tbody tr th:only-of-type {\n",
       "        vertical-align: middle;\n",
       "    }\n",
       "\n",
       "    .dataframe tbody tr th {\n",
       "        vertical-align: top;\n",
       "    }\n",
       "\n",
       "    .dataframe thead th {\n",
       "        text-align: right;\n",
       "    }\n",
       "</style>\n",
       "<table border=\"1\" class=\"dataframe\">\n",
       "  <thead>\n",
       "    <tr style=\"text-align: right;\">\n",
       "      <th></th>\n",
       "      <th>Tweet</th>\n",
       "      <th>Words</th>\n",
       "    </tr>\n",
       "  </thead>\n",
       "  <tbody>\n",
       "    <tr>\n",
       "      <td>0</td>\n",
       "      <td>@Number12ForLife No power in Issaquah Highland...</td>\n",
       "      <td>[power, issaquah, highlands, understand, issaq...</td>\n",
       "    </tr>\n",
       "    <tr>\n",
       "      <td>1</td>\n",
       "      <td>@KING5Seattle @KIRO7Seattle tiger mountain rd ...</td>\n",
       "      <td>[tiger, mountain, rd, se, block, way, blocking...</td>\n",
       "    </tr>\n",
       "    <tr>\n",
       "      <td>2</td>\n",
       "      <td>@KING5Seattle @KIRO7Seattle SE may valley road...</td>\n",
       "      <td>[se, may, valley, road, closed, moment, tree, ...</td>\n",
       "    </tr>\n",
       "    <tr>\n",
       "      <td>3</td>\n",
       "      <td>Just lost power. They power better be back on ...</td>\n",
       "      <td>[lost, power, power, better, back, on]</td>\n",
       "    </tr>\n",
       "    <tr>\n",
       "      <td>4</td>\n",
       "      <td>Update: Power Outages Affecting Renton's Benso...</td>\n",
       "      <td>[update, power, outages, affecting, rentons, b...</td>\n",
       "    </tr>\n",
       "    <tr>\n",
       "      <td>...</td>\n",
       "      <td>...</td>\n",
       "      <td>...</td>\n",
       "    </tr>\n",
       "    <tr>\n",
       "      <td>179</td>\n",
       "      <td>Power is restored! We’ll be open regular hours...</td>\n",
       "      <td>[power, restored, well, open, regular, hours, ...</td>\n",
       "    </tr>\n",
       "    <tr>\n",
       "      <td>180</td>\n",
       "      <td>Soooo, the power is out.  @psetalk says they e...</td>\n",
       "      <td>[soooo, power, out, says, expect, us, running,...</td>\n",
       "    </tr>\n",
       "    <tr>\n",
       "      <td>181</td>\n",
       "      <td>Tree hanging across road on power line. @ Bain...</td>\n",
       "      <td>[tree, hanging, across, road, on, power, line,...</td>\n",
       "    </tr>\n",
       "    <tr>\n",
       "      <td>182</td>\n",
       "      <td>Power's out, but we're still open! Feel free t...</td>\n",
       "      <td>[powers, out, still, open, feel, free, come, v...</td>\n",
       "    </tr>\n",
       "    <tr>\n",
       "      <td>183</td>\n",
       "      <td>Power is out at the gym and at my house and KE...</td>\n",
       "      <td>[power, out, gym, house, kexp, off, air, bainb...</td>\n",
       "    </tr>\n",
       "  </tbody>\n",
       "</table>\n",
       "<p>184 rows × 2 columns</p>\n",
       "</div>"
      ],
      "text/plain": [
       "                                                 Tweet  \\\n",
       "0    @Number12ForLife No power in Issaquah Highland...   \n",
       "1    @KING5Seattle @KIRO7Seattle tiger mountain rd ...   \n",
       "2    @KING5Seattle @KIRO7Seattle SE may valley road...   \n",
       "3    Just lost power. They power better be back on ...   \n",
       "4    Update: Power Outages Affecting Renton's Benso...   \n",
       "..                                                 ...   \n",
       "179  Power is restored! We’ll be open regular hours...   \n",
       "180  Soooo, the power is out.  @psetalk says they e...   \n",
       "181  Tree hanging across road on power line. @ Bain...   \n",
       "182  Power's out, but we're still open! Feel free t...   \n",
       "183  Power is out at the gym and at my house and KE...   \n",
       "\n",
       "                                                 Words  \n",
       "0    [power, issaquah, highlands, understand, issaq...  \n",
       "1    [tiger, mountain, rd, se, block, way, blocking...  \n",
       "2    [se, may, valley, road, closed, moment, tree, ...  \n",
       "3               [lost, power, power, better, back, on]  \n",
       "4    [update, power, outages, affecting, rentons, b...  \n",
       "..                                                 ...  \n",
       "179  [power, restored, well, open, regular, hours, ...  \n",
       "180  [soooo, power, out, says, expect, us, running,...  \n",
       "181  [tree, hanging, across, road, on, power, line,...  \n",
       "182  [powers, out, still, open, feel, free, come, v...  \n",
       "183  [power, out, gym, house, kexp, off, air, bainb...  \n",
       "\n",
       "[184 rows x 2 columns]"
      ]
     },
     "execution_count": 7,
     "metadata": {},
     "output_type": "execute_result"
    }
   ],
   "source": [
    "# visualize tweets against the words they're reduced down to\n",
    "\n",
    "pd.DataFrame([(a,b) for a,b in zip(list(\n",
    "    wa_tweets.loc[wa_tweets['outage']==1, 'text']), \n",
    "                                   tweet_list)],\n",
    "             columns=['Tweet','Words'])"
   ]
  },
  {
   "cell_type": "markdown",
   "metadata": {},
   "source": [
    "## Word2Vec"
   ]
  },
  {
   "cell_type": "markdown",
   "metadata": {},
   "source": [
    "Generate a Word2Vec model based on [Alexandre Salle's](https://github.com/alexandres/lexvec#pre-trained-vectors) LexVec [scrape of Wikipedia](https://www.dropbox.com/s/kguufyc2xcdi8yk/lexvec.enwiki%2Bnewscrawl.300d.W.pos.vectors.gz?dl=1). \n",
    "\n",
    "We use this pretrained model rather than developing one based on tweets, as our efforts to develop a tweet-trained model led to abysmal word relationships that bore little relation to our goal. Though it does not account for every word we might find on Twitter, the Wikipedia corpus is robust to arbitrary-ness in a way that no Tweet corpus could be."
   ]
  },
  {
   "cell_type": "code",
   "execution_count": 8,
   "metadata": {},
   "outputs": [],
   "source": [
    "model = gensim.models.KeyedVectors.load_word2vec_format(\n",
    "    '../data/lexvec.enwiki+newscrawl.300d.W.pos.vectors')"
   ]
  },
  {
   "cell_type": "markdown",
   "metadata": {},
   "source": [
    "Confirm the model has a sensible understanding of an outage term."
   ]
  },
  {
   "cell_type": "code",
   "execution_count": 9,
   "metadata": {},
   "outputs": [
    {
     "data": {
      "text/plain": [
       "[('outage', 0.6274550557136536),\n",
       " ('blackouts', 0.6006176471710205),\n",
       " ('outages', 0.484832227230072),\n",
       " ('shutdown', 0.4596997797489166),\n",
       " ('curfew', 0.41762691736221313),\n",
       " ('lockdown', 0.41292476654052734),\n",
       " ('blacked', 0.4122679829597473),\n",
       " ('shutdowns', 0.41034194827079773),\n",
       " ('cancellation', 0.40724366903305054),\n",
       " ('glitch', 0.3966738283634186)]"
      ]
     },
     "execution_count": 9,
     "metadata": {},
     "output_type": "execute_result"
    }
   ],
   "source": [
    "model.most_similar('blackout')"
   ]
  },
  {
   "cell_type": "markdown",
   "metadata": {},
   "source": [
    "This next cell of code was originally written by Boom Devahastin Na Ayudhya and was edited by Christiansen et al. for a similar project. It is taken verbatim and can be found [here](https://github.com/jenrhill/Power_Outage_Identification/blob/master/code/2_Preprocessing_and_Word2Vec_Model.ipynb) in the repo linked previously. It is a function that effectively generates an average W2V vector for a series of words."
   ]
  },
  {
   "cell_type": "code",
   "execution_count": 10,
   "metadata": {},
   "outputs": [],
   "source": [
    "# code from Boom Devahastin Na Ayudhya edited by Christiansen et al\n",
    "def vectorize_corpus(keyword_list,model=model):    \n",
    "    \n",
    "    # Instantiate counter for number of words in keyword_list that exists\n",
    "    n_words = 0\n",
    "    \n",
    "    # Create template for cumulative corpus vector sum\n",
    "    corpus_vec_sum = np.zeros((1,300))                 \n",
    "    \n",
    "    # Scan through each word in list\n",
    "    for word in keyword_list:\n",
    "        if word in model.vocab:                    \n",
    "            word_vec = model.word_vec(word)        \n",
    "            n_words +=1                                \n",
    "            corpus_vec_sum = corpus_vec_sum + word_vec \n",
    "\n",
    "    # Compute average vector by taking cumulative vector sum \n",
    "    # and dividing it by number of words traced\n",
    "    corpus_avg_vec = corpus_vec_sum/n_words\n",
    "    \n",
    "    # Squeeze this N-dimensional nested array object into a \n",
    "    # 1-D array to streamline future processing\n",
    "    corpus_avg_vec = np.squeeze(corpus_avg_vec)\n",
    "    \n",
    "    return(corpus_avg_vec)"
   ]
  },
  {
   "cell_type": "markdown",
   "metadata": {},
   "source": [
    "A series of cosine similarity functions for comparing vectors, words, words with corpus vectors, and cleaned tweets with corpus vectors."
   ]
  },
  {
   "cell_type": "code",
   "execution_count": 11,
   "metadata": {},
   "outputs": [],
   "source": [
    "def cos_sim(v1, v2): \n",
    "    return np.dot(v1,v2)/np.sqrt(np.dot(v1,v1)*np.dot(v2,v2))\n",
    "\n",
    "def cos_sim_words(w1,w2,model=model):\n",
    "    try:\n",
    "        return cos_sim(model.word_vec(w1),model.word_vec(w2))\n",
    "    except:\n",
    "        print(f'{w1} or {w2} not in vocabulary.')\n",
    "        return np.nan\n",
    "    \n",
    "def cos_sim_wc(word,corpus_vector,model=model):\n",
    "    try:\n",
    "        return cos_sim(model.word_vec(word),corpus_vector)\n",
    "    except:\n",
    "        print(f'\\t{word} not in vocabulary.')\n",
    "        return np.nan\n",
    "    \n",
    "def cos_sim_tc(tweet, corpus_vector, model=model):\n",
    "    tweet_vector = vectorize_corpus(tweet)\n",
    "    return cos_sim(tweet_vector, corpus_vector)"
   ]
  },
  {
   "cell_type": "markdown",
   "metadata": {},
   "source": [
    "A small corpus of single words believed to be related to power outages. We deliberately exclude the words used in our Twitter query (blackout, outage, and power) from this list of words, as at least one of them should be present in every single member of our positive class."
   ]
  },
  {
   "cell_type": "code",
   "execution_count": 12,
   "metadata": {},
   "outputs": [],
   "source": [
    "power_out = ['brownout','line','transformer', 'electricity', 'shutdown',\n",
    "             'storm','pseg','damage','powerout','backup','cable',\n",
    "             'cutoff','overload','fire','grid','energy',\n",
    "             'surge','lights','light','cut','failure',\n",
    "             'severe','substation','lines','voltage','short','disruption']\n",
    "\n",
    "power_out_vector = vectorize_corpus(power_out)"
   ]
  },
  {
   "cell_type": "code",
   "execution_count": 13,
   "metadata": {},
   "outputs": [
    {
     "data": {
      "text/plain": [
       "[('outages', 0.6018792986869812),\n",
       " ('outage', 0.5885301828384399),\n",
       " ('blackouts', 0.56641685962677),\n",
       " ('substations', 0.5494413375854492),\n",
       " ('generators', 0.5467642545700073),\n",
       " ('grids', 0.5460854768753052),\n",
       " ('disruptions', 0.5358939170837402),\n",
       " ('leakage', 0.5245850086212158),\n",
       " ('inverter', 0.5203883647918701),\n",
       " ('cooling', 0.5186830163002014)]"
      ]
     },
     "execution_count": 13,
     "metadata": {},
     "output_type": "execute_result"
    }
   ],
   "source": [
    "model.most_similar(power_out)"
   ]
  },
  {
   "cell_type": "markdown",
   "metadata": {},
   "source": [
    "We can apply the model to our tweets and get respondent cosine similarities."
   ]
  },
  {
   "cell_type": "code",
   "execution_count": 14,
   "metadata": {},
   "outputs": [
    {
     "name": "stderr",
     "output_type": "stream",
     "text": [
      "C:\\ProgramData\\Anaconda3\\lib\\site-packages\\ipykernel_launcher.py:19: RuntimeWarning: invalid value encountered in true_divide\n"
     ]
    }
   ],
   "source": [
    "wa_tweets['Cosine Similarity'] = \\\n",
    "    [cos_sim_tc(tweets_cleaner(t), power_out_vector) \n",
    "     for t in list(wa_tweets['text'])]\n",
    "wa_tweets = wa_tweets.fillna(0)\n",
    "# function returns nulls for tweets devoid of words in wikipedia corpus\n",
    "# so replace them w/ 0s; they represent 0 measurable similarity"
   ]
  },
  {
   "cell_type": "code",
   "execution_count": 15,
   "metadata": {},
   "outputs": [
    {
     "data": {
      "text/html": [
       "<div>\n",
       "<style scoped>\n",
       "    .dataframe tbody tr th:only-of-type {\n",
       "        vertical-align: middle;\n",
       "    }\n",
       "\n",
       "    .dataframe tbody tr th {\n",
       "        vertical-align: top;\n",
       "    }\n",
       "\n",
       "    .dataframe thead th {\n",
       "        text-align: right;\n",
       "    }\n",
       "</style>\n",
       "<table border=\"1\" class=\"dataframe\">\n",
       "  <thead>\n",
       "    <tr style=\"text-align: right;\">\n",
       "      <th></th>\n",
       "      <th>text</th>\n",
       "      <th>outage</th>\n",
       "      <th>Cosine Similarity</th>\n",
       "    </tr>\n",
       "  </thead>\n",
       "  <tbody>\n",
       "    <tr>\n",
       "      <td>0</td>\n",
       "      <td>@Number12ForLife No power in Issaquah Highland...</td>\n",
       "      <td>1</td>\n",
       "      <td>0.300520</td>\n",
       "    </tr>\n",
       "    <tr>\n",
       "      <td>1</td>\n",
       "      <td>@KING5Seattle @KIRO7Seattle tiger mountain rd ...</td>\n",
       "      <td>1</td>\n",
       "      <td>0.494567</td>\n",
       "    </tr>\n",
       "    <tr>\n",
       "      <td>2</td>\n",
       "      <td>@KING5Seattle @KIRO7Seattle SE may valley road...</td>\n",
       "      <td>1</td>\n",
       "      <td>0.449322</td>\n",
       "    </tr>\n",
       "    <tr>\n",
       "      <td>3</td>\n",
       "      <td>Just lost power. They power better be back on ...</td>\n",
       "      <td>1</td>\n",
       "      <td>0.488947</td>\n",
       "    </tr>\n",
       "    <tr>\n",
       "      <td>4</td>\n",
       "      <td>Update: Power Outages Affecting Renton's Benso...</td>\n",
       "      <td>1</td>\n",
       "      <td>0.614445</td>\n",
       "    </tr>\n",
       "  </tbody>\n",
       "</table>\n",
       "</div>"
      ],
      "text/plain": [
       "                                                text  outage  \\\n",
       "0  @Number12ForLife No power in Issaquah Highland...       1   \n",
       "1  @KING5Seattle @KIRO7Seattle tiger mountain rd ...       1   \n",
       "2  @KING5Seattle @KIRO7Seattle SE may valley road...       1   \n",
       "3  Just lost power. They power better be back on ...       1   \n",
       "4  Update: Power Outages Affecting Renton's Benso...       1   \n",
       "\n",
       "   Cosine Similarity  \n",
       "0           0.300520  \n",
       "1           0.494567  \n",
       "2           0.449322  \n",
       "3           0.488947  \n",
       "4           0.614445  "
      ]
     },
     "execution_count": 15,
     "metadata": {},
     "output_type": "execute_result"
    }
   ],
   "source": [
    "wa_tweets[['text','outage','Cosine Similarity']].head()"
   ]
  },
  {
   "cell_type": "markdown",
   "metadata": {},
   "source": [
    "What can we see about the distribution of cosine similarity for our positive and negative classes?"
   ]
  },
  {
   "cell_type": "code",
   "execution_count": 16,
   "metadata": {},
   "outputs": [
    {
     "name": "stdout",
     "output_type": "stream",
     "text": [
      "Mean\n"
     ]
    },
    {
     "data": {
      "text/html": [
       "<div>\n",
       "<style scoped>\n",
       "    .dataframe tbody tr th:only-of-type {\n",
       "        vertical-align: middle;\n",
       "    }\n",
       "\n",
       "    .dataframe tbody tr th {\n",
       "        vertical-align: top;\n",
       "    }\n",
       "\n",
       "    .dataframe thead th {\n",
       "        text-align: right;\n",
       "    }\n",
       "</style>\n",
       "<table border=\"1\" class=\"dataframe\">\n",
       "  <thead>\n",
       "    <tr style=\"text-align: right;\">\n",
       "      <th></th>\n",
       "      <th>Cosine Similarity</th>\n",
       "    </tr>\n",
       "    <tr>\n",
       "      <th>outage</th>\n",
       "      <th></th>\n",
       "    </tr>\n",
       "  </thead>\n",
       "  <tbody>\n",
       "    <tr>\n",
       "      <td>0</td>\n",
       "      <td>0.200232</td>\n",
       "    </tr>\n",
       "    <tr>\n",
       "      <td>1</td>\n",
       "      <td>0.418014</td>\n",
       "    </tr>\n",
       "  </tbody>\n",
       "</table>\n",
       "</div>"
      ],
      "text/plain": [
       "        Cosine Similarity\n",
       "outage                   \n",
       "0                0.200232\n",
       "1                0.418014"
      ]
     },
     "execution_count": 16,
     "metadata": {},
     "output_type": "execute_result"
    }
   ],
   "source": [
    "print('Mean')\n",
    "wa_tweets.groupby('outage').mean().loc[[0,1]]"
   ]
  },
  {
   "cell_type": "markdown",
   "metadata": {},
   "source": [
    "## Decision Tree Classifier"
   ]
  },
  {
   "cell_type": "markdown",
   "metadata": {},
   "source": [
    "Now that we have an unsupervised model that outputs some metric, we'll use a decision tree stump to create a cutoff point in cos similarity for good tweets and bad.\n",
    "\n",
    "As a reminder: our positive class, 1, is outage-related tweets; our negative class, 0, is outage-agnostic tweets; the -1 class is uncertain/potential outage tweets. We only use the 1 and 0 classes in the decision tree."
   ]
  },
  {
   "cell_type": "markdown",
   "metadata": {},
   "source": [
    "Let's look at the distribution of outage relatedness in our data."
   ]
  },
  {
   "cell_type": "code",
   "execution_count": 17,
   "metadata": {},
   "outputs": [
    {
     "data": {
      "text/plain": [
       " 0    4988\n",
       "-1    2798\n",
       " 1     184\n",
       "Name: outage, dtype: int64"
      ]
     },
     "execution_count": 17,
     "metadata": {},
     "output_type": "execute_result"
    }
   ],
   "source": [
    "wa_tweets['outage'].value_counts()"
   ]
  },
  {
   "cell_type": "markdown",
   "metadata": {},
   "source": [
    "A decision tree measuring on accuracy won't work well if the data is so lopsided, so let's create an evenly split DataFrame with bootstrapping."
   ]
  },
  {
   "cell_type": "markdown",
   "metadata": {},
   "source": [
    "Format data for modeling—remove values that are neither in the positive nor negative class."
   ]
  },
  {
   "cell_type": "code",
   "execution_count": 18,
   "metadata": {},
   "outputs": [],
   "source": [
    "wa_for_m = wa_tweets[wa_tweets['outage'] >= 0]"
   ]
  },
  {
   "cell_type": "markdown",
   "metadata": {},
   "source": [
    "### Establish Features and Target"
   ]
  },
  {
   "cell_type": "markdown",
   "metadata": {},
   "source": [
    "Set up features and target."
   ]
  },
  {
   "cell_type": "code",
   "execution_count": 19,
   "metadata": {},
   "outputs": [
    {
     "name": "stderr",
     "output_type": "stream",
     "text": [
      "C:\\ProgramData\\Anaconda3\\lib\\site-packages\\ipykernel_launcher.py:19: RuntimeWarning: invalid value encountered in true_divide\n"
     ]
    }
   ],
   "source": [
    "X = pd.DataFrame([cos_sim_tc(tweets_cleaner(t), power_out_vector)\n",
    "                  for t in list(wa_for_m['text'])]).fillna(0)\n",
    "y = wa_for_m['outage'].reset_index(drop=True)"
   ]
  },
  {
   "cell_type": "markdown",
   "metadata": {},
   "source": [
    "Train test split. We use a large test size to ensure meaningful test statistics, at some cost to the model, and stratify to facilitate the forthcoming bootstrapping."
   ]
  },
  {
   "cell_type": "code",
   "execution_count": 20,
   "metadata": {},
   "outputs": [],
   "source": [
    "# train test split\n",
    "\n",
    "X_train, X_test, y_train, y_test = train_test_split(X,y,\n",
    "# large test size to ensure good test measurements for low n\n",
    "                                                    test_size = .5, \n",
    "                                                    random_state=1007,\n",
    "                                                    stratify=y)"
   ]
  },
  {
   "cell_type": "markdown",
   "metadata": {},
   "source": [
    "Bootstrap to account for class imbalance."
   ]
  },
  {
   "cell_type": "code",
   "execution_count": 21,
   "metadata": {},
   "outputs": [],
   "source": [
    "# seed randoms\n",
    "np.random.seed(1007)\n",
    "\n",
    "# bootstrap training\n",
    "\n",
    "# num of extra positives to add\n",
    "inflate_num = y_train.value_counts()[0] -\\\n",
    "    y_train.value_counts()[1]\n",
    "\n",
    "# add positives to y\n",
    "y_inflate = y_train.loc[\n",
    "    np.random.choice(y_train[y_train == 1].index,\n",
    "                     size=inflate_num)]\n",
    "\n",
    "# add same positives to X\n",
    "X_inflate = X_train.loc[y_inflate.index]\n",
    "\n",
    "X_train = pd.concat([X_inflate, X_train])\n",
    "y_train = pd.concat([y_inflate, y_train])\n",
    "\n",
    "# do the same thing for testing so that accuracy is scored on 50-50 data\n",
    "\n",
    "# num of extra positives to add\n",
    "inflate_num_test = y_test.value_counts()[0] -\\\n",
    "    y_test.value_counts()[1]\n",
    "\n",
    "# add positives to y\n",
    "y_inflate_test = y_test.loc[\n",
    "    np.random.choice(y_test[y_test == 1].index,\n",
    "                     size=inflate_num_test)]\n",
    "\n",
    "# add same positives to X\n",
    "X_inflate_test = X_test.loc[y_inflate_test.index]\n",
    "\n",
    "X_test = pd.concat([X_inflate_test, X_test])\n",
    "y_test = pd.concat([y_inflate_test, y_test])"
   ]
  },
  {
   "cell_type": "markdown",
   "metadata": {},
   "source": [
    "### Model"
   ]
  },
  {
   "cell_type": "markdown",
   "metadata": {},
   "source": [
    "Run one-deep decision tree to establish cutoff."
   ]
  },
  {
   "cell_type": "code",
   "execution_count": 22,
   "metadata": {},
   "outputs": [
    {
     "data": {
      "text/plain": [
       "DecisionTreeClassifier(class_weight=None, criterion='gini', max_depth=1,\n",
       "                       max_features=None, max_leaf_nodes=None,\n",
       "                       min_impurity_decrease=0.0, min_impurity_split=None,\n",
       "                       min_samples_leaf=1, min_samples_split=2,\n",
       "                       min_weight_fraction_leaf=0.0, presort=False,\n",
       "                       random_state=None, splitter='best')"
      ]
     },
     "execution_count": 22,
     "metadata": {},
     "output_type": "execute_result"
    }
   ],
   "source": [
    "# use decision tree stump (ONE LAYER ONLY) to split\n",
    "\n",
    "dtc = DecisionTreeClassifier(max_depth=1)\n",
    "dtc.fit(X_train,y_train)"
   ]
  },
  {
   "cell_type": "markdown",
   "metadata": {},
   "source": [
    "### Model Evaluation"
   ]
  },
  {
   "cell_type": "markdown",
   "metadata": {},
   "source": [
    "We use accuracy as our primary metric, as our bootstrapping makes this appropriate, and because the decision tree stump does not meaningfully determine probabilities for AUC ROC."
   ]
  },
  {
   "cell_type": "code",
   "execution_count": 23,
   "metadata": {},
   "outputs": [
    {
     "name": "stdout",
     "output_type": "stream",
     "text": [
      "Train Accuracy: 0.8899358460304732\n",
      "Test Accuracy:  0.8879310344827587\n"
     ]
    }
   ],
   "source": [
    "print('Train Accuracy:',dtc.score(X_train,y_train))\n",
    "print('Test Accuracy: ',dtc.score(X_test,y_test))"
   ]
  },
  {
   "cell_type": "markdown",
   "metadata": {},
   "source": [
    "Our model is fairly accurate and not overfit. There is bias present, as should be expected for such a weak learner as a single decision tree stump, but since we are working only on the one feature of cosine similarity, this is stlil appropriate."
   ]
  },
  {
   "cell_type": "markdown",
   "metadata": {},
   "source": [
    "Confusion matrix:"
   ]
  },
  {
   "cell_type": "code",
   "execution_count": 24,
   "metadata": {},
   "outputs": [
    {
     "data": {
      "text/plain": [
       "array([[2038,  456],\n",
       "       [ 103, 2391]], dtype=int64)"
      ]
     },
     "execution_count": 24,
     "metadata": {},
     "output_type": "execute_result"
    }
   ],
   "source": [
    "# confusion matrix\n",
    "\n",
    "cm = confusion_matrix(y_test, dtc.predict(X_test))\n",
    "cm\n",
    "#    pf pt\n",
    "# af tn fp\n",
    "# at fn tp"
   ]
  },
  {
   "cell_type": "code",
   "execution_count": 25,
   "metadata": {},
   "outputs": [
    {
     "name": "stdout",
     "output_type": "stream",
     "text": [
      "Sensitivity: 0.958700882117081\n",
      "Specificity: 0.8171611868484362\n"
     ]
    }
   ],
   "source": [
    "tn, fp, fn, tp = cm.flatten()\n",
    "sens = tp / (tp + fn)\n",
    "spec = tn / (tn + fp)\n",
    "print('Sensitivity:',sens)\n",
    "print('Specificity:',spec)"
   ]
  },
  {
   "cell_type": "markdown",
   "metadata": {},
   "source": [
    "These scores aren't bad. They tell us the model is very sensitive, more likely to predict positive than negative on evenly split data. There are very few false negatives, more false positives. This is acceptable, as we'd rather get some more false alarms than miss many real outages."
   ]
  },
  {
   "cell_type": "markdown",
   "metadata": {},
   "source": [
    "Approximate the cutoff point just by running in possible values, since decision tree node splits aren't conveniently accessible."
   ]
  },
  {
   "cell_type": "code",
   "execution_count": 26,
   "metadata": {},
   "outputs": [
    {
     "name": "stdout",
     "output_type": "stream",
     "text": [
      "Decision Tree Cutoff is cosine similarity of 0.2788\n"
     ]
    }
   ],
   "source": [
    "space = np.linspace(0,1,10001)\n",
    "co_arr = np.array([[i,dtc.predict([[i]])] for i in space])\n",
    "cutoff = [p for p,a in zip(space,co_arr[:,1]) if a[0]==1][0]\n",
    "print('Decision Tree Cutoff is cosine similarity of',cutoff)"
   ]
  },
  {
   "cell_type": "markdown",
   "metadata": {},
   "source": [
    "Let's see where this falls in the distributions."
   ]
  },
  {
   "cell_type": "code",
   "execution_count": 27,
   "metadata": {},
   "outputs": [
    {
     "data": {
      "image/png": "[encoded data removed]",
      "text/plain": [
       "<Figure size 432x288 with 1 Axes>"
      ]
     },
     "metadata": {
      "needs_background": "light"
     },
     "output_type": "display_data"
    }
   ],
   "source": [
    "bins = np.linspace(0,.7,22)\n",
    "\n",
    "# use density=True to de-emphasize proporition differences\n",
    "plt.hist(X[y == 0][0],bins=bins,density=True,\n",
    "         color='#33AA33',alpha=.5)\n",
    "plt.hist(X[y == 1][0],bins=bins,density=True,\n",
    "         color='#3333AA',alpha=.5)\n",
    "\n",
    "# cutoff\n",
    "plt.axvline(x=cutoff,c='r')\n",
    "\n",
    "plt.legend(['Cutoff','Non-outage','Outage'])\n",
    "plt.xlabel('Cosine Similarity')\n",
    "plt.ylabel('Tweets (Relative)')\n",
    "plt.yticks([])\n",
    "plt.title('Cosine Similarities of Tweets to Power Outage Vector')\n",
    "plt.savefig(f'../figures/cutoff.png');"
   ]
  },
  {
   "cell_type": "markdown",
   "metadata": {},
   "source": [
    "## Classifying Uncertain Data"
   ]
  },
  {
   "cell_type": "markdown",
   "metadata": {},
   "source": [
    "Let's look at how the model applies to the uncertain data—this is essentially our use case, determining the outage-relatedness of ambiguous tweets."
   ]
  },
  {
   "cell_type": "code",
   "execution_count": 28,
   "metadata": {},
   "outputs": [
    {
     "name": "stderr",
     "output_type": "stream",
     "text": [
      "C:\\ProgramData\\Anaconda3\\lib\\site-packages\\ipykernel_launcher.py:19: RuntimeWarning: invalid value encountered in true_divide\n"
     ]
    }
   ],
   "source": [
    "inspect_df = wa_tweets[wa_tweets['outage']==-1][\n",
    "    ['event_row_or_county','timestamp','text']].reset_index(drop=True)\n",
    "\n",
    "inspect_df['words'] = [tweets_cleaner(t) for t in list(inspect_df['text'])]\n",
    "\n",
    "inspect_tweets = pd.DataFrame(\n",
    "    [cos_sim_tc(t, power_out_vector)\n",
    "     for t in inspect_df['words']]).fillna(0)\n",
    "\n",
    "inspect_df['outage_prediction'] = dtc.predict(inspect_tweets)"
   ]
  },
  {
   "cell_type": "code",
   "execution_count": 29,
   "metadata": {},
   "outputs": [
    {
     "data": {
      "text/plain": [
       "1    2489\n",
       "0     309\n",
       "Name: outage_prediction, dtype: int64"
      ]
     },
     "execution_count": 29,
     "metadata": {},
     "output_type": "execute_result"
    }
   ],
   "source": [
    "inspect_df['outage_prediction'].value_counts()"
   ]
  },
  {
   "cell_type": "markdown",
   "metadata": {},
   "source": [
    "This is a lot of positives, but that shouldn't necessarily worry us, as this is set of tweets was constrained in scraping to contain at least one of our outage-related words, and on our testing data we still had a decent specificity."
   ]
  },
  {
   "cell_type": "markdown",
   "metadata": {},
   "source": [
    "We can run this model on all our tweets."
   ]
  },
  {
   "cell_type": "code",
   "execution_count": 30,
   "metadata": {},
   "outputs": [
    {
     "data": {
      "text/html": [
       "<div>\n",
       "<style scoped>\n",
       "    .dataframe tbody tr th:only-of-type {\n",
       "        vertical-align: middle;\n",
       "    }\n",
       "\n",
       "    .dataframe tbody tr th {\n",
       "        vertical-align: top;\n",
       "    }\n",
       "\n",
       "    .dataframe thead th {\n",
       "        text-align: right;\n",
       "    }\n",
       "</style>\n",
       "<table border=\"1\" class=\"dataframe\">\n",
       "  <thead>\n",
       "    <tr style=\"text-align: right;\">\n",
       "      <th></th>\n",
       "      <th>event_row_or_county</th>\n",
       "      <th>timestamp</th>\n",
       "      <th>text</th>\n",
       "      <th>outage</th>\n",
       "      <th>Cosine Similarity</th>\n",
       "      <th>outage_prediction</th>\n",
       "    </tr>\n",
       "  </thead>\n",
       "  <tbody>\n",
       "    <tr>\n",
       "      <td>0</td>\n",
       "      <td>0</td>\n",
       "      <td>2012-01-19 22:55:20</td>\n",
       "      <td>@Number12ForLife No power in Issaquah Highland...</td>\n",
       "      <td>1</td>\n",
       "      <td>0.300520</td>\n",
       "      <td>1</td>\n",
       "    </tr>\n",
       "    <tr>\n",
       "      <td>1</td>\n",
       "      <td>0</td>\n",
       "      <td>2012-01-19 22:26:31</td>\n",
       "      <td>@KING5Seattle @KIRO7Seattle tiger mountain rd ...</td>\n",
       "      <td>1</td>\n",
       "      <td>0.494567</td>\n",
       "      <td>1</td>\n",
       "    </tr>\n",
       "    <tr>\n",
       "      <td>2</td>\n",
       "      <td>0</td>\n",
       "      <td>2012-01-19 22:24:36</td>\n",
       "      <td>@KING5Seattle @KIRO7Seattle SE may valley road...</td>\n",
       "      <td>1</td>\n",
       "      <td>0.449322</td>\n",
       "      <td>1</td>\n",
       "    </tr>\n",
       "    <tr>\n",
       "      <td>3</td>\n",
       "      <td>0</td>\n",
       "      <td>2012-01-19 21:40:50</td>\n",
       "      <td>Just lost power. They power better be back on ...</td>\n",
       "      <td>1</td>\n",
       "      <td>0.488947</td>\n",
       "      <td>1</td>\n",
       "    </tr>\n",
       "    <tr>\n",
       "      <td>4</td>\n",
       "      <td>0</td>\n",
       "      <td>2012-01-19 20:32:02</td>\n",
       "      <td>Update: Power Outages Affecting Renton's Benso...</td>\n",
       "      <td>1</td>\n",
       "      <td>0.614445</td>\n",
       "      <td>1</td>\n",
       "    </tr>\n",
       "  </tbody>\n",
       "</table>\n",
       "</div>"
      ],
      "text/plain": [
       "  event_row_or_county            timestamp  \\\n",
       "0                   0  2012-01-19 22:55:20   \n",
       "1                   0  2012-01-19 22:26:31   \n",
       "2                   0  2012-01-19 22:24:36   \n",
       "3                   0  2012-01-19 21:40:50   \n",
       "4                   0  2012-01-19 20:32:02   \n",
       "\n",
       "                                                text  outage  \\\n",
       "0  @Number12ForLife No power in Issaquah Highland...       1   \n",
       "1  @KING5Seattle @KIRO7Seattle tiger mountain rd ...       1   \n",
       "2  @KING5Seattle @KIRO7Seattle SE may valley road...       1   \n",
       "3  Just lost power. They power better be back on ...       1   \n",
       "4  Update: Power Outages Affecting Renton's Benso...       1   \n",
       "\n",
       "   Cosine Similarity  outage_prediction  \n",
       "0           0.300520                  1  \n",
       "1           0.494567                  1  \n",
       "2           0.449322                  1  \n",
       "3           0.488947                  1  \n",
       "4           0.614445                  1  "
      ]
     },
     "execution_count": 30,
     "metadata": {},
     "output_type": "execute_result"
    }
   ],
   "source": [
    "wa_tweets['outage_prediction'] = \\\n",
    "    dtc.predict(wa_tweets[['Cosine Similarity']])\n",
    "wa_tweets.head()"
   ]
  },
  {
   "cell_type": "markdown",
   "metadata": {},
   "source": [
    "Save predictions."
   ]
  },
  {
   "cell_type": "code",
   "execution_count": 31,
   "metadata": {},
   "outputs": [],
   "source": [
    "wa_tweets.to_csv('../data/wa_tweets_preds.csv', index=False)"
   ]
  },
  {
   "cell_type": "markdown",
   "metadata": {},
   "source": [
    "## Conclusion"
   ]
  },
  {
   "cell_type": "markdown",
   "metadata": {},
   "source": [
    "Governments, emergency response agencies, and utilities already have tools at their disposal for recognizing and reacting to power outages, but they are not publically available and cannot always respond immediately or account for individual reporting. Twitter is not a convenient source for most data, but with tweets one can detect far more power outages than are, say, reported by the EIA. Our tool, though it is only a limited proof of concept, is clear evidence that even lightweight interpretation of social media posts can generate meaningful conclusions about power outages, as it is successful at determining the outage-relatedness of tweets from the state of Washington with an accuracy of 89%. Were one to integrate it with the Twitter premium API, the resultant tool would provide more useful and specific power outage location data than some preexisting tools and datasets can. We hope that our model, or its structure and principles, can be furthered to better support the organizations that respond to power outages, and we thank the reader for considering our work."
   ]
  },
  {
   "cell_type": "markdown",
   "metadata": {},
   "source": [
    "## Appendicies\n",
    "- [Mapping](./a01_mapping.ipynb)"
   ]
  }
 ],
 "metadata": {
  "kernelspec": {
   "display_name": "Python 3",
   "language": "python",
   "name": "python3"
  },
  "language_info": {
   "codemirror_mode": {
    "name": "ipython",
    "version": 3
   },
   "file_extension": ".py",
   "mimetype": "text/x-python",
   "name": "python",
   "nbconvert_exporter": "python",
   "pygments_lexer": "ipython3",
   "version": "3.7.6"
  }
 },
 "nbformat": 4,
 "nbformat_minor": 2
}
